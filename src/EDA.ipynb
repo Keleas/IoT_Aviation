{
 "cells": [
  {
   "cell_type": "code",
   "execution_count": 4,
   "metadata": {},
   "outputs": [
    {
     "data": {
      "text/html": [
       "        <script type=\"text/javascript\">\n",
       "        window.PlotlyConfig = {MathJaxConfig: 'local'};\n",
       "        if (window.MathJax) {MathJax.Hub.Config({SVG: {font: \"STIX-Web\"}});}\n",
       "        if (typeof require !== 'undefined') {\n",
       "        require.undef(\"plotly\");\n",
       "        requirejs.config({\n",
       "            paths: {\n",
       "                'plotly': ['https://cdn.plot.ly/plotly-latest.min']\n",
       "            }\n",
       "        });\n",
       "        require(['plotly'], function(Plotly) {\n",
       "            window._Plotly = Plotly;\n",
       "        });\n",
       "        }\n",
       "        </script>\n",
       "        "
      ]
     },
     "metadata": {},
     "output_type": "display_data"
    }
   ],
   "source": [
    "import os\n",
    "import pandas as pd\n",
    "import numpy as np\n",
    "import matplotlib.pyplot as plt\n",
    "\n",
    "import plotly.offline as py\n",
    "py.init_notebook_mode(connected=True)\n",
    "import plotly.graph_objs as go\n",
    "import plotly.tools as tls"
   ]
  },
  {
   "cell_type": "markdown",
   "metadata": {},
   "source": [
    "# Read data"
   ]
  },
  {
   "cell_type": "code",
   "execution_count": 5,
   "metadata": {},
   "outputs": [],
   "source": [
    "root = '../input'\n",
    "df_name = 'final_df_2020-12-03_16-45-50.csv'\n",
    "df = pd.read_csv(os.path.join(root, df_name))"
   ]
  },
  {
   "cell_type": "code",
   "execution_count": 6,
   "metadata": {},
   "outputs": [],
   "source": [
    "df.time = pd.to_datetime(df.time)"
   ]
  },
  {
   "cell_type": "code",
   "execution_count": 7,
   "metadata": {},
   "outputs": [
    {
     "data": {
      "text/html": [
       "<div>\n",
       "<style scoped>\n",
       "    .dataframe tbody tr th:only-of-type {\n",
       "        vertical-align: middle;\n",
       "    }\n",
       "\n",
       "    .dataframe tbody tr th {\n",
       "        vertical-align: top;\n",
       "    }\n",
       "\n",
       "    .dataframe thead th {\n",
       "        text-align: right;\n",
       "    }\n",
       "</style>\n",
       "<table border=\"1\" class=\"dataframe\">\n",
       "  <thead>\n",
       "    <tr style=\"text-align: right;\">\n",
       "      <th></th>\n",
       "      <th>topic</th>\n",
       "      <th>measurement</th>\n",
       "      <th>aircraft_id</th>\n",
       "      <th>cicle</th>\n",
       "      <th>time</th>\n",
       "      <th>setting1</th>\n",
       "      <th>setting2</th>\n",
       "      <th>setting3</th>\n",
       "      <th>s1</th>\n",
       "      <th>s2</th>\n",
       "      <th>...</th>\n",
       "      <th>s12</th>\n",
       "      <th>s13</th>\n",
       "      <th>s14</th>\n",
       "      <th>s15</th>\n",
       "      <th>s16</th>\n",
       "      <th>s17</th>\n",
       "      <th>s18</th>\n",
       "      <th>s19</th>\n",
       "      <th>s20</th>\n",
       "      <th>s21</th>\n",
       "    </tr>\n",
       "  </thead>\n",
       "  <tbody>\n",
       "    <tr>\n",
       "      <th>0</th>\n",
       "      <td>/data</td>\n",
       "      <td>aircrafts</td>\n",
       "      <td>cd9d9a0d-3e91-4cb8-bf29-95d2c438bf53</td>\n",
       "      <td>19</td>\n",
       "      <td>2020-12-03 10:49:35+00:00</td>\n",
       "      <td>0.0013</td>\n",
       "      <td>0.0005</td>\n",
       "      <td>100.0</td>\n",
       "      <td>473.571070</td>\n",
       "      <td>591.108595</td>\n",
       "      <td>...</td>\n",
       "      <td>483.372175</td>\n",
       "      <td>2186.130950</td>\n",
       "      <td>7318.831254</td>\n",
       "      <td>7.495255</td>\n",
       "      <td>0.027673</td>\n",
       "      <td>365.211709</td>\n",
       "      <td>2225.881249</td>\n",
       "      <td>93.075014</td>\n",
       "      <td>35.455799</td>\n",
       "      <td>22.306129</td>\n",
       "    </tr>\n",
       "    <tr>\n",
       "      <th>1</th>\n",
       "      <td>/data</td>\n",
       "      <td>aircrafts</td>\n",
       "      <td>6ac3d559-200c-45f2-b3af-a04a1d1e759d</td>\n",
       "      <td>17</td>\n",
       "      <td>2020-12-03 10:49:36+00:00</td>\n",
       "      <td>0.0025</td>\n",
       "      <td>-0.0004</td>\n",
       "      <td>100.0</td>\n",
       "      <td>461.982120</td>\n",
       "      <td>560.730791</td>\n",
       "      <td>...</td>\n",
       "      <td>442.668943</td>\n",
       "      <td>2092.719358</td>\n",
       "      <td>7033.759201</td>\n",
       "      <td>7.542264</td>\n",
       "      <td>0.027236</td>\n",
       "      <td>343.092520</td>\n",
       "      <td>2068.875199</td>\n",
       "      <td>88.037151</td>\n",
       "      <td>33.204910</td>\n",
       "      <td>20.245498</td>\n",
       "    </tr>\n",
       "    <tr>\n",
       "      <th>2</th>\n",
       "      <td>/data</td>\n",
       "      <td>aircrafts</td>\n",
       "      <td>d1b77a39-a6f2-40d7-856a-d2cf2a8e66c9</td>\n",
       "      <td>13</td>\n",
       "      <td>2020-12-03 10:49:37+00:00</td>\n",
       "      <td>0.0006</td>\n",
       "      <td>0.0005</td>\n",
       "      <td>100.0</td>\n",
       "      <td>478.380856</td>\n",
       "      <td>594.917288</td>\n",
       "      <td>...</td>\n",
       "      <td>492.018430</td>\n",
       "      <td>2156.599498</td>\n",
       "      <td>7365.802871</td>\n",
       "      <td>7.953740</td>\n",
       "      <td>0.028180</td>\n",
       "      <td>365.779702</td>\n",
       "      <td>2276.852237</td>\n",
       "      <td>91.859368</td>\n",
       "      <td>35.678618</td>\n",
       "      <td>21.996184</td>\n",
       "    </tr>\n",
       "    <tr>\n",
       "      <th>3</th>\n",
       "      <td>/data</td>\n",
       "      <td>aircrafts</td>\n",
       "      <td>dd9b95d9-a9ba-4f3c-91bc-c8f679e01384</td>\n",
       "      <td>12</td>\n",
       "      <td>2020-12-03 10:49:38+00:00</td>\n",
       "      <td>-0.0025</td>\n",
       "      <td>0.0004</td>\n",
       "      <td>100.0</td>\n",
       "      <td>462.526786</td>\n",
       "      <td>569.943328</td>\n",
       "      <td>...</td>\n",
       "      <td>474.098862</td>\n",
       "      <td>2155.995666</td>\n",
       "      <td>7119.628028</td>\n",
       "      <td>7.561611</td>\n",
       "      <td>0.027248</td>\n",
       "      <td>353.664412</td>\n",
       "      <td>2183.276094</td>\n",
       "      <td>87.531446</td>\n",
       "      <td>34.590907</td>\n",
       "      <td>21.219175</td>\n",
       "    </tr>\n",
       "    <tr>\n",
       "      <th>4</th>\n",
       "      <td>/data</td>\n",
       "      <td>aircrafts</td>\n",
       "      <td>81619ee8-5dc0-4d51-8e19-b0e72f79e612</td>\n",
       "      <td>8</td>\n",
       "      <td>2020-12-03 10:49:39+00:00</td>\n",
       "      <td>-0.0055</td>\n",
       "      <td>-0.0002</td>\n",
       "      <td>100.0</td>\n",
       "      <td>484.791406</td>\n",
       "      <td>608.575570</td>\n",
       "      <td>...</td>\n",
       "      <td>488.878156</td>\n",
       "      <td>2209.735864</td>\n",
       "      <td>7306.991915</td>\n",
       "      <td>7.821272</td>\n",
       "      <td>0.028240</td>\n",
       "      <td>368.871288</td>\n",
       "      <td>2186.807935</td>\n",
       "      <td>93.527457</td>\n",
       "      <td>36.016414</td>\n",
       "      <td>22.176172</td>\n",
       "    </tr>\n",
       "  </tbody>\n",
       "</table>\n",
       "<p>5 rows × 29 columns</p>\n",
       "</div>"
      ],
      "text/plain": [
       "   topic measurement                           aircraft_id  cicle  \\\n",
       "0  /data   aircrafts  cd9d9a0d-3e91-4cb8-bf29-95d2c438bf53     19   \n",
       "1  /data   aircrafts  6ac3d559-200c-45f2-b3af-a04a1d1e759d     17   \n",
       "2  /data   aircrafts  d1b77a39-a6f2-40d7-856a-d2cf2a8e66c9     13   \n",
       "3  /data   aircrafts  dd9b95d9-a9ba-4f3c-91bc-c8f679e01384     12   \n",
       "4  /data   aircrafts  81619ee8-5dc0-4d51-8e19-b0e72f79e612      8   \n",
       "\n",
       "                       time  setting1  setting2  setting3          s1  \\\n",
       "0 2020-12-03 10:49:35+00:00    0.0013    0.0005     100.0  473.571070   \n",
       "1 2020-12-03 10:49:36+00:00    0.0025   -0.0004     100.0  461.982120   \n",
       "2 2020-12-03 10:49:37+00:00    0.0006    0.0005     100.0  478.380856   \n",
       "3 2020-12-03 10:49:38+00:00   -0.0025    0.0004     100.0  462.526786   \n",
       "4 2020-12-03 10:49:39+00:00   -0.0055   -0.0002     100.0  484.791406   \n",
       "\n",
       "           s2  ...         s12          s13          s14       s15       s16  \\\n",
       "0  591.108595  ...  483.372175  2186.130950  7318.831254  7.495255  0.027673   \n",
       "1  560.730791  ...  442.668943  2092.719358  7033.759201  7.542264  0.027236   \n",
       "2  594.917288  ...  492.018430  2156.599498  7365.802871  7.953740  0.028180   \n",
       "3  569.943328  ...  474.098862  2155.995666  7119.628028  7.561611  0.027248   \n",
       "4  608.575570  ...  488.878156  2209.735864  7306.991915  7.821272  0.028240   \n",
       "\n",
       "          s17          s18        s19        s20        s21  \n",
       "0  365.211709  2225.881249  93.075014  35.455799  22.306129  \n",
       "1  343.092520  2068.875199  88.037151  33.204910  20.245498  \n",
       "2  365.779702  2276.852237  91.859368  35.678618  21.996184  \n",
       "3  353.664412  2183.276094  87.531446  34.590907  21.219175  \n",
       "4  368.871288  2186.807935  93.527457  36.016414  22.176172  \n",
       "\n",
       "[5 rows x 29 columns]"
      ]
     },
     "execution_count": 7,
     "metadata": {},
     "output_type": "execute_result"
    }
   ],
   "source": [
    "df.head()"
   ]
  },
  {
   "cell_type": "code",
   "execution_count": 9,
   "metadata": {},
   "outputs": [
    {
     "name": "stdout",
     "output_type": "stream",
     "text": [
      "<class 'pandas.core.frame.DataFrame'>\n",
      "RangeIndex: 10263 entries, 0 to 10262\n",
      "Data columns (total 29 columns):\n",
      " #   Column       Non-Null Count  Dtype              \n",
      "---  ------       --------------  -----              \n",
      " 0   topic        10263 non-null  object             \n",
      " 1   measurement  10263 non-null  object             \n",
      " 2   aircraft_id  10263 non-null  object             \n",
      " 3   cicle        10263 non-null  int64              \n",
      " 4   time         10263 non-null  datetime64[ns, UTC]\n",
      " 5   setting1     10263 non-null  float64            \n",
      " 6   setting2     10263 non-null  float64            \n",
      " 7   setting3     10263 non-null  float64            \n",
      " 8   s1           10263 non-null  float64            \n",
      " 9   s2           10263 non-null  float64            \n",
      " 10  s3           10263 non-null  float64            \n",
      " 11  s4           10263 non-null  float64            \n",
      " 12  s5           10263 non-null  float64            \n",
      " 13  s6           10263 non-null  float64            \n",
      " 14  s7           10263 non-null  float64            \n",
      " 15  s8           10263 non-null  float64            \n",
      " 16  s9           10263 non-null  float64            \n",
      " 17  s10          10263 non-null  float64            \n",
      " 18  s11          10263 non-null  float64            \n",
      " 19  s12          10263 non-null  float64            \n",
      " 20  s13          10263 non-null  float64            \n",
      " 21  s14          10263 non-null  float64            \n",
      " 22  s15          10263 non-null  float64            \n",
      " 23  s16          10263 non-null  float64            \n",
      " 24  s17          10263 non-null  float64            \n",
      " 25  s18          10263 non-null  float64            \n",
      " 26  s19          10263 non-null  float64            \n",
      " 27  s20          10263 non-null  float64            \n",
      " 28  s21          10263 non-null  float64            \n",
      "dtypes: datetime64[ns, UTC](1), float64(24), int64(1), object(3)\n",
      "memory usage: 2.3+ MB\n"
     ]
    }
   ],
   "source": [
    "df.info()"
   ]
  },
  {
   "cell_type": "markdown",
   "metadata": {},
   "source": [
    "# Format summary data for each aircraft"
   ]
  },
  {
   "cell_type": "code",
   "execution_count": 10,
   "metadata": {},
   "outputs": [],
   "source": [
    "# all unique id aircrafts\n",
    "id_aircrafts = df.aircraft_id.unique()"
   ]
  },
  {
   "cell_type": "code",
   "execution_count": 12,
   "metadata": {},
   "outputs": [
    {
     "data": {
      "text/plain": [
       "(96,)"
      ]
     },
     "execution_count": 12,
     "metadata": {},
     "output_type": "execute_result"
    }
   ],
   "source": [
    "id_aircrafts.shape"
   ]
  },
  {
   "cell_type": "code",
   "execution_count": 7,
   "metadata": {
    "scrolled": false
   },
   "outputs": [
    {
     "data": {
      "text/plain": [
       "(13, 29)"
      ]
     },
     "execution_count": 7,
     "metadata": {},
     "output_type": "execute_result"
    }
   ],
   "source": [
    "# choice data for one aircrafts\n",
    "one_data = df[df.aircraft_id == np.random.choice(id_aircrafts)]\n",
    "one_data.shape"
   ]
  },
  {
   "cell_type": "code",
   "execution_count": 8,
   "metadata": {
    "scrolled": false
   },
   "outputs": [
    {
     "data": {
      "image/png": "[encoded data removed]",
      "text/plain": [
       "<Figure size 1584x720 with 1 Axes>"
      ]
     },
     "metadata": {
      "needs_background": "light"
     },
     "output_type": "display_data"
    }
   ],
   "source": [
    "plt.figure(figsize=(22,10))\n",
    "plt.plot(one_data.time, one_data.setting1)\n",
    "plt.title(\"Mean Temperature of Bindukuri Area\")\n",
    "plt.xlabel(\"Date\")\n",
    "plt.ylabel(\"Mean Temperature\")\n",
    "plt.show()"
   ]
  },
  {
   "cell_type": "code",
   "execution_count": 117,
   "metadata": {
    "scrolled": false
   },
   "outputs": [
    {
     "data": {
      "application/vnd.plotly.v1+json": {
       "config": {
        "linkText": "Export to plot.ly",
        "plotlyServerURL": "https://plot.ly",
        "showLink": false
       },
       "data": [
        {
         "name": "fbf1797b-9919-44e8-8bb1-13ca5a3f90b7",
         "type": "scatter",
         "x": [
          "12-03-12:27:52 PM",
          "12-03-12:28:34 PM",
          "12-03-12:29:18 PM",
          "12-03-12:30:01 PM",
          "12-03-12:30:44 PM",
          "12-03-12:31:27 PM",
          "12-03-12:32:10 PM",
          "12-03-12:32:54 PM",
          "12-03-12:33:37 PM",
          "12-03-12:34:20 PM",
          "12-03-12:35:03 PM",
          "12-03-12:35:45 PM",
          "12-03-12:36:28 PM",
          "12-03-12:37:08 PM",
          "12-03-12:37:48 PM",
          "12-03-12:38:27 PM",
          "12-03-12:39:05 PM",
          "12-03-12:39:44 PM",
          "12-03-12:40:22 PM",
          "12-03-12:41:01 PM",
          "12-03-12:41:41 PM",
          "12-03-12:42:21 PM",
          "12-03-12:43:00 PM",
          "12-03-12:43:41 PM",
          "12-03-12:44:20 PM",
          "12-03-12:44:59 PM",
          "12-03-12:45:38 PM",
          "12-03-12:46:18 PM",
          "12-03-12:46:59 PM",
          "12-03-12:47:39 PM",
          "12-03-12:48:19 PM",
          "12-03-12:48:59 PM",
          "12-03-12:49:39 PM",
          "12-03-12:50:20 PM",
          "12-03-12:51:00 PM",
          "12-03-12:51:39 PM",
          "12-03-12:52:17 PM",
          "12-03-12:52:54 PM",
          "12-03-12:53:31 PM",
          "12-03-12:54:09 PM",
          "12-03-12:54:46 PM",
          "12-03-12:55:23 PM",
          "12-03-12:56:01 PM",
          "12-03-12:56:38 PM",
          "12-03-12:57:14 PM",
          "12-03-12:57:51 PM",
          "12-03-12:58:27 PM",
          "12-03-12:59:03 PM",
          "12-03-12:59:39 PM",
          "12-03-01:00:15 PM",
          "12-03-01:00:51 PM",
          "12-03-01:01:28 PM",
          "12-03-01:02:04 PM",
          "12-03-01:02:40 PM",
          "12-03-01:03:16 PM",
          "12-03-01:03:53 PM",
          "12-03-01:04:30 PM",
          "12-03-01:05:07 PM",
          "12-03-01:05:43 PM",
          "12-03-01:06:20 PM",
          "12-03-01:06:57 PM",
          "12-03-01:07:34 PM",
          "12-03-01:08:11 PM",
          "12-03-01:08:49 PM",
          "12-03-01:09:27 PM",
          "12-03-01:10:06 PM",
          "12-03-01:10:45 PM",
          "12-03-01:11:23 PM",
          "12-03-01:12:01 PM",
          "12-03-01:12:38 PM",
          "12-03-01:13:14 PM",
          "12-03-01:13:50 PM",
          "12-03-01:14:26 PM",
          "12-03-01:15:02 PM",
          "12-03-01:15:40 PM",
          "12-03-01:16:18 PM",
          "12-03-01:16:56 PM",
          "12-03-01:17:34 PM",
          "12-03-01:18:12 PM",
          "12-03-01:18:49 PM",
          "12-03-01:19:27 PM",
          "12-03-01:20:05 PM",
          "12-03-01:20:43 PM",
          "12-03-01:21:21 PM",
          "12-03-01:22:00 PM",
          "12-03-01:22:39 PM",
          "12-03-01:23:19 PM",
          "12-03-01:23:57 PM",
          "12-03-01:24:35 PM",
          "12-03-01:25:13 PM",
          "12-03-01:25:50 PM",
          "12-03-01:26:28 PM",
          "12-03-01:27:05 PM",
          "12-03-01:27:43 PM",
          "12-03-01:28:21 PM",
          "12-03-01:28:59 PM",
          "12-03-01:29:37 PM",
          "12-03-01:30:15 PM",
          "12-03-01:30:53 PM",
          "12-03-01:31:30 PM",
          "12-03-01:32:07 PM",
          "12-03-01:32:44 PM",
          "12-03-01:33:21 PM",
          "12-03-01:33:59 PM",
          "12-03-01:34:36 PM",
          "12-03-01:35:13 PM",
          "12-03-01:35:49 PM",
          "12-03-01:36:25 PM",
          "12-03-01:37:00 PM",
          "12-03-01:37:36 PM",
          "12-03-01:38:12 PM",
          "12-03-01:38:48 PM",
          "12-03-01:39:24 PM",
          "12-03-01:40:01 PM",
          "12-03-01:40:38 PM",
          "12-03-01:41:16 PM",
          "12-03-01:41:52 PM",
          "12-03-01:42:28 PM",
          "12-03-01:43:04 PM",
          "12-03-01:43:41 PM",
          "12-03-01:44:19 PM",
          "12-03-01:44:55 PM",
          "12-03-01:45:29 PM"
         ],
         "y": [
          0,
          1,
          2,
          3,
          4,
          5,
          6,
          7,
          8,
          9,
          10,
          11,
          12,
          13,
          14,
          15,
          16,
          17,
          18,
          19,
          20,
          21,
          22,
          23,
          24,
          25,
          26,
          27,
          28,
          29,
          30,
          31,
          32,
          33,
          34,
          35,
          36,
          37,
          38,
          39,
          40,
          41,
          42,
          43,
          44,
          45,
          46,
          47,
          48,
          49,
          50,
          51,
          52,
          53,
          54,
          55,
          56,
          57,
          58,
          59,
          60,
          61,
          62,
          63,
          64,
          65,
          66,
          67,
          68,
          69,
          70,
          71,
          72,
          73,
          74,
          75,
          76,
          77,
          78,
          79,
          80,
          81,
          82,
          83,
          84,
          85,
          86,
          87,
          88,
          89,
          90,
          91,
          92,
          93,
          94,
          95,
          96,
          97,
          98,
          99,
          100,
          101,
          102,
          103,
          104,
          105,
          106,
          107,
          108,
          109,
          110,
          111,
          112,
          113,
          114,
          115,
          116,
          117,
          118,
          119,
          120,
          121,
          122
         ]
        },
        {
         "name": "fbf1797b-9919-44e8-8bb1-13ca5a3f90b7",
         "type": "scatter",
         "x": [
          "12-03-10:50:10 AM",
          "12-03-10:51:01 AM",
          "12-03-10:51:53 AM",
          "12-03-10:52:44 AM",
          "12-03-10:53:34 AM",
          "12-03-10:54:23 AM",
          "12-03-10:55:14 AM",
          "12-03-10:56:03 AM",
          "12-03-10:56:51 AM",
          "12-03-10:57:38 AM",
          "12-03-10:58:25 AM",
          "12-03-10:59:13 AM",
          "12-03-11:00:00 AM",
          "12-03-11:00:47 AM",
          "12-03-11:01:34 AM",
          "12-03-11:02:21 AM",
          "12-03-11:03:07 AM",
          "12-03-11:03:53 AM",
          "12-03-11:04:38 AM",
          "12-03-11:05:23 AM",
          "12-03-11:06:09 AM",
          "12-03-11:06:55 AM",
          "12-03-11:07:40 AM",
          "12-03-11:08:26 AM",
          "12-03-11:09:12 AM",
          "12-03-11:09:59 AM",
          "12-03-11:10:45 AM",
          "12-03-11:11:31 AM",
          "12-03-11:12:16 AM",
          "12-03-11:13:00 AM",
          "12-03-11:13:45 AM",
          "12-03-11:14:30 AM",
          "12-03-11:15:13 AM",
          "12-03-11:15:56 AM",
          "12-03-11:16:39 AM",
          "12-03-11:17:23 AM",
          "12-03-11:18:05 AM",
          "12-03-11:18:47 AM",
          "12-03-11:19:30 AM",
          "12-03-11:20:14 AM",
          "12-03-11:20:59 AM",
          "12-03-11:21:43 AM",
          "12-03-11:22:28 AM",
          "12-03-11:23:13 AM",
          "12-03-11:23:59 AM",
          "12-03-11:24:44 AM",
          "12-03-11:25:29 AM",
          "12-03-11:26:13 AM",
          "12-03-11:26:57 AM",
          "12-03-11:27:42 AM",
          "12-03-11:28:26 AM",
          "12-03-11:29:10 AM",
          "12-03-11:29:54 AM",
          "12-03-11:30:38 AM",
          "12-03-11:31:22 AM",
          "12-03-11:32:05 AM",
          "12-03-11:32:48 AM",
          "12-03-11:33:31 AM",
          "12-03-11:34:13 AM",
          "12-03-11:34:55 AM",
          "12-03-11:35:36 AM",
          "12-03-11:36:17 AM",
          "12-03-11:36:58 AM",
          "12-03-11:37:39 AM",
          "12-03-11:38:21 AM"
         ],
         "y": [
          98,
          99,
          100,
          101,
          102,
          103,
          104,
          105,
          106,
          107,
          108,
          109,
          110,
          111,
          112,
          113,
          114,
          115,
          116,
          117,
          118,
          119,
          120,
          121,
          122,
          123,
          124,
          125,
          126,
          127,
          128,
          129,
          130,
          131,
          132,
          133,
          134,
          135,
          136,
          137,
          138,
          139,
          140,
          141,
          142,
          143,
          144,
          145,
          146,
          147,
          148,
          149,
          150,
          151,
          152,
          153,
          154,
          155,
          156,
          157,
          158,
          159,
          160,
          161,
          162
         ]
        },
        {
         "name": "fbf1797b-9919-44e8-8bb1-13ca5a3f90b7",
         "type": "scatter",
         "x": [
          "12-03-10:49:46 AM",
          "12-03-10:50:37 AM",
          "12-03-10:51:28 AM",
          "12-03-10:52:20 AM",
          "12-03-10:53:11 AM",
          "12-03-10:54:01 AM",
          "12-03-10:54:51 AM",
          "12-03-10:55:41 AM",
          "12-03-10:56:30 AM",
          "12-03-10:57:17 AM",
          "12-03-10:58:04 AM",
          "12-03-10:58:52 AM",
          "12-03-10:59:39 AM",
          "12-03-11:00:26 AM",
          "12-03-11:01:13 AM",
          "12-03-11:02:00 AM",
          "12-03-11:02:47 AM",
          "12-03-11:03:33 AM",
          "12-03-11:04:19 AM",
          "12-03-11:05:04 AM",
          "12-03-11:05:49 AM",
          "12-03-11:06:36 AM",
          "12-03-11:07:23 AM",
          "12-03-11:08:09 AM",
          "12-03-11:08:55 AM",
          "12-03-11:09:42 AM",
          "12-03-11:10:28 AM",
          "12-03-11:11:14 AM",
          "12-03-11:12:00 AM",
          "12-03-11:12:45 AM",
          "12-03-11:13:30 AM",
          "12-03-11:14:15 AM",
          "12-03-11:15:00 AM",
          "12-03-11:15:43 AM",
          "12-03-11:16:26 AM",
          "12-03-11:17:10 AM",
          "12-03-11:17:53 AM",
          "12-03-11:18:35 AM",
          "12-03-11:19:18 AM",
          "12-03-11:20:02 AM",
          "12-03-11:20:47 AM",
          "12-03-11:21:31 AM",
          "12-03-11:22:16 AM",
          "12-03-11:23:01 AM",
          "12-03-11:23:46 AM",
          "12-03-11:24:32 AM",
          "12-03-11:25:17 AM",
          "12-03-11:26:02 AM",
          "12-03-11:26:46 AM",
          "12-03-11:27:30 AM",
          "12-03-11:28:15 AM",
          "12-03-11:28:59 AM",
          "12-03-11:29:43 AM",
          "12-03-11:30:27 AM",
          "12-03-11:31:11 AM",
          "12-03-11:31:54 AM",
          "12-03-11:32:37 AM",
          "12-03-11:33:20 AM"
         ],
         "y": [
          187,
          188,
          189,
          190,
          191,
          192,
          193,
          194,
          195,
          196,
          197,
          198,
          199,
          200,
          201,
          202,
          203,
          204,
          205,
          206,
          207,
          208,
          209,
          210,
          211,
          212,
          213,
          214,
          215,
          216,
          217,
          218,
          219,
          220,
          221,
          222,
          223,
          224,
          225,
          226,
          227,
          228,
          229,
          230,
          231,
          232,
          233,
          234,
          235,
          236,
          237,
          238,
          239,
          240,
          241,
          242,
          243,
          244
         ]
        },
        {
         "name": "fbf1797b-9919-44e8-8bb1-13ca5a3f90b7",
         "type": "scatter",
         "x": [
          "12-03-10:50:15 AM",
          "12-03-10:51:06 AM",
          "12-03-10:51:58 AM",
          "12-03-10:52:49 AM",
          "12-03-10:53:39 AM",
          "12-03-10:54:28 AM",
          "12-03-10:55:19 AM",
          "12-03-10:56:08 AM",
          "12-03-10:56:56 AM",
          "12-03-10:57:43 AM",
          "12-03-10:58:30 AM",
          "12-03-10:59:18 AM",
          "12-03-11:00:05 AM",
          "12-03-11:00:52 AM",
          "12-03-11:01:39 AM",
          "12-03-11:02:26 AM",
          "12-03-11:03:12 AM",
          "12-03-11:03:58 AM",
          "12-03-11:04:43 AM",
          "12-03-11:05:28 AM",
          "12-03-11:06:14 AM",
          "12-03-11:07:00 AM",
          "12-03-11:07:45 AM",
          "12-03-11:08:31 AM",
          "12-03-11:09:17 AM",
          "12-03-11:10:04 AM",
          "12-03-11:10:50 AM",
          "12-03-11:11:36 AM",
          "12-03-11:12:21 AM",
          "12-03-11:13:05 AM",
          "12-03-11:13:50 AM",
          "12-03-11:14:35 AM",
          "12-03-11:15:18 AM",
          "12-03-11:16:01 AM",
          "12-03-11:16:45 AM",
          "12-03-11:17:28 AM",
          "12-03-11:18:10 AM",
          "12-03-11:18:52 AM",
          "12-03-11:19:35 AM",
          "12-03-11:20:19 AM",
          "12-03-11:21:04 AM",
          "12-03-11:21:48 AM",
          "12-03-11:22:33 AM",
          "12-03-11:23:18 AM",
          "12-03-11:24:04 AM",
          "12-03-11:24:49 AM",
          "12-03-11:25:34 AM",
          "12-03-11:26:18 AM",
          "12-03-11:27:02 AM",
          "12-03-11:27:47 AM",
          "12-03-11:28:31 AM",
          "12-03-11:29:15 AM",
          "12-03-11:29:59 AM",
          "12-03-11:30:42 AM",
          "12-03-11:31:26 AM",
          "12-03-11:32:09 AM",
          "12-03-11:32:52 AM",
          "12-03-11:33:35 AM",
          "12-03-11:34:17 AM",
          "12-03-11:34:59 AM",
          "12-03-11:35:40 AM",
          "12-03-11:36:21 AM",
          "12-03-11:37:02 AM",
          "12-03-11:37:43 AM",
          "12-03-11:38:26 AM",
          "12-03-11:39:06 AM",
          "12-03-11:39:46 AM",
          "12-03-11:40:27 AM",
          "12-03-11:41:08 AM",
          "12-03-11:41:49 AM",
          "12-03-11:42:32 AM",
          "12-03-11:43:14 AM",
          "12-03-11:43:55 AM",
          "12-03-11:44:36 AM",
          "12-03-11:45:17 AM",
          "12-03-11:45:58 AM",
          "12-03-11:46:38 AM",
          "12-03-11:47:17 AM",
          "12-03-11:47:56 AM",
          "12-03-11:48:36 AM",
          "12-03-11:49:17 AM",
          "12-03-11:49:58 AM",
          "12-03-11:50:39 AM",
          "12-03-11:51:20 AM",
          "12-03-11:52:01 AM",
          "12-03-11:52:42 AM",
          "12-03-11:53:24 AM",
          "12-03-11:54:04 AM",
          "12-03-11:54:45 AM",
          "12-03-11:55:26 AM",
          "12-03-11:56:07 AM",
          "12-03-11:56:48 AM",
          "12-03-11:57:28 AM",
          "12-03-11:58:08 AM",
          "12-03-11:58:48 AM",
          "12-03-11:59:28 AM",
          "12-03-12:00:10 PM",
          "12-03-12:00:51 PM",
          "12-03-12:01:32 PM",
          "12-03-12:02:13 PM"
         ],
         "y": [
          76,
          77,
          78,
          79,
          80,
          81,
          82,
          83,
          84,
          85,
          86,
          87,
          88,
          89,
          90,
          91,
          92,
          93,
          94,
          95,
          96,
          97,
          98,
          99,
          100,
          101,
          102,
          103,
          104,
          105,
          106,
          107,
          108,
          109,
          110,
          111,
          112,
          113,
          114,
          115,
          116,
          117,
          118,
          119,
          120,
          121,
          122,
          123,
          124,
          125,
          126,
          127,
          128,
          129,
          130,
          131,
          132,
          133,
          134,
          135,
          136,
          137,
          138,
          139,
          140,
          141,
          142,
          143,
          144,
          145,
          146,
          147,
          148,
          149,
          150,
          151,
          152,
          153,
          154,
          155,
          156,
          157,
          158,
          159,
          160,
          161,
          162,
          163,
          164,
          165,
          166,
          167,
          168,
          169,
          170,
          171,
          172,
          173,
          174,
          175
         ]
        },
        {
         "name": "fbf1797b-9919-44e8-8bb1-13ca5a3f90b7",
         "type": "scatter",
         "x": [
          "12-03-01:30:33 PM",
          "12-03-01:31:11 PM",
          "12-03-01:31:48 PM",
          "12-03-01:32:25 PM",
          "12-03-01:33:02 PM",
          "12-03-01:33:40 PM",
          "12-03-01:34:17 PM",
          "12-03-01:34:54 PM",
          "12-03-01:35:31 PM",
          "12-03-01:36:07 PM",
          "12-03-01:36:43 PM",
          "12-03-01:37:19 PM",
          "12-03-01:37:54 PM",
          "12-03-01:38:30 PM",
          "12-03-01:39:06 PM",
          "12-03-01:39:42 PM",
          "12-03-01:40:19 PM",
          "12-03-01:40:57 PM",
          "12-03-01:41:34 PM",
          "12-03-01:42:10 PM",
          "12-03-01:42:46 PM",
          "12-03-01:43:22 PM",
          "12-03-01:43:59 PM",
          "12-03-01:44:37 PM",
          "12-03-01:45:13 PM"
         ],
         "y": [
          0,
          1,
          2,
          3,
          4,
          5,
          6,
          7,
          8,
          9,
          10,
          11,
          12,
          13,
          14,
          15,
          16,
          17,
          18,
          19,
          20,
          21,
          22,
          23,
          24
         ]
        },
        {
         "name": "fbf1797b-9919-44e8-8bb1-13ca5a3f90b7",
         "type": "scatter",
         "x": [
          "12-03-10:49:59 AM",
          "12-03-10:50:50 AM",
          "12-03-10:51:42 AM",
          "12-03-10:52:33 AM",
          "12-03-10:53:24 AM",
          "12-03-10:54:13 AM",
          "12-03-10:55:03 AM",
          "12-03-10:55:53 AM",
          "12-03-10:56:41 AM",
          "12-03-10:57:28 AM",
          "12-03-10:58:15 AM",
          "12-03-10:59:03 AM",
          "12-03-10:59:50 AM",
          "12-03-11:00:37 AM",
          "12-03-11:01:24 AM",
          "12-03-11:02:10 AM",
          "12-03-11:02:57 AM",
          "12-03-11:03:43 AM",
          "12-03-11:04:28 AM",
          "12-03-11:05:13 AM",
          "12-03-11:05:59 AM",
          "12-03-11:06:45 AM",
          "12-03-11:07:30 AM",
          "12-03-11:08:16 AM",
          "12-03-11:09:02 AM",
          "12-03-11:09:49 AM",
          "12-03-11:10:35 AM",
          "12-03-11:11:21 AM",
          "12-03-11:12:07 AM",
          "12-03-11:12:52 AM",
          "12-03-11:13:37 AM",
          "12-03-11:14:22 AM",
          "12-03-11:15:06 AM",
          "12-03-11:15:49 AM",
          "12-03-11:16:32 AM",
          "12-03-11:17:16 AM",
          "12-03-11:17:58 AM",
          "12-03-11:18:40 AM",
          "12-03-11:19:23 AM",
          "12-03-11:20:07 AM",
          "12-03-11:20:52 AM",
          "12-03-11:21:36 AM",
          "12-03-11:22:21 AM",
          "12-03-11:23:06 AM",
          "12-03-11:23:51 AM",
          "12-03-11:24:37 AM",
          "12-03-11:25:22 AM"
         ],
         "y": [
          143,
          144,
          145,
          146,
          147,
          148,
          149,
          150,
          151,
          152,
          153,
          154,
          155,
          156,
          157,
          158,
          159,
          160,
          161,
          162,
          163,
          164,
          165,
          166,
          167,
          168,
          169,
          170,
          171,
          172,
          173,
          174,
          175,
          176,
          177,
          178,
          179,
          180,
          181,
          182,
          183,
          184,
          185,
          186,
          187,
          188,
          189
         ]
        },
        {
         "name": "fbf1797b-9919-44e8-8bb1-13ca5a3f90b7",
         "type": "scatter",
         "x": [
          "12-03-10:49:39 AM",
          "12-03-10:50:30 AM",
          "12-03-10:51:21 AM",
          "12-03-10:52:13 AM",
          "12-03-10:53:04 AM",
          "12-03-10:53:54 AM",
          "12-03-10:54:43 AM",
          "12-03-10:55:34 AM",
          "12-03-10:56:23 AM",
          "12-03-10:57:11 AM",
          "12-03-10:57:58 AM",
          "12-03-10:58:46 AM",
          "12-03-10:59:33 AM",
          "12-03-11:00:20 AM",
          "12-03-11:01:07 AM",
          "12-03-11:01:54 AM",
          "12-03-11:02:41 AM",
          "12-03-11:03:27 AM",
          "12-03-11:04:13 AM",
          "12-03-11:04:58 AM",
          "12-03-11:05:43 AM",
          "12-03-11:06:29 AM",
          "12-03-11:07:15 AM",
          "12-03-11:08:00 AM",
          "12-03-11:08:46 AM",
          "12-03-11:09:33 AM",
          "12-03-11:10:19 AM",
          "12-03-11:11:05 AM",
          "12-03-11:11:51 AM",
          "12-03-11:12:36 AM",
          "12-03-11:13:21 AM",
          "12-03-11:14:05 AM",
          "12-03-11:14:50 AM",
          "12-03-11:15:33 AM",
          "12-03-11:16:16 AM",
          "12-03-11:17:00 AM",
          "12-03-11:17:43 AM",
          "12-03-11:18:25 AM",
          "12-03-11:19:07 AM",
          "12-03-11:19:50 AM",
          "12-03-11:20:35 AM",
          "12-03-11:21:19 AM",
          "12-03-11:22:03 AM",
          "12-03-11:22:48 AM",
          "12-03-11:23:33 AM",
          "12-03-11:24:19 AM",
          "12-03-11:25:04 AM",
          "12-03-11:25:49 AM",
          "12-03-11:26:33 AM",
          "12-03-11:27:17 AM",
          "12-03-11:28:02 AM",
          "12-03-11:28:46 AM",
          "12-03-11:29:30 AM",
          "12-03-11:30:14 AM",
          "12-03-11:30:57 AM",
          "12-03-11:31:41 AM",
          "12-03-11:32:24 AM",
          "12-03-11:33:07 AM",
          "12-03-11:33:50 AM",
          "12-03-11:34:32 AM",
          "12-03-11:35:14 AM",
          "12-03-11:35:55 AM",
          "12-03-11:36:36 AM",
          "12-03-11:37:17 AM",
          "12-03-11:37:58 AM",
          "12-03-11:38:41 AM",
          "12-03-11:39:21 AM",
          "12-03-11:40:01 AM",
          "12-03-11:40:42 AM",
          "12-03-11:41:23 AM",
          "12-03-11:42:05 AM",
          "12-03-11:42:47 AM",
          "12-03-11:43:29 AM",
          "12-03-11:44:10 AM",
          "12-03-11:44:51 AM",
          "12-03-11:45:32 AM",
          "12-03-11:46:13 AM",
          "12-03-11:46:52 AM",
          "12-03-11:47:31 AM",
          "12-03-11:48:10 AM",
          "12-03-11:48:50 AM",
          "12-03-11:49:31 AM",
          "12-03-11:50:12 AM",
          "12-03-11:50:53 AM",
          "12-03-11:51:34 AM",
          "12-03-11:52:15 AM",
          "12-03-11:52:57 AM",
          "12-03-11:53:38 AM",
          "12-03-11:54:18 AM",
          "12-03-11:54:59 AM",
          "12-03-11:55:40 AM",
          "12-03-11:56:21 AM",
          "12-03-11:57:02 AM",
          "12-03-11:57:42 AM",
          "12-03-11:58:22 AM",
          "12-03-11:59:02 AM",
          "12-03-11:59:42 AM",
          "12-03-12:00:24 PM",
          "12-03-12:01:05 PM",
          "12-03-12:01:46 PM",
          "12-03-12:02:27 PM",
          "12-03-12:03:07 PM",
          "12-03-12:03:48 PM",
          "12-03-12:04:27 PM",
          "12-03-12:05:05 PM",
          "12-03-12:05:43 PM",
          "12-03-12:06:22 PM",
          "12-03-12:07:02 PM",
          "12-03-12:07:43 PM",
          "12-03-12:08:23 PM",
          "12-03-12:09:03 PM",
          "12-03-12:09:43 PM",
          "12-03-12:10:23 PM",
          "12-03-12:11:05 PM",
          "12-03-12:11:46 PM",
          "12-03-12:12:28 PM",
          "12-03-12:13:11 PM",
          "12-03-12:13:54 PM",
          "12-03-12:14:38 PM",
          "12-03-12:15:21 PM",
          "12-03-12:16:04 PM",
          "12-03-12:16:47 PM",
          "12-03-12:17:30 PM",
          "12-03-12:18:14 PM",
          "12-03-12:18:57 PM",
          "12-03-12:19:40 PM",
          "12-03-12:20:23 PM",
          "12-03-12:21:06 PM",
          "12-03-12:21:50 PM",
          "12-03-12:22:33 PM",
          "12-03-12:23:16 PM",
          "12-03-12:23:59 PM",
          "12-03-12:24:41 PM",
          "12-03-12:25:24 PM",
          "12-03-12:26:05 PM",
          "12-03-12:26:46 PM",
          "12-03-12:27:27 PM",
          "12-03-12:28:09 PM",
          "12-03-12:28:53 PM",
          "12-03-12:29:36 PM",
          "12-03-12:30:19 PM",
          "12-03-12:31:02 PM",
          "12-03-12:31:45 PM",
          "12-03-12:32:29 PM",
          "12-03-12:33:12 PM",
          "12-03-12:33:55 PM",
          "12-03-12:34:38 PM",
          "12-03-12:35:20 PM",
          "12-03-12:36:03 PM",
          "12-03-12:36:43 PM",
          "12-03-12:37:23 PM",
          "12-03-12:38:02 PM",
          "12-03-12:38:40 PM",
          "12-03-12:39:18 PM",
          "12-03-12:39:57 PM",
          "12-03-12:40:36 PM",
          "12-03-12:41:16 PM",
          "12-03-12:41:56 PM",
          "12-03-12:42:35 PM",
          "12-03-12:43:16 PM",
          "12-03-12:43:55 PM",
          "12-03-12:44:34 PM",
          "12-03-12:45:13 PM",
          "12-03-12:45:53 PM",
          "12-03-12:46:33 PM",
          "12-03-12:47:14 PM",
          "12-03-12:47:54 PM",
          "12-03-12:48:34 PM",
          "12-03-12:49:14 PM",
          "12-03-12:49:54 PM",
          "12-03-12:50:35 PM",
          "12-03-12:51:14 PM",
          "12-03-12:51:52 PM",
          "12-03-12:52:29 PM",
          "12-03-12:53:06 PM",
          "12-03-12:53:43 PM",
          "12-03-12:54:21 PM",
          "12-03-12:54:58 PM",
          "12-03-12:55:36 PM",
          "12-03-12:56:14 PM",
          "12-03-12:56:51 PM",
          "12-03-12:57:27 PM",
          "12-03-12:58:04 PM",
          "12-03-12:58:40 PM",
          "12-03-12:59:16 PM",
          "12-03-12:59:52 PM"
         ],
         "y": [
          8,
          9,
          10,
          11,
          12,
          13,
          14,
          15,
          16,
          17,
          18,
          19,
          20,
          21,
          22,
          23,
          24,
          25,
          26,
          27,
          28,
          29,
          30,
          31,
          32,
          33,
          34,
          35,
          36,
          37,
          38,
          39,
          40,
          41,
          42,
          43,
          44,
          45,
          46,
          47,
          48,
          49,
          50,
          51,
          52,
          53,
          54,
          55,
          56,
          57,
          58,
          59,
          60,
          61,
          62,
          63,
          64,
          65,
          66,
          67,
          68,
          69,
          70,
          71,
          72,
          73,
          74,
          75,
          76,
          77,
          78,
          79,
          80,
          81,
          82,
          83,
          84,
          85,
          86,
          87,
          88,
          89,
          90,
          91,
          92,
          93,
          94,
          95,
          96,
          97,
          98,
          99,
          100,
          101,
          102,
          103,
          104,
          105,
          106,
          107,
          108,
          109,
          110,
          111,
          112,
          113,
          114,
          115,
          116,
          117,
          118,
          119,
          120,
          121,
          122,
          123,
          124,
          125,
          126,
          127,
          128,
          129,
          130,
          131,
          132,
          133,
          134,
          135,
          136,
          137,
          138,
          139,
          140,
          141,
          142,
          143,
          144,
          145,
          146,
          147,
          148,
          149,
          150,
          151,
          152,
          153,
          154,
          155,
          156,
          157,
          158,
          159,
          160,
          161,
          162,
          163,
          164,
          165,
          166,
          167,
          168,
          169,
          170,
          171,
          172,
          173,
          174,
          175,
          176,
          177,
          178,
          179,
          180,
          181,
          182,
          183,
          184,
          185,
          186,
          187,
          188,
          189,
          190,
          191,
          192,
          193
         ]
        },
        {
         "name": "fbf1797b-9919-44e8-8bb1-13ca5a3f90b7",
         "type": "scatter",
         "x": [
          "12-03-10:50:00 AM",
          "12-03-10:50:51 AM",
          "12-03-10:51:43 AM",
          "12-03-10:52:34 AM"
         ],
         "y": [
          140,
          141,
          142,
          143
         ]
        },
        {
         "name": "fbf1797b-9919-44e8-8bb1-13ca5a3f90b7",
         "type": "scatter",
         "x": [
          "12-03-12:27:52 PM",
          "12-03-12:28:34 PM",
          "12-03-12:29:18 PM",
          "12-03-12:30:01 PM",
          "12-03-12:30:44 PM",
          "12-03-12:31:27 PM",
          "12-03-12:32:10 PM",
          "12-03-12:32:54 PM",
          "12-03-12:33:37 PM",
          "12-03-12:34:20 PM",
          "12-03-12:35:03 PM",
          "12-03-12:35:45 PM",
          "12-03-12:36:28 PM",
          "12-03-12:37:08 PM",
          "12-03-12:37:48 PM",
          "12-03-12:38:27 PM",
          "12-03-12:39:05 PM",
          "12-03-12:39:44 PM",
          "12-03-12:40:22 PM",
          "12-03-12:41:01 PM",
          "12-03-12:41:41 PM",
          "12-03-12:42:21 PM",
          "12-03-12:43:00 PM",
          "12-03-12:43:41 PM",
          "12-03-12:44:20 PM",
          "12-03-12:44:59 PM",
          "12-03-12:45:38 PM",
          "12-03-12:46:18 PM",
          "12-03-12:46:59 PM",
          "12-03-12:47:39 PM",
          "12-03-12:48:19 PM",
          "12-03-12:48:59 PM",
          "12-03-12:49:39 PM",
          "12-03-12:50:20 PM",
          "12-03-12:51:00 PM",
          "12-03-12:51:39 PM",
          "12-03-12:52:17 PM",
          "12-03-12:52:54 PM",
          "12-03-12:53:31 PM",
          "12-03-12:54:09 PM",
          "12-03-12:54:46 PM",
          "12-03-12:55:23 PM",
          "12-03-12:56:01 PM",
          "12-03-12:56:38 PM",
          "12-03-12:57:14 PM",
          "12-03-12:57:51 PM",
          "12-03-12:58:27 PM",
          "12-03-12:59:03 PM",
          "12-03-12:59:39 PM",
          "12-03-01:00:15 PM",
          "12-03-01:00:51 PM",
          "12-03-01:01:28 PM",
          "12-03-01:02:04 PM",
          "12-03-01:02:40 PM",
          "12-03-01:03:16 PM",
          "12-03-01:03:53 PM",
          "12-03-01:04:30 PM",
          "12-03-01:05:07 PM",
          "12-03-01:05:43 PM",
          "12-03-01:06:20 PM",
          "12-03-01:06:57 PM",
          "12-03-01:07:34 PM",
          "12-03-01:08:11 PM",
          "12-03-01:08:49 PM",
          "12-03-01:09:27 PM",
          "12-03-01:10:06 PM",
          "12-03-01:10:45 PM",
          "12-03-01:11:23 PM",
          "12-03-01:12:01 PM",
          "12-03-01:12:38 PM",
          "12-03-01:13:14 PM",
          "12-03-01:13:50 PM",
          "12-03-01:14:26 PM",
          "12-03-01:15:02 PM",
          "12-03-01:15:40 PM",
          "12-03-01:16:18 PM",
          "12-03-01:16:56 PM",
          "12-03-01:17:34 PM",
          "12-03-01:18:12 PM",
          "12-03-01:18:49 PM",
          "12-03-01:19:27 PM",
          "12-03-01:20:05 PM",
          "12-03-01:20:43 PM",
          "12-03-01:21:21 PM",
          "12-03-01:22:00 PM",
          "12-03-01:22:39 PM",
          "12-03-01:23:19 PM",
          "12-03-01:23:57 PM",
          "12-03-01:24:35 PM",
          "12-03-01:25:13 PM",
          "12-03-01:25:50 PM",
          "12-03-01:26:28 PM",
          "12-03-01:27:05 PM",
          "12-03-01:27:43 PM",
          "12-03-01:28:21 PM",
          "12-03-01:28:59 PM",
          "12-03-01:29:37 PM",
          "12-03-01:30:15 PM",
          "12-03-01:30:53 PM",
          "12-03-01:31:30 PM",
          "12-03-01:32:07 PM",
          "12-03-01:32:44 PM",
          "12-03-01:33:21 PM",
          "12-03-01:33:59 PM",
          "12-03-01:34:36 PM",
          "12-03-01:35:13 PM",
          "12-03-01:35:49 PM",
          "12-03-01:36:25 PM",
          "12-03-01:37:00 PM",
          "12-03-01:37:36 PM",
          "12-03-01:38:12 PM",
          "12-03-01:38:48 PM",
          "12-03-01:39:24 PM",
          "12-03-01:40:01 PM",
          "12-03-01:40:38 PM",
          "12-03-01:41:16 PM",
          "12-03-01:41:52 PM",
          "12-03-01:42:28 PM",
          "12-03-01:43:04 PM",
          "12-03-01:43:41 PM",
          "12-03-01:44:19 PM",
          "12-03-01:44:55 PM",
          "12-03-01:45:29 PM"
         ],
         "y": [
          0,
          1,
          2,
          3,
          4,
          5,
          6,
          7,
          8,
          9,
          10,
          11,
          12,
          13,
          14,
          15,
          16,
          17,
          18,
          19,
          20,
          21,
          22,
          23,
          24,
          25,
          26,
          27,
          28,
          29,
          30,
          31,
          32,
          33,
          34,
          35,
          36,
          37,
          38,
          39,
          40,
          41,
          42,
          43,
          44,
          45,
          46,
          47,
          48,
          49,
          50,
          51,
          52,
          53,
          54,
          55,
          56,
          57,
          58,
          59,
          60,
          61,
          62,
          63,
          64,
          65,
          66,
          67,
          68,
          69,
          70,
          71,
          72,
          73,
          74,
          75,
          76,
          77,
          78,
          79,
          80,
          81,
          82,
          83,
          84,
          85,
          86,
          87,
          88,
          89,
          90,
          91,
          92,
          93,
          94,
          95,
          96,
          97,
          98,
          99,
          100,
          101,
          102,
          103,
          104,
          105,
          106,
          107,
          108,
          109,
          110,
          111,
          112,
          113,
          114,
          115,
          116,
          117,
          118,
          119,
          120,
          121,
          122
         ]
        },
        {
         "name": "fbf1797b-9919-44e8-8bb1-13ca5a3f90b7",
         "type": "scatter",
         "x": [
          "12-03-12:12:09 PM",
          "12-03-12:12:51 PM",
          "12-03-12:13:34 PM",
          "12-03-12:14:17 PM",
          "12-03-12:15:01 PM",
          "12-03-12:15:44 PM",
          "12-03-12:16:27 PM",
          "12-03-12:17:10 PM",
          "12-03-12:17:53 PM",
          "12-03-12:18:37 PM",
          "12-03-12:19:20 PM",
          "12-03-12:20:03 PM",
          "12-03-12:20:46 PM",
          "12-03-12:21:29 PM",
          "12-03-12:22:13 PM",
          "12-03-12:22:56 PM",
          "12-03-12:23:39 PM",
          "12-03-12:24:22 PM",
          "12-03-12:25:04 PM",
          "12-03-12:25:47 PM",
          "12-03-12:26:28 PM",
          "12-03-12:27:09 PM",
          "12-03-12:27:50 PM",
          "12-03-12:28:32 PM",
          "12-03-12:29:16 PM",
          "12-03-12:29:59 PM",
          "12-03-12:30:42 PM",
          "12-03-12:31:25 PM",
          "12-03-12:32:08 PM",
          "12-03-12:32:52 PM",
          "12-03-12:33:35 PM",
          "12-03-12:34:18 PM",
          "12-03-12:35:01 PM",
          "12-03-12:35:43 PM",
          "12-03-12:36:26 PM",
          "12-03-12:37:06 PM",
          "12-03-12:37:46 PM",
          "12-03-12:38:25 PM",
          "12-03-12:39:03 PM",
          "12-03-12:39:42 PM",
          "12-03-12:40:20 PM",
          "12-03-12:40:59 PM",
          "12-03-12:41:39 PM",
          "12-03-12:42:19 PM",
          "12-03-12:42:58 PM",
          "12-03-12:43:39 PM",
          "12-03-12:44:18 PM",
          "12-03-12:44:57 PM",
          "12-03-12:45:36 PM",
          "12-03-12:46:16 PM",
          "12-03-12:46:57 PM",
          "12-03-12:47:37 PM",
          "12-03-12:48:17 PM",
          "12-03-12:48:57 PM",
          "12-03-12:49:37 PM",
          "12-03-12:50:18 PM",
          "12-03-12:50:58 PM",
          "12-03-12:51:37 PM",
          "12-03-12:52:15 PM",
          "12-03-12:52:52 PM",
          "12-03-12:53:29 PM",
          "12-03-12:54:07 PM",
          "12-03-12:54:44 PM",
          "12-03-12:55:21 PM",
          "12-03-12:55:59 PM",
          "12-03-12:56:36 PM",
          "12-03-12:57:12 PM",
          "12-03-12:57:49 PM",
          "12-03-12:58:25 PM",
          "12-03-12:59:01 PM",
          "12-03-12:59:37 PM",
          "12-03-01:00:13 PM",
          "12-03-01:00:49 PM",
          "12-03-01:01:26 PM",
          "12-03-01:02:02 PM",
          "12-03-01:02:38 PM",
          "12-03-01:03:14 PM",
          "12-03-01:03:51 PM",
          "12-03-01:04:28 PM",
          "12-03-01:05:05 PM",
          "12-03-01:05:41 PM",
          "12-03-01:06:18 PM",
          "12-03-01:06:55 PM",
          "12-03-01:07:32 PM",
          "12-03-01:08:09 PM",
          "12-03-01:08:47 PM",
          "12-03-01:09:25 PM",
          "12-03-01:10:04 PM",
          "12-03-01:10:43 PM",
          "12-03-01:11:21 PM",
          "12-03-01:11:59 PM",
          "12-03-01:12:36 PM",
          "12-03-01:13:12 PM",
          "12-03-01:13:48 PM",
          "12-03-01:14:24 PM",
          "12-03-01:15:00 PM",
          "12-03-01:15:38 PM",
          "12-03-01:16:16 PM",
          "12-03-01:16:54 PM",
          "12-03-01:17:32 PM",
          "12-03-01:18:10 PM",
          "12-03-01:18:47 PM",
          "12-03-01:19:25 PM",
          "12-03-01:20:03 PM",
          "12-03-01:20:41 PM",
          "12-03-01:21:19 PM",
          "12-03-01:21:58 PM",
          "12-03-01:22:37 PM",
          "12-03-01:23:17 PM",
          "12-03-01:23:55 PM",
          "12-03-01:24:33 PM",
          "12-03-01:25:11 PM",
          "12-03-01:25:48 PM",
          "12-03-01:26:26 PM",
          "12-03-01:27:03 PM",
          "12-03-01:27:41 PM",
          "12-03-01:28:19 PM",
          "12-03-01:28:57 PM",
          "12-03-01:29:35 PM",
          "12-03-01:30:13 PM",
          "12-03-01:30:51 PM",
          "12-03-01:31:28 PM",
          "12-03-01:32:05 PM",
          "12-03-01:32:42 PM",
          "12-03-01:33:19 PM",
          "12-03-01:33:57 PM",
          "12-03-01:34:34 PM",
          "12-03-01:35:11 PM",
          "12-03-01:35:47 PM",
          "12-03-01:36:23 PM",
          "12-03-01:36:58 PM",
          "12-03-01:37:34 PM",
          "12-03-01:38:10 PM",
          "12-03-01:38:46 PM",
          "12-03-01:39:22 PM",
          "12-03-01:39:59 PM",
          "12-03-01:40:36 PM",
          "12-03-01:41:14 PM",
          "12-03-01:41:50 PM",
          "12-03-01:42:26 PM",
          "12-03-01:43:02 PM",
          "12-03-01:43:39 PM",
          "12-03-01:44:16 PM",
          "12-03-01:44:53 PM",
          "12-03-01:45:27 PM"
         ],
         "y": [
          0,
          1,
          2,
          3,
          4,
          5,
          6,
          7,
          8,
          9,
          10,
          11,
          12,
          13,
          14,
          15,
          16,
          17,
          18,
          19,
          20,
          21,
          22,
          23,
          24,
          25,
          26,
          27,
          28,
          29,
          30,
          31,
          32,
          33,
          34,
          35,
          36,
          37,
          38,
          39,
          40,
          41,
          42,
          43,
          44,
          45,
          46,
          47,
          48,
          49,
          50,
          51,
          52,
          53,
          54,
          55,
          56,
          57,
          58,
          59,
          60,
          61,
          62,
          63,
          64,
          65,
          66,
          67,
          68,
          69,
          70,
          71,
          72,
          73,
          74,
          75,
          76,
          77,
          78,
          79,
          80,
          81,
          82,
          83,
          84,
          85,
          86,
          87,
          88,
          89,
          90,
          91,
          92,
          93,
          94,
          95,
          96,
          97,
          98,
          99,
          100,
          101,
          102,
          103,
          104,
          105,
          106,
          107,
          108,
          109,
          110,
          111,
          112,
          113,
          114,
          115,
          116,
          117,
          118,
          119,
          120,
          121,
          122,
          123,
          124,
          125,
          126,
          127,
          128,
          129,
          130,
          131,
          132,
          133,
          134,
          135,
          136,
          137,
          138,
          139,
          140,
          141,
          142,
          143,
          144
         ]
        },
        {
         "name": "fbf1797b-9919-44e8-8bb1-13ca5a3f90b7",
         "type": "scatter",
         "x": [
          "12-03-01:09:38 PM",
          "12-03-01:10:17 PM",
          "12-03-01:10:56 PM",
          "12-03-01:11:34 PM",
          "12-03-01:12:12 PM",
          "12-03-01:12:49 PM",
          "12-03-01:13:25 PM",
          "12-03-01:14:01 PM",
          "12-03-01:14:37 PM",
          "12-03-01:15:13 PM",
          "12-03-01:15:51 PM",
          "12-03-01:16:29 PM",
          "12-03-01:17:07 PM",
          "12-03-01:17:45 PM",
          "12-03-01:18:23 PM",
          "12-03-01:19:00 PM",
          "12-03-01:19:38 PM",
          "12-03-01:20:16 PM",
          "12-03-01:20:54 PM",
          "12-03-01:21:32 PM",
          "12-03-01:22:11 PM",
          "12-03-01:22:51 PM",
          "12-03-01:23:30 PM",
          "12-03-01:24:08 PM",
          "12-03-01:24:46 PM",
          "12-03-01:25:24 PM",
          "12-03-01:26:01 PM",
          "12-03-01:26:39 PM",
          "12-03-01:27:16 PM",
          "12-03-01:27:54 PM",
          "12-03-01:28:32 PM",
          "12-03-01:29:10 PM",
          "12-03-01:29:48 PM",
          "12-03-01:30:26 PM",
          "12-03-01:31:04 PM",
          "12-03-01:31:41 PM",
          "12-03-01:32:18 PM",
          "12-03-01:32:55 PM",
          "12-03-01:33:33 PM",
          "12-03-01:34:10 PM",
          "12-03-01:34:47 PM",
          "12-03-01:35:24 PM",
          "12-03-01:36:00 PM",
          "12-03-01:36:36 PM",
          "12-03-01:37:12 PM",
          "12-03-01:37:47 PM",
          "12-03-01:38:23 PM",
          "12-03-01:38:59 PM",
          "12-03-01:39:35 PM",
          "12-03-01:40:12 PM",
          "12-03-01:40:50 PM",
          "12-03-01:41:27 PM",
          "12-03-01:42:03 PM",
          "12-03-01:42:39 PM",
          "12-03-01:43:15 PM",
          "12-03-01:43:52 PM",
          "12-03-01:44:30 PM",
          "12-03-01:45:06 PM",
          "12-03-01:45:40 PM"
         ],
         "y": [
          0,
          1,
          2,
          3,
          4,
          5,
          6,
          7,
          8,
          9,
          10,
          11,
          12,
          13,
          14,
          15,
          16,
          17,
          18,
          19,
          20,
          21,
          22,
          23,
          24,
          25,
          26,
          27,
          28,
          29,
          30,
          31,
          32,
          33,
          34,
          35,
          36,
          37,
          38,
          39,
          40,
          41,
          42,
          43,
          44,
          45,
          46,
          47,
          48,
          49,
          50,
          51,
          52,
          53,
          54,
          55,
          56,
          57,
          58
         ]
        },
        {
         "name": "fbf1797b-9919-44e8-8bb1-13ca5a3f90b7",
         "type": "scatter",
         "x": [
          "12-03-12:45:43 PM",
          "12-03-12:46:23 PM",
          "12-03-12:47:04 PM",
          "12-03-12:47:44 PM",
          "12-03-12:48:24 PM",
          "12-03-12:49:04 PM",
          "12-03-12:49:44 PM",
          "12-03-12:50:25 PM",
          "12-03-12:51:05 PM",
          "12-03-12:51:44 PM",
          "12-03-12:52:22 PM",
          "12-03-12:52:59 PM",
          "12-03-12:53:36 PM",
          "12-03-12:54:14 PM",
          "12-03-12:54:51 PM",
          "12-03-12:55:28 PM",
          "12-03-12:56:06 PM",
          "12-03-12:56:43 PM",
          "12-03-12:57:19 PM",
          "12-03-12:57:56 PM",
          "12-03-12:58:32 PM",
          "12-03-12:59:08 PM",
          "12-03-12:59:44 PM",
          "12-03-01:00:20 PM",
          "12-03-01:00:56 PM",
          "12-03-01:01:33 PM",
          "12-03-01:02:09 PM",
          "12-03-01:02:45 PM",
          "12-03-01:03:21 PM",
          "12-03-01:03:58 PM",
          "12-03-01:04:35 PM",
          "12-03-01:05:12 PM",
          "12-03-01:05:48 PM",
          "12-03-01:06:25 PM",
          "12-03-01:07:02 PM",
          "12-03-01:07:39 PM",
          "12-03-01:08:16 PM",
          "12-03-01:08:54 PM",
          "12-03-01:09:32 PM",
          "12-03-01:10:11 PM",
          "12-03-01:10:50 PM",
          "12-03-01:11:28 PM",
          "12-03-01:12:06 PM",
          "12-03-01:12:43 PM",
          "12-03-01:13:19 PM",
          "12-03-01:13:55 PM",
          "12-03-01:14:31 PM",
          "12-03-01:15:07 PM",
          "12-03-01:15:45 PM",
          "12-03-01:16:23 PM",
          "12-03-01:17:01 PM",
          "12-03-01:17:39 PM",
          "12-03-01:18:17 PM",
          "12-03-01:18:54 PM",
          "12-03-01:19:32 PM",
          "12-03-01:20:10 PM",
          "12-03-01:20:48 PM",
          "12-03-01:21:26 PM",
          "12-03-01:22:05 PM",
          "12-03-01:22:45 PM",
          "12-03-01:23:24 PM",
          "12-03-01:24:02 PM",
          "12-03-01:24:40 PM",
          "12-03-01:25:18 PM",
          "12-03-01:25:55 PM",
          "12-03-01:26:33 PM",
          "12-03-01:27:10 PM",
          "12-03-01:27:48 PM",
          "12-03-01:28:26 PM",
          "12-03-01:29:04 PM",
          "12-03-01:29:42 PM",
          "12-03-01:30:20 PM",
          "12-03-01:30:58 PM",
          "12-03-01:31:35 PM",
          "12-03-01:32:12 PM",
          "12-03-01:32:49 PM",
          "12-03-01:33:26 PM",
          "12-03-01:34:04 PM",
          "12-03-01:34:41 PM",
          "12-03-01:35:18 PM",
          "12-03-01:35:54 PM",
          "12-03-01:36:30 PM",
          "12-03-01:37:05 PM",
          "12-03-01:37:41 PM",
          "12-03-01:38:17 PM",
          "12-03-01:38:53 PM",
          "12-03-01:39:29 PM",
          "12-03-01:40:06 PM",
          "12-03-01:40:44 PM",
          "12-03-01:41:21 PM",
          "12-03-01:41:57 PM",
          "12-03-01:42:33 PM",
          "12-03-01:43:09 PM",
          "12-03-01:43:46 PM",
          "12-03-01:44:24 PM",
          "12-03-01:45:00 PM",
          "12-03-01:45:34 PM"
         ],
         "y": [
          0,
          1,
          2,
          3,
          4,
          5,
          6,
          7,
          8,
          9,
          10,
          11,
          12,
          13,
          14,
          15,
          16,
          17,
          18,
          19,
          20,
          21,
          22,
          23,
          24,
          25,
          26,
          27,
          28,
          29,
          30,
          31,
          32,
          33,
          34,
          35,
          36,
          37,
          38,
          39,
          40,
          41,
          42,
          43,
          44,
          45,
          46,
          47,
          48,
          49,
          50,
          51,
          52,
          53,
          54,
          55,
          56,
          57,
          58,
          59,
          60,
          61,
          62,
          63,
          64,
          65,
          66,
          67,
          68,
          69,
          70,
          71,
          72,
          73,
          74,
          75,
          76,
          77,
          78,
          79,
          80,
          81,
          82,
          83,
          84,
          85,
          86,
          87,
          88,
          89,
          90,
          91,
          92,
          93,
          94,
          95,
          96
         ]
        },
        {
         "name": "fbf1797b-9919-44e8-8bb1-13ca5a3f90b7",
         "type": "scatter",
         "x": [
          "12-03-11:38:10 AM",
          "12-03-11:38:53 AM",
          "12-03-11:39:33 AM",
          "12-03-11:40:13 AM",
          "12-03-11:40:54 AM",
          "12-03-11:41:35 AM",
          "12-03-11:42:17 AM",
          "12-03-11:42:59 AM",
          "12-03-11:43:41 AM",
          "12-03-11:44:22 AM",
          "12-03-11:45:03 AM",
          "12-03-11:45:45 AM",
          "12-03-11:46:25 AM",
          "12-03-11:47:04 AM",
          "12-03-11:47:43 AM",
          "12-03-11:48:22 AM",
          "12-03-11:49:02 AM",
          "12-03-11:49:43 AM",
          "12-03-11:50:24 AM",
          "12-03-11:51:05 AM",
          "12-03-11:51:46 AM",
          "12-03-11:52:27 AM",
          "12-03-11:53:09 AM",
          "12-03-11:53:50 AM",
          "12-03-11:54:30 AM",
          "12-03-11:55:11 AM",
          "12-03-11:55:52 AM",
          "12-03-11:56:34 AM",
          "12-03-11:57:14 AM",
          "12-03-11:57:54 AM",
          "12-03-11:58:34 AM",
          "12-03-11:59:14 AM",
          "12-03-11:59:54 AM",
          "12-03-12:00:36 PM",
          "12-03-12:01:17 PM",
          "12-03-12:01:58 PM",
          "12-03-12:02:39 PM",
          "12-03-12:03:19 PM",
          "12-03-12:04:00 PM",
          "12-03-12:04:39 PM",
          "12-03-12:05:17 PM",
          "12-03-12:05:55 PM",
          "12-03-12:06:34 PM",
          "12-03-12:07:14 PM",
          "12-03-12:07:55 PM",
          "12-03-12:08:35 PM",
          "12-03-12:09:15 PM",
          "12-03-12:09:55 PM",
          "12-03-12:10:35 PM",
          "12-03-12:11:17 PM",
          "12-03-12:11:58 PM",
          "12-03-12:12:40 PM",
          "12-03-12:13:23 PM",
          "12-03-12:14:06 PM",
          "12-03-12:14:50 PM",
          "12-03-12:15:33 PM",
          "12-03-12:16:16 PM",
          "12-03-12:16:59 PM",
          "12-03-12:17:42 PM",
          "12-03-12:18:26 PM",
          "12-03-12:19:09 PM",
          "12-03-12:19:52 PM",
          "12-03-12:20:35 PM",
          "12-03-12:21:18 PM",
          "12-03-12:22:02 PM",
          "12-03-12:22:45 PM",
          "12-03-12:23:28 PM",
          "12-03-12:24:11 PM",
          "12-03-12:24:53 PM",
          "12-03-12:25:36 PM",
          "12-03-12:26:17 PM",
          "12-03-12:26:58 PM",
          "12-03-12:27:39 PM",
          "12-03-12:28:21 PM",
          "12-03-12:29:05 PM",
          "12-03-12:29:48 PM",
          "12-03-12:30:31 PM",
          "12-03-12:31:14 PM",
          "12-03-12:31:57 PM",
          "12-03-12:32:41 PM",
          "12-03-12:33:24 PM",
          "12-03-12:34:07 PM",
          "12-03-12:34:50 PM",
          "12-03-12:35:32 PM",
          "12-03-12:36:15 PM",
          "12-03-12:36:55 PM",
          "12-03-12:37:35 PM",
          "12-03-12:38:14 PM",
          "12-03-12:38:52 PM",
          "12-03-12:39:30 PM",
          "12-03-12:40:09 PM",
          "12-03-12:40:48 PM",
          "12-03-12:41:28 PM",
          "12-03-12:42:08 PM",
          "12-03-12:42:47 PM",
          "12-03-12:43:28 PM",
          "12-03-12:44:07 PM",
          "12-03-12:44:46 PM",
          "12-03-12:45:25 PM",
          "12-03-12:46:05 PM",
          "12-03-12:46:46 PM",
          "12-03-12:47:26 PM",
          "12-03-12:48:06 PM",
          "12-03-12:48:46 PM",
          "12-03-12:49:26 PM",
          "12-03-12:50:06 PM",
          "12-03-12:50:47 PM",
          "12-03-12:51:26 PM",
          "12-03-12:52:04 PM",
          "12-03-12:52:41 PM",
          "12-03-12:53:18 PM",
          "12-03-12:53:55 PM",
          "12-03-12:54:33 PM",
          "12-03-12:55:10 PM",
          "12-03-12:55:48 PM",
          "12-03-12:56:25 PM",
          "12-03-12:57:01 PM",
          "12-03-12:57:38 PM",
          "12-03-12:58:14 PM",
          "12-03-12:58:50 PM",
          "12-03-12:59:26 PM",
          "12-03-01:00:02 PM",
          "12-03-01:00:38 PM",
          "12-03-01:01:15 PM",
          "12-03-01:01:51 PM",
          "12-03-01:02:27 PM",
          "12-03-01:03:03 PM",
          "12-03-01:03:40 PM",
          "12-03-01:04:17 PM",
          "12-03-01:04:54 PM",
          "12-03-01:05:30 PM",
          "12-03-01:06:07 PM",
          "12-03-01:06:44 PM",
          "12-03-01:07:21 PM",
          "12-03-01:07:58 PM",
          "12-03-01:08:36 PM",
          "12-03-01:09:14 PM",
          "12-03-01:09:53 PM",
          "12-03-01:10:32 PM",
          "12-03-01:11:10 PM",
          "12-03-01:11:47 PM",
          "12-03-01:12:25 PM",
          "12-03-01:13:01 PM",
          "12-03-01:13:37 PM",
          "12-03-01:14:13 PM",
          "12-03-01:14:49 PM",
          "12-03-01:15:26 PM",
          "12-03-01:16:05 PM",
          "12-03-01:16:43 PM",
          "12-03-01:17:21 PM",
          "12-03-01:17:59 PM",
          "12-03-01:18:36 PM",
          "12-03-01:19:14 PM",
          "12-03-01:19:52 PM",
          "12-03-01:20:30 PM",
          "12-03-01:21:08 PM",
          "12-03-01:21:47 PM",
          "12-03-01:22:26 PM",
          "12-03-01:23:06 PM",
          "12-03-01:23:44 PM",
          "12-03-01:24:22 PM",
          "12-03-01:25:00 PM",
          "12-03-01:25:37 PM",
          "12-03-01:26:14 PM",
          "12-03-01:26:52 PM",
          "12-03-01:27:30 PM",
          "12-03-01:28:08 PM",
          "12-03-01:28:46 PM",
          "12-03-01:29:24 PM",
          "12-03-01:30:02 PM",
          "12-03-01:30:40 PM",
          "12-03-01:31:17 PM",
          "12-03-01:31:54 PM",
          "12-03-01:32:31 PM",
          "12-03-01:33:08 PM",
          "12-03-01:33:46 PM",
          "12-03-01:34:23 PM",
          "12-03-01:35:00 PM",
          "12-03-01:35:37 PM",
          "12-03-01:36:13 PM",
          "12-03-01:36:48 PM",
          "12-03-01:37:24 PM",
          "12-03-01:38:00 PM",
          "12-03-01:38:36 PM",
          "12-03-01:39:12 PM",
          "12-03-01:39:49 PM",
          "12-03-01:40:26 PM",
          "12-03-01:41:04 PM",
          "12-03-01:41:40 PM",
          "12-03-01:42:16 PM",
          "12-03-01:42:52 PM",
          "12-03-01:43:29 PM",
          "12-03-01:44:06 PM",
          "12-03-01:44:44 PM",
          "12-03-01:45:20 PM"
         ],
         "y": [
          0,
          1,
          2,
          3,
          4,
          5,
          6,
          7,
          8,
          9,
          10,
          11,
          12,
          13,
          14,
          15,
          16,
          17,
          18,
          19,
          20,
          21,
          22,
          23,
          24,
          25,
          26,
          27,
          28,
          29,
          30,
          31,
          32,
          33,
          34,
          35,
          36,
          37,
          38,
          39,
          40,
          41,
          42,
          43,
          44,
          45,
          46,
          47,
          48,
          49,
          50,
          51,
          52,
          53,
          54,
          55,
          56,
          57,
          58,
          59,
          60,
          61,
          62,
          63,
          64,
          65,
          66,
          67,
          68,
          69,
          70,
          71,
          72,
          73,
          74,
          75,
          76,
          77,
          78,
          79,
          80,
          81,
          82,
          83,
          84,
          85,
          86,
          87,
          88,
          89,
          90,
          91,
          92,
          93,
          94,
          95,
          96,
          97,
          98,
          99,
          100,
          101,
          102,
          103,
          104,
          105,
          106,
          107,
          108,
          109,
          110,
          111,
          112,
          113,
          114,
          115,
          116,
          117,
          118,
          119,
          120,
          121,
          122,
          123,
          124,
          125,
          126,
          127,
          128,
          129,
          130,
          131,
          132,
          133,
          134,
          135,
          136,
          137,
          138,
          139,
          140,
          141,
          142,
          143,
          144,
          145,
          146,
          147,
          148,
          149,
          150,
          151,
          152,
          153,
          154,
          155,
          156,
          157,
          158,
          159,
          160,
          161,
          162,
          163,
          164,
          165,
          166,
          167,
          168,
          169,
          170,
          171,
          172,
          173,
          174,
          175,
          176,
          177,
          178,
          179,
          180,
          181,
          182,
          183,
          184,
          185,
          186,
          187,
          188,
          189,
          190,
          191,
          192,
          193,
          194
         ]
        },
        {
         "name": "fbf1797b-9919-44e8-8bb1-13ca5a3f90b7",
         "type": "scatter",
         "x": [
          "12-03-11:03:30 AM",
          "12-03-11:04:16 AM",
          "12-03-11:05:01 AM",
          "12-03-11:05:46 AM",
          "12-03-11:06:32 AM",
          "12-03-11:07:18 AM",
          "12-03-11:08:03 AM",
          "12-03-11:08:49 AM",
          "12-03-11:09:36 AM",
          "12-03-11:10:22 AM",
          "12-03-11:11:08 AM",
          "12-03-11:11:54 AM",
          "12-03-11:12:39 AM",
          "12-03-11:13:24 AM",
          "12-03-11:14:08 AM",
          "12-03-11:14:53 AM",
          "12-03-11:15:36 AM",
          "12-03-11:16:19 AM",
          "12-03-11:17:03 AM",
          "12-03-11:17:46 AM",
          "12-03-11:18:28 AM",
          "12-03-11:19:10 AM",
          "12-03-11:19:53 AM",
          "12-03-11:20:38 AM",
          "12-03-11:21:22 AM",
          "12-03-11:22:06 AM",
          "12-03-11:22:51 AM",
          "12-03-11:23:36 AM",
          "12-03-11:24:22 AM",
          "12-03-11:25:07 AM",
          "12-03-11:25:52 AM",
          "12-03-11:26:36 AM",
          "12-03-11:27:20 AM",
          "12-03-11:28:05 AM",
          "12-03-11:28:49 AM",
          "12-03-11:29:33 AM",
          "12-03-11:30:17 AM",
          "12-03-11:31:00 AM",
          "12-03-11:31:44 AM",
          "12-03-11:32:27 AM",
          "12-03-11:33:10 AM",
          "12-03-11:33:53 AM",
          "12-03-11:34:35 AM",
          "12-03-11:35:17 AM",
          "12-03-11:35:58 AM",
          "12-03-11:36:39 AM",
          "12-03-11:37:20 AM",
          "12-03-11:38:01 AM",
          "12-03-11:38:44 AM",
          "12-03-11:39:24 AM",
          "12-03-11:40:04 AM",
          "12-03-11:40:45 AM",
          "12-03-11:41:26 AM",
          "12-03-11:42:08 AM",
          "12-03-11:42:50 AM",
          "12-03-11:43:32 AM",
          "12-03-11:44:13 AM",
          "12-03-11:44:54 AM",
          "12-03-11:45:35 AM",
          "12-03-11:46:16 AM",
          "12-03-11:46:55 AM",
          "12-03-11:47:34 AM",
          "12-03-11:48:13 AM",
          "12-03-11:48:53 AM",
          "12-03-11:49:34 AM",
          "12-03-11:50:15 AM",
          "12-03-11:50:56 AM",
          "12-03-11:51:37 AM",
          "12-03-11:52:18 AM",
          "12-03-11:53:00 AM",
          "12-03-11:53:41 AM",
          "12-03-11:54:21 AM",
          "12-03-11:55:02 AM",
          "12-03-11:55:43 AM",
          "12-03-11:56:24 AM",
          "12-03-11:57:05 AM",
          "12-03-11:57:45 AM",
          "12-03-11:58:25 AM",
          "12-03-11:59:05 AM",
          "12-03-11:59:45 AM",
          "12-03-12:00:27 PM",
          "12-03-12:01:08 PM",
          "12-03-12:01:49 PM",
          "12-03-12:02:30 PM",
          "12-03-12:03:10 PM",
          "12-03-12:03:51 PM",
          "12-03-12:04:30 PM",
          "12-03-12:05:08 PM",
          "12-03-12:05:46 PM",
          "12-03-12:06:25 PM",
          "12-03-12:07:05 PM",
          "12-03-12:07:46 PM",
          "12-03-12:08:26 PM",
          "12-03-12:09:06 PM",
          "12-03-12:09:46 PM",
          "12-03-12:10:26 PM",
          "12-03-12:11:08 PM",
          "12-03-12:11:49 PM",
          "12-03-12:12:31 PM",
          "12-03-12:13:14 PM",
          "12-03-12:13:57 PM",
          "12-03-12:14:41 PM",
          "12-03-12:15:24 PM",
          "12-03-12:16:07 PM",
          "12-03-12:16:50 PM",
          "12-03-12:17:33 PM",
          "12-03-12:18:17 PM",
          "12-03-12:19:00 PM",
          "12-03-12:19:43 PM",
          "12-03-12:20:26 PM",
          "12-03-12:21:09 PM",
          "12-03-12:21:53 PM",
          "12-03-12:22:36 PM",
          "12-03-12:23:19 PM",
          "12-03-12:24:02 PM",
          "12-03-12:24:44 PM",
          "12-03-12:25:27 PM",
          "12-03-12:26:08 PM",
          "12-03-12:26:49 PM",
          "12-03-12:27:30 PM",
          "12-03-12:28:12 PM",
          "12-03-12:28:56 PM",
          "12-03-12:29:39 PM",
          "12-03-12:30:22 PM",
          "12-03-12:31:05 PM",
          "12-03-12:31:48 PM",
          "12-03-12:32:32 PM",
          "12-03-12:33:15 PM",
          "12-03-12:33:58 PM",
          "12-03-12:34:41 PM",
          "12-03-12:35:23 PM",
          "12-03-12:36:06 PM",
          "12-03-12:36:46 PM",
          "12-03-12:37:26 PM",
          "12-03-12:38:05 PM",
          "12-03-12:38:43 PM",
          "12-03-12:39:21 PM",
          "12-03-12:40:00 PM",
          "12-03-12:40:39 PM",
          "12-03-12:41:19 PM",
          "12-03-12:41:59 PM",
          "12-03-12:42:38 PM",
          "12-03-12:43:19 PM",
          "12-03-12:43:58 PM",
          "12-03-12:44:37 PM",
          "12-03-12:45:16 PM",
          "12-03-12:45:56 PM",
          "12-03-12:46:36 PM",
          "12-03-12:47:17 PM",
          "12-03-12:47:57 PM",
          "12-03-12:48:37 PM",
          "12-03-12:49:17 PM",
          "12-03-12:49:57 PM",
          "12-03-12:50:38 PM",
          "12-03-12:51:17 PM",
          "12-03-12:51:55 PM",
          "12-03-12:52:32 PM",
          "12-03-12:53:09 PM",
          "12-03-12:53:46 PM",
          "12-03-12:54:24 PM",
          "12-03-12:55:01 PM",
          "12-03-12:55:39 PM",
          "12-03-12:56:17 PM",
          "12-03-12:56:54 PM",
          "12-03-12:57:30 PM",
          "12-03-12:58:07 PM",
          "12-03-12:58:43 PM",
          "12-03-12:59:19 PM",
          "12-03-12:59:55 PM",
          "12-03-01:00:31 PM",
          "12-03-01:01:07 PM",
          "12-03-01:01:44 PM",
          "12-03-01:02:20 PM",
          "12-03-01:02:56 PM",
          "12-03-01:03:33 PM",
          "12-03-01:04:10 PM",
          "12-03-01:04:47 PM",
          "12-03-01:05:23 PM",
          "12-03-01:06:00 PM",
          "12-03-01:06:37 PM",
          "12-03-01:07:14 PM",
          "12-03-01:07:51 PM",
          "12-03-01:08:29 PM",
          "12-03-01:09:07 PM",
          "12-03-01:09:46 PM",
          "12-03-01:10:25 PM",
          "12-03-01:11:03 PM",
          "12-03-01:11:40 PM",
          "12-03-01:12:18 PM",
          "12-03-01:12:55 PM",
          "12-03-01:13:31 PM",
          "12-03-01:14:07 PM",
          "12-03-01:14:43 PM",
          "12-03-01:15:20 PM",
          "12-03-01:15:59 PM",
          "12-03-01:16:37 PM",
          "12-03-01:17:15 PM",
          "12-03-01:17:53 PM"
         ],
         "y": [
          0,
          1,
          2,
          3,
          4,
          5,
          6,
          7,
          8,
          9,
          10,
          11,
          12,
          13,
          14,
          15,
          16,
          17,
          18,
          19,
          20,
          21,
          22,
          23,
          24,
          25,
          26,
          27,
          28,
          29,
          30,
          31,
          32,
          33,
          34,
          35,
          36,
          37,
          38,
          39,
          40,
          41,
          42,
          43,
          44,
          45,
          46,
          47,
          48,
          49,
          50,
          51,
          52,
          53,
          54,
          55,
          56,
          57,
          58,
          59,
          60,
          61,
          62,
          63,
          64,
          65,
          66,
          67,
          68,
          69,
          70,
          71,
          72,
          73,
          74,
          75,
          76,
          77,
          78,
          79,
          80,
          81,
          82,
          83,
          84,
          85,
          86,
          87,
          88,
          89,
          90,
          91,
          92,
          93,
          94,
          95,
          96,
          97,
          98,
          99,
          100,
          101,
          102,
          103,
          104,
          105,
          106,
          107,
          108,
          109,
          110,
          111,
          112,
          113,
          114,
          115,
          116,
          117,
          118,
          119,
          120,
          121,
          122,
          123,
          124,
          125,
          126,
          127,
          128,
          129,
          130,
          131,
          132,
          133,
          134,
          135,
          136,
          137,
          138,
          139,
          140,
          141,
          142,
          143,
          144,
          145,
          146,
          147,
          148,
          149,
          150,
          151,
          152,
          153,
          154,
          155,
          156,
          157,
          158,
          159,
          160,
          161,
          162,
          163,
          164,
          165,
          166,
          167,
          168,
          169,
          170,
          171,
          172,
          173,
          174,
          175,
          176,
          177,
          178,
          179,
          180,
          181,
          182,
          183,
          184,
          185,
          186,
          187,
          188,
          189,
          190,
          191,
          192,
          193,
          194,
          195,
          196,
          197
         ]
        },
        {
         "name": "fbf1797b-9919-44e8-8bb1-13ca5a3f90b7",
         "type": "scatter",
         "x": [
          "12-03-10:49:49 AM",
          "12-03-10:50:40 AM",
          "12-03-10:51:31 AM",
          "12-03-10:52:23 AM",
          "12-03-10:53:14 AM",
          "12-03-10:54:04 AM",
          "12-03-10:54:54 AM",
          "12-03-10:55:44 AM",
          "12-03-10:56:32 AM",
          "12-03-10:57:19 AM",
          "12-03-10:58:06 AM",
          "12-03-10:58:54 AM",
          "12-03-10:59:41 AM",
          "12-03-11:00:28 AM",
          "12-03-11:01:15 AM",
          "12-03-11:02:02 AM",
          "12-03-11:02:49 AM",
          "12-03-11:03:35 AM",
          "12-03-11:04:20 AM",
          "12-03-11:05:05 AM",
          "12-03-11:05:50 AM",
          "12-03-11:06:37 AM",
          "12-03-11:07:24 AM",
          "12-03-11:08:10 AM",
          "12-03-11:08:56 AM",
          "12-03-11:09:43 AM",
          "12-03-11:10:29 AM",
          "12-03-11:11:15 AM",
          "12-03-11:12:01 AM",
          "12-03-11:12:46 AM",
          "12-03-11:13:31 AM",
          "12-03-11:14:16 AM",
          "12-03-11:15:01 AM",
          "12-03-11:15:44 AM",
          "12-03-11:16:27 AM",
          "12-03-11:17:11 AM",
          "12-03-11:17:54 AM",
          "12-03-11:18:36 AM",
          "12-03-11:19:19 AM",
          "12-03-11:20:03 AM",
          "12-03-11:20:48 AM",
          "12-03-11:21:32 AM",
          "12-03-11:22:17 AM",
          "12-03-11:23:02 AM",
          "12-03-11:23:47 AM",
          "12-03-11:24:33 AM",
          "12-03-11:25:18 AM",
          "12-03-11:26:03 AM",
          "12-03-11:26:47 AM",
          "12-03-11:27:31 AM",
          "12-03-11:28:16 AM",
          "12-03-11:29:00 AM",
          "12-03-11:29:44 AM",
          "12-03-11:30:28 AM",
          "12-03-11:31:12 AM",
          "12-03-11:31:55 AM",
          "12-03-11:32:38 AM",
          "12-03-11:33:21 AM",
          "12-03-11:34:03 AM",
          "12-03-11:34:46 AM",
          "12-03-11:35:27 AM",
          "12-03-11:36:08 AM",
          "12-03-11:36:49 AM",
          "12-03-11:37:30 AM",
          "12-03-11:38:12 AM",
          "12-03-11:38:55 AM",
          "12-03-11:39:35 AM",
          "12-03-11:40:16 AM",
          "12-03-11:40:57 AM",
          "12-03-11:41:39 AM",
          "12-03-11:42:22 AM",
          "12-03-11:43:04 AM",
          "12-03-11:43:46 AM",
          "12-03-11:44:27 AM",
          "12-03-11:45:08 AM",
          "12-03-11:45:50 AM",
          "12-03-11:46:30 AM",
          "12-03-11:47:09 AM",
          "12-03-11:47:48 AM",
          "12-03-11:48:28 AM",
          "12-03-11:49:08 AM",
          "12-03-11:49:50 AM",
          "12-03-11:50:31 AM",
          "12-03-11:51:12 AM",
          "12-03-11:51:53 AM",
          "12-03-11:52:34 AM",
          "12-03-11:53:16 AM",
          "12-03-11:53:57 AM",
          "12-03-11:54:38 AM",
          "12-03-11:55:19 AM",
          "12-03-11:56:00 AM",
          "12-03-11:56:42 AM",
          "12-03-11:57:22 AM",
          "12-03-11:58:02 AM",
          "12-03-11:58:42 AM",
          "12-03-11:59:22 AM",
          "12-03-12:00:04 PM",
          "12-03-12:00:45 PM",
          "12-03-12:01:26 PM",
          "12-03-12:02:07 PM",
          "12-03-12:02:48 PM",
          "12-03-12:03:28 PM",
          "12-03-12:04:09 PM",
          "12-03-12:04:48 PM",
          "12-03-12:05:26 PM",
          "12-03-12:06:05 PM",
          "12-03-12:06:45 PM",
          "12-03-12:07:26 PM",
          "12-03-12:08:06 PM",
          "12-03-12:08:46 PM",
          "12-03-12:09:26 PM",
          "12-03-12:10:06 PM",
          "12-03-12:10:47 PM",
          "12-03-12:11:29 PM",
          "12-03-12:12:11 PM",
          "12-03-12:12:54 PM",
          "12-03-12:13:37 PM",
          "12-03-12:14:20 PM",
          "12-03-12:15:04 PM",
          "12-03-12:15:47 PM",
          "12-03-12:16:30 PM",
          "12-03-12:17:13 PM",
          "12-03-12:17:56 PM",
          "12-03-12:18:40 PM",
          "12-03-12:19:23 PM",
          "12-03-12:20:06 PM",
          "12-03-12:20:49 PM",
          "12-03-12:21:32 PM",
          "12-03-12:22:16 PM",
          "12-03-12:22:59 PM",
          "12-03-12:23:42 PM",
          "12-03-12:24:25 PM",
          "12-03-12:25:07 PM",
          "12-03-12:25:50 PM",
          "12-03-12:26:31 PM",
          "12-03-12:27:12 PM",
          "12-03-12:27:54 PM",
          "12-03-12:28:37 PM",
          "12-03-12:29:21 PM",
          "12-03-12:30:04 PM",
          "12-03-12:30:47 PM",
          "12-03-12:31:30 PM",
          "12-03-12:32:13 PM",
          "12-03-12:32:57 PM",
          "12-03-12:33:40 PM",
          "12-03-12:34:23 PM",
          "12-03-12:35:06 PM",
          "12-03-12:35:48 PM",
          "12-03-12:36:31 PM",
          "12-03-12:37:11 PM",
          "12-03-12:37:51 PM"
         ],
         "y": [
          172,
          173,
          174,
          175,
          176,
          177,
          178,
          179,
          180,
          181,
          182,
          183,
          184,
          185,
          186,
          187,
          188,
          189,
          190,
          191,
          192,
          193,
          194,
          195,
          196,
          197,
          198,
          199,
          200,
          201,
          202,
          203,
          204,
          205,
          206,
          207,
          208,
          209,
          210,
          211,
          212,
          213,
          214,
          215,
          216,
          217,
          218,
          219,
          220,
          221,
          222,
          223,
          224,
          225,
          226,
          227,
          228,
          229,
          230,
          231,
          232,
          233,
          234,
          235,
          236,
          237,
          238,
          239,
          240,
          241,
          242,
          243,
          244,
          245,
          246,
          247,
          248,
          249,
          250,
          251,
          252,
          253,
          254,
          255,
          256,
          257,
          258,
          259,
          260,
          261,
          262,
          263,
          264,
          265,
          266,
          267,
          268,
          269,
          270,
          271,
          272,
          273,
          274,
          275,
          276,
          277,
          278,
          279,
          280,
          281,
          282,
          283,
          284,
          285,
          286,
          287,
          288,
          289,
          290,
          291,
          292,
          293,
          294,
          295,
          296,
          297,
          298,
          299,
          300,
          301,
          302,
          303,
          304,
          305,
          306,
          307,
          308,
          309,
          310,
          311,
          312,
          313,
          314,
          315,
          316,
          317,
          318,
          319,
          320,
          321,
          322
         ]
        },
        {
         "name": "fbf1797b-9919-44e8-8bb1-13ca5a3f90b7",
         "type": "scatter",
         "x": [
          "12-03-10:49:59 AM",
          "12-03-10:50:50 AM",
          "12-03-10:51:42 AM",
          "12-03-10:52:33 AM",
          "12-03-10:53:24 AM",
          "12-03-10:54:13 AM",
          "12-03-10:55:03 AM",
          "12-03-10:55:53 AM",
          "12-03-10:56:41 AM",
          "12-03-10:57:28 AM",
          "12-03-10:58:15 AM",
          "12-03-10:59:03 AM",
          "12-03-10:59:50 AM",
          "12-03-11:00:37 AM",
          "12-03-11:01:24 AM",
          "12-03-11:02:10 AM",
          "12-03-11:02:57 AM",
          "12-03-11:03:43 AM",
          "12-03-11:04:28 AM",
          "12-03-11:05:13 AM",
          "12-03-11:05:59 AM",
          "12-03-11:06:45 AM",
          "12-03-11:07:30 AM",
          "12-03-11:08:16 AM",
          "12-03-11:09:02 AM",
          "12-03-11:09:49 AM",
          "12-03-11:10:35 AM",
          "12-03-11:11:21 AM",
          "12-03-11:12:07 AM",
          "12-03-11:12:52 AM",
          "12-03-11:13:37 AM",
          "12-03-11:14:22 AM",
          "12-03-11:15:06 AM",
          "12-03-11:15:49 AM",
          "12-03-11:16:32 AM",
          "12-03-11:17:16 AM",
          "12-03-11:17:58 AM",
          "12-03-11:18:40 AM",
          "12-03-11:19:23 AM",
          "12-03-11:20:07 AM",
          "12-03-11:20:52 AM",
          "12-03-11:21:36 AM",
          "12-03-11:22:21 AM",
          "12-03-11:23:06 AM",
          "12-03-11:23:51 AM",
          "12-03-11:24:37 AM",
          "12-03-11:25:22 AM"
         ],
         "y": [
          143,
          144,
          145,
          146,
          147,
          148,
          149,
          150,
          151,
          152,
          153,
          154,
          155,
          156,
          157,
          158,
          159,
          160,
          161,
          162,
          163,
          164,
          165,
          166,
          167,
          168,
          169,
          170,
          171,
          172,
          173,
          174,
          175,
          176,
          177,
          178,
          179,
          180,
          181,
          182,
          183,
          184,
          185,
          186,
          187,
          188,
          189
         ]
        },
        {
         "name": "fbf1797b-9919-44e8-8bb1-13ca5a3f90b7",
         "type": "scatter",
         "x": [
          "12-03-10:49:45 AM",
          "12-03-10:50:36 AM",
          "12-03-10:51:27 AM",
          "12-03-10:52:19 AM",
          "12-03-10:53:10 AM",
          "12-03-10:54:00 AM",
          "12-03-10:54:50 AM",
          "12-03-10:55:40 AM",
          "12-03-10:56:29 AM",
          "12-03-10:57:16 AM",
          "12-03-10:58:03 AM",
          "12-03-10:58:51 AM",
          "12-03-10:59:38 AM",
          "12-03-11:00:25 AM",
          "12-03-11:01:12 AM",
          "12-03-11:01:59 AM",
          "12-03-11:02:46 AM"
         ],
         "y": [
          194,
          195,
          196,
          197,
          198,
          199,
          200,
          201,
          202,
          203,
          204,
          205,
          206,
          207,
          208,
          209,
          210
         ]
        },
        {
         "name": "fbf1797b-9919-44e8-8bb1-13ca5a3f90b7",
         "type": "scatter",
         "x": [
          "12-03-10:49:49 AM",
          "12-03-10:50:40 AM",
          "12-03-10:51:31 AM",
          "12-03-10:52:23 AM",
          "12-03-10:53:14 AM",
          "12-03-10:54:04 AM",
          "12-03-10:54:54 AM",
          "12-03-10:55:44 AM",
          "12-03-10:56:32 AM",
          "12-03-10:57:19 AM",
          "12-03-10:58:06 AM",
          "12-03-10:58:54 AM",
          "12-03-10:59:41 AM",
          "12-03-11:00:28 AM",
          "12-03-11:01:15 AM",
          "12-03-11:02:02 AM",
          "12-03-11:02:49 AM",
          "12-03-11:03:35 AM",
          "12-03-11:04:20 AM",
          "12-03-11:05:05 AM",
          "12-03-11:05:50 AM",
          "12-03-11:06:37 AM",
          "12-03-11:07:24 AM",
          "12-03-11:08:10 AM",
          "12-03-11:08:56 AM",
          "12-03-11:09:43 AM",
          "12-03-11:10:29 AM",
          "12-03-11:11:15 AM",
          "12-03-11:12:01 AM",
          "12-03-11:12:46 AM",
          "12-03-11:13:31 AM",
          "12-03-11:14:16 AM",
          "12-03-11:15:01 AM",
          "12-03-11:15:44 AM",
          "12-03-11:16:27 AM",
          "12-03-11:17:11 AM",
          "12-03-11:17:54 AM",
          "12-03-11:18:36 AM",
          "12-03-11:19:19 AM",
          "12-03-11:20:03 AM",
          "12-03-11:20:48 AM",
          "12-03-11:21:32 AM",
          "12-03-11:22:17 AM",
          "12-03-11:23:02 AM",
          "12-03-11:23:47 AM",
          "12-03-11:24:33 AM",
          "12-03-11:25:18 AM",
          "12-03-11:26:03 AM",
          "12-03-11:26:47 AM",
          "12-03-11:27:31 AM",
          "12-03-11:28:16 AM",
          "12-03-11:29:00 AM",
          "12-03-11:29:44 AM",
          "12-03-11:30:28 AM",
          "12-03-11:31:12 AM",
          "12-03-11:31:55 AM",
          "12-03-11:32:38 AM",
          "12-03-11:33:21 AM",
          "12-03-11:34:03 AM",
          "12-03-11:34:46 AM",
          "12-03-11:35:27 AM",
          "12-03-11:36:08 AM",
          "12-03-11:36:49 AM",
          "12-03-11:37:30 AM",
          "12-03-11:38:12 AM",
          "12-03-11:38:55 AM",
          "12-03-11:39:35 AM",
          "12-03-11:40:16 AM",
          "12-03-11:40:57 AM",
          "12-03-11:41:39 AM",
          "12-03-11:42:22 AM",
          "12-03-11:43:04 AM",
          "12-03-11:43:46 AM",
          "12-03-11:44:27 AM",
          "12-03-11:45:08 AM",
          "12-03-11:45:50 AM",
          "12-03-11:46:30 AM",
          "12-03-11:47:09 AM",
          "12-03-11:47:48 AM",
          "12-03-11:48:28 AM",
          "12-03-11:49:08 AM",
          "12-03-11:49:50 AM",
          "12-03-11:50:31 AM",
          "12-03-11:51:12 AM",
          "12-03-11:51:53 AM",
          "12-03-11:52:34 AM",
          "12-03-11:53:16 AM",
          "12-03-11:53:57 AM",
          "12-03-11:54:38 AM",
          "12-03-11:55:19 AM",
          "12-03-11:56:00 AM",
          "12-03-11:56:42 AM",
          "12-03-11:57:22 AM",
          "12-03-11:58:02 AM",
          "12-03-11:58:42 AM",
          "12-03-11:59:22 AM",
          "12-03-12:00:04 PM",
          "12-03-12:00:45 PM",
          "12-03-12:01:26 PM",
          "12-03-12:02:07 PM",
          "12-03-12:02:48 PM",
          "12-03-12:03:28 PM",
          "12-03-12:04:09 PM",
          "12-03-12:04:48 PM",
          "12-03-12:05:26 PM",
          "12-03-12:06:05 PM",
          "12-03-12:06:45 PM",
          "12-03-12:07:26 PM",
          "12-03-12:08:06 PM",
          "12-03-12:08:46 PM",
          "12-03-12:09:26 PM",
          "12-03-12:10:06 PM",
          "12-03-12:10:47 PM",
          "12-03-12:11:29 PM",
          "12-03-12:12:11 PM",
          "12-03-12:12:54 PM",
          "12-03-12:13:37 PM",
          "12-03-12:14:20 PM",
          "12-03-12:15:04 PM",
          "12-03-12:15:47 PM",
          "12-03-12:16:30 PM",
          "12-03-12:17:13 PM",
          "12-03-12:17:56 PM",
          "12-03-12:18:40 PM",
          "12-03-12:19:23 PM",
          "12-03-12:20:06 PM",
          "12-03-12:20:49 PM",
          "12-03-12:21:32 PM",
          "12-03-12:22:16 PM",
          "12-03-12:22:59 PM",
          "12-03-12:23:42 PM",
          "12-03-12:24:25 PM",
          "12-03-12:25:07 PM",
          "12-03-12:25:50 PM",
          "12-03-12:26:31 PM",
          "12-03-12:27:12 PM",
          "12-03-12:27:54 PM",
          "12-03-12:28:37 PM",
          "12-03-12:29:21 PM",
          "12-03-12:30:04 PM",
          "12-03-12:30:47 PM",
          "12-03-12:31:30 PM",
          "12-03-12:32:13 PM",
          "12-03-12:32:57 PM",
          "12-03-12:33:40 PM",
          "12-03-12:34:23 PM",
          "12-03-12:35:06 PM",
          "12-03-12:35:48 PM",
          "12-03-12:36:31 PM",
          "12-03-12:37:11 PM",
          "12-03-12:37:51 PM"
         ],
         "y": [
          172,
          173,
          174,
          175,
          176,
          177,
          178,
          179,
          180,
          181,
          182,
          183,
          184,
          185,
          186,
          187,
          188,
          189,
          190,
          191,
          192,
          193,
          194,
          195,
          196,
          197,
          198,
          199,
          200,
          201,
          202,
          203,
          204,
          205,
          206,
          207,
          208,
          209,
          210,
          211,
          212,
          213,
          214,
          215,
          216,
          217,
          218,
          219,
          220,
          221,
          222,
          223,
          224,
          225,
          226,
          227,
          228,
          229,
          230,
          231,
          232,
          233,
          234,
          235,
          236,
          237,
          238,
          239,
          240,
          241,
          242,
          243,
          244,
          245,
          246,
          247,
          248,
          249,
          250,
          251,
          252,
          253,
          254,
          255,
          256,
          257,
          258,
          259,
          260,
          261,
          262,
          263,
          264,
          265,
          266,
          267,
          268,
          269,
          270,
          271,
          272,
          273,
          274,
          275,
          276,
          277,
          278,
          279,
          280,
          281,
          282,
          283,
          284,
          285,
          286,
          287,
          288,
          289,
          290,
          291,
          292,
          293,
          294,
          295,
          296,
          297,
          298,
          299,
          300,
          301,
          302,
          303,
          304,
          305,
          306,
          307,
          308,
          309,
          310,
          311,
          312,
          313,
          314,
          315,
          316,
          317,
          318,
          319,
          320,
          321,
          322
         ]
        },
        {
         "name": "fbf1797b-9919-44e8-8bb1-13ca5a3f90b7",
         "type": "scatter",
         "x": [
          "12-03-10:49:45 AM",
          "12-03-10:50:36 AM",
          "12-03-10:51:27 AM",
          "12-03-10:52:19 AM",
          "12-03-10:53:10 AM",
          "12-03-10:54:00 AM",
          "12-03-10:54:50 AM",
          "12-03-10:55:40 AM",
          "12-03-10:56:29 AM",
          "12-03-10:57:16 AM",
          "12-03-10:58:03 AM",
          "12-03-10:58:51 AM",
          "12-03-10:59:38 AM",
          "12-03-11:00:25 AM",
          "12-03-11:01:12 AM",
          "12-03-11:01:59 AM",
          "12-03-11:02:46 AM"
         ],
         "y": [
          194,
          195,
          196,
          197,
          198,
          199,
          200,
          201,
          202,
          203,
          204,
          205,
          206,
          207,
          208,
          209,
          210
         ]
        },
        {
         "name": "fbf1797b-9919-44e8-8bb1-13ca5a3f90b7",
         "type": "scatter",
         "x": [
          "12-03-10:49:43 AM",
          "12-03-10:50:34 AM",
          "12-03-10:51:25 AM",
          "12-03-10:52:17 AM",
          "12-03-10:53:08 AM",
          "12-03-10:53:58 AM",
          "12-03-10:54:48 AM",
          "12-03-10:55:38 AM",
          "12-03-10:56:27 AM"
         ],
         "y": [
          197,
          198,
          199,
          200,
          201,
          202,
          203,
          204,
          205
         ]
        },
        {
         "name": "fbf1797b-9919-44e8-8bb1-13ca5a3f90b7",
         "type": "scatter",
         "x": [
          "12-03-11:38:10 AM",
          "12-03-11:38:53 AM",
          "12-03-11:39:33 AM",
          "12-03-11:40:13 AM",
          "12-03-11:40:54 AM",
          "12-03-11:41:35 AM",
          "12-03-11:42:17 AM",
          "12-03-11:42:59 AM",
          "12-03-11:43:41 AM",
          "12-03-11:44:22 AM",
          "12-03-11:45:03 AM",
          "12-03-11:45:45 AM",
          "12-03-11:46:25 AM",
          "12-03-11:47:04 AM",
          "12-03-11:47:43 AM",
          "12-03-11:48:22 AM",
          "12-03-11:49:02 AM",
          "12-03-11:49:43 AM",
          "12-03-11:50:24 AM",
          "12-03-11:51:05 AM",
          "12-03-11:51:46 AM",
          "12-03-11:52:27 AM",
          "12-03-11:53:09 AM",
          "12-03-11:53:50 AM",
          "12-03-11:54:30 AM",
          "12-03-11:55:11 AM",
          "12-03-11:55:52 AM",
          "12-03-11:56:34 AM",
          "12-03-11:57:14 AM",
          "12-03-11:57:54 AM",
          "12-03-11:58:34 AM",
          "12-03-11:59:14 AM",
          "12-03-11:59:54 AM",
          "12-03-12:00:36 PM",
          "12-03-12:01:17 PM",
          "12-03-12:01:58 PM",
          "12-03-12:02:39 PM",
          "12-03-12:03:19 PM",
          "12-03-12:04:00 PM",
          "12-03-12:04:39 PM",
          "12-03-12:05:17 PM",
          "12-03-12:05:55 PM",
          "12-03-12:06:34 PM",
          "12-03-12:07:14 PM",
          "12-03-12:07:55 PM",
          "12-03-12:08:35 PM",
          "12-03-12:09:15 PM",
          "12-03-12:09:55 PM",
          "12-03-12:10:35 PM",
          "12-03-12:11:17 PM",
          "12-03-12:11:58 PM",
          "12-03-12:12:40 PM",
          "12-03-12:13:23 PM",
          "12-03-12:14:06 PM",
          "12-03-12:14:50 PM",
          "12-03-12:15:33 PM",
          "12-03-12:16:16 PM",
          "12-03-12:16:59 PM",
          "12-03-12:17:42 PM",
          "12-03-12:18:26 PM",
          "12-03-12:19:09 PM",
          "12-03-12:19:52 PM",
          "12-03-12:20:35 PM",
          "12-03-12:21:18 PM",
          "12-03-12:22:02 PM",
          "12-03-12:22:45 PM",
          "12-03-12:23:28 PM",
          "12-03-12:24:11 PM",
          "12-03-12:24:53 PM",
          "12-03-12:25:36 PM",
          "12-03-12:26:17 PM",
          "12-03-12:26:58 PM",
          "12-03-12:27:39 PM",
          "12-03-12:28:21 PM",
          "12-03-12:29:05 PM",
          "12-03-12:29:48 PM",
          "12-03-12:30:31 PM",
          "12-03-12:31:14 PM",
          "12-03-12:31:57 PM",
          "12-03-12:32:41 PM",
          "12-03-12:33:24 PM",
          "12-03-12:34:07 PM",
          "12-03-12:34:50 PM",
          "12-03-12:35:32 PM",
          "12-03-12:36:15 PM",
          "12-03-12:36:55 PM",
          "12-03-12:37:35 PM",
          "12-03-12:38:14 PM",
          "12-03-12:38:52 PM",
          "12-03-12:39:30 PM",
          "12-03-12:40:09 PM",
          "12-03-12:40:48 PM",
          "12-03-12:41:28 PM",
          "12-03-12:42:08 PM",
          "12-03-12:42:47 PM",
          "12-03-12:43:28 PM",
          "12-03-12:44:07 PM",
          "12-03-12:44:46 PM",
          "12-03-12:45:25 PM",
          "12-03-12:46:05 PM",
          "12-03-12:46:46 PM",
          "12-03-12:47:26 PM",
          "12-03-12:48:06 PM",
          "12-03-12:48:46 PM",
          "12-03-12:49:26 PM",
          "12-03-12:50:06 PM",
          "12-03-12:50:47 PM",
          "12-03-12:51:26 PM",
          "12-03-12:52:04 PM",
          "12-03-12:52:41 PM",
          "12-03-12:53:18 PM",
          "12-03-12:53:55 PM",
          "12-03-12:54:33 PM",
          "12-03-12:55:10 PM",
          "12-03-12:55:48 PM",
          "12-03-12:56:25 PM",
          "12-03-12:57:01 PM",
          "12-03-12:57:38 PM",
          "12-03-12:58:14 PM",
          "12-03-12:58:50 PM",
          "12-03-12:59:26 PM",
          "12-03-01:00:02 PM",
          "12-03-01:00:38 PM",
          "12-03-01:01:15 PM",
          "12-03-01:01:51 PM",
          "12-03-01:02:27 PM",
          "12-03-01:03:03 PM",
          "12-03-01:03:40 PM",
          "12-03-01:04:17 PM",
          "12-03-01:04:54 PM",
          "12-03-01:05:30 PM",
          "12-03-01:06:07 PM",
          "12-03-01:06:44 PM",
          "12-03-01:07:21 PM",
          "12-03-01:07:58 PM",
          "12-03-01:08:36 PM",
          "12-03-01:09:14 PM",
          "12-03-01:09:53 PM",
          "12-03-01:10:32 PM",
          "12-03-01:11:10 PM",
          "12-03-01:11:47 PM",
          "12-03-01:12:25 PM",
          "12-03-01:13:01 PM",
          "12-03-01:13:37 PM",
          "12-03-01:14:13 PM",
          "12-03-01:14:49 PM",
          "12-03-01:15:26 PM",
          "12-03-01:16:05 PM",
          "12-03-01:16:43 PM",
          "12-03-01:17:21 PM",
          "12-03-01:17:59 PM",
          "12-03-01:18:36 PM",
          "12-03-01:19:14 PM",
          "12-03-01:19:52 PM",
          "12-03-01:20:30 PM",
          "12-03-01:21:08 PM",
          "12-03-01:21:47 PM",
          "12-03-01:22:26 PM",
          "12-03-01:23:06 PM",
          "12-03-01:23:44 PM",
          "12-03-01:24:22 PM",
          "12-03-01:25:00 PM",
          "12-03-01:25:37 PM",
          "12-03-01:26:14 PM",
          "12-03-01:26:52 PM",
          "12-03-01:27:30 PM",
          "12-03-01:28:08 PM",
          "12-03-01:28:46 PM",
          "12-03-01:29:24 PM",
          "12-03-01:30:02 PM",
          "12-03-01:30:40 PM",
          "12-03-01:31:17 PM",
          "12-03-01:31:54 PM",
          "12-03-01:32:31 PM",
          "12-03-01:33:08 PM",
          "12-03-01:33:46 PM",
          "12-03-01:34:23 PM",
          "12-03-01:35:00 PM",
          "12-03-01:35:37 PM",
          "12-03-01:36:13 PM",
          "12-03-01:36:48 PM",
          "12-03-01:37:24 PM",
          "12-03-01:38:00 PM",
          "12-03-01:38:36 PM",
          "12-03-01:39:12 PM",
          "12-03-01:39:49 PM",
          "12-03-01:40:26 PM",
          "12-03-01:41:04 PM",
          "12-03-01:41:40 PM",
          "12-03-01:42:16 PM",
          "12-03-01:42:52 PM",
          "12-03-01:43:29 PM",
          "12-03-01:44:06 PM",
          "12-03-01:44:44 PM",
          "12-03-01:45:20 PM"
         ],
         "y": [
          0,
          1,
          2,
          3,
          4,
          5,
          6,
          7,
          8,
          9,
          10,
          11,
          12,
          13,
          14,
          15,
          16,
          17,
          18,
          19,
          20,
          21,
          22,
          23,
          24,
          25,
          26,
          27,
          28,
          29,
          30,
          31,
          32,
          33,
          34,
          35,
          36,
          37,
          38,
          39,
          40,
          41,
          42,
          43,
          44,
          45,
          46,
          47,
          48,
          49,
          50,
          51,
          52,
          53,
          54,
          55,
          56,
          57,
          58,
          59,
          60,
          61,
          62,
          63,
          64,
          65,
          66,
          67,
          68,
          69,
          70,
          71,
          72,
          73,
          74,
          75,
          76,
          77,
          78,
          79,
          80,
          81,
          82,
          83,
          84,
          85,
          86,
          87,
          88,
          89,
          90,
          91,
          92,
          93,
          94,
          95,
          96,
          97,
          98,
          99,
          100,
          101,
          102,
          103,
          104,
          105,
          106,
          107,
          108,
          109,
          110,
          111,
          112,
          113,
          114,
          115,
          116,
          117,
          118,
          119,
          120,
          121,
          122,
          123,
          124,
          125,
          126,
          127,
          128,
          129,
          130,
          131,
          132,
          133,
          134,
          135,
          136,
          137,
          138,
          139,
          140,
          141,
          142,
          143,
          144,
          145,
          146,
          147,
          148,
          149,
          150,
          151,
          152,
          153,
          154,
          155,
          156,
          157,
          158,
          159,
          160,
          161,
          162,
          163,
          164,
          165,
          166,
          167,
          168,
          169,
          170,
          171,
          172,
          173,
          174,
          175,
          176,
          177,
          178,
          179,
          180,
          181,
          182,
          183,
          184,
          185,
          186,
          187,
          188,
          189,
          190,
          191,
          192,
          193,
          194
         ]
        },
        {
         "name": "fbf1797b-9919-44e8-8bb1-13ca5a3f90b7",
         "type": "scatter",
         "x": [
          "12-03-10:50:02 AM",
          "12-03-10:50:53 AM",
          "12-03-10:51:45 AM",
          "12-03-10:52:36 AM",
          "12-03-10:53:26 AM",
          "12-03-10:54:15 AM",
          "12-03-10:55:05 AM",
          "12-03-10:55:55 AM",
          "12-03-10:56:43 AM",
          "12-03-10:57:30 AM",
          "12-03-10:58:17 AM",
          "12-03-10:59:05 AM",
          "12-03-10:59:52 AM",
          "12-03-11:00:39 AM",
          "12-03-11:01:26 AM",
          "12-03-11:02:12 AM",
          "12-03-11:02:59 AM",
          "12-03-11:03:45 AM",
          "12-03-11:04:30 AM",
          "12-03-11:05:15 AM",
          "12-03-11:06:01 AM",
          "12-03-11:06:47 AM",
          "12-03-11:07:32 AM",
          "12-03-11:08:18 AM",
          "12-03-11:09:04 AM",
          "12-03-11:09:51 AM",
          "12-03-11:10:37 AM",
          "12-03-11:11:23 AM",
          "12-03-11:12:09 AM",
          "12-03-11:12:54 AM",
          "12-03-11:13:39 AM",
          "12-03-11:14:24 AM",
          "12-03-11:15:08 AM",
          "12-03-11:15:51 AM",
          "12-03-11:16:34 AM",
          "12-03-11:17:18 AM",
          "12-03-11:18:00 AM",
          "12-03-11:18:42 AM",
          "12-03-11:19:25 AM",
          "12-03-11:20:09 AM",
          "12-03-11:20:54 AM",
          "12-03-11:21:38 AM",
          "12-03-11:22:23 AM",
          "12-03-11:23:08 AM",
          "12-03-11:23:53 AM",
          "12-03-11:24:39 AM",
          "12-03-11:25:24 AM",
          "12-03-11:26:08 AM",
          "12-03-11:26:52 AM",
          "12-03-11:27:37 AM",
          "12-03-11:28:21 AM",
          "12-03-11:29:05 AM",
          "12-03-11:29:49 AM",
          "12-03-11:30:33 AM",
          "12-03-11:31:17 AM",
          "12-03-11:32:00 AM",
          "12-03-11:32:43 AM",
          "12-03-11:33:26 AM",
          "12-03-11:34:08 AM",
          "12-03-11:34:50 AM",
          "12-03-11:35:31 AM",
          "12-03-11:36:12 AM",
          "12-03-11:36:53 AM",
          "12-03-11:37:34 AM",
          "12-03-11:38:16 AM"
         ],
         "y": [
          130,
          131,
          132,
          133,
          134,
          135,
          136,
          137,
          138,
          139,
          140,
          141,
          142,
          143,
          144,
          145,
          146,
          147,
          148,
          149,
          150,
          151,
          152,
          153,
          154,
          155,
          156,
          157,
          158,
          159,
          160,
          161,
          162,
          163,
          164,
          165,
          166,
          167,
          168,
          169,
          170,
          171,
          172,
          173,
          174,
          175,
          176,
          177,
          178,
          179,
          180,
          181,
          182,
          183,
          184,
          185,
          186,
          187,
          188,
          189,
          190,
          191,
          192,
          193,
          194
         ]
        },
        {
         "name": "fbf1797b-9919-44e8-8bb1-13ca5a3f90b7",
         "type": "scatter",
         "x": [
          "12-03-10:49:48 AM",
          "12-03-10:50:39 AM",
          "12-03-10:51:30 AM",
          "12-03-10:52:22 AM",
          "12-03-10:53:13 AM",
          "12-03-10:54:03 AM",
          "12-03-10:54:53 AM",
          "12-03-10:55:43 AM",
          "12-03-10:56:31 AM",
          "12-03-10:57:18 AM",
          "12-03-10:58:05 AM",
          "12-03-10:58:53 AM",
          "12-03-10:59:40 AM",
          "12-03-11:00:27 AM",
          "12-03-11:01:14 AM",
          "12-03-11:02:01 AM",
          "12-03-11:02:48 AM",
          "12-03-11:03:34 AM"
         ],
         "y": [
          176,
          177,
          178,
          179,
          180,
          181,
          182,
          183,
          184,
          185,
          186,
          187,
          188,
          189,
          190,
          191,
          192,
          193
         ]
        },
        {
         "name": "fbf1797b-9919-44e8-8bb1-13ca5a3f90b7",
         "type": "scatter",
         "x": [
          "12-03-10:54:44 AM",
          "12-03-10:55:35 AM",
          "12-03-10:56:24 AM",
          "12-03-10:57:12 AM",
          "12-03-10:57:59 AM",
          "12-03-10:58:47 AM",
          "12-03-10:59:34 AM",
          "12-03-11:00:21 AM",
          "12-03-11:01:08 AM",
          "12-03-11:01:55 AM",
          "12-03-11:02:42 AM",
          "12-03-11:03:28 AM",
          "12-03-11:04:14 AM",
          "12-03-11:04:59 AM",
          "12-03-11:05:44 AM",
          "12-03-11:06:30 AM",
          "12-03-11:07:16 AM",
          "12-03-11:08:01 AM",
          "12-03-11:08:47 AM",
          "12-03-11:09:34 AM",
          "12-03-11:10:20 AM",
          "12-03-11:11:06 AM",
          "12-03-11:11:52 AM",
          "12-03-11:12:37 AM",
          "12-03-11:13:22 AM",
          "12-03-11:14:06 AM",
          "12-03-11:14:51 AM",
          "12-03-11:15:34 AM",
          "12-03-11:16:17 AM",
          "12-03-11:17:01 AM",
          "12-03-11:17:44 AM",
          "12-03-11:18:26 AM",
          "12-03-11:19:08 AM",
          "12-03-11:19:51 AM",
          "12-03-11:20:36 AM",
          "12-03-11:21:20 AM",
          "12-03-11:22:04 AM",
          "12-03-11:22:49 AM",
          "12-03-11:23:34 AM",
          "12-03-11:24:20 AM",
          "12-03-11:25:05 AM",
          "12-03-11:25:50 AM",
          "12-03-11:26:34 AM",
          "12-03-11:27:18 AM",
          "12-03-11:28:03 AM",
          "12-03-11:28:47 AM",
          "12-03-11:29:31 AM",
          "12-03-11:30:15 AM",
          "12-03-11:30:58 AM",
          "12-03-11:31:42 AM",
          "12-03-11:32:25 AM",
          "12-03-11:33:08 AM",
          "12-03-11:33:51 AM",
          "12-03-11:34:33 AM",
          "12-03-11:35:15 AM",
          "12-03-11:35:56 AM",
          "12-03-11:36:37 AM",
          "12-03-11:37:18 AM",
          "12-03-11:37:59 AM",
          "12-03-11:38:42 AM",
          "12-03-11:39:22 AM",
          "12-03-11:40:02 AM",
          "12-03-11:40:43 AM",
          "12-03-11:41:24 AM",
          "12-03-11:42:06 AM",
          "12-03-11:42:48 AM",
          "12-03-11:43:30 AM",
          "12-03-11:44:11 AM",
          "12-03-11:44:52 AM",
          "12-03-11:45:33 AM",
          "12-03-11:46:14 AM",
          "12-03-11:46:53 AM",
          "12-03-11:47:32 AM",
          "12-03-11:48:11 AM",
          "12-03-11:48:51 AM",
          "12-03-11:49:32 AM",
          "12-03-11:50:13 AM",
          "12-03-11:50:54 AM",
          "12-03-11:51:35 AM",
          "12-03-11:52:16 AM",
          "12-03-11:52:58 AM",
          "12-03-11:53:39 AM",
          "12-03-11:54:19 AM",
          "12-03-11:55:00 AM",
          "12-03-11:55:41 AM",
          "12-03-11:56:22 AM",
          "12-03-11:57:03 AM",
          "12-03-11:57:43 AM",
          "12-03-11:58:23 AM",
          "12-03-11:59:03 AM",
          "12-03-11:59:43 AM",
          "12-03-12:00:25 PM",
          "12-03-12:01:06 PM",
          "12-03-12:01:47 PM",
          "12-03-12:02:28 PM",
          "12-03-12:03:08 PM",
          "12-03-12:03:49 PM",
          "12-03-12:04:28 PM",
          "12-03-12:05:06 PM",
          "12-03-12:05:44 PM",
          "12-03-12:06:23 PM",
          "12-03-12:07:03 PM",
          "12-03-12:07:44 PM",
          "12-03-12:08:24 PM",
          "12-03-12:09:04 PM",
          "12-03-12:09:44 PM",
          "12-03-12:10:24 PM",
          "12-03-12:11:06 PM",
          "12-03-12:11:47 PM",
          "12-03-12:12:29 PM",
          "12-03-12:13:12 PM",
          "12-03-12:13:55 PM",
          "12-03-12:14:39 PM",
          "12-03-12:15:22 PM",
          "12-03-12:16:05 PM",
          "12-03-12:16:48 PM",
          "12-03-12:17:31 PM",
          "12-03-12:18:15 PM",
          "12-03-12:18:58 PM",
          "12-03-12:19:41 PM",
          "12-03-12:20:24 PM",
          "12-03-12:21:07 PM",
          "12-03-12:21:51 PM",
          "12-03-12:22:34 PM",
          "12-03-12:23:17 PM",
          "12-03-12:24:00 PM",
          "12-03-12:24:42 PM",
          "12-03-12:25:25 PM",
          "12-03-12:26:06 PM",
          "12-03-12:26:47 PM",
          "12-03-12:27:28 PM",
          "12-03-12:28:10 PM",
          "12-03-12:28:54 PM",
          "12-03-12:29:37 PM",
          "12-03-12:30:20 PM",
          "12-03-12:31:03 PM",
          "12-03-12:31:46 PM",
          "12-03-12:32:30 PM",
          "12-03-12:33:13 PM",
          "12-03-12:33:56 PM",
          "12-03-12:34:39 PM",
          "12-03-12:35:21 PM",
          "12-03-12:36:04 PM",
          "12-03-12:36:44 PM",
          "12-03-12:37:24 PM",
          "12-03-12:38:03 PM",
          "12-03-12:38:41 PM",
          "12-03-12:39:19 PM",
          "12-03-12:39:58 PM",
          "12-03-12:40:37 PM",
          "12-03-12:41:17 PM",
          "12-03-12:41:57 PM",
          "12-03-12:42:36 PM",
          "12-03-12:43:17 PM",
          "12-03-12:43:56 PM",
          "12-03-12:44:35 PM",
          "12-03-12:45:14 PM",
          "12-03-12:45:54 PM",
          "12-03-12:46:34 PM",
          "12-03-12:47:15 PM",
          "12-03-12:47:55 PM",
          "12-03-12:48:35 PM",
          "12-03-12:49:15 PM",
          "12-03-12:49:55 PM",
          "12-03-12:50:36 PM",
          "12-03-12:51:15 PM",
          "12-03-12:51:53 PM",
          "12-03-12:52:30 PM",
          "12-03-12:53:07 PM",
          "12-03-12:53:44 PM",
          "12-03-12:54:22 PM",
          "12-03-12:54:59 PM",
          "12-03-12:55:37 PM",
          "12-03-12:56:15 PM",
          "12-03-12:56:52 PM",
          "12-03-12:57:28 PM",
          "12-03-12:58:05 PM",
          "12-03-12:58:41 PM",
          "12-03-12:59:17 PM",
          "12-03-12:59:53 PM",
          "12-03-01:00:29 PM",
          "12-03-01:01:05 PM",
          "12-03-01:01:42 PM",
          "12-03-01:02:18 PM",
          "12-03-01:02:54 PM",
          "12-03-01:03:31 PM",
          "12-03-01:04:08 PM",
          "12-03-01:04:44 PM",
          "12-03-01:05:21 PM",
          "12-03-01:05:58 PM",
          "12-03-01:06:35 PM",
          "12-03-01:07:12 PM",
          "12-03-01:07:49 PM",
          "12-03-01:08:27 PM",
          "12-03-01:09:05 PM",
          "12-03-01:09:44 PM",
          "12-03-01:10:23 PM",
          "12-03-01:11:01 PM"
         ],
         "y": [
          0,
          1,
          2,
          3,
          4,
          5,
          6,
          7,
          8,
          9,
          10,
          11,
          12,
          13,
          14,
          15,
          16,
          17,
          18,
          19,
          20,
          21,
          22,
          23,
          24,
          25,
          26,
          27,
          28,
          29,
          30,
          31,
          32,
          33,
          34,
          35,
          36,
          37,
          38,
          39,
          40,
          41,
          42,
          43,
          44,
          45,
          46,
          47,
          48,
          49,
          50,
          51,
          52,
          53,
          54,
          55,
          56,
          57,
          58,
          59,
          60,
          61,
          62,
          63,
          64,
          65,
          66,
          67,
          68,
          69,
          70,
          71,
          72,
          73,
          74,
          75,
          76,
          77,
          78,
          79,
          80,
          81,
          82,
          83,
          84,
          85,
          86,
          87,
          88,
          89,
          90,
          91,
          92,
          93,
          94,
          95,
          96,
          97,
          98,
          99,
          100,
          101,
          102,
          103,
          104,
          105,
          106,
          107,
          108,
          109,
          110,
          111,
          112,
          113,
          114,
          115,
          116,
          117,
          118,
          119,
          120,
          121,
          122,
          123,
          124,
          125,
          126,
          127,
          128,
          129,
          130,
          131,
          132,
          133,
          134,
          135,
          136,
          137,
          138,
          139,
          140,
          141,
          142,
          143,
          144,
          145,
          146,
          147,
          148,
          149,
          150,
          151,
          152,
          153,
          154,
          155,
          156,
          157,
          158,
          159,
          160,
          161,
          162,
          163,
          164,
          165,
          166,
          167,
          168,
          169,
          170,
          171,
          172,
          173,
          174,
          175,
          176,
          177,
          178,
          179,
          180,
          181,
          182,
          183,
          184,
          185,
          186,
          187,
          188,
          189,
          190,
          191,
          192,
          193,
          194,
          195,
          196,
          197
         ]
        },
        {
         "name": "fbf1797b-9919-44e8-8bb1-13ca5a3f90b7",
         "type": "scatter",
         "x": [
          "12-03-12:12:52 PM",
          "12-03-12:13:35 PM",
          "12-03-12:14:18 PM",
          "12-03-12:15:02 PM",
          "12-03-12:15:45 PM",
          "12-03-12:16:28 PM",
          "12-03-12:17:11 PM",
          "12-03-12:17:54 PM",
          "12-03-12:18:38 PM",
          "12-03-12:19:21 PM",
          "12-03-12:20:04 PM",
          "12-03-12:20:47 PM",
          "12-03-12:21:30 PM",
          "12-03-12:22:14 PM",
          "12-03-12:22:57 PM",
          "12-03-12:23:40 PM",
          "12-03-12:24:23 PM",
          "12-03-12:25:05 PM",
          "12-03-12:25:48 PM",
          "12-03-12:26:29 PM",
          "12-03-12:27:10 PM",
          "12-03-12:27:51 PM",
          "12-03-12:28:33 PM",
          "12-03-12:29:17 PM",
          "12-03-12:30:00 PM",
          "12-03-12:30:43 PM",
          "12-03-12:31:26 PM",
          "12-03-12:32:09 PM",
          "12-03-12:32:53 PM",
          "12-03-12:33:36 PM",
          "12-03-12:34:19 PM",
          "12-03-12:35:02 PM",
          "12-03-12:35:44 PM",
          "12-03-12:36:27 PM",
          "12-03-12:37:07 PM",
          "12-03-12:37:47 PM",
          "12-03-12:38:26 PM",
          "12-03-12:39:04 PM",
          "12-03-12:39:43 PM",
          "12-03-12:40:21 PM",
          "12-03-12:41:00 PM",
          "12-03-12:41:40 PM",
          "12-03-12:42:20 PM",
          "12-03-12:42:59 PM",
          "12-03-12:43:40 PM",
          "12-03-12:44:19 PM",
          "12-03-12:44:58 PM",
          "12-03-12:45:37 PM",
          "12-03-12:46:17 PM",
          "12-03-12:46:58 PM",
          "12-03-12:47:38 PM",
          "12-03-12:48:18 PM",
          "12-03-12:48:58 PM",
          "12-03-12:49:38 PM",
          "12-03-12:50:19 PM",
          "12-03-12:50:59 PM",
          "12-03-12:51:38 PM",
          "12-03-12:52:16 PM",
          "12-03-12:52:53 PM",
          "12-03-12:53:30 PM",
          "12-03-12:54:08 PM",
          "12-03-12:54:45 PM",
          "12-03-12:55:22 PM",
          "12-03-12:56:00 PM",
          "12-03-12:56:37 PM",
          "12-03-12:57:13 PM",
          "12-03-12:57:50 PM",
          "12-03-12:58:26 PM",
          "12-03-12:59:02 PM",
          "12-03-12:59:38 PM",
          "12-03-01:00:14 PM",
          "12-03-01:00:50 PM",
          "12-03-01:01:27 PM",
          "12-03-01:02:03 PM",
          "12-03-01:02:39 PM",
          "12-03-01:03:15 PM",
          "12-03-01:03:52 PM",
          "12-03-01:04:29 PM",
          "12-03-01:05:06 PM",
          "12-03-01:05:42 PM",
          "12-03-01:06:19 PM",
          "12-03-01:06:56 PM",
          "12-03-01:07:33 PM",
          "12-03-01:08:10 PM",
          "12-03-01:08:48 PM",
          "12-03-01:09:26 PM",
          "12-03-01:10:05 PM",
          "12-03-01:10:44 PM",
          "12-03-01:11:22 PM",
          "12-03-01:12:00 PM",
          "12-03-01:12:37 PM",
          "12-03-01:13:13 PM",
          "12-03-01:13:49 PM",
          "12-03-01:14:25 PM",
          "12-03-01:15:01 PM",
          "12-03-01:15:39 PM",
          "12-03-01:16:17 PM",
          "12-03-01:16:55 PM",
          "12-03-01:17:33 PM",
          "12-03-01:18:11 PM",
          "12-03-01:18:48 PM",
          "12-03-01:19:26 PM",
          "12-03-01:20:04 PM",
          "12-03-01:20:42 PM",
          "12-03-01:21:20 PM",
          "12-03-01:21:59 PM",
          "12-03-01:22:38 PM",
          "12-03-01:23:18 PM",
          "12-03-01:23:56 PM",
          "12-03-01:24:34 PM",
          "12-03-01:25:12 PM",
          "12-03-01:25:49 PM",
          "12-03-01:26:27 PM",
          "12-03-01:27:04 PM",
          "12-03-01:27:42 PM",
          "12-03-01:28:20 PM",
          "12-03-01:28:58 PM",
          "12-03-01:29:36 PM",
          "12-03-01:30:14 PM",
          "12-03-01:30:52 PM",
          "12-03-01:31:29 PM",
          "12-03-01:32:06 PM",
          "12-03-01:32:43 PM",
          "12-03-01:33:20 PM",
          "12-03-01:33:58 PM",
          "12-03-01:34:35 PM",
          "12-03-01:35:12 PM",
          "12-03-01:35:48 PM",
          "12-03-01:36:24 PM",
          "12-03-01:36:59 PM",
          "12-03-01:37:35 PM",
          "12-03-01:38:11 PM",
          "12-03-01:38:47 PM",
          "12-03-01:39:23 PM",
          "12-03-01:40:00 PM",
          "12-03-01:40:37 PM",
          "12-03-01:41:15 PM",
          "12-03-01:41:51 PM",
          "12-03-01:42:27 PM",
          "12-03-01:43:03 PM",
          "12-03-01:43:40 PM",
          "12-03-01:44:18 PM",
          "12-03-01:44:54 PM",
          "12-03-01:45:28 PM"
         ],
         "y": [
          0,
          1,
          2,
          3,
          4,
          5,
          6,
          7,
          8,
          9,
          10,
          11,
          12,
          13,
          14,
          15,
          16,
          17,
          18,
          19,
          20,
          21,
          22,
          23,
          24,
          25,
          26,
          27,
          28,
          29,
          30,
          31,
          32,
          33,
          34,
          35,
          36,
          37,
          38,
          39,
          40,
          41,
          42,
          43,
          44,
          45,
          46,
          47,
          48,
          49,
          50,
          51,
          52,
          53,
          54,
          55,
          56,
          57,
          58,
          59,
          60,
          61,
          62,
          63,
          64,
          65,
          66,
          67,
          68,
          69,
          70,
          71,
          72,
          73,
          74,
          75,
          76,
          77,
          78,
          79,
          80,
          81,
          82,
          83,
          84,
          85,
          86,
          87,
          88,
          89,
          90,
          91,
          92,
          93,
          94,
          95,
          96,
          97,
          98,
          99,
          100,
          101,
          102,
          103,
          104,
          105,
          106,
          107,
          108,
          109,
          110,
          111,
          112,
          113,
          114,
          115,
          116,
          117,
          118,
          119,
          120,
          121,
          122,
          123,
          124,
          125,
          126,
          127,
          128,
          129,
          130,
          131,
          132,
          133,
          134,
          135,
          136,
          137,
          138,
          139,
          140,
          141,
          142,
          143
         ]
        },
        {
         "name": "fbf1797b-9919-44e8-8bb1-13ca5a3f90b7",
         "type": "scatter",
         "x": [
          "12-03-10:50:13 AM",
          "12-03-10:51:04 AM",
          "12-03-10:51:56 AM",
          "12-03-10:52:47 AM",
          "12-03-10:53:37 AM",
          "12-03-10:54:26 AM",
          "12-03-10:55:17 AM",
          "12-03-10:56:06 AM",
          "12-03-10:56:54 AM",
          "12-03-10:57:41 AM",
          "12-03-10:58:28 AM",
          "12-03-10:59:16 AM",
          "12-03-11:00:03 AM",
          "12-03-11:00:50 AM",
          "12-03-11:01:37 AM",
          "12-03-11:02:24 AM",
          "12-03-11:03:10 AM",
          "12-03-11:03:56 AM",
          "12-03-11:04:41 AM",
          "12-03-11:05:26 AM",
          "12-03-11:06:12 AM",
          "12-03-11:06:58 AM",
          "12-03-11:07:43 AM",
          "12-03-11:08:29 AM",
          "12-03-11:09:15 AM",
          "12-03-11:10:02 AM",
          "12-03-11:10:48 AM",
          "12-03-11:11:34 AM",
          "12-03-11:12:19 AM",
          "12-03-11:13:03 AM",
          "12-03-11:13:48 AM",
          "12-03-11:14:33 AM",
          "12-03-11:15:16 AM",
          "12-03-11:15:59 AM",
          "12-03-11:16:42 AM",
          "12-03-11:17:26 AM",
          "12-03-11:18:08 AM",
          "12-03-11:18:50 AM",
          "12-03-11:19:33 AM",
          "12-03-11:20:17 AM",
          "12-03-11:21:02 AM",
          "12-03-11:21:46 AM",
          "12-03-11:22:31 AM",
          "12-03-11:23:16 AM",
          "12-03-11:24:02 AM",
          "12-03-11:24:47 AM",
          "12-03-11:25:32 AM",
          "12-03-11:26:16 AM",
          "12-03-11:27:00 AM",
          "12-03-11:27:45 AM",
          "12-03-11:28:29 AM",
          "12-03-11:29:13 AM",
          "12-03-11:29:57 AM",
          "12-03-11:30:40 AM",
          "12-03-11:31:24 AM",
          "12-03-11:32:07 AM",
          "12-03-11:32:50 AM",
          "12-03-11:33:33 AM",
          "12-03-11:34:15 AM",
          "12-03-11:34:57 AM",
          "12-03-11:35:38 AM",
          "12-03-11:36:19 AM",
          "12-03-11:37:00 AM",
          "12-03-11:37:41 AM",
          "12-03-11:38:24 AM",
          "12-03-11:39:04 AM",
          "12-03-11:39:44 AM",
          "12-03-11:40:25 AM",
          "12-03-11:41:06 AM",
          "12-03-11:41:47 AM",
          "12-03-11:42:30 AM",
          "12-03-11:43:12 AM",
          "12-03-11:43:54 AM",
          "12-03-11:44:35 AM",
          "12-03-11:45:16 AM",
          "12-03-11:45:57 AM",
          "12-03-11:46:37 AM",
          "12-03-11:47:16 AM",
          "12-03-11:47:55 AM",
          "12-03-11:48:35 AM",
          "12-03-11:49:16 AM",
          "12-03-11:49:57 AM",
          "12-03-11:50:38 AM",
          "12-03-11:51:19 AM",
          "12-03-11:52:00 AM",
          "12-03-11:52:41 AM",
          "12-03-11:53:23 AM",
          "12-03-11:54:03 AM",
          "12-03-11:54:44 AM",
          "12-03-11:55:25 AM",
          "12-03-11:56:06 AM",
          "12-03-11:56:47 AM",
          "12-03-11:57:27 AM",
          "12-03-11:58:07 AM",
          "12-03-11:58:47 AM",
          "12-03-11:59:27 AM",
          "12-03-12:00:09 PM",
          "12-03-12:00:50 PM",
          "12-03-12:01:31 PM",
          "12-03-12:02:12 PM",
          "12-03-12:02:53 PM",
          "12-03-12:03:33 PM",
          "12-03-12:04:13 PM",
          "12-03-12:04:51 PM",
          "12-03-12:05:29 PM",
          "12-03-12:06:08 PM",
          "12-03-12:06:48 PM",
          "12-03-12:07:29 PM",
          "12-03-12:08:09 PM",
          "12-03-12:08:49 PM",
          "12-03-12:09:29 PM",
          "12-03-12:10:09 PM",
          "12-03-12:10:51 PM",
          "12-03-12:11:32 PM",
          "12-03-12:12:14 PM",
          "12-03-12:12:57 PM",
          "12-03-12:13:40 PM",
          "12-03-12:14:23 PM",
          "12-03-12:15:07 PM",
          "12-03-12:15:50 PM",
          "12-03-12:16:33 PM",
          "12-03-12:17:16 PM",
          "12-03-12:17:59 PM",
          "12-03-12:18:43 PM",
          "12-03-12:19:26 PM",
          "12-03-12:20:09 PM",
          "12-03-12:20:52 PM",
          "12-03-12:21:35 PM",
          "12-03-12:22:19 PM",
          "12-03-12:23:02 PM",
          "12-03-12:23:45 PM",
          "12-03-12:24:28 PM",
          "12-03-12:25:10 PM"
         ],
         "y": [
          83,
          84,
          85,
          86,
          87,
          88,
          89,
          90,
          91,
          92,
          93,
          94,
          95,
          96,
          97,
          98,
          99,
          100,
          101,
          102,
          103,
          104,
          105,
          106,
          107,
          108,
          109,
          110,
          111,
          112,
          113,
          114,
          115,
          116,
          117,
          118,
          119,
          120,
          121,
          122,
          123,
          124,
          125,
          126,
          127,
          128,
          129,
          130,
          131,
          132,
          133,
          134,
          135,
          136,
          137,
          138,
          139,
          140,
          141,
          142,
          143,
          144,
          145,
          146,
          147,
          148,
          149,
          150,
          151,
          152,
          153,
          154,
          155,
          156,
          157,
          158,
          159,
          160,
          161,
          162,
          163,
          164,
          165,
          166,
          167,
          168,
          169,
          170,
          171,
          172,
          173,
          174,
          175,
          176,
          177,
          178,
          179,
          180,
          181,
          182,
          183,
          184,
          185,
          186,
          187,
          188,
          189,
          190,
          191,
          192,
          193,
          194,
          195,
          196,
          197,
          198,
          199,
          200,
          201,
          202,
          203,
          204,
          205,
          206,
          207,
          208,
          209,
          210,
          211,
          212,
          213,
          214,
          215
         ]
        },
        {
         "name": "fbf1797b-9919-44e8-8bb1-13ca5a3f90b7",
         "type": "scatter",
         "x": [
          "12-03-12:55:29 PM",
          "12-03-12:56:07 PM",
          "12-03-12:56:44 PM",
          "12-03-12:57:20 PM",
          "12-03-12:57:57 PM",
          "12-03-12:58:33 PM",
          "12-03-12:59:09 PM",
          "12-03-12:59:45 PM",
          "12-03-01:00:21 PM",
          "12-03-01:00:57 PM",
          "12-03-01:01:34 PM",
          "12-03-01:02:10 PM",
          "12-03-01:02:46 PM",
          "12-03-01:03:22 PM",
          "12-03-01:03:59 PM",
          "12-03-01:04:36 PM",
          "12-03-01:05:13 PM",
          "12-03-01:05:49 PM",
          "12-03-01:06:26 PM",
          "12-03-01:07:03 PM",
          "12-03-01:07:40 PM",
          "12-03-01:08:17 PM",
          "12-03-01:08:55 PM",
          "12-03-01:09:33 PM",
          "12-03-01:10:12 PM",
          "12-03-01:10:51 PM",
          "12-03-01:11:29 PM",
          "12-03-01:12:07 PM",
          "12-03-01:12:44 PM",
          "12-03-01:13:20 PM",
          "12-03-01:13:56 PM",
          "12-03-01:14:32 PM",
          "12-03-01:15:08 PM",
          "12-03-01:15:46 PM",
          "12-03-01:16:24 PM",
          "12-03-01:17:02 PM",
          "12-03-01:17:40 PM",
          "12-03-01:18:18 PM",
          "12-03-01:18:55 PM",
          "12-03-01:19:33 PM",
          "12-03-01:20:11 PM",
          "12-03-01:20:49 PM",
          "12-03-01:21:27 PM",
          "12-03-01:22:06 PM",
          "12-03-01:22:46 PM",
          "12-03-01:23:25 PM",
          "12-03-01:24:03 PM",
          "12-03-01:24:41 PM",
          "12-03-01:25:19 PM",
          "12-03-01:25:56 PM",
          "12-03-01:26:34 PM",
          "12-03-01:27:11 PM",
          "12-03-01:27:49 PM",
          "12-03-01:28:27 PM",
          "12-03-01:29:05 PM",
          "12-03-01:29:43 PM",
          "12-03-01:30:21 PM",
          "12-03-01:30:59 PM",
          "12-03-01:31:36 PM",
          "12-03-01:32:13 PM",
          "12-03-01:32:50 PM",
          "12-03-01:33:27 PM",
          "12-03-01:34:05 PM",
          "12-03-01:34:42 PM",
          "12-03-01:35:19 PM",
          "12-03-01:35:55 PM",
          "12-03-01:36:31 PM",
          "12-03-01:37:06 PM",
          "12-03-01:37:42 PM",
          "12-03-01:38:18 PM",
          "12-03-01:38:54 PM",
          "12-03-01:39:30 PM",
          "12-03-01:40:07 PM",
          "12-03-01:40:45 PM",
          "12-03-01:41:22 PM",
          "12-03-01:41:58 PM",
          "12-03-01:42:34 PM",
          "12-03-01:43:10 PM",
          "12-03-01:43:47 PM",
          "12-03-01:44:25 PM",
          "12-03-01:45:01 PM",
          "12-03-01:45:35 PM"
         ],
         "y": [
          0,
          1,
          2,
          3,
          4,
          5,
          6,
          7,
          8,
          9,
          10,
          11,
          12,
          13,
          14,
          15,
          16,
          17,
          18,
          19,
          20,
          21,
          22,
          23,
          24,
          25,
          26,
          27,
          28,
          29,
          30,
          31,
          32,
          33,
          34,
          35,
          36,
          37,
          38,
          39,
          40,
          41,
          42,
          43,
          44,
          45,
          46,
          47,
          48,
          49,
          50,
          51,
          52,
          53,
          54,
          55,
          56,
          57,
          58,
          59,
          60,
          61,
          62,
          63,
          64,
          65,
          66,
          67,
          68,
          69,
          70,
          71,
          72,
          73,
          74,
          75,
          76,
          77,
          78,
          79,
          80,
          81
         ]
        },
        {
         "name": "fbf1797b-9919-44e8-8bb1-13ca5a3f90b7",
         "type": "scatter",
         "x": [
          "12-03-10:50:16 AM",
          "12-03-10:51:07 AM",
          "12-03-10:51:59 AM",
          "12-03-10:52:50 AM",
          "12-03-10:53:40 AM",
          "12-03-10:54:29 AM",
          "12-03-10:55:20 AM",
          "12-03-10:56:09 AM",
          "12-03-10:56:57 AM",
          "12-03-10:57:44 AM",
          "12-03-10:58:31 AM",
          "12-03-10:59:19 AM",
          "12-03-11:00:06 AM",
          "12-03-11:00:53 AM",
          "12-03-11:01:40 AM",
          "12-03-11:02:27 AM",
          "12-03-11:03:13 AM",
          "12-03-11:03:59 AM",
          "12-03-11:04:44 AM",
          "12-03-11:05:29 AM",
          "12-03-11:06:15 AM",
          "12-03-11:07:01 AM",
          "12-03-11:07:46 AM",
          "12-03-11:08:32 AM",
          "12-03-11:09:18 AM",
          "12-03-11:10:05 AM",
          "12-03-11:10:51 AM",
          "12-03-11:11:37 AM",
          "12-03-11:12:22 AM",
          "12-03-11:13:06 AM",
          "12-03-11:13:51 AM",
          "12-03-11:14:36 AM",
          "12-03-11:15:19 AM",
          "12-03-11:16:02 AM",
          "12-03-11:16:46 AM",
          "12-03-11:17:29 AM",
          "12-03-11:18:11 AM",
          "12-03-11:18:53 AM",
          "12-03-11:19:36 AM",
          "12-03-11:20:21 AM",
          "12-03-11:21:05 AM",
          "12-03-11:21:49 AM",
          "12-03-11:22:34 AM",
          "12-03-11:23:19 AM",
          "12-03-11:24:05 AM",
          "12-03-11:24:50 AM",
          "12-03-11:25:35 AM",
          "12-03-11:26:19 AM",
          "12-03-11:27:03 AM",
          "12-03-11:27:48 AM",
          "12-03-11:28:32 AM",
          "12-03-11:29:16 AM",
          "12-03-11:30:00 AM",
          "12-03-11:30:43 AM",
          "12-03-11:31:27 AM",
          "12-03-11:32:10 AM",
          "12-03-11:32:53 AM",
          "12-03-11:33:36 AM",
          "12-03-11:34:18 AM",
          "12-03-11:35:00 AM",
          "12-03-11:35:41 AM",
          "12-03-11:36:22 AM",
          "12-03-11:37:03 AM",
          "12-03-11:37:44 AM",
          "12-03-11:38:27 AM",
          "12-03-11:39:07 AM",
          "12-03-11:39:47 AM",
          "12-03-11:40:28 AM",
          "12-03-11:41:09 AM",
          "12-03-11:41:50 AM",
          "12-03-11:42:33 AM",
          "12-03-11:43:15 AM",
          "12-03-11:43:56 AM",
          "12-03-11:44:37 AM",
          "12-03-11:45:18 AM",
          "12-03-11:45:59 AM",
          "12-03-11:46:39 AM",
          "12-03-11:47:18 AM",
          "12-03-11:47:57 AM",
          "12-03-11:48:37 AM",
          "12-03-11:49:18 AM",
          "12-03-11:49:59 AM",
          "12-03-11:50:40 AM",
          "12-03-11:51:21 AM",
          "12-03-11:52:02 AM",
          "12-03-11:52:43 AM",
          "12-03-11:53:25 AM",
          "12-03-11:54:05 AM",
          "12-03-11:54:46 AM",
          "12-03-11:55:27 AM",
          "12-03-11:56:08 AM",
          "12-03-11:56:49 AM",
          "12-03-11:57:29 AM",
          "12-03-11:58:09 AM",
          "12-03-11:58:49 AM",
          "12-03-11:59:29 AM",
          "12-03-12:00:11 PM",
          "12-03-12:00:52 PM",
          "12-03-12:01:33 PM",
          "12-03-12:02:14 PM",
          "12-03-12:02:54 PM",
          "12-03-12:03:34 PM",
          "12-03-12:04:14 PM",
          "12-03-12:04:52 PM",
          "12-03-12:05:30 PM",
          "12-03-12:06:09 PM",
          "12-03-12:06:49 PM",
          "12-03-12:07:30 PM",
          "12-03-12:08:10 PM",
          "12-03-12:08:50 PM",
          "12-03-12:09:30 PM",
          "12-03-12:10:10 PM",
          "12-03-12:10:52 PM",
          "12-03-12:11:33 PM",
          "12-03-12:12:15 PM",
          "12-03-12:12:58 PM",
          "12-03-12:13:41 PM",
          "12-03-12:14:24 PM",
          "12-03-12:15:08 PM",
          "12-03-12:15:51 PM",
          "12-03-12:16:34 PM",
          "12-03-12:17:17 PM",
          "12-03-12:18:00 PM",
          "12-03-12:18:44 PM",
          "12-03-12:19:27 PM",
          "12-03-12:20:10 PM",
          "12-03-12:20:53 PM",
          "12-03-12:21:36 PM",
          "12-03-12:22:20 PM",
          "12-03-12:23:03 PM",
          "12-03-12:23:46 PM",
          "12-03-12:24:29 PM",
          "12-03-12:25:11 PM",
          "12-03-12:25:53 PM",
          "12-03-12:26:34 PM",
          "12-03-12:27:15 PM",
          "12-03-12:27:57 PM",
          "12-03-12:28:40 PM",
          "12-03-12:29:24 PM",
          "12-03-12:30:07 PM",
          "12-03-12:30:50 PM",
          "12-03-12:31:33 PM",
          "12-03-12:32:16 PM",
          "12-03-12:33:00 PM",
          "12-03-12:33:43 PM",
          "12-03-12:34:26 PM",
          "12-03-12:35:09 PM",
          "12-03-12:35:51 PM",
          "12-03-12:36:33 PM",
          "12-03-12:37:13 PM",
          "12-03-12:37:53 PM",
          "12-03-12:38:31 PM",
          "12-03-12:39:09 PM",
          "12-03-12:39:48 PM",
          "12-03-12:40:27 PM",
          "12-03-12:41:07 PM",
          "12-03-12:41:47 PM"
         ],
         "y": [
          72,
          73,
          74,
          75,
          76,
          77,
          78,
          79,
          80,
          81,
          82,
          83,
          84,
          85,
          86,
          87,
          88,
          89,
          90,
          91,
          92,
          93,
          94,
          95,
          96,
          97,
          98,
          99,
          100,
          101,
          102,
          103,
          104,
          105,
          106,
          107,
          108,
          109,
          110,
          111,
          112,
          113,
          114,
          115,
          116,
          117,
          118,
          119,
          120,
          121,
          122,
          123,
          124,
          125,
          126,
          127,
          128,
          129,
          130,
          131,
          132,
          133,
          134,
          135,
          136,
          137,
          138,
          139,
          140,
          141,
          142,
          143,
          144,
          145,
          146,
          147,
          148,
          149,
          150,
          151,
          152,
          153,
          154,
          155,
          156,
          157,
          158,
          159,
          160,
          161,
          162,
          163,
          164,
          165,
          166,
          167,
          168,
          169,
          170,
          171,
          172,
          173,
          174,
          175,
          176,
          177,
          178,
          179,
          180,
          181,
          182,
          183,
          184,
          185,
          186,
          187,
          188,
          189,
          190,
          191,
          192,
          193,
          194,
          195,
          196,
          197,
          198,
          199,
          200,
          201,
          202,
          203,
          204,
          205,
          206,
          207,
          208,
          209,
          210,
          211,
          212,
          213,
          214,
          215,
          216,
          217,
          218,
          219,
          220,
          221,
          222,
          223,
          224,
          225,
          226,
          227,
          228
         ]
        },
        {
         "name": "fbf1797b-9919-44e8-8bb1-13ca5a3f90b7",
         "type": "scatter",
         "x": [
          "12-03-12:28:35 PM",
          "12-03-12:29:19 PM",
          "12-03-12:30:02 PM",
          "12-03-12:30:45 PM",
          "12-03-12:31:28 PM",
          "12-03-12:32:11 PM",
          "12-03-12:32:55 PM",
          "12-03-12:33:38 PM",
          "12-03-12:34:21 PM",
          "12-03-12:35:04 PM",
          "12-03-12:35:46 PM",
          "12-03-12:36:29 PM",
          "12-03-12:37:09 PM",
          "12-03-12:37:49 PM",
          "12-03-12:38:28 PM",
          "12-03-12:39:06 PM",
          "12-03-12:39:45 PM",
          "12-03-12:40:23 PM",
          "12-03-12:41:02 PM",
          "12-03-12:41:42 PM",
          "12-03-12:42:22 PM",
          "12-03-12:43:01 PM",
          "12-03-12:43:42 PM",
          "12-03-12:44:21 PM",
          "12-03-12:45:00 PM",
          "12-03-12:45:39 PM",
          "12-03-12:46:19 PM",
          "12-03-12:47:00 PM",
          "12-03-12:47:40 PM",
          "12-03-12:48:20 PM",
          "12-03-12:49:00 PM",
          "12-03-12:49:40 PM",
          "12-03-12:50:21 PM",
          "12-03-12:51:01 PM",
          "12-03-12:51:40 PM",
          "12-03-12:52:18 PM",
          "12-03-12:52:55 PM",
          "12-03-12:53:32 PM",
          "12-03-12:54:10 PM",
          "12-03-12:54:47 PM",
          "12-03-12:55:24 PM",
          "12-03-12:56:02 PM",
          "12-03-12:56:39 PM",
          "12-03-12:57:15 PM",
          "12-03-12:57:52 PM",
          "12-03-12:58:28 PM",
          "12-03-12:59:04 PM",
          "12-03-12:59:40 PM",
          "12-03-01:00:16 PM",
          "12-03-01:00:52 PM",
          "12-03-01:01:29 PM",
          "12-03-01:02:05 PM",
          "12-03-01:02:41 PM",
          "12-03-01:03:17 PM",
          "12-03-01:03:54 PM",
          "12-03-01:04:31 PM",
          "12-03-01:05:08 PM",
          "12-03-01:05:44 PM",
          "12-03-01:06:21 PM",
          "12-03-01:06:58 PM",
          "12-03-01:07:35 PM",
          "12-03-01:08:12 PM",
          "12-03-01:08:50 PM",
          "12-03-01:09:28 PM",
          "12-03-01:10:07 PM",
          "12-03-01:10:46 PM",
          "12-03-01:11:24 PM",
          "12-03-01:12:02 PM",
          "12-03-01:12:39 PM",
          "12-03-01:13:15 PM",
          "12-03-01:13:51 PM",
          "12-03-01:14:27 PM",
          "12-03-01:15:03 PM",
          "12-03-01:15:41 PM",
          "12-03-01:16:19 PM",
          "12-03-01:16:57 PM",
          "12-03-01:17:35 PM",
          "12-03-01:18:13 PM",
          "12-03-01:18:50 PM",
          "12-03-01:19:28 PM",
          "12-03-01:20:06 PM",
          "12-03-01:20:44 PM",
          "12-03-01:21:22 PM",
          "12-03-01:22:01 PM",
          "12-03-01:22:41 PM",
          "12-03-01:23:20 PM",
          "12-03-01:23:58 PM",
          "12-03-01:24:36 PM",
          "12-03-01:25:14 PM",
          "12-03-01:25:51 PM",
          "12-03-01:26:29 PM",
          "12-03-01:27:06 PM",
          "12-03-01:27:44 PM",
          "12-03-01:28:22 PM",
          "12-03-01:29:00 PM",
          "12-03-01:29:38 PM",
          "12-03-01:30:16 PM",
          "12-03-01:30:54 PM",
          "12-03-01:31:31 PM",
          "12-03-01:32:08 PM",
          "12-03-01:32:45 PM",
          "12-03-01:33:22 PM",
          "12-03-01:34:00 PM",
          "12-03-01:34:37 PM",
          "12-03-01:35:14 PM",
          "12-03-01:35:50 PM",
          "12-03-01:36:26 PM",
          "12-03-01:37:01 PM",
          "12-03-01:37:37 PM",
          "12-03-01:38:13 PM",
          "12-03-01:38:49 PM",
          "12-03-01:39:25 PM",
          "12-03-01:40:02 PM",
          "12-03-01:40:39 PM",
          "12-03-01:41:17 PM",
          "12-03-01:41:53 PM",
          "12-03-01:42:29 PM",
          "12-03-01:43:05 PM",
          "12-03-01:43:42 PM",
          "12-03-01:44:20 PM",
          "12-03-01:44:56 PM",
          "12-03-01:45:30 PM"
         ],
         "y": [
          0,
          1,
          2,
          3,
          4,
          5,
          6,
          7,
          8,
          9,
          10,
          11,
          12,
          13,
          14,
          15,
          16,
          17,
          18,
          19,
          20,
          21,
          22,
          23,
          24,
          25,
          26,
          27,
          28,
          29,
          30,
          31,
          32,
          33,
          34,
          35,
          36,
          37,
          38,
          39,
          40,
          41,
          42,
          43,
          44,
          45,
          46,
          47,
          48,
          49,
          50,
          51,
          52,
          53,
          54,
          55,
          56,
          57,
          58,
          59,
          60,
          61,
          62,
          63,
          64,
          65,
          66,
          67,
          68,
          69,
          70,
          71,
          72,
          73,
          74,
          75,
          76,
          77,
          78,
          79,
          80,
          81,
          82,
          83,
          84,
          85,
          86,
          87,
          88,
          89,
          90,
          91,
          92,
          93,
          94,
          95,
          96,
          97,
          98,
          99,
          100,
          101,
          102,
          103,
          104,
          105,
          106,
          107,
          108,
          109,
          110,
          111,
          112,
          113,
          114,
          115,
          116,
          117,
          118,
          119,
          120,
          121
         ]
        },
        {
         "name": "fbf1797b-9919-44e8-8bb1-13ca5a3f90b7",
         "type": "scatter",
         "x": [
          "12-03-10:49:43 AM",
          "12-03-10:50:34 AM",
          "12-03-10:51:25 AM",
          "12-03-10:52:17 AM",
          "12-03-10:53:08 AM",
          "12-03-10:53:58 AM",
          "12-03-10:54:48 AM",
          "12-03-10:55:38 AM",
          "12-03-10:56:27 AM"
         ],
         "y": [
          197,
          198,
          199,
          200,
          201,
          202,
          203,
          204,
          205
         ]
        }
       ],
       "layout": {
        "legend": {
         "orientation": "v"
        },
        "template": {
         "data": {
          "bar": [
           {
            "error_x": {
             "color": "#2a3f5f"
            },
            "error_y": {
             "color": "#2a3f5f"
            },
            "marker": {
             "line": {
              "color": "#E5ECF6",
              "width": 0.5
             }
            },
            "type": "bar"
           }
          ],
          "barpolar": [
           {
            "marker": {
             "line": {
              "color": "#E5ECF6",
              "width": 0.5
             }
            },
            "type": "barpolar"
           }
          ],
          "carpet": [
           {
            "aaxis": {
             "endlinecolor": "#2a3f5f",
             "gridcolor": "white",
             "linecolor": "white",
             "minorgridcolor": "white",
             "startlinecolor": "#2a3f5f"
            },
            "baxis": {
             "endlinecolor": "#2a3f5f",
             "gridcolor": "white",
             "linecolor": "white",
             "minorgridcolor": "white",
             "startlinecolor": "#2a3f5f"
            },
            "type": "carpet"
           }
          ],
          "choropleth": [
           {
            "colorbar": {
             "outlinewidth": 0,
             "ticks": ""
            },
            "type": "choropleth"
           }
          ],
          "contour": [
           {
            "colorbar": {
             "outlinewidth": 0,
             "ticks": ""
            },
            "colorscale": [
             [
              0,
              "#0d0887"
             ],
             [
              0.1111111111111111,
              "#46039f"
             ],
             [
              0.2222222222222222,
              "#7201a8"
             ],
             [
              0.3333333333333333,
              "#9c179e"
             ],
             [
              0.4444444444444444,
              "#bd3786"
             ],
             [
              0.5555555555555556,
              "#d8576b"
             ],
             [
              0.6666666666666666,
              "#ed7953"
             ],
             [
              0.7777777777777778,
              "#fb9f3a"
             ],
             [
              0.8888888888888888,
              "#fdca26"
             ],
             [
              1,
              "#f0f921"
             ]
            ],
            "type": "contour"
           }
          ],
          "contourcarpet": [
           {
            "colorbar": {
             "outlinewidth": 0,
             "ticks": ""
            },
            "type": "contourcarpet"
           }
          ],
          "heatmap": [
           {
            "colorbar": {
             "outlinewidth": 0,
             "ticks": ""
            },
            "colorscale": [
             [
              0,
              "#0d0887"
             ],
             [
              0.1111111111111111,
              "#46039f"
             ],
             [
              0.2222222222222222,
              "#7201a8"
             ],
             [
              0.3333333333333333,
              "#9c179e"
             ],
             [
              0.4444444444444444,
              "#bd3786"
             ],
             [
              0.5555555555555556,
              "#d8576b"
             ],
             [
              0.6666666666666666,
              "#ed7953"
             ],
             [
              0.7777777777777778,
              "#fb9f3a"
             ],
             [
              0.8888888888888888,
              "#fdca26"
             ],
             [
              1,
              "#f0f921"
             ]
            ],
            "type": "heatmap"
           }
          ],
          "heatmapgl": [
           {
            "colorbar": {
             "outlinewidth": 0,
             "ticks": ""
            },
            "colorscale": [
             [
              0,
              "#0d0887"
             ],
             [
              0.1111111111111111,
              "#46039f"
             ],
             [
              0.2222222222222222,
              "#7201a8"
             ],
             [
              0.3333333333333333,
              "#9c179e"
             ],
             [
              0.4444444444444444,
              "#bd3786"
             ],
             [
              0.5555555555555556,
              "#d8576b"
             ],
             [
              0.6666666666666666,
              "#ed7953"
             ],
             [
              0.7777777777777778,
              "#fb9f3a"
             ],
             [
              0.8888888888888888,
              "#fdca26"
             ],
             [
              1,
              "#f0f921"
             ]
            ],
            "type": "heatmapgl"
           }
          ],
          "histogram": [
           {
            "marker": {
             "colorbar": {
              "outlinewidth": 0,
              "ticks": ""
             }
            },
            "type": "histogram"
           }
          ],
          "histogram2d": [
           {
            "colorbar": {
             "outlinewidth": 0,
             "ticks": ""
            },
            "colorscale": [
             [
              0,
              "#0d0887"
             ],
             [
              0.1111111111111111,
              "#46039f"
             ],
             [
              0.2222222222222222,
              "#7201a8"
             ],
             [
              0.3333333333333333,
              "#9c179e"
             ],
             [
              0.4444444444444444,
              "#bd3786"
             ],
             [
              0.5555555555555556,
              "#d8576b"
             ],
             [
              0.6666666666666666,
              "#ed7953"
             ],
             [
              0.7777777777777778,
              "#fb9f3a"
             ],
             [
              0.8888888888888888,
              "#fdca26"
             ],
             [
              1,
              "#f0f921"
             ]
            ],
            "type": "histogram2d"
           }
          ],
          "histogram2dcontour": [
           {
            "colorbar": {
             "outlinewidth": 0,
             "ticks": ""
            },
            "colorscale": [
             [
              0,
              "#0d0887"
             ],
             [
              0.1111111111111111,
              "#46039f"
             ],
             [
              0.2222222222222222,
              "#7201a8"
             ],
             [
              0.3333333333333333,
              "#9c179e"
             ],
             [
              0.4444444444444444,
              "#bd3786"
             ],
             [
              0.5555555555555556,
              "#d8576b"
             ],
             [
              0.6666666666666666,
              "#ed7953"
             ],
             [
              0.7777777777777778,
              "#fb9f3a"
             ],
             [
              0.8888888888888888,
              "#fdca26"
             ],
             [
              1,
              "#f0f921"
             ]
            ],
            "type": "histogram2dcontour"
           }
          ],
          "mesh3d": [
           {
            "colorbar": {
             "outlinewidth": 0,
             "ticks": ""
            },
            "type": "mesh3d"
           }
          ],
          "parcoords": [
           {
            "line": {
             "colorbar": {
              "outlinewidth": 0,
              "ticks": ""
             }
            },
            "type": "parcoords"
           }
          ],
          "pie": [
           {
            "automargin": true,
            "type": "pie"
           }
          ],
          "scatter": [
           {
            "marker": {
             "colorbar": {
              "outlinewidth": 0,
              "ticks": ""
             }
            },
            "type": "scatter"
           }
          ],
          "scatter3d": [
           {
            "line": {
             "colorbar": {
              "outlinewidth": 0,
              "ticks": ""
             }
            },
            "marker": {
             "colorbar": {
              "outlinewidth": 0,
              "ticks": ""
             }
            },
            "type": "scatter3d"
           }
          ],
          "scattercarpet": [
           {
            "marker": {
             "colorbar": {
              "outlinewidth": 0,
              "ticks": ""
             }
            },
            "type": "scattercarpet"
           }
          ],
          "scattergeo": [
           {
            "marker": {
             "colorbar": {
              "outlinewidth": 0,
              "ticks": ""
             }
            },
            "type": "scattergeo"
           }
          ],
          "scattergl": [
           {
            "marker": {
             "colorbar": {
              "outlinewidth": 0,
              "ticks": ""
             }
            },
            "type": "scattergl"
           }
          ],
          "scattermapbox": [
           {
            "marker": {
             "colorbar": {
              "outlinewidth": 0,
              "ticks": ""
             }
            },
            "type": "scattermapbox"
           }
          ],
          "scatterpolar": [
           {
            "marker": {
             "colorbar": {
              "outlinewidth": 0,
              "ticks": ""
             }
            },
            "type": "scatterpolar"
           }
          ],
          "scatterpolargl": [
           {
            "marker": {
             "colorbar": {
              "outlinewidth": 0,
              "ticks": ""
             }
            },
            "type": "scatterpolargl"
           }
          ],
          "scatterternary": [
           {
            "marker": {
             "colorbar": {
              "outlinewidth": 0,
              "ticks": ""
             }
            },
            "type": "scatterternary"
           }
          ],
          "surface": [
           {
            "colorbar": {
             "outlinewidth": 0,
             "ticks": ""
            },
            "colorscale": [
             [
              0,
              "#0d0887"
             ],
             [
              0.1111111111111111,
              "#46039f"
             ],
             [
              0.2222222222222222,
              "#7201a8"
             ],
             [
              0.3333333333333333,
              "#9c179e"
             ],
             [
              0.4444444444444444,
              "#bd3786"
             ],
             [
              0.5555555555555556,
              "#d8576b"
             ],
             [
              0.6666666666666666,
              "#ed7953"
             ],
             [
              0.7777777777777778,
              "#fb9f3a"
             ],
             [
              0.8888888888888888,
              "#fdca26"
             ],
             [
              1,
              "#f0f921"
             ]
            ],
            "type": "surface"
           }
          ],
          "table": [
           {
            "cells": {
             "fill": {
              "color": "#EBF0F8"
             },
             "line": {
              "color": "white"
             }
            },
            "header": {
             "fill": {
              "color": "#C8D4E3"
             },
             "line": {
              "color": "white"
             }
            },
            "type": "table"
           }
          ]
         },
         "layout": {
          "annotationdefaults": {
           "arrowcolor": "#2a3f5f",
           "arrowhead": 0,
           "arrowwidth": 1
          },
          "coloraxis": {
           "colorbar": {
            "outlinewidth": 0,
            "ticks": ""
           }
          },
          "colorscale": {
           "diverging": [
            [
             0,
             "#8e0152"
            ],
            [
             0.1,
             "#c51b7d"
            ],
            [
             0.2,
             "#de77ae"
            ],
            [
             0.3,
             "#f1b6da"
            ],
            [
             0.4,
             "#fde0ef"
            ],
            [
             0.5,
             "#f7f7f7"
            ],
            [
             0.6,
             "#e6f5d0"
            ],
            [
             0.7,
             "#b8e186"
            ],
            [
             0.8,
             "#7fbc41"
            ],
            [
             0.9,
             "#4d9221"
            ],
            [
             1,
             "#276419"
            ]
           ],
           "sequential": [
            [
             0,
             "#0d0887"
            ],
            [
             0.1111111111111111,
             "#46039f"
            ],
            [
             0.2222222222222222,
             "#7201a8"
            ],
            [
             0.3333333333333333,
             "#9c179e"
            ],
            [
             0.4444444444444444,
             "#bd3786"
            ],
            [
             0.5555555555555556,
             "#d8576b"
            ],
            [
             0.6666666666666666,
             "#ed7953"
            ],
            [
             0.7777777777777778,
             "#fb9f3a"
            ],
            [
             0.8888888888888888,
             "#fdca26"
            ],
            [
             1,
             "#f0f921"
            ]
           ],
           "sequentialminus": [
            [
             0,
             "#0d0887"
            ],
            [
             0.1111111111111111,
             "#46039f"
            ],
            [
             0.2222222222222222,
             "#7201a8"
            ],
            [
             0.3333333333333333,
             "#9c179e"
            ],
            [
             0.4444444444444444,
             "#bd3786"
            ],
            [
             0.5555555555555556,
             "#d8576b"
            ],
            [
             0.6666666666666666,
             "#ed7953"
            ],
            [
             0.7777777777777778,
             "#fb9f3a"
            ],
            [
             0.8888888888888888,
             "#fdca26"
            ],
            [
             1,
             "#f0f921"
            ]
           ]
          },
          "colorway": [
           "#636efa",
           "#EF553B",
           "#00cc96",
           "#ab63fa",
           "#FFA15A",
           "#19d3f3",
           "#FF6692",
           "#B6E880",
           "#FF97FF",
           "#FECB52"
          ],
          "font": {
           "color": "#2a3f5f"
          },
          "geo": {
           "bgcolor": "white",
           "lakecolor": "white",
           "landcolor": "#E5ECF6",
           "showlakes": true,
           "showland": true,
           "subunitcolor": "white"
          },
          "hoverlabel": {
           "align": "left"
          },
          "hovermode": "closest",
          "mapbox": {
           "style": "light"
          },
          "paper_bgcolor": "white",
          "plot_bgcolor": "#E5ECF6",
          "polar": {
           "angularaxis": {
            "gridcolor": "white",
            "linecolor": "white",
            "ticks": ""
           },
           "bgcolor": "#E5ECF6",
           "radialaxis": {
            "gridcolor": "white",
            "linecolor": "white",
            "ticks": ""
           }
          },
          "scene": {
           "xaxis": {
            "backgroundcolor": "#E5ECF6",
            "gridcolor": "white",
            "gridwidth": 2,
            "linecolor": "white",
            "showbackground": true,
            "ticks": "",
            "zerolinecolor": "white"
           },
           "yaxis": {
            "backgroundcolor": "#E5ECF6",
            "gridcolor": "white",
            "gridwidth": 2,
            "linecolor": "white",
            "showbackground": true,
            "ticks": "",
            "zerolinecolor": "white"
           },
           "zaxis": {
            "backgroundcolor": "#E5ECF6",
            "gridcolor": "white",
            "gridwidth": 2,
            "linecolor": "white",
            "showbackground": true,
            "ticks": "",
            "zerolinecolor": "white"
           }
          },
          "shapedefaults": {
           "line": {
            "color": "#2a3f5f"
           }
          },
          "ternary": {
           "aaxis": {
            "gridcolor": "white",
            "linecolor": "white",
            "ticks": ""
           },
           "baxis": {
            "gridcolor": "white",
            "linecolor": "white",
            "ticks": ""
           },
           "bgcolor": "#E5ECF6",
           "caxis": {
            "gridcolor": "white",
            "linecolor": "white",
            "ticks": ""
           }
          },
          "title": {
           "x": 0.05
          },
          "xaxis": {
           "automargin": true,
           "gridcolor": "white",
           "linecolor": "white",
           "ticks": "",
           "title": {
            "standoff": 15
           },
           "zerolinecolor": "white",
           "zerolinewidth": 2
          },
          "yaxis": {
           "automargin": true,
           "gridcolor": "white",
           "linecolor": "white",
           "ticks": "",
           "title": {
            "standoff": 15
           },
           "zerolinecolor": "white",
           "zerolinewidth": 2
          }
         }
        },
        "title": {
         "text": "Cycle of 30 random aircraft_id"
        },
        "xaxis": {
         "title": {
          "text": "Time"
         }
        },
        "yaxis": {
         "title": {
          "text": "Cycle"
         }
        }
       }
      },
      "text/html": [
       "<div>                            <div id=\"039b9349-2b67-4a88-9e52-3fdd355e326a\" class=\"plotly-graph-div\" style=\"height:525px; width:100%;\"></div>            <script type=\"text/javascript\">                require([\"plotly\"], function(Plotly) {                    window.PLOTLYENV=window.PLOTLYENV || {};                                    if (document.getElementById(\"039b9349-2b67-4a88-9e52-3fdd355e326a\")) {                    Plotly.newPlot(                        \"039b9349-2b67-4a88-9e52-3fdd355e326a\",                        [{\"name\": \"fbf1797b-9919-44e8-8bb1-13ca5a3f90b7\", \"type\": \"scatter\", \"x\": [\"12-03-12:27:52 PM\", \"12-03-12:28:34 PM\", \"12-03-12:29:18 PM\", \"12-03-12:30:01 PM\", \"12-03-12:30:44 PM\", \"12-03-12:31:27 PM\", \"12-03-12:32:10 PM\", \"12-03-12:32:54 PM\", \"12-03-12:33:37 PM\", \"12-03-12:34:20 PM\", \"12-03-12:35:03 PM\", \"12-03-12:35:45 PM\", \"12-03-12:36:28 PM\", \"12-03-12:37:08 PM\", \"12-03-12:37:48 PM\", \"12-03-12:38:27 PM\", \"12-03-12:39:05 PM\", \"12-03-12:39:44 PM\", \"12-03-12:40:22 PM\", \"12-03-12:41:01 PM\", \"12-03-12:41:41 PM\", \"12-03-12:42:21 PM\", \"12-03-12:43:00 PM\", \"12-03-12:43:41 PM\", \"12-03-12:44:20 PM\", \"12-03-12:44:59 PM\", \"12-03-12:45:38 PM\", \"12-03-12:46:18 PM\", \"12-03-12:46:59 PM\", \"12-03-12:47:39 PM\", \"12-03-12:48:19 PM\", \"12-03-12:48:59 PM\", \"12-03-12:49:39 PM\", \"12-03-12:50:20 PM\", \"12-03-12:51:00 PM\", \"12-03-12:51:39 PM\", \"12-03-12:52:17 PM\", \"12-03-12:52:54 PM\", \"12-03-12:53:31 PM\", \"12-03-12:54:09 PM\", \"12-03-12:54:46 PM\", \"12-03-12:55:23 PM\", \"12-03-12:56:01 PM\", \"12-03-12:56:38 PM\", \"12-03-12:57:14 PM\", \"12-03-12:57:51 PM\", \"12-03-12:58:27 PM\", \"12-03-12:59:03 PM\", \"12-03-12:59:39 PM\", \"12-03-01:00:15 PM\", \"12-03-01:00:51 PM\", \"12-03-01:01:28 PM\", \"12-03-01:02:04 PM\", \"12-03-01:02:40 PM\", \"12-03-01:03:16 PM\", \"12-03-01:03:53 PM\", \"12-03-01:04:30 PM\", \"12-03-01:05:07 PM\", \"12-03-01:05:43 PM\", \"12-03-01:06:20 PM\", \"12-03-01:06:57 PM\", \"12-03-01:07:34 PM\", \"12-03-01:08:11 PM\", \"12-03-01:08:49 PM\", \"12-03-01:09:27 PM\", \"12-03-01:10:06 PM\", \"12-03-01:10:45 PM\", \"12-03-01:11:23 PM\", \"12-03-01:12:01 PM\", \"12-03-01:12:38 PM\", \"12-03-01:13:14 PM\", \"12-03-01:13:50 PM\", \"12-03-01:14:26 PM\", \"12-03-01:15:02 PM\", \"12-03-01:15:40 PM\", \"12-03-01:16:18 PM\", \"12-03-01:16:56 PM\", \"12-03-01:17:34 PM\", \"12-03-01:18:12 PM\", \"12-03-01:18:49 PM\", \"12-03-01:19:27 PM\", \"12-03-01:20:05 PM\", \"12-03-01:20:43 PM\", \"12-03-01:21:21 PM\", \"12-03-01:22:00 PM\", \"12-03-01:22:39 PM\", \"12-03-01:23:19 PM\", \"12-03-01:23:57 PM\", \"12-03-01:24:35 PM\", \"12-03-01:25:13 PM\", \"12-03-01:25:50 PM\", \"12-03-01:26:28 PM\", \"12-03-01:27:05 PM\", \"12-03-01:27:43 PM\", \"12-03-01:28:21 PM\", \"12-03-01:28:59 PM\", \"12-03-01:29:37 PM\", \"12-03-01:30:15 PM\", \"12-03-01:30:53 PM\", \"12-03-01:31:30 PM\", \"12-03-01:32:07 PM\", \"12-03-01:32:44 PM\", \"12-03-01:33:21 PM\", \"12-03-01:33:59 PM\", \"12-03-01:34:36 PM\", \"12-03-01:35:13 PM\", \"12-03-01:35:49 PM\", \"12-03-01:36:25 PM\", \"12-03-01:37:00 PM\", \"12-03-01:37:36 PM\", \"12-03-01:38:12 PM\", \"12-03-01:38:48 PM\", \"12-03-01:39:24 PM\", \"12-03-01:40:01 PM\", \"12-03-01:40:38 PM\", \"12-03-01:41:16 PM\", \"12-03-01:41:52 PM\", \"12-03-01:42:28 PM\", \"12-03-01:43:04 PM\", \"12-03-01:43:41 PM\", \"12-03-01:44:19 PM\", \"12-03-01:44:55 PM\", \"12-03-01:45:29 PM\"], \"y\": [0, 1, 2, 3, 4, 5, 6, 7, 8, 9, 10, 11, 12, 13, 14, 15, 16, 17, 18, 19, 20, 21, 22, 23, 24, 25, 26, 27, 28, 29, 30, 31, 32, 33, 34, 35, 36, 37, 38, 39, 40, 41, 42, 43, 44, 45, 46, 47, 48, 49, 50, 51, 52, 53, 54, 55, 56, 57, 58, 59, 60, 61, 62, 63, 64, 65, 66, 67, 68, 69, 70, 71, 72, 73, 74, 75, 76, 77, 78, 79, 80, 81, 82, 83, 84, 85, 86, 87, 88, 89, 90, 91, 92, 93, 94, 95, 96, 97, 98, 99, 100, 101, 102, 103, 104, 105, 106, 107, 108, 109, 110, 111, 112, 113, 114, 115, 116, 117, 118, 119, 120, 121, 122]}, {\"name\": \"fbf1797b-9919-44e8-8bb1-13ca5a3f90b7\", \"type\": \"scatter\", \"x\": [\"12-03-10:50:10 AM\", \"12-03-10:51:01 AM\", \"12-03-10:51:53 AM\", \"12-03-10:52:44 AM\", \"12-03-10:53:34 AM\", \"12-03-10:54:23 AM\", \"12-03-10:55:14 AM\", \"12-03-10:56:03 AM\", \"12-03-10:56:51 AM\", \"12-03-10:57:38 AM\", \"12-03-10:58:25 AM\", \"12-03-10:59:13 AM\", \"12-03-11:00:00 AM\", \"12-03-11:00:47 AM\", \"12-03-11:01:34 AM\", \"12-03-11:02:21 AM\", \"12-03-11:03:07 AM\", \"12-03-11:03:53 AM\", \"12-03-11:04:38 AM\", \"12-03-11:05:23 AM\", \"12-03-11:06:09 AM\", \"12-03-11:06:55 AM\", \"12-03-11:07:40 AM\", \"12-03-11:08:26 AM\", \"12-03-11:09:12 AM\", \"12-03-11:09:59 AM\", \"12-03-11:10:45 AM\", \"12-03-11:11:31 AM\", \"12-03-11:12:16 AM\", \"12-03-11:13:00 AM\", \"12-03-11:13:45 AM\", \"12-03-11:14:30 AM\", \"12-03-11:15:13 AM\", \"12-03-11:15:56 AM\", \"12-03-11:16:39 AM\", \"12-03-11:17:23 AM\", \"12-03-11:18:05 AM\", \"12-03-11:18:47 AM\", \"12-03-11:19:30 AM\", \"12-03-11:20:14 AM\", \"12-03-11:20:59 AM\", \"12-03-11:21:43 AM\", \"12-03-11:22:28 AM\", \"12-03-11:23:13 AM\", \"12-03-11:23:59 AM\", \"12-03-11:24:44 AM\", \"12-03-11:25:29 AM\", \"12-03-11:26:13 AM\", \"12-03-11:26:57 AM\", \"12-03-11:27:42 AM\", \"12-03-11:28:26 AM\", \"12-03-11:29:10 AM\", \"12-03-11:29:54 AM\", \"12-03-11:30:38 AM\", \"12-03-11:31:22 AM\", \"12-03-11:32:05 AM\", \"12-03-11:32:48 AM\", \"12-03-11:33:31 AM\", \"12-03-11:34:13 AM\", \"12-03-11:34:55 AM\", \"12-03-11:35:36 AM\", \"12-03-11:36:17 AM\", \"12-03-11:36:58 AM\", \"12-03-11:37:39 AM\", \"12-03-11:38:21 AM\"], \"y\": [98, 99, 100, 101, 102, 103, 104, 105, 106, 107, 108, 109, 110, 111, 112, 113, 114, 115, 116, 117, 118, 119, 120, 121, 122, 123, 124, 125, 126, 127, 128, 129, 130, 131, 132, 133, 134, 135, 136, 137, 138, 139, 140, 141, 142, 143, 144, 145, 146, 147, 148, 149, 150, 151, 152, 153, 154, 155, 156, 157, 158, 159, 160, 161, 162]}, {\"name\": \"fbf1797b-9919-44e8-8bb1-13ca5a3f90b7\", \"type\": \"scatter\", \"x\": [\"12-03-10:49:46 AM\", \"12-03-10:50:37 AM\", \"12-03-10:51:28 AM\", \"12-03-10:52:20 AM\", \"12-03-10:53:11 AM\", \"12-03-10:54:01 AM\", \"12-03-10:54:51 AM\", \"12-03-10:55:41 AM\", \"12-03-10:56:30 AM\", \"12-03-10:57:17 AM\", \"12-03-10:58:04 AM\", \"12-03-10:58:52 AM\", \"12-03-10:59:39 AM\", \"12-03-11:00:26 AM\", \"12-03-11:01:13 AM\", \"12-03-11:02:00 AM\", \"12-03-11:02:47 AM\", \"12-03-11:03:33 AM\", \"12-03-11:04:19 AM\", \"12-03-11:05:04 AM\", \"12-03-11:05:49 AM\", \"12-03-11:06:36 AM\", \"12-03-11:07:23 AM\", \"12-03-11:08:09 AM\", \"12-03-11:08:55 AM\", \"12-03-11:09:42 AM\", \"12-03-11:10:28 AM\", \"12-03-11:11:14 AM\", \"12-03-11:12:00 AM\", \"12-03-11:12:45 AM\", \"12-03-11:13:30 AM\", \"12-03-11:14:15 AM\", \"12-03-11:15:00 AM\", \"12-03-11:15:43 AM\", \"12-03-11:16:26 AM\", \"12-03-11:17:10 AM\", \"12-03-11:17:53 AM\", \"12-03-11:18:35 AM\", \"12-03-11:19:18 AM\", \"12-03-11:20:02 AM\", \"12-03-11:20:47 AM\", \"12-03-11:21:31 AM\", \"12-03-11:22:16 AM\", \"12-03-11:23:01 AM\", \"12-03-11:23:46 AM\", \"12-03-11:24:32 AM\", \"12-03-11:25:17 AM\", \"12-03-11:26:02 AM\", \"12-03-11:26:46 AM\", \"12-03-11:27:30 AM\", \"12-03-11:28:15 AM\", \"12-03-11:28:59 AM\", \"12-03-11:29:43 AM\", \"12-03-11:30:27 AM\", \"12-03-11:31:11 AM\", \"12-03-11:31:54 AM\", \"12-03-11:32:37 AM\", \"12-03-11:33:20 AM\"], \"y\": [187, 188, 189, 190, 191, 192, 193, 194, 195, 196, 197, 198, 199, 200, 201, 202, 203, 204, 205, 206, 207, 208, 209, 210, 211, 212, 213, 214, 215, 216, 217, 218, 219, 220, 221, 222, 223, 224, 225, 226, 227, 228, 229, 230, 231, 232, 233, 234, 235, 236, 237, 238, 239, 240, 241, 242, 243, 244]}, {\"name\": \"fbf1797b-9919-44e8-8bb1-13ca5a3f90b7\", \"type\": \"scatter\", \"x\": [\"12-03-10:50:15 AM\", \"12-03-10:51:06 AM\", \"12-03-10:51:58 AM\", \"12-03-10:52:49 AM\", \"12-03-10:53:39 AM\", \"12-03-10:54:28 AM\", \"12-03-10:55:19 AM\", \"12-03-10:56:08 AM\", \"12-03-10:56:56 AM\", \"12-03-10:57:43 AM\", \"12-03-10:58:30 AM\", \"12-03-10:59:18 AM\", \"12-03-11:00:05 AM\", \"12-03-11:00:52 AM\", \"12-03-11:01:39 AM\", \"12-03-11:02:26 AM\", \"12-03-11:03:12 AM\", \"12-03-11:03:58 AM\", \"12-03-11:04:43 AM\", \"12-03-11:05:28 AM\", \"12-03-11:06:14 AM\", \"12-03-11:07:00 AM\", \"12-03-11:07:45 AM\", \"12-03-11:08:31 AM\", \"12-03-11:09:17 AM\", \"12-03-11:10:04 AM\", \"12-03-11:10:50 AM\", \"12-03-11:11:36 AM\", \"12-03-11:12:21 AM\", \"12-03-11:13:05 AM\", \"12-03-11:13:50 AM\", \"12-03-11:14:35 AM\", \"12-03-11:15:18 AM\", \"12-03-11:16:01 AM\", \"12-03-11:16:45 AM\", \"12-03-11:17:28 AM\", \"12-03-11:18:10 AM\", \"12-03-11:18:52 AM\", \"12-03-11:19:35 AM\", \"12-03-11:20:19 AM\", \"12-03-11:21:04 AM\", \"12-03-11:21:48 AM\", \"12-03-11:22:33 AM\", \"12-03-11:23:18 AM\", \"12-03-11:24:04 AM\", \"12-03-11:24:49 AM\", \"12-03-11:25:34 AM\", \"12-03-11:26:18 AM\", \"12-03-11:27:02 AM\", \"12-03-11:27:47 AM\", \"12-03-11:28:31 AM\", \"12-03-11:29:15 AM\", \"12-03-11:29:59 AM\", \"12-03-11:30:42 AM\", \"12-03-11:31:26 AM\", \"12-03-11:32:09 AM\", \"12-03-11:32:52 AM\", \"12-03-11:33:35 AM\", \"12-03-11:34:17 AM\", \"12-03-11:34:59 AM\", \"12-03-11:35:40 AM\", \"12-03-11:36:21 AM\", \"12-03-11:37:02 AM\", \"12-03-11:37:43 AM\", \"12-03-11:38:26 AM\", \"12-03-11:39:06 AM\", \"12-03-11:39:46 AM\", \"12-03-11:40:27 AM\", \"12-03-11:41:08 AM\", \"12-03-11:41:49 AM\", \"12-03-11:42:32 AM\", \"12-03-11:43:14 AM\", \"12-03-11:43:55 AM\", \"12-03-11:44:36 AM\", \"12-03-11:45:17 AM\", \"12-03-11:45:58 AM\", \"12-03-11:46:38 AM\", \"12-03-11:47:17 AM\", \"12-03-11:47:56 AM\", \"12-03-11:48:36 AM\", \"12-03-11:49:17 AM\", \"12-03-11:49:58 AM\", \"12-03-11:50:39 AM\", \"12-03-11:51:20 AM\", \"12-03-11:52:01 AM\", \"12-03-11:52:42 AM\", \"12-03-11:53:24 AM\", \"12-03-11:54:04 AM\", \"12-03-11:54:45 AM\", \"12-03-11:55:26 AM\", \"12-03-11:56:07 AM\", \"12-03-11:56:48 AM\", \"12-03-11:57:28 AM\", \"12-03-11:58:08 AM\", \"12-03-11:58:48 AM\", \"12-03-11:59:28 AM\", \"12-03-12:00:10 PM\", \"12-03-12:00:51 PM\", \"12-03-12:01:32 PM\", \"12-03-12:02:13 PM\"], \"y\": [76, 77, 78, 79, 80, 81, 82, 83, 84, 85, 86, 87, 88, 89, 90, 91, 92, 93, 94, 95, 96, 97, 98, 99, 100, 101, 102, 103, 104, 105, 106, 107, 108, 109, 110, 111, 112, 113, 114, 115, 116, 117, 118, 119, 120, 121, 122, 123, 124, 125, 126, 127, 128, 129, 130, 131, 132, 133, 134, 135, 136, 137, 138, 139, 140, 141, 142, 143, 144, 145, 146, 147, 148, 149, 150, 151, 152, 153, 154, 155, 156, 157, 158, 159, 160, 161, 162, 163, 164, 165, 166, 167, 168, 169, 170, 171, 172, 173, 174, 175]}, {\"name\": \"fbf1797b-9919-44e8-8bb1-13ca5a3f90b7\", \"type\": \"scatter\", \"x\": [\"12-03-01:30:33 PM\", \"12-03-01:31:11 PM\", \"12-03-01:31:48 PM\", \"12-03-01:32:25 PM\", \"12-03-01:33:02 PM\", \"12-03-01:33:40 PM\", \"12-03-01:34:17 PM\", \"12-03-01:34:54 PM\", \"12-03-01:35:31 PM\", \"12-03-01:36:07 PM\", \"12-03-01:36:43 PM\", \"12-03-01:37:19 PM\", \"12-03-01:37:54 PM\", \"12-03-01:38:30 PM\", \"12-03-01:39:06 PM\", \"12-03-01:39:42 PM\", \"12-03-01:40:19 PM\", \"12-03-01:40:57 PM\", \"12-03-01:41:34 PM\", \"12-03-01:42:10 PM\", \"12-03-01:42:46 PM\", \"12-03-01:43:22 PM\", \"12-03-01:43:59 PM\", \"12-03-01:44:37 PM\", \"12-03-01:45:13 PM\"], \"y\": [0, 1, 2, 3, 4, 5, 6, 7, 8, 9, 10, 11, 12, 13, 14, 15, 16, 17, 18, 19, 20, 21, 22, 23, 24]}, {\"name\": \"fbf1797b-9919-44e8-8bb1-13ca5a3f90b7\", \"type\": \"scatter\", \"x\": [\"12-03-10:49:59 AM\", \"12-03-10:50:50 AM\", \"12-03-10:51:42 AM\", \"12-03-10:52:33 AM\", \"12-03-10:53:24 AM\", \"12-03-10:54:13 AM\", \"12-03-10:55:03 AM\", \"12-03-10:55:53 AM\", \"12-03-10:56:41 AM\", \"12-03-10:57:28 AM\", \"12-03-10:58:15 AM\", \"12-03-10:59:03 AM\", \"12-03-10:59:50 AM\", \"12-03-11:00:37 AM\", \"12-03-11:01:24 AM\", \"12-03-11:02:10 AM\", \"12-03-11:02:57 AM\", \"12-03-11:03:43 AM\", \"12-03-11:04:28 AM\", \"12-03-11:05:13 AM\", \"12-03-11:05:59 AM\", \"12-03-11:06:45 AM\", \"12-03-11:07:30 AM\", \"12-03-11:08:16 AM\", \"12-03-11:09:02 AM\", \"12-03-11:09:49 AM\", \"12-03-11:10:35 AM\", \"12-03-11:11:21 AM\", \"12-03-11:12:07 AM\", \"12-03-11:12:52 AM\", \"12-03-11:13:37 AM\", \"12-03-11:14:22 AM\", \"12-03-11:15:06 AM\", \"12-03-11:15:49 AM\", \"12-03-11:16:32 AM\", \"12-03-11:17:16 AM\", \"12-03-11:17:58 AM\", \"12-03-11:18:40 AM\", \"12-03-11:19:23 AM\", \"12-03-11:20:07 AM\", \"12-03-11:20:52 AM\", \"12-03-11:21:36 AM\", \"12-03-11:22:21 AM\", \"12-03-11:23:06 AM\", \"12-03-11:23:51 AM\", \"12-03-11:24:37 AM\", \"12-03-11:25:22 AM\"], \"y\": [143, 144, 145, 146, 147, 148, 149, 150, 151, 152, 153, 154, 155, 156, 157, 158, 159, 160, 161, 162, 163, 164, 165, 166, 167, 168, 169, 170, 171, 172, 173, 174, 175, 176, 177, 178, 179, 180, 181, 182, 183, 184, 185, 186, 187, 188, 189]}, {\"name\": \"fbf1797b-9919-44e8-8bb1-13ca5a3f90b7\", \"type\": \"scatter\", \"x\": [\"12-03-10:49:39 AM\", \"12-03-10:50:30 AM\", \"12-03-10:51:21 AM\", \"12-03-10:52:13 AM\", \"12-03-10:53:04 AM\", \"12-03-10:53:54 AM\", \"12-03-10:54:43 AM\", \"12-03-10:55:34 AM\", \"12-03-10:56:23 AM\", \"12-03-10:57:11 AM\", \"12-03-10:57:58 AM\", \"12-03-10:58:46 AM\", \"12-03-10:59:33 AM\", \"12-03-11:00:20 AM\", \"12-03-11:01:07 AM\", \"12-03-11:01:54 AM\", \"12-03-11:02:41 AM\", \"12-03-11:03:27 AM\", \"12-03-11:04:13 AM\", \"12-03-11:04:58 AM\", \"12-03-11:05:43 AM\", \"12-03-11:06:29 AM\", \"12-03-11:07:15 AM\", \"12-03-11:08:00 AM\", \"12-03-11:08:46 AM\", \"12-03-11:09:33 AM\", \"12-03-11:10:19 AM\", \"12-03-11:11:05 AM\", \"12-03-11:11:51 AM\", \"12-03-11:12:36 AM\", \"12-03-11:13:21 AM\", \"12-03-11:14:05 AM\", \"12-03-11:14:50 AM\", \"12-03-11:15:33 AM\", \"12-03-11:16:16 AM\", \"12-03-11:17:00 AM\", \"12-03-11:17:43 AM\", \"12-03-11:18:25 AM\", \"12-03-11:19:07 AM\", \"12-03-11:19:50 AM\", \"12-03-11:20:35 AM\", \"12-03-11:21:19 AM\", \"12-03-11:22:03 AM\", \"12-03-11:22:48 AM\", \"12-03-11:23:33 AM\", \"12-03-11:24:19 AM\", \"12-03-11:25:04 AM\", \"12-03-11:25:49 AM\", \"12-03-11:26:33 AM\", \"12-03-11:27:17 AM\", \"12-03-11:28:02 AM\", \"12-03-11:28:46 AM\", \"12-03-11:29:30 AM\", \"12-03-11:30:14 AM\", \"12-03-11:30:57 AM\", \"12-03-11:31:41 AM\", \"12-03-11:32:24 AM\", \"12-03-11:33:07 AM\", \"12-03-11:33:50 AM\", \"12-03-11:34:32 AM\", \"12-03-11:35:14 AM\", \"12-03-11:35:55 AM\", \"12-03-11:36:36 AM\", \"12-03-11:37:17 AM\", \"12-03-11:37:58 AM\", \"12-03-11:38:41 AM\", \"12-03-11:39:21 AM\", \"12-03-11:40:01 AM\", \"12-03-11:40:42 AM\", \"12-03-11:41:23 AM\", \"12-03-11:42:05 AM\", \"12-03-11:42:47 AM\", \"12-03-11:43:29 AM\", \"12-03-11:44:10 AM\", \"12-03-11:44:51 AM\", \"12-03-11:45:32 AM\", \"12-03-11:46:13 AM\", \"12-03-11:46:52 AM\", \"12-03-11:47:31 AM\", \"12-03-11:48:10 AM\", \"12-03-11:48:50 AM\", \"12-03-11:49:31 AM\", \"12-03-11:50:12 AM\", \"12-03-11:50:53 AM\", \"12-03-11:51:34 AM\", \"12-03-11:52:15 AM\", \"12-03-11:52:57 AM\", \"12-03-11:53:38 AM\", \"12-03-11:54:18 AM\", \"12-03-11:54:59 AM\", \"12-03-11:55:40 AM\", \"12-03-11:56:21 AM\", \"12-03-11:57:02 AM\", \"12-03-11:57:42 AM\", \"12-03-11:58:22 AM\", \"12-03-11:59:02 AM\", \"12-03-11:59:42 AM\", \"12-03-12:00:24 PM\", \"12-03-12:01:05 PM\", \"12-03-12:01:46 PM\", \"12-03-12:02:27 PM\", \"12-03-12:03:07 PM\", \"12-03-12:03:48 PM\", \"12-03-12:04:27 PM\", \"12-03-12:05:05 PM\", \"12-03-12:05:43 PM\", \"12-03-12:06:22 PM\", \"12-03-12:07:02 PM\", \"12-03-12:07:43 PM\", \"12-03-12:08:23 PM\", \"12-03-12:09:03 PM\", \"12-03-12:09:43 PM\", \"12-03-12:10:23 PM\", \"12-03-12:11:05 PM\", \"12-03-12:11:46 PM\", \"12-03-12:12:28 PM\", \"12-03-12:13:11 PM\", \"12-03-12:13:54 PM\", \"12-03-12:14:38 PM\", \"12-03-12:15:21 PM\", \"12-03-12:16:04 PM\", \"12-03-12:16:47 PM\", \"12-03-12:17:30 PM\", \"12-03-12:18:14 PM\", \"12-03-12:18:57 PM\", \"12-03-12:19:40 PM\", \"12-03-12:20:23 PM\", \"12-03-12:21:06 PM\", \"12-03-12:21:50 PM\", \"12-03-12:22:33 PM\", \"12-03-12:23:16 PM\", \"12-03-12:23:59 PM\", \"12-03-12:24:41 PM\", \"12-03-12:25:24 PM\", \"12-03-12:26:05 PM\", \"12-03-12:26:46 PM\", \"12-03-12:27:27 PM\", \"12-03-12:28:09 PM\", \"12-03-12:28:53 PM\", \"12-03-12:29:36 PM\", \"12-03-12:30:19 PM\", \"12-03-12:31:02 PM\", \"12-03-12:31:45 PM\", \"12-03-12:32:29 PM\", \"12-03-12:33:12 PM\", \"12-03-12:33:55 PM\", \"12-03-12:34:38 PM\", \"12-03-12:35:20 PM\", \"12-03-12:36:03 PM\", \"12-03-12:36:43 PM\", \"12-03-12:37:23 PM\", \"12-03-12:38:02 PM\", \"12-03-12:38:40 PM\", \"12-03-12:39:18 PM\", \"12-03-12:39:57 PM\", \"12-03-12:40:36 PM\", \"12-03-12:41:16 PM\", \"12-03-12:41:56 PM\", \"12-03-12:42:35 PM\", \"12-03-12:43:16 PM\", \"12-03-12:43:55 PM\", \"12-03-12:44:34 PM\", \"12-03-12:45:13 PM\", \"12-03-12:45:53 PM\", \"12-03-12:46:33 PM\", \"12-03-12:47:14 PM\", \"12-03-12:47:54 PM\", \"12-03-12:48:34 PM\", \"12-03-12:49:14 PM\", \"12-03-12:49:54 PM\", \"12-03-12:50:35 PM\", \"12-03-12:51:14 PM\", \"12-03-12:51:52 PM\", \"12-03-12:52:29 PM\", \"12-03-12:53:06 PM\", \"12-03-12:53:43 PM\", \"12-03-12:54:21 PM\", \"12-03-12:54:58 PM\", \"12-03-12:55:36 PM\", \"12-03-12:56:14 PM\", \"12-03-12:56:51 PM\", \"12-03-12:57:27 PM\", \"12-03-12:58:04 PM\", \"12-03-12:58:40 PM\", \"12-03-12:59:16 PM\", \"12-03-12:59:52 PM\"], \"y\": [8, 9, 10, 11, 12, 13, 14, 15, 16, 17, 18, 19, 20, 21, 22, 23, 24, 25, 26, 27, 28, 29, 30, 31, 32, 33, 34, 35, 36, 37, 38, 39, 40, 41, 42, 43, 44, 45, 46, 47, 48, 49, 50, 51, 52, 53, 54, 55, 56, 57, 58, 59, 60, 61, 62, 63, 64, 65, 66, 67, 68, 69, 70, 71, 72, 73, 74, 75, 76, 77, 78, 79, 80, 81, 82, 83, 84, 85, 86, 87, 88, 89, 90, 91, 92, 93, 94, 95, 96, 97, 98, 99, 100, 101, 102, 103, 104, 105, 106, 107, 108, 109, 110, 111, 112, 113, 114, 115, 116, 117, 118, 119, 120, 121, 122, 123, 124, 125, 126, 127, 128, 129, 130, 131, 132, 133, 134, 135, 136, 137, 138, 139, 140, 141, 142, 143, 144, 145, 146, 147, 148, 149, 150, 151, 152, 153, 154, 155, 156, 157, 158, 159, 160, 161, 162, 163, 164, 165, 166, 167, 168, 169, 170, 171, 172, 173, 174, 175, 176, 177, 178, 179, 180, 181, 182, 183, 184, 185, 186, 187, 188, 189, 190, 191, 192, 193]}, {\"name\": \"fbf1797b-9919-44e8-8bb1-13ca5a3f90b7\", \"type\": \"scatter\", \"x\": [\"12-03-10:50:00 AM\", \"12-03-10:50:51 AM\", \"12-03-10:51:43 AM\", \"12-03-10:52:34 AM\"], \"y\": [140, 141, 142, 143]}, {\"name\": \"fbf1797b-9919-44e8-8bb1-13ca5a3f90b7\", \"type\": \"scatter\", \"x\": [\"12-03-12:27:52 PM\", \"12-03-12:28:34 PM\", \"12-03-12:29:18 PM\", \"12-03-12:30:01 PM\", \"12-03-12:30:44 PM\", \"12-03-12:31:27 PM\", \"12-03-12:32:10 PM\", \"12-03-12:32:54 PM\", \"12-03-12:33:37 PM\", \"12-03-12:34:20 PM\", \"12-03-12:35:03 PM\", \"12-03-12:35:45 PM\", \"12-03-12:36:28 PM\", \"12-03-12:37:08 PM\", \"12-03-12:37:48 PM\", \"12-03-12:38:27 PM\", \"12-03-12:39:05 PM\", \"12-03-12:39:44 PM\", \"12-03-12:40:22 PM\", \"12-03-12:41:01 PM\", \"12-03-12:41:41 PM\", \"12-03-12:42:21 PM\", \"12-03-12:43:00 PM\", \"12-03-12:43:41 PM\", \"12-03-12:44:20 PM\", \"12-03-12:44:59 PM\", \"12-03-12:45:38 PM\", \"12-03-12:46:18 PM\", \"12-03-12:46:59 PM\", \"12-03-12:47:39 PM\", \"12-03-12:48:19 PM\", \"12-03-12:48:59 PM\", \"12-03-12:49:39 PM\", \"12-03-12:50:20 PM\", \"12-03-12:51:00 PM\", \"12-03-12:51:39 PM\", \"12-03-12:52:17 PM\", \"12-03-12:52:54 PM\", \"12-03-12:53:31 PM\", \"12-03-12:54:09 PM\", \"12-03-12:54:46 PM\", \"12-03-12:55:23 PM\", \"12-03-12:56:01 PM\", \"12-03-12:56:38 PM\", \"12-03-12:57:14 PM\", \"12-03-12:57:51 PM\", \"12-03-12:58:27 PM\", \"12-03-12:59:03 PM\", \"12-03-12:59:39 PM\", \"12-03-01:00:15 PM\", \"12-03-01:00:51 PM\", \"12-03-01:01:28 PM\", \"12-03-01:02:04 PM\", \"12-03-01:02:40 PM\", \"12-03-01:03:16 PM\", \"12-03-01:03:53 PM\", \"12-03-01:04:30 PM\", \"12-03-01:05:07 PM\", \"12-03-01:05:43 PM\", \"12-03-01:06:20 PM\", \"12-03-01:06:57 PM\", \"12-03-01:07:34 PM\", \"12-03-01:08:11 PM\", \"12-03-01:08:49 PM\", \"12-03-01:09:27 PM\", \"12-03-01:10:06 PM\", \"12-03-01:10:45 PM\", \"12-03-01:11:23 PM\", \"12-03-01:12:01 PM\", \"12-03-01:12:38 PM\", \"12-03-01:13:14 PM\", \"12-03-01:13:50 PM\", \"12-03-01:14:26 PM\", \"12-03-01:15:02 PM\", \"12-03-01:15:40 PM\", \"12-03-01:16:18 PM\", \"12-03-01:16:56 PM\", \"12-03-01:17:34 PM\", \"12-03-01:18:12 PM\", \"12-03-01:18:49 PM\", \"12-03-01:19:27 PM\", \"12-03-01:20:05 PM\", \"12-03-01:20:43 PM\", \"12-03-01:21:21 PM\", \"12-03-01:22:00 PM\", \"12-03-01:22:39 PM\", \"12-03-01:23:19 PM\", \"12-03-01:23:57 PM\", \"12-03-01:24:35 PM\", \"12-03-01:25:13 PM\", \"12-03-01:25:50 PM\", \"12-03-01:26:28 PM\", \"12-03-01:27:05 PM\", \"12-03-01:27:43 PM\", \"12-03-01:28:21 PM\", \"12-03-01:28:59 PM\", \"12-03-01:29:37 PM\", \"12-03-01:30:15 PM\", \"12-03-01:30:53 PM\", \"12-03-01:31:30 PM\", \"12-03-01:32:07 PM\", \"12-03-01:32:44 PM\", \"12-03-01:33:21 PM\", \"12-03-01:33:59 PM\", \"12-03-01:34:36 PM\", \"12-03-01:35:13 PM\", \"12-03-01:35:49 PM\", \"12-03-01:36:25 PM\", \"12-03-01:37:00 PM\", \"12-03-01:37:36 PM\", \"12-03-01:38:12 PM\", \"12-03-01:38:48 PM\", \"12-03-01:39:24 PM\", \"12-03-01:40:01 PM\", \"12-03-01:40:38 PM\", \"12-03-01:41:16 PM\", \"12-03-01:41:52 PM\", \"12-03-01:42:28 PM\", \"12-03-01:43:04 PM\", \"12-03-01:43:41 PM\", \"12-03-01:44:19 PM\", \"12-03-01:44:55 PM\", \"12-03-01:45:29 PM\"], \"y\": [0, 1, 2, 3, 4, 5, 6, 7, 8, 9, 10, 11, 12, 13, 14, 15, 16, 17, 18, 19, 20, 21, 22, 23, 24, 25, 26, 27, 28, 29, 30, 31, 32, 33, 34, 35, 36, 37, 38, 39, 40, 41, 42, 43, 44, 45, 46, 47, 48, 49, 50, 51, 52, 53, 54, 55, 56, 57, 58, 59, 60, 61, 62, 63, 64, 65, 66, 67, 68, 69, 70, 71, 72, 73, 74, 75, 76, 77, 78, 79, 80, 81, 82, 83, 84, 85, 86, 87, 88, 89, 90, 91, 92, 93, 94, 95, 96, 97, 98, 99, 100, 101, 102, 103, 104, 105, 106, 107, 108, 109, 110, 111, 112, 113, 114, 115, 116, 117, 118, 119, 120, 121, 122]}, {\"name\": \"fbf1797b-9919-44e8-8bb1-13ca5a3f90b7\", \"type\": \"scatter\", \"x\": [\"12-03-12:12:09 PM\", \"12-03-12:12:51 PM\", \"12-03-12:13:34 PM\", \"12-03-12:14:17 PM\", \"12-03-12:15:01 PM\", \"12-03-12:15:44 PM\", \"12-03-12:16:27 PM\", \"12-03-12:17:10 PM\", \"12-03-12:17:53 PM\", \"12-03-12:18:37 PM\", \"12-03-12:19:20 PM\", \"12-03-12:20:03 PM\", \"12-03-12:20:46 PM\", \"12-03-12:21:29 PM\", \"12-03-12:22:13 PM\", \"12-03-12:22:56 PM\", \"12-03-12:23:39 PM\", \"12-03-12:24:22 PM\", \"12-03-12:25:04 PM\", \"12-03-12:25:47 PM\", \"12-03-12:26:28 PM\", \"12-03-12:27:09 PM\", \"12-03-12:27:50 PM\", \"12-03-12:28:32 PM\", \"12-03-12:29:16 PM\", \"12-03-12:29:59 PM\", \"12-03-12:30:42 PM\", \"12-03-12:31:25 PM\", \"12-03-12:32:08 PM\", \"12-03-12:32:52 PM\", \"12-03-12:33:35 PM\", \"12-03-12:34:18 PM\", \"12-03-12:35:01 PM\", \"12-03-12:35:43 PM\", \"12-03-12:36:26 PM\", \"12-03-12:37:06 PM\", \"12-03-12:37:46 PM\", \"12-03-12:38:25 PM\", \"12-03-12:39:03 PM\", \"12-03-12:39:42 PM\", \"12-03-12:40:20 PM\", \"12-03-12:40:59 PM\", \"12-03-12:41:39 PM\", \"12-03-12:42:19 PM\", \"12-03-12:42:58 PM\", \"12-03-12:43:39 PM\", \"12-03-12:44:18 PM\", \"12-03-12:44:57 PM\", \"12-03-12:45:36 PM\", \"12-03-12:46:16 PM\", \"12-03-12:46:57 PM\", \"12-03-12:47:37 PM\", \"12-03-12:48:17 PM\", \"12-03-12:48:57 PM\", \"12-03-12:49:37 PM\", \"12-03-12:50:18 PM\", \"12-03-12:50:58 PM\", \"12-03-12:51:37 PM\", \"12-03-12:52:15 PM\", \"12-03-12:52:52 PM\", \"12-03-12:53:29 PM\", \"12-03-12:54:07 PM\", \"12-03-12:54:44 PM\", \"12-03-12:55:21 PM\", \"12-03-12:55:59 PM\", \"12-03-12:56:36 PM\", \"12-03-12:57:12 PM\", \"12-03-12:57:49 PM\", \"12-03-12:58:25 PM\", \"12-03-12:59:01 PM\", \"12-03-12:59:37 PM\", \"12-03-01:00:13 PM\", \"12-03-01:00:49 PM\", \"12-03-01:01:26 PM\", \"12-03-01:02:02 PM\", \"12-03-01:02:38 PM\", \"12-03-01:03:14 PM\", \"12-03-01:03:51 PM\", \"12-03-01:04:28 PM\", \"12-03-01:05:05 PM\", \"12-03-01:05:41 PM\", \"12-03-01:06:18 PM\", \"12-03-01:06:55 PM\", \"12-03-01:07:32 PM\", \"12-03-01:08:09 PM\", \"12-03-01:08:47 PM\", \"12-03-01:09:25 PM\", \"12-03-01:10:04 PM\", \"12-03-01:10:43 PM\", \"12-03-01:11:21 PM\", \"12-03-01:11:59 PM\", \"12-03-01:12:36 PM\", \"12-03-01:13:12 PM\", \"12-03-01:13:48 PM\", \"12-03-01:14:24 PM\", \"12-03-01:15:00 PM\", \"12-03-01:15:38 PM\", \"12-03-01:16:16 PM\", \"12-03-01:16:54 PM\", \"12-03-01:17:32 PM\", \"12-03-01:18:10 PM\", \"12-03-01:18:47 PM\", \"12-03-01:19:25 PM\", \"12-03-01:20:03 PM\", \"12-03-01:20:41 PM\", \"12-03-01:21:19 PM\", \"12-03-01:21:58 PM\", \"12-03-01:22:37 PM\", \"12-03-01:23:17 PM\", \"12-03-01:23:55 PM\", \"12-03-01:24:33 PM\", \"12-03-01:25:11 PM\", \"12-03-01:25:48 PM\", \"12-03-01:26:26 PM\", \"12-03-01:27:03 PM\", \"12-03-01:27:41 PM\", \"12-03-01:28:19 PM\", \"12-03-01:28:57 PM\", \"12-03-01:29:35 PM\", \"12-03-01:30:13 PM\", \"12-03-01:30:51 PM\", \"12-03-01:31:28 PM\", \"12-03-01:32:05 PM\", \"12-03-01:32:42 PM\", \"12-03-01:33:19 PM\", \"12-03-01:33:57 PM\", \"12-03-01:34:34 PM\", \"12-03-01:35:11 PM\", \"12-03-01:35:47 PM\", \"12-03-01:36:23 PM\", \"12-03-01:36:58 PM\", \"12-03-01:37:34 PM\", \"12-03-01:38:10 PM\", \"12-03-01:38:46 PM\", \"12-03-01:39:22 PM\", \"12-03-01:39:59 PM\", \"12-03-01:40:36 PM\", \"12-03-01:41:14 PM\", \"12-03-01:41:50 PM\", \"12-03-01:42:26 PM\", \"12-03-01:43:02 PM\", \"12-03-01:43:39 PM\", \"12-03-01:44:16 PM\", \"12-03-01:44:53 PM\", \"12-03-01:45:27 PM\"], \"y\": [0, 1, 2, 3, 4, 5, 6, 7, 8, 9, 10, 11, 12, 13, 14, 15, 16, 17, 18, 19, 20, 21, 22, 23, 24, 25, 26, 27, 28, 29, 30, 31, 32, 33, 34, 35, 36, 37, 38, 39, 40, 41, 42, 43, 44, 45, 46, 47, 48, 49, 50, 51, 52, 53, 54, 55, 56, 57, 58, 59, 60, 61, 62, 63, 64, 65, 66, 67, 68, 69, 70, 71, 72, 73, 74, 75, 76, 77, 78, 79, 80, 81, 82, 83, 84, 85, 86, 87, 88, 89, 90, 91, 92, 93, 94, 95, 96, 97, 98, 99, 100, 101, 102, 103, 104, 105, 106, 107, 108, 109, 110, 111, 112, 113, 114, 115, 116, 117, 118, 119, 120, 121, 122, 123, 124, 125, 126, 127, 128, 129, 130, 131, 132, 133, 134, 135, 136, 137, 138, 139, 140, 141, 142, 143, 144]}, {\"name\": \"fbf1797b-9919-44e8-8bb1-13ca5a3f90b7\", \"type\": \"scatter\", \"x\": [\"12-03-01:09:38 PM\", \"12-03-01:10:17 PM\", \"12-03-01:10:56 PM\", \"12-03-01:11:34 PM\", \"12-03-01:12:12 PM\", \"12-03-01:12:49 PM\", \"12-03-01:13:25 PM\", \"12-03-01:14:01 PM\", \"12-03-01:14:37 PM\", \"12-03-01:15:13 PM\", \"12-03-01:15:51 PM\", \"12-03-01:16:29 PM\", \"12-03-01:17:07 PM\", \"12-03-01:17:45 PM\", \"12-03-01:18:23 PM\", \"12-03-01:19:00 PM\", \"12-03-01:19:38 PM\", \"12-03-01:20:16 PM\", \"12-03-01:20:54 PM\", \"12-03-01:21:32 PM\", \"12-03-01:22:11 PM\", \"12-03-01:22:51 PM\", \"12-03-01:23:30 PM\", \"12-03-01:24:08 PM\", \"12-03-01:24:46 PM\", \"12-03-01:25:24 PM\", \"12-03-01:26:01 PM\", \"12-03-01:26:39 PM\", \"12-03-01:27:16 PM\", \"12-03-01:27:54 PM\", \"12-03-01:28:32 PM\", \"12-03-01:29:10 PM\", \"12-03-01:29:48 PM\", \"12-03-01:30:26 PM\", \"12-03-01:31:04 PM\", \"12-03-01:31:41 PM\", \"12-03-01:32:18 PM\", \"12-03-01:32:55 PM\", \"12-03-01:33:33 PM\", \"12-03-01:34:10 PM\", \"12-03-01:34:47 PM\", \"12-03-01:35:24 PM\", \"12-03-01:36:00 PM\", \"12-03-01:36:36 PM\", \"12-03-01:37:12 PM\", \"12-03-01:37:47 PM\", \"12-03-01:38:23 PM\", \"12-03-01:38:59 PM\", \"12-03-01:39:35 PM\", \"12-03-01:40:12 PM\", \"12-03-01:40:50 PM\", \"12-03-01:41:27 PM\", \"12-03-01:42:03 PM\", \"12-03-01:42:39 PM\", \"12-03-01:43:15 PM\", \"12-03-01:43:52 PM\", \"12-03-01:44:30 PM\", \"12-03-01:45:06 PM\", \"12-03-01:45:40 PM\"], \"y\": [0, 1, 2, 3, 4, 5, 6, 7, 8, 9, 10, 11, 12, 13, 14, 15, 16, 17, 18, 19, 20, 21, 22, 23, 24, 25, 26, 27, 28, 29, 30, 31, 32, 33, 34, 35, 36, 37, 38, 39, 40, 41, 42, 43, 44, 45, 46, 47, 48, 49, 50, 51, 52, 53, 54, 55, 56, 57, 58]}, {\"name\": \"fbf1797b-9919-44e8-8bb1-13ca5a3f90b7\", \"type\": \"scatter\", \"x\": [\"12-03-12:45:43 PM\", \"12-03-12:46:23 PM\", \"12-03-12:47:04 PM\", \"12-03-12:47:44 PM\", \"12-03-12:48:24 PM\", \"12-03-12:49:04 PM\", \"12-03-12:49:44 PM\", \"12-03-12:50:25 PM\", \"12-03-12:51:05 PM\", \"12-03-12:51:44 PM\", \"12-03-12:52:22 PM\", \"12-03-12:52:59 PM\", \"12-03-12:53:36 PM\", \"12-03-12:54:14 PM\", \"12-03-12:54:51 PM\", \"12-03-12:55:28 PM\", \"12-03-12:56:06 PM\", \"12-03-12:56:43 PM\", \"12-03-12:57:19 PM\", \"12-03-12:57:56 PM\", \"12-03-12:58:32 PM\", \"12-03-12:59:08 PM\", \"12-03-12:59:44 PM\", \"12-03-01:00:20 PM\", \"12-03-01:00:56 PM\", \"12-03-01:01:33 PM\", \"12-03-01:02:09 PM\", \"12-03-01:02:45 PM\", \"12-03-01:03:21 PM\", \"12-03-01:03:58 PM\", \"12-03-01:04:35 PM\", \"12-03-01:05:12 PM\", \"12-03-01:05:48 PM\", \"12-03-01:06:25 PM\", \"12-03-01:07:02 PM\", \"12-03-01:07:39 PM\", \"12-03-01:08:16 PM\", \"12-03-01:08:54 PM\", \"12-03-01:09:32 PM\", \"12-03-01:10:11 PM\", \"12-03-01:10:50 PM\", \"12-03-01:11:28 PM\", \"12-03-01:12:06 PM\", \"12-03-01:12:43 PM\", \"12-03-01:13:19 PM\", \"12-03-01:13:55 PM\", \"12-03-01:14:31 PM\", \"12-03-01:15:07 PM\", \"12-03-01:15:45 PM\", \"12-03-01:16:23 PM\", \"12-03-01:17:01 PM\", \"12-03-01:17:39 PM\", \"12-03-01:18:17 PM\", \"12-03-01:18:54 PM\", \"12-03-01:19:32 PM\", \"12-03-01:20:10 PM\", \"12-03-01:20:48 PM\", \"12-03-01:21:26 PM\", \"12-03-01:22:05 PM\", \"12-03-01:22:45 PM\", \"12-03-01:23:24 PM\", \"12-03-01:24:02 PM\", \"12-03-01:24:40 PM\", \"12-03-01:25:18 PM\", \"12-03-01:25:55 PM\", \"12-03-01:26:33 PM\", \"12-03-01:27:10 PM\", \"12-03-01:27:48 PM\", \"12-03-01:28:26 PM\", \"12-03-01:29:04 PM\", \"12-03-01:29:42 PM\", \"12-03-01:30:20 PM\", \"12-03-01:30:58 PM\", \"12-03-01:31:35 PM\", \"12-03-01:32:12 PM\", \"12-03-01:32:49 PM\", \"12-03-01:33:26 PM\", \"12-03-01:34:04 PM\", \"12-03-01:34:41 PM\", \"12-03-01:35:18 PM\", \"12-03-01:35:54 PM\", \"12-03-01:36:30 PM\", \"12-03-01:37:05 PM\", \"12-03-01:37:41 PM\", \"12-03-01:38:17 PM\", \"12-03-01:38:53 PM\", \"12-03-01:39:29 PM\", \"12-03-01:40:06 PM\", \"12-03-01:40:44 PM\", \"12-03-01:41:21 PM\", \"12-03-01:41:57 PM\", \"12-03-01:42:33 PM\", \"12-03-01:43:09 PM\", \"12-03-01:43:46 PM\", \"12-03-01:44:24 PM\", \"12-03-01:45:00 PM\", \"12-03-01:45:34 PM\"], \"y\": [0, 1, 2, 3, 4, 5, 6, 7, 8, 9, 10, 11, 12, 13, 14, 15, 16, 17, 18, 19, 20, 21, 22, 23, 24, 25, 26, 27, 28, 29, 30, 31, 32, 33, 34, 35, 36, 37, 38, 39, 40, 41, 42, 43, 44, 45, 46, 47, 48, 49, 50, 51, 52, 53, 54, 55, 56, 57, 58, 59, 60, 61, 62, 63, 64, 65, 66, 67, 68, 69, 70, 71, 72, 73, 74, 75, 76, 77, 78, 79, 80, 81, 82, 83, 84, 85, 86, 87, 88, 89, 90, 91, 92, 93, 94, 95, 96]}, {\"name\": \"fbf1797b-9919-44e8-8bb1-13ca5a3f90b7\", \"type\": \"scatter\", \"x\": [\"12-03-11:38:10 AM\", \"12-03-11:38:53 AM\", \"12-03-11:39:33 AM\", \"12-03-11:40:13 AM\", \"12-03-11:40:54 AM\", \"12-03-11:41:35 AM\", \"12-03-11:42:17 AM\", \"12-03-11:42:59 AM\", \"12-03-11:43:41 AM\", \"12-03-11:44:22 AM\", \"12-03-11:45:03 AM\", \"12-03-11:45:45 AM\", \"12-03-11:46:25 AM\", \"12-03-11:47:04 AM\", \"12-03-11:47:43 AM\", \"12-03-11:48:22 AM\", \"12-03-11:49:02 AM\", \"12-03-11:49:43 AM\", \"12-03-11:50:24 AM\", \"12-03-11:51:05 AM\", \"12-03-11:51:46 AM\", \"12-03-11:52:27 AM\", \"12-03-11:53:09 AM\", \"12-03-11:53:50 AM\", \"12-03-11:54:30 AM\", \"12-03-11:55:11 AM\", \"12-03-11:55:52 AM\", \"12-03-11:56:34 AM\", \"12-03-11:57:14 AM\", \"12-03-11:57:54 AM\", \"12-03-11:58:34 AM\", \"12-03-11:59:14 AM\", \"12-03-11:59:54 AM\", \"12-03-12:00:36 PM\", \"12-03-12:01:17 PM\", \"12-03-12:01:58 PM\", \"12-03-12:02:39 PM\", \"12-03-12:03:19 PM\", \"12-03-12:04:00 PM\", \"12-03-12:04:39 PM\", \"12-03-12:05:17 PM\", \"12-03-12:05:55 PM\", \"12-03-12:06:34 PM\", \"12-03-12:07:14 PM\", \"12-03-12:07:55 PM\", \"12-03-12:08:35 PM\", \"12-03-12:09:15 PM\", \"12-03-12:09:55 PM\", \"12-03-12:10:35 PM\", \"12-03-12:11:17 PM\", \"12-03-12:11:58 PM\", \"12-03-12:12:40 PM\", \"12-03-12:13:23 PM\", \"12-03-12:14:06 PM\", \"12-03-12:14:50 PM\", \"12-03-12:15:33 PM\", \"12-03-12:16:16 PM\", \"12-03-12:16:59 PM\", \"12-03-12:17:42 PM\", \"12-03-12:18:26 PM\", \"12-03-12:19:09 PM\", \"12-03-12:19:52 PM\", \"12-03-12:20:35 PM\", \"12-03-12:21:18 PM\", \"12-03-12:22:02 PM\", \"12-03-12:22:45 PM\", \"12-03-12:23:28 PM\", \"12-03-12:24:11 PM\", \"12-03-12:24:53 PM\", \"12-03-12:25:36 PM\", \"12-03-12:26:17 PM\", \"12-03-12:26:58 PM\", \"12-03-12:27:39 PM\", \"12-03-12:28:21 PM\", \"12-03-12:29:05 PM\", \"12-03-12:29:48 PM\", \"12-03-12:30:31 PM\", \"12-03-12:31:14 PM\", \"12-03-12:31:57 PM\", \"12-03-12:32:41 PM\", \"12-03-12:33:24 PM\", \"12-03-12:34:07 PM\", \"12-03-12:34:50 PM\", \"12-03-12:35:32 PM\", \"12-03-12:36:15 PM\", \"12-03-12:36:55 PM\", \"12-03-12:37:35 PM\", \"12-03-12:38:14 PM\", \"12-03-12:38:52 PM\", \"12-03-12:39:30 PM\", \"12-03-12:40:09 PM\", \"12-03-12:40:48 PM\", \"12-03-12:41:28 PM\", \"12-03-12:42:08 PM\", \"12-03-12:42:47 PM\", \"12-03-12:43:28 PM\", \"12-03-12:44:07 PM\", \"12-03-12:44:46 PM\", \"12-03-12:45:25 PM\", \"12-03-12:46:05 PM\", \"12-03-12:46:46 PM\", \"12-03-12:47:26 PM\", \"12-03-12:48:06 PM\", \"12-03-12:48:46 PM\", \"12-03-12:49:26 PM\", \"12-03-12:50:06 PM\", \"12-03-12:50:47 PM\", \"12-03-12:51:26 PM\", \"12-03-12:52:04 PM\", \"12-03-12:52:41 PM\", \"12-03-12:53:18 PM\", \"12-03-12:53:55 PM\", \"12-03-12:54:33 PM\", \"12-03-12:55:10 PM\", \"12-03-12:55:48 PM\", \"12-03-12:56:25 PM\", \"12-03-12:57:01 PM\", \"12-03-12:57:38 PM\", \"12-03-12:58:14 PM\", \"12-03-12:58:50 PM\", \"12-03-12:59:26 PM\", \"12-03-01:00:02 PM\", \"12-03-01:00:38 PM\", \"12-03-01:01:15 PM\", \"12-03-01:01:51 PM\", \"12-03-01:02:27 PM\", \"12-03-01:03:03 PM\", \"12-03-01:03:40 PM\", \"12-03-01:04:17 PM\", \"12-03-01:04:54 PM\", \"12-03-01:05:30 PM\", \"12-03-01:06:07 PM\", \"12-03-01:06:44 PM\", \"12-03-01:07:21 PM\", \"12-03-01:07:58 PM\", \"12-03-01:08:36 PM\", \"12-03-01:09:14 PM\", \"12-03-01:09:53 PM\", \"12-03-01:10:32 PM\", \"12-03-01:11:10 PM\", \"12-03-01:11:47 PM\", \"12-03-01:12:25 PM\", \"12-03-01:13:01 PM\", \"12-03-01:13:37 PM\", \"12-03-01:14:13 PM\", \"12-03-01:14:49 PM\", \"12-03-01:15:26 PM\", \"12-03-01:16:05 PM\", \"12-03-01:16:43 PM\", \"12-03-01:17:21 PM\", \"12-03-01:17:59 PM\", \"12-03-01:18:36 PM\", \"12-03-01:19:14 PM\", \"12-03-01:19:52 PM\", \"12-03-01:20:30 PM\", \"12-03-01:21:08 PM\", \"12-03-01:21:47 PM\", \"12-03-01:22:26 PM\", \"12-03-01:23:06 PM\", \"12-03-01:23:44 PM\", \"12-03-01:24:22 PM\", \"12-03-01:25:00 PM\", \"12-03-01:25:37 PM\", \"12-03-01:26:14 PM\", \"12-03-01:26:52 PM\", \"12-03-01:27:30 PM\", \"12-03-01:28:08 PM\", \"12-03-01:28:46 PM\", \"12-03-01:29:24 PM\", \"12-03-01:30:02 PM\", \"12-03-01:30:40 PM\", \"12-03-01:31:17 PM\", \"12-03-01:31:54 PM\", \"12-03-01:32:31 PM\", \"12-03-01:33:08 PM\", \"12-03-01:33:46 PM\", \"12-03-01:34:23 PM\", \"12-03-01:35:00 PM\", \"12-03-01:35:37 PM\", \"12-03-01:36:13 PM\", \"12-03-01:36:48 PM\", \"12-03-01:37:24 PM\", \"12-03-01:38:00 PM\", \"12-03-01:38:36 PM\", \"12-03-01:39:12 PM\", \"12-03-01:39:49 PM\", \"12-03-01:40:26 PM\", \"12-03-01:41:04 PM\", \"12-03-01:41:40 PM\", \"12-03-01:42:16 PM\", \"12-03-01:42:52 PM\", \"12-03-01:43:29 PM\", \"12-03-01:44:06 PM\", \"12-03-01:44:44 PM\", \"12-03-01:45:20 PM\"], \"y\": [0, 1, 2, 3, 4, 5, 6, 7, 8, 9, 10, 11, 12, 13, 14, 15, 16, 17, 18, 19, 20, 21, 22, 23, 24, 25, 26, 27, 28, 29, 30, 31, 32, 33, 34, 35, 36, 37, 38, 39, 40, 41, 42, 43, 44, 45, 46, 47, 48, 49, 50, 51, 52, 53, 54, 55, 56, 57, 58, 59, 60, 61, 62, 63, 64, 65, 66, 67, 68, 69, 70, 71, 72, 73, 74, 75, 76, 77, 78, 79, 80, 81, 82, 83, 84, 85, 86, 87, 88, 89, 90, 91, 92, 93, 94, 95, 96, 97, 98, 99, 100, 101, 102, 103, 104, 105, 106, 107, 108, 109, 110, 111, 112, 113, 114, 115, 116, 117, 118, 119, 120, 121, 122, 123, 124, 125, 126, 127, 128, 129, 130, 131, 132, 133, 134, 135, 136, 137, 138, 139, 140, 141, 142, 143, 144, 145, 146, 147, 148, 149, 150, 151, 152, 153, 154, 155, 156, 157, 158, 159, 160, 161, 162, 163, 164, 165, 166, 167, 168, 169, 170, 171, 172, 173, 174, 175, 176, 177, 178, 179, 180, 181, 182, 183, 184, 185, 186, 187, 188, 189, 190, 191, 192, 193, 194]}, {\"name\": \"fbf1797b-9919-44e8-8bb1-13ca5a3f90b7\", \"type\": \"scatter\", \"x\": [\"12-03-11:03:30 AM\", \"12-03-11:04:16 AM\", \"12-03-11:05:01 AM\", \"12-03-11:05:46 AM\", \"12-03-11:06:32 AM\", \"12-03-11:07:18 AM\", \"12-03-11:08:03 AM\", \"12-03-11:08:49 AM\", \"12-03-11:09:36 AM\", \"12-03-11:10:22 AM\", \"12-03-11:11:08 AM\", \"12-03-11:11:54 AM\", \"12-03-11:12:39 AM\", \"12-03-11:13:24 AM\", \"12-03-11:14:08 AM\", \"12-03-11:14:53 AM\", \"12-03-11:15:36 AM\", \"12-03-11:16:19 AM\", \"12-03-11:17:03 AM\", \"12-03-11:17:46 AM\", \"12-03-11:18:28 AM\", \"12-03-11:19:10 AM\", \"12-03-11:19:53 AM\", \"12-03-11:20:38 AM\", \"12-03-11:21:22 AM\", \"12-03-11:22:06 AM\", \"12-03-11:22:51 AM\", \"12-03-11:23:36 AM\", \"12-03-11:24:22 AM\", \"12-03-11:25:07 AM\", \"12-03-11:25:52 AM\", \"12-03-11:26:36 AM\", \"12-03-11:27:20 AM\", \"12-03-11:28:05 AM\", \"12-03-11:28:49 AM\", \"12-03-11:29:33 AM\", \"12-03-11:30:17 AM\", \"12-03-11:31:00 AM\", \"12-03-11:31:44 AM\", \"12-03-11:32:27 AM\", \"12-03-11:33:10 AM\", \"12-03-11:33:53 AM\", \"12-03-11:34:35 AM\", \"12-03-11:35:17 AM\", \"12-03-11:35:58 AM\", \"12-03-11:36:39 AM\", \"12-03-11:37:20 AM\", \"12-03-11:38:01 AM\", \"12-03-11:38:44 AM\", \"12-03-11:39:24 AM\", \"12-03-11:40:04 AM\", \"12-03-11:40:45 AM\", \"12-03-11:41:26 AM\", \"12-03-11:42:08 AM\", \"12-03-11:42:50 AM\", \"12-03-11:43:32 AM\", \"12-03-11:44:13 AM\", \"12-03-11:44:54 AM\", \"12-03-11:45:35 AM\", \"12-03-11:46:16 AM\", \"12-03-11:46:55 AM\", \"12-03-11:47:34 AM\", \"12-03-11:48:13 AM\", \"12-03-11:48:53 AM\", \"12-03-11:49:34 AM\", \"12-03-11:50:15 AM\", \"12-03-11:50:56 AM\", \"12-03-11:51:37 AM\", \"12-03-11:52:18 AM\", \"12-03-11:53:00 AM\", \"12-03-11:53:41 AM\", \"12-03-11:54:21 AM\", \"12-03-11:55:02 AM\", \"12-03-11:55:43 AM\", \"12-03-11:56:24 AM\", \"12-03-11:57:05 AM\", \"12-03-11:57:45 AM\", \"12-03-11:58:25 AM\", \"12-03-11:59:05 AM\", \"12-03-11:59:45 AM\", \"12-03-12:00:27 PM\", \"12-03-12:01:08 PM\", \"12-03-12:01:49 PM\", \"12-03-12:02:30 PM\", \"12-03-12:03:10 PM\", \"12-03-12:03:51 PM\", \"12-03-12:04:30 PM\", \"12-03-12:05:08 PM\", \"12-03-12:05:46 PM\", \"12-03-12:06:25 PM\", \"12-03-12:07:05 PM\", \"12-03-12:07:46 PM\", \"12-03-12:08:26 PM\", \"12-03-12:09:06 PM\", \"12-03-12:09:46 PM\", \"12-03-12:10:26 PM\", \"12-03-12:11:08 PM\", \"12-03-12:11:49 PM\", \"12-03-12:12:31 PM\", \"12-03-12:13:14 PM\", \"12-03-12:13:57 PM\", \"12-03-12:14:41 PM\", \"12-03-12:15:24 PM\", \"12-03-12:16:07 PM\", \"12-03-12:16:50 PM\", \"12-03-12:17:33 PM\", \"12-03-12:18:17 PM\", \"12-03-12:19:00 PM\", \"12-03-12:19:43 PM\", \"12-03-12:20:26 PM\", \"12-03-12:21:09 PM\", \"12-03-12:21:53 PM\", \"12-03-12:22:36 PM\", \"12-03-12:23:19 PM\", \"12-03-12:24:02 PM\", \"12-03-12:24:44 PM\", \"12-03-12:25:27 PM\", \"12-03-12:26:08 PM\", \"12-03-12:26:49 PM\", \"12-03-12:27:30 PM\", \"12-03-12:28:12 PM\", \"12-03-12:28:56 PM\", \"12-03-12:29:39 PM\", \"12-03-12:30:22 PM\", \"12-03-12:31:05 PM\", \"12-03-12:31:48 PM\", \"12-03-12:32:32 PM\", \"12-03-12:33:15 PM\", \"12-03-12:33:58 PM\", \"12-03-12:34:41 PM\", \"12-03-12:35:23 PM\", \"12-03-12:36:06 PM\", \"12-03-12:36:46 PM\", \"12-03-12:37:26 PM\", \"12-03-12:38:05 PM\", \"12-03-12:38:43 PM\", \"12-03-12:39:21 PM\", \"12-03-12:40:00 PM\", \"12-03-12:40:39 PM\", \"12-03-12:41:19 PM\", \"12-03-12:41:59 PM\", \"12-03-12:42:38 PM\", \"12-03-12:43:19 PM\", \"12-03-12:43:58 PM\", \"12-03-12:44:37 PM\", \"12-03-12:45:16 PM\", \"12-03-12:45:56 PM\", \"12-03-12:46:36 PM\", \"12-03-12:47:17 PM\", \"12-03-12:47:57 PM\", \"12-03-12:48:37 PM\", \"12-03-12:49:17 PM\", \"12-03-12:49:57 PM\", \"12-03-12:50:38 PM\", \"12-03-12:51:17 PM\", \"12-03-12:51:55 PM\", \"12-03-12:52:32 PM\", \"12-03-12:53:09 PM\", \"12-03-12:53:46 PM\", \"12-03-12:54:24 PM\", \"12-03-12:55:01 PM\", \"12-03-12:55:39 PM\", \"12-03-12:56:17 PM\", \"12-03-12:56:54 PM\", \"12-03-12:57:30 PM\", \"12-03-12:58:07 PM\", \"12-03-12:58:43 PM\", \"12-03-12:59:19 PM\", \"12-03-12:59:55 PM\", \"12-03-01:00:31 PM\", \"12-03-01:01:07 PM\", \"12-03-01:01:44 PM\", \"12-03-01:02:20 PM\", \"12-03-01:02:56 PM\", \"12-03-01:03:33 PM\", \"12-03-01:04:10 PM\", \"12-03-01:04:47 PM\", \"12-03-01:05:23 PM\", \"12-03-01:06:00 PM\", \"12-03-01:06:37 PM\", \"12-03-01:07:14 PM\", \"12-03-01:07:51 PM\", \"12-03-01:08:29 PM\", \"12-03-01:09:07 PM\", \"12-03-01:09:46 PM\", \"12-03-01:10:25 PM\", \"12-03-01:11:03 PM\", \"12-03-01:11:40 PM\", \"12-03-01:12:18 PM\", \"12-03-01:12:55 PM\", \"12-03-01:13:31 PM\", \"12-03-01:14:07 PM\", \"12-03-01:14:43 PM\", \"12-03-01:15:20 PM\", \"12-03-01:15:59 PM\", \"12-03-01:16:37 PM\", \"12-03-01:17:15 PM\", \"12-03-01:17:53 PM\"], \"y\": [0, 1, 2, 3, 4, 5, 6, 7, 8, 9, 10, 11, 12, 13, 14, 15, 16, 17, 18, 19, 20, 21, 22, 23, 24, 25, 26, 27, 28, 29, 30, 31, 32, 33, 34, 35, 36, 37, 38, 39, 40, 41, 42, 43, 44, 45, 46, 47, 48, 49, 50, 51, 52, 53, 54, 55, 56, 57, 58, 59, 60, 61, 62, 63, 64, 65, 66, 67, 68, 69, 70, 71, 72, 73, 74, 75, 76, 77, 78, 79, 80, 81, 82, 83, 84, 85, 86, 87, 88, 89, 90, 91, 92, 93, 94, 95, 96, 97, 98, 99, 100, 101, 102, 103, 104, 105, 106, 107, 108, 109, 110, 111, 112, 113, 114, 115, 116, 117, 118, 119, 120, 121, 122, 123, 124, 125, 126, 127, 128, 129, 130, 131, 132, 133, 134, 135, 136, 137, 138, 139, 140, 141, 142, 143, 144, 145, 146, 147, 148, 149, 150, 151, 152, 153, 154, 155, 156, 157, 158, 159, 160, 161, 162, 163, 164, 165, 166, 167, 168, 169, 170, 171, 172, 173, 174, 175, 176, 177, 178, 179, 180, 181, 182, 183, 184, 185, 186, 187, 188, 189, 190, 191, 192, 193, 194, 195, 196, 197]}, {\"name\": \"fbf1797b-9919-44e8-8bb1-13ca5a3f90b7\", \"type\": \"scatter\", \"x\": [\"12-03-10:49:49 AM\", \"12-03-10:50:40 AM\", \"12-03-10:51:31 AM\", \"12-03-10:52:23 AM\", \"12-03-10:53:14 AM\", \"12-03-10:54:04 AM\", \"12-03-10:54:54 AM\", \"12-03-10:55:44 AM\", \"12-03-10:56:32 AM\", \"12-03-10:57:19 AM\", \"12-03-10:58:06 AM\", \"12-03-10:58:54 AM\", \"12-03-10:59:41 AM\", \"12-03-11:00:28 AM\", \"12-03-11:01:15 AM\", \"12-03-11:02:02 AM\", \"12-03-11:02:49 AM\", \"12-03-11:03:35 AM\", \"12-03-11:04:20 AM\", \"12-03-11:05:05 AM\", \"12-03-11:05:50 AM\", \"12-03-11:06:37 AM\", \"12-03-11:07:24 AM\", \"12-03-11:08:10 AM\", \"12-03-11:08:56 AM\", \"12-03-11:09:43 AM\", \"12-03-11:10:29 AM\", \"12-03-11:11:15 AM\", \"12-03-11:12:01 AM\", \"12-03-11:12:46 AM\", \"12-03-11:13:31 AM\", \"12-03-11:14:16 AM\", \"12-03-11:15:01 AM\", \"12-03-11:15:44 AM\", \"12-03-11:16:27 AM\", \"12-03-11:17:11 AM\", \"12-03-11:17:54 AM\", \"12-03-11:18:36 AM\", \"12-03-11:19:19 AM\", \"12-03-11:20:03 AM\", \"12-03-11:20:48 AM\", \"12-03-11:21:32 AM\", \"12-03-11:22:17 AM\", \"12-03-11:23:02 AM\", \"12-03-11:23:47 AM\", \"12-03-11:24:33 AM\", \"12-03-11:25:18 AM\", \"12-03-11:26:03 AM\", \"12-03-11:26:47 AM\", \"12-03-11:27:31 AM\", \"12-03-11:28:16 AM\", \"12-03-11:29:00 AM\", \"12-03-11:29:44 AM\", \"12-03-11:30:28 AM\", \"12-03-11:31:12 AM\", \"12-03-11:31:55 AM\", \"12-03-11:32:38 AM\", \"12-03-11:33:21 AM\", \"12-03-11:34:03 AM\", \"12-03-11:34:46 AM\", \"12-03-11:35:27 AM\", \"12-03-11:36:08 AM\", \"12-03-11:36:49 AM\", \"12-03-11:37:30 AM\", \"12-03-11:38:12 AM\", \"12-03-11:38:55 AM\", \"12-03-11:39:35 AM\", \"12-03-11:40:16 AM\", \"12-03-11:40:57 AM\", \"12-03-11:41:39 AM\", \"12-03-11:42:22 AM\", \"12-03-11:43:04 AM\", \"12-03-11:43:46 AM\", \"12-03-11:44:27 AM\", \"12-03-11:45:08 AM\", \"12-03-11:45:50 AM\", \"12-03-11:46:30 AM\", \"12-03-11:47:09 AM\", \"12-03-11:47:48 AM\", \"12-03-11:48:28 AM\", \"12-03-11:49:08 AM\", \"12-03-11:49:50 AM\", \"12-03-11:50:31 AM\", \"12-03-11:51:12 AM\", \"12-03-11:51:53 AM\", \"12-03-11:52:34 AM\", \"12-03-11:53:16 AM\", \"12-03-11:53:57 AM\", \"12-03-11:54:38 AM\", \"12-03-11:55:19 AM\", \"12-03-11:56:00 AM\", \"12-03-11:56:42 AM\", \"12-03-11:57:22 AM\", \"12-03-11:58:02 AM\", \"12-03-11:58:42 AM\", \"12-03-11:59:22 AM\", \"12-03-12:00:04 PM\", \"12-03-12:00:45 PM\", \"12-03-12:01:26 PM\", \"12-03-12:02:07 PM\", \"12-03-12:02:48 PM\", \"12-03-12:03:28 PM\", \"12-03-12:04:09 PM\", \"12-03-12:04:48 PM\", \"12-03-12:05:26 PM\", \"12-03-12:06:05 PM\", \"12-03-12:06:45 PM\", \"12-03-12:07:26 PM\", \"12-03-12:08:06 PM\", \"12-03-12:08:46 PM\", \"12-03-12:09:26 PM\", \"12-03-12:10:06 PM\", \"12-03-12:10:47 PM\", \"12-03-12:11:29 PM\", \"12-03-12:12:11 PM\", \"12-03-12:12:54 PM\", \"12-03-12:13:37 PM\", \"12-03-12:14:20 PM\", \"12-03-12:15:04 PM\", \"12-03-12:15:47 PM\", \"12-03-12:16:30 PM\", \"12-03-12:17:13 PM\", \"12-03-12:17:56 PM\", \"12-03-12:18:40 PM\", \"12-03-12:19:23 PM\", \"12-03-12:20:06 PM\", \"12-03-12:20:49 PM\", \"12-03-12:21:32 PM\", \"12-03-12:22:16 PM\", \"12-03-12:22:59 PM\", \"12-03-12:23:42 PM\", \"12-03-12:24:25 PM\", \"12-03-12:25:07 PM\", \"12-03-12:25:50 PM\", \"12-03-12:26:31 PM\", \"12-03-12:27:12 PM\", \"12-03-12:27:54 PM\", \"12-03-12:28:37 PM\", \"12-03-12:29:21 PM\", \"12-03-12:30:04 PM\", \"12-03-12:30:47 PM\", \"12-03-12:31:30 PM\", \"12-03-12:32:13 PM\", \"12-03-12:32:57 PM\", \"12-03-12:33:40 PM\", \"12-03-12:34:23 PM\", \"12-03-12:35:06 PM\", \"12-03-12:35:48 PM\", \"12-03-12:36:31 PM\", \"12-03-12:37:11 PM\", \"12-03-12:37:51 PM\"], \"y\": [172, 173, 174, 175, 176, 177, 178, 179, 180, 181, 182, 183, 184, 185, 186, 187, 188, 189, 190, 191, 192, 193, 194, 195, 196, 197, 198, 199, 200, 201, 202, 203, 204, 205, 206, 207, 208, 209, 210, 211, 212, 213, 214, 215, 216, 217, 218, 219, 220, 221, 222, 223, 224, 225, 226, 227, 228, 229, 230, 231, 232, 233, 234, 235, 236, 237, 238, 239, 240, 241, 242, 243, 244, 245, 246, 247, 248, 249, 250, 251, 252, 253, 254, 255, 256, 257, 258, 259, 260, 261, 262, 263, 264, 265, 266, 267, 268, 269, 270, 271, 272, 273, 274, 275, 276, 277, 278, 279, 280, 281, 282, 283, 284, 285, 286, 287, 288, 289, 290, 291, 292, 293, 294, 295, 296, 297, 298, 299, 300, 301, 302, 303, 304, 305, 306, 307, 308, 309, 310, 311, 312, 313, 314, 315, 316, 317, 318, 319, 320, 321, 322]}, {\"name\": \"fbf1797b-9919-44e8-8bb1-13ca5a3f90b7\", \"type\": \"scatter\", \"x\": [\"12-03-10:49:59 AM\", \"12-03-10:50:50 AM\", \"12-03-10:51:42 AM\", \"12-03-10:52:33 AM\", \"12-03-10:53:24 AM\", \"12-03-10:54:13 AM\", \"12-03-10:55:03 AM\", \"12-03-10:55:53 AM\", \"12-03-10:56:41 AM\", \"12-03-10:57:28 AM\", \"12-03-10:58:15 AM\", \"12-03-10:59:03 AM\", \"12-03-10:59:50 AM\", \"12-03-11:00:37 AM\", \"12-03-11:01:24 AM\", \"12-03-11:02:10 AM\", \"12-03-11:02:57 AM\", \"12-03-11:03:43 AM\", \"12-03-11:04:28 AM\", \"12-03-11:05:13 AM\", \"12-03-11:05:59 AM\", \"12-03-11:06:45 AM\", \"12-03-11:07:30 AM\", \"12-03-11:08:16 AM\", \"12-03-11:09:02 AM\", \"12-03-11:09:49 AM\", \"12-03-11:10:35 AM\", \"12-03-11:11:21 AM\", \"12-03-11:12:07 AM\", \"12-03-11:12:52 AM\", \"12-03-11:13:37 AM\", \"12-03-11:14:22 AM\", \"12-03-11:15:06 AM\", \"12-03-11:15:49 AM\", \"12-03-11:16:32 AM\", \"12-03-11:17:16 AM\", \"12-03-11:17:58 AM\", \"12-03-11:18:40 AM\", \"12-03-11:19:23 AM\", \"12-03-11:20:07 AM\", \"12-03-11:20:52 AM\", \"12-03-11:21:36 AM\", \"12-03-11:22:21 AM\", \"12-03-11:23:06 AM\", \"12-03-11:23:51 AM\", \"12-03-11:24:37 AM\", \"12-03-11:25:22 AM\"], \"y\": [143, 144, 145, 146, 147, 148, 149, 150, 151, 152, 153, 154, 155, 156, 157, 158, 159, 160, 161, 162, 163, 164, 165, 166, 167, 168, 169, 170, 171, 172, 173, 174, 175, 176, 177, 178, 179, 180, 181, 182, 183, 184, 185, 186, 187, 188, 189]}, {\"name\": \"fbf1797b-9919-44e8-8bb1-13ca5a3f90b7\", \"type\": \"scatter\", \"x\": [\"12-03-10:49:45 AM\", \"12-03-10:50:36 AM\", \"12-03-10:51:27 AM\", \"12-03-10:52:19 AM\", \"12-03-10:53:10 AM\", \"12-03-10:54:00 AM\", \"12-03-10:54:50 AM\", \"12-03-10:55:40 AM\", \"12-03-10:56:29 AM\", \"12-03-10:57:16 AM\", \"12-03-10:58:03 AM\", \"12-03-10:58:51 AM\", \"12-03-10:59:38 AM\", \"12-03-11:00:25 AM\", \"12-03-11:01:12 AM\", \"12-03-11:01:59 AM\", \"12-03-11:02:46 AM\"], \"y\": [194, 195, 196, 197, 198, 199, 200, 201, 202, 203, 204, 205, 206, 207, 208, 209, 210]}, {\"name\": \"fbf1797b-9919-44e8-8bb1-13ca5a3f90b7\", \"type\": \"scatter\", \"x\": [\"12-03-10:49:49 AM\", \"12-03-10:50:40 AM\", \"12-03-10:51:31 AM\", \"12-03-10:52:23 AM\", \"12-03-10:53:14 AM\", \"12-03-10:54:04 AM\", \"12-03-10:54:54 AM\", \"12-03-10:55:44 AM\", \"12-03-10:56:32 AM\", \"12-03-10:57:19 AM\", \"12-03-10:58:06 AM\", \"12-03-10:58:54 AM\", \"12-03-10:59:41 AM\", \"12-03-11:00:28 AM\", \"12-03-11:01:15 AM\", \"12-03-11:02:02 AM\", \"12-03-11:02:49 AM\", \"12-03-11:03:35 AM\", \"12-03-11:04:20 AM\", \"12-03-11:05:05 AM\", \"12-03-11:05:50 AM\", \"12-03-11:06:37 AM\", \"12-03-11:07:24 AM\", \"12-03-11:08:10 AM\", \"12-03-11:08:56 AM\", \"12-03-11:09:43 AM\", \"12-03-11:10:29 AM\", \"12-03-11:11:15 AM\", \"12-03-11:12:01 AM\", \"12-03-11:12:46 AM\", \"12-03-11:13:31 AM\", \"12-03-11:14:16 AM\", \"12-03-11:15:01 AM\", \"12-03-11:15:44 AM\", \"12-03-11:16:27 AM\", \"12-03-11:17:11 AM\", \"12-03-11:17:54 AM\", \"12-03-11:18:36 AM\", \"12-03-11:19:19 AM\", \"12-03-11:20:03 AM\", \"12-03-11:20:48 AM\", \"12-03-11:21:32 AM\", \"12-03-11:22:17 AM\", \"12-03-11:23:02 AM\", \"12-03-11:23:47 AM\", \"12-03-11:24:33 AM\", \"12-03-11:25:18 AM\", \"12-03-11:26:03 AM\", \"12-03-11:26:47 AM\", \"12-03-11:27:31 AM\", \"12-03-11:28:16 AM\", \"12-03-11:29:00 AM\", \"12-03-11:29:44 AM\", \"12-03-11:30:28 AM\", \"12-03-11:31:12 AM\", \"12-03-11:31:55 AM\", \"12-03-11:32:38 AM\", \"12-03-11:33:21 AM\", \"12-03-11:34:03 AM\", \"12-03-11:34:46 AM\", \"12-03-11:35:27 AM\", \"12-03-11:36:08 AM\", \"12-03-11:36:49 AM\", \"12-03-11:37:30 AM\", \"12-03-11:38:12 AM\", \"12-03-11:38:55 AM\", \"12-03-11:39:35 AM\", \"12-03-11:40:16 AM\", \"12-03-11:40:57 AM\", \"12-03-11:41:39 AM\", \"12-03-11:42:22 AM\", \"12-03-11:43:04 AM\", \"12-03-11:43:46 AM\", \"12-03-11:44:27 AM\", \"12-03-11:45:08 AM\", \"12-03-11:45:50 AM\", \"12-03-11:46:30 AM\", \"12-03-11:47:09 AM\", \"12-03-11:47:48 AM\", \"12-03-11:48:28 AM\", \"12-03-11:49:08 AM\", \"12-03-11:49:50 AM\", \"12-03-11:50:31 AM\", \"12-03-11:51:12 AM\", \"12-03-11:51:53 AM\", \"12-03-11:52:34 AM\", \"12-03-11:53:16 AM\", \"12-03-11:53:57 AM\", \"12-03-11:54:38 AM\", \"12-03-11:55:19 AM\", \"12-03-11:56:00 AM\", \"12-03-11:56:42 AM\", \"12-03-11:57:22 AM\", \"12-03-11:58:02 AM\", \"12-03-11:58:42 AM\", \"12-03-11:59:22 AM\", \"12-03-12:00:04 PM\", \"12-03-12:00:45 PM\", \"12-03-12:01:26 PM\", \"12-03-12:02:07 PM\", \"12-03-12:02:48 PM\", \"12-03-12:03:28 PM\", \"12-03-12:04:09 PM\", \"12-03-12:04:48 PM\", \"12-03-12:05:26 PM\", \"12-03-12:06:05 PM\", \"12-03-12:06:45 PM\", \"12-03-12:07:26 PM\", \"12-03-12:08:06 PM\", \"12-03-12:08:46 PM\", \"12-03-12:09:26 PM\", \"12-03-12:10:06 PM\", \"12-03-12:10:47 PM\", \"12-03-12:11:29 PM\", \"12-03-12:12:11 PM\", \"12-03-12:12:54 PM\", \"12-03-12:13:37 PM\", \"12-03-12:14:20 PM\", \"12-03-12:15:04 PM\", \"12-03-12:15:47 PM\", \"12-03-12:16:30 PM\", \"12-03-12:17:13 PM\", \"12-03-12:17:56 PM\", \"12-03-12:18:40 PM\", \"12-03-12:19:23 PM\", \"12-03-12:20:06 PM\", \"12-03-12:20:49 PM\", \"12-03-12:21:32 PM\", \"12-03-12:22:16 PM\", \"12-03-12:22:59 PM\", \"12-03-12:23:42 PM\", \"12-03-12:24:25 PM\", \"12-03-12:25:07 PM\", \"12-03-12:25:50 PM\", \"12-03-12:26:31 PM\", \"12-03-12:27:12 PM\", \"12-03-12:27:54 PM\", \"12-03-12:28:37 PM\", \"12-03-12:29:21 PM\", \"12-03-12:30:04 PM\", \"12-03-12:30:47 PM\", \"12-03-12:31:30 PM\", \"12-03-12:32:13 PM\", \"12-03-12:32:57 PM\", \"12-03-12:33:40 PM\", \"12-03-12:34:23 PM\", \"12-03-12:35:06 PM\", \"12-03-12:35:48 PM\", \"12-03-12:36:31 PM\", \"12-03-12:37:11 PM\", \"12-03-12:37:51 PM\"], \"y\": [172, 173, 174, 175, 176, 177, 178, 179, 180, 181, 182, 183, 184, 185, 186, 187, 188, 189, 190, 191, 192, 193, 194, 195, 196, 197, 198, 199, 200, 201, 202, 203, 204, 205, 206, 207, 208, 209, 210, 211, 212, 213, 214, 215, 216, 217, 218, 219, 220, 221, 222, 223, 224, 225, 226, 227, 228, 229, 230, 231, 232, 233, 234, 235, 236, 237, 238, 239, 240, 241, 242, 243, 244, 245, 246, 247, 248, 249, 250, 251, 252, 253, 254, 255, 256, 257, 258, 259, 260, 261, 262, 263, 264, 265, 266, 267, 268, 269, 270, 271, 272, 273, 274, 275, 276, 277, 278, 279, 280, 281, 282, 283, 284, 285, 286, 287, 288, 289, 290, 291, 292, 293, 294, 295, 296, 297, 298, 299, 300, 301, 302, 303, 304, 305, 306, 307, 308, 309, 310, 311, 312, 313, 314, 315, 316, 317, 318, 319, 320, 321, 322]}, {\"name\": \"fbf1797b-9919-44e8-8bb1-13ca5a3f90b7\", \"type\": \"scatter\", \"x\": [\"12-03-10:49:45 AM\", \"12-03-10:50:36 AM\", \"12-03-10:51:27 AM\", \"12-03-10:52:19 AM\", \"12-03-10:53:10 AM\", \"12-03-10:54:00 AM\", \"12-03-10:54:50 AM\", \"12-03-10:55:40 AM\", \"12-03-10:56:29 AM\", \"12-03-10:57:16 AM\", \"12-03-10:58:03 AM\", \"12-03-10:58:51 AM\", \"12-03-10:59:38 AM\", \"12-03-11:00:25 AM\", \"12-03-11:01:12 AM\", \"12-03-11:01:59 AM\", \"12-03-11:02:46 AM\"], \"y\": [194, 195, 196, 197, 198, 199, 200, 201, 202, 203, 204, 205, 206, 207, 208, 209, 210]}, {\"name\": \"fbf1797b-9919-44e8-8bb1-13ca5a3f90b7\", \"type\": \"scatter\", \"x\": [\"12-03-10:49:43 AM\", \"12-03-10:50:34 AM\", \"12-03-10:51:25 AM\", \"12-03-10:52:17 AM\", \"12-03-10:53:08 AM\", \"12-03-10:53:58 AM\", \"12-03-10:54:48 AM\", \"12-03-10:55:38 AM\", \"12-03-10:56:27 AM\"], \"y\": [197, 198, 199, 200, 201, 202, 203, 204, 205]}, {\"name\": \"fbf1797b-9919-44e8-8bb1-13ca5a3f90b7\", \"type\": \"scatter\", \"x\": [\"12-03-11:38:10 AM\", \"12-03-11:38:53 AM\", \"12-03-11:39:33 AM\", \"12-03-11:40:13 AM\", \"12-03-11:40:54 AM\", \"12-03-11:41:35 AM\", \"12-03-11:42:17 AM\", \"12-03-11:42:59 AM\", \"12-03-11:43:41 AM\", \"12-03-11:44:22 AM\", \"12-03-11:45:03 AM\", \"12-03-11:45:45 AM\", \"12-03-11:46:25 AM\", \"12-03-11:47:04 AM\", \"12-03-11:47:43 AM\", \"12-03-11:48:22 AM\", \"12-03-11:49:02 AM\", \"12-03-11:49:43 AM\", \"12-03-11:50:24 AM\", \"12-03-11:51:05 AM\", \"12-03-11:51:46 AM\", \"12-03-11:52:27 AM\", \"12-03-11:53:09 AM\", \"12-03-11:53:50 AM\", \"12-03-11:54:30 AM\", \"12-03-11:55:11 AM\", \"12-03-11:55:52 AM\", \"12-03-11:56:34 AM\", \"12-03-11:57:14 AM\", \"12-03-11:57:54 AM\", \"12-03-11:58:34 AM\", \"12-03-11:59:14 AM\", \"12-03-11:59:54 AM\", \"12-03-12:00:36 PM\", \"12-03-12:01:17 PM\", \"12-03-12:01:58 PM\", \"12-03-12:02:39 PM\", \"12-03-12:03:19 PM\", \"12-03-12:04:00 PM\", \"12-03-12:04:39 PM\", \"12-03-12:05:17 PM\", \"12-03-12:05:55 PM\", \"12-03-12:06:34 PM\", \"12-03-12:07:14 PM\", \"12-03-12:07:55 PM\", \"12-03-12:08:35 PM\", \"12-03-12:09:15 PM\", \"12-03-12:09:55 PM\", \"12-03-12:10:35 PM\", \"12-03-12:11:17 PM\", \"12-03-12:11:58 PM\", \"12-03-12:12:40 PM\", \"12-03-12:13:23 PM\", \"12-03-12:14:06 PM\", \"12-03-12:14:50 PM\", \"12-03-12:15:33 PM\", \"12-03-12:16:16 PM\", \"12-03-12:16:59 PM\", \"12-03-12:17:42 PM\", \"12-03-12:18:26 PM\", \"12-03-12:19:09 PM\", \"12-03-12:19:52 PM\", \"12-03-12:20:35 PM\", \"12-03-12:21:18 PM\", \"12-03-12:22:02 PM\", \"12-03-12:22:45 PM\", \"12-03-12:23:28 PM\", \"12-03-12:24:11 PM\", \"12-03-12:24:53 PM\", \"12-03-12:25:36 PM\", \"12-03-12:26:17 PM\", \"12-03-12:26:58 PM\", \"12-03-12:27:39 PM\", \"12-03-12:28:21 PM\", \"12-03-12:29:05 PM\", \"12-03-12:29:48 PM\", \"12-03-12:30:31 PM\", \"12-03-12:31:14 PM\", \"12-03-12:31:57 PM\", \"12-03-12:32:41 PM\", \"12-03-12:33:24 PM\", \"12-03-12:34:07 PM\", \"12-03-12:34:50 PM\", \"12-03-12:35:32 PM\", \"12-03-12:36:15 PM\", \"12-03-12:36:55 PM\", \"12-03-12:37:35 PM\", \"12-03-12:38:14 PM\", \"12-03-12:38:52 PM\", \"12-03-12:39:30 PM\", \"12-03-12:40:09 PM\", \"12-03-12:40:48 PM\", \"12-03-12:41:28 PM\", \"12-03-12:42:08 PM\", \"12-03-12:42:47 PM\", \"12-03-12:43:28 PM\", \"12-03-12:44:07 PM\", \"12-03-12:44:46 PM\", \"12-03-12:45:25 PM\", \"12-03-12:46:05 PM\", \"12-03-12:46:46 PM\", \"12-03-12:47:26 PM\", \"12-03-12:48:06 PM\", \"12-03-12:48:46 PM\", \"12-03-12:49:26 PM\", \"12-03-12:50:06 PM\", \"12-03-12:50:47 PM\", \"12-03-12:51:26 PM\", \"12-03-12:52:04 PM\", \"12-03-12:52:41 PM\", \"12-03-12:53:18 PM\", \"12-03-12:53:55 PM\", \"12-03-12:54:33 PM\", \"12-03-12:55:10 PM\", \"12-03-12:55:48 PM\", \"12-03-12:56:25 PM\", \"12-03-12:57:01 PM\", \"12-03-12:57:38 PM\", \"12-03-12:58:14 PM\", \"12-03-12:58:50 PM\", \"12-03-12:59:26 PM\", \"12-03-01:00:02 PM\", \"12-03-01:00:38 PM\", \"12-03-01:01:15 PM\", \"12-03-01:01:51 PM\", \"12-03-01:02:27 PM\", \"12-03-01:03:03 PM\", \"12-03-01:03:40 PM\", \"12-03-01:04:17 PM\", \"12-03-01:04:54 PM\", \"12-03-01:05:30 PM\", \"12-03-01:06:07 PM\", \"12-03-01:06:44 PM\", \"12-03-01:07:21 PM\", \"12-03-01:07:58 PM\", \"12-03-01:08:36 PM\", \"12-03-01:09:14 PM\", \"12-03-01:09:53 PM\", \"12-03-01:10:32 PM\", \"12-03-01:11:10 PM\", \"12-03-01:11:47 PM\", \"12-03-01:12:25 PM\", \"12-03-01:13:01 PM\", \"12-03-01:13:37 PM\", \"12-03-01:14:13 PM\", \"12-03-01:14:49 PM\", \"12-03-01:15:26 PM\", \"12-03-01:16:05 PM\", \"12-03-01:16:43 PM\", \"12-03-01:17:21 PM\", \"12-03-01:17:59 PM\", \"12-03-01:18:36 PM\", \"12-03-01:19:14 PM\", \"12-03-01:19:52 PM\", \"12-03-01:20:30 PM\", \"12-03-01:21:08 PM\", \"12-03-01:21:47 PM\", \"12-03-01:22:26 PM\", \"12-03-01:23:06 PM\", \"12-03-01:23:44 PM\", \"12-03-01:24:22 PM\", \"12-03-01:25:00 PM\", \"12-03-01:25:37 PM\", \"12-03-01:26:14 PM\", \"12-03-01:26:52 PM\", \"12-03-01:27:30 PM\", \"12-03-01:28:08 PM\", \"12-03-01:28:46 PM\", \"12-03-01:29:24 PM\", \"12-03-01:30:02 PM\", \"12-03-01:30:40 PM\", \"12-03-01:31:17 PM\", \"12-03-01:31:54 PM\", \"12-03-01:32:31 PM\", \"12-03-01:33:08 PM\", \"12-03-01:33:46 PM\", \"12-03-01:34:23 PM\", \"12-03-01:35:00 PM\", \"12-03-01:35:37 PM\", \"12-03-01:36:13 PM\", \"12-03-01:36:48 PM\", \"12-03-01:37:24 PM\", \"12-03-01:38:00 PM\", \"12-03-01:38:36 PM\", \"12-03-01:39:12 PM\", \"12-03-01:39:49 PM\", \"12-03-01:40:26 PM\", \"12-03-01:41:04 PM\", \"12-03-01:41:40 PM\", \"12-03-01:42:16 PM\", \"12-03-01:42:52 PM\", \"12-03-01:43:29 PM\", \"12-03-01:44:06 PM\", \"12-03-01:44:44 PM\", \"12-03-01:45:20 PM\"], \"y\": [0, 1, 2, 3, 4, 5, 6, 7, 8, 9, 10, 11, 12, 13, 14, 15, 16, 17, 18, 19, 20, 21, 22, 23, 24, 25, 26, 27, 28, 29, 30, 31, 32, 33, 34, 35, 36, 37, 38, 39, 40, 41, 42, 43, 44, 45, 46, 47, 48, 49, 50, 51, 52, 53, 54, 55, 56, 57, 58, 59, 60, 61, 62, 63, 64, 65, 66, 67, 68, 69, 70, 71, 72, 73, 74, 75, 76, 77, 78, 79, 80, 81, 82, 83, 84, 85, 86, 87, 88, 89, 90, 91, 92, 93, 94, 95, 96, 97, 98, 99, 100, 101, 102, 103, 104, 105, 106, 107, 108, 109, 110, 111, 112, 113, 114, 115, 116, 117, 118, 119, 120, 121, 122, 123, 124, 125, 126, 127, 128, 129, 130, 131, 132, 133, 134, 135, 136, 137, 138, 139, 140, 141, 142, 143, 144, 145, 146, 147, 148, 149, 150, 151, 152, 153, 154, 155, 156, 157, 158, 159, 160, 161, 162, 163, 164, 165, 166, 167, 168, 169, 170, 171, 172, 173, 174, 175, 176, 177, 178, 179, 180, 181, 182, 183, 184, 185, 186, 187, 188, 189, 190, 191, 192, 193, 194]}, {\"name\": \"fbf1797b-9919-44e8-8bb1-13ca5a3f90b7\", \"type\": \"scatter\", \"x\": [\"12-03-10:50:02 AM\", \"12-03-10:50:53 AM\", \"12-03-10:51:45 AM\", \"12-03-10:52:36 AM\", \"12-03-10:53:26 AM\", \"12-03-10:54:15 AM\", \"12-03-10:55:05 AM\", \"12-03-10:55:55 AM\", \"12-03-10:56:43 AM\", \"12-03-10:57:30 AM\", \"12-03-10:58:17 AM\", \"12-03-10:59:05 AM\", \"12-03-10:59:52 AM\", \"12-03-11:00:39 AM\", \"12-03-11:01:26 AM\", \"12-03-11:02:12 AM\", \"12-03-11:02:59 AM\", \"12-03-11:03:45 AM\", \"12-03-11:04:30 AM\", \"12-03-11:05:15 AM\", \"12-03-11:06:01 AM\", \"12-03-11:06:47 AM\", \"12-03-11:07:32 AM\", \"12-03-11:08:18 AM\", \"12-03-11:09:04 AM\", \"12-03-11:09:51 AM\", \"12-03-11:10:37 AM\", \"12-03-11:11:23 AM\", \"12-03-11:12:09 AM\", \"12-03-11:12:54 AM\", \"12-03-11:13:39 AM\", \"12-03-11:14:24 AM\", \"12-03-11:15:08 AM\", \"12-03-11:15:51 AM\", \"12-03-11:16:34 AM\", \"12-03-11:17:18 AM\", \"12-03-11:18:00 AM\", \"12-03-11:18:42 AM\", \"12-03-11:19:25 AM\", \"12-03-11:20:09 AM\", \"12-03-11:20:54 AM\", \"12-03-11:21:38 AM\", \"12-03-11:22:23 AM\", \"12-03-11:23:08 AM\", \"12-03-11:23:53 AM\", \"12-03-11:24:39 AM\", \"12-03-11:25:24 AM\", \"12-03-11:26:08 AM\", \"12-03-11:26:52 AM\", \"12-03-11:27:37 AM\", \"12-03-11:28:21 AM\", \"12-03-11:29:05 AM\", \"12-03-11:29:49 AM\", \"12-03-11:30:33 AM\", \"12-03-11:31:17 AM\", \"12-03-11:32:00 AM\", \"12-03-11:32:43 AM\", \"12-03-11:33:26 AM\", \"12-03-11:34:08 AM\", \"12-03-11:34:50 AM\", \"12-03-11:35:31 AM\", \"12-03-11:36:12 AM\", \"12-03-11:36:53 AM\", \"12-03-11:37:34 AM\", \"12-03-11:38:16 AM\"], \"y\": [130, 131, 132, 133, 134, 135, 136, 137, 138, 139, 140, 141, 142, 143, 144, 145, 146, 147, 148, 149, 150, 151, 152, 153, 154, 155, 156, 157, 158, 159, 160, 161, 162, 163, 164, 165, 166, 167, 168, 169, 170, 171, 172, 173, 174, 175, 176, 177, 178, 179, 180, 181, 182, 183, 184, 185, 186, 187, 188, 189, 190, 191, 192, 193, 194]}, {\"name\": \"fbf1797b-9919-44e8-8bb1-13ca5a3f90b7\", \"type\": \"scatter\", \"x\": [\"12-03-10:49:48 AM\", \"12-03-10:50:39 AM\", \"12-03-10:51:30 AM\", \"12-03-10:52:22 AM\", \"12-03-10:53:13 AM\", \"12-03-10:54:03 AM\", \"12-03-10:54:53 AM\", \"12-03-10:55:43 AM\", \"12-03-10:56:31 AM\", \"12-03-10:57:18 AM\", \"12-03-10:58:05 AM\", \"12-03-10:58:53 AM\", \"12-03-10:59:40 AM\", \"12-03-11:00:27 AM\", \"12-03-11:01:14 AM\", \"12-03-11:02:01 AM\", \"12-03-11:02:48 AM\", \"12-03-11:03:34 AM\"], \"y\": [176, 177, 178, 179, 180, 181, 182, 183, 184, 185, 186, 187, 188, 189, 190, 191, 192, 193]}, {\"name\": \"fbf1797b-9919-44e8-8bb1-13ca5a3f90b7\", \"type\": \"scatter\", \"x\": [\"12-03-10:54:44 AM\", \"12-03-10:55:35 AM\", \"12-03-10:56:24 AM\", \"12-03-10:57:12 AM\", \"12-03-10:57:59 AM\", \"12-03-10:58:47 AM\", \"12-03-10:59:34 AM\", \"12-03-11:00:21 AM\", \"12-03-11:01:08 AM\", \"12-03-11:01:55 AM\", \"12-03-11:02:42 AM\", \"12-03-11:03:28 AM\", \"12-03-11:04:14 AM\", \"12-03-11:04:59 AM\", \"12-03-11:05:44 AM\", \"12-03-11:06:30 AM\", \"12-03-11:07:16 AM\", \"12-03-11:08:01 AM\", \"12-03-11:08:47 AM\", \"12-03-11:09:34 AM\", \"12-03-11:10:20 AM\", \"12-03-11:11:06 AM\", \"12-03-11:11:52 AM\", \"12-03-11:12:37 AM\", \"12-03-11:13:22 AM\", \"12-03-11:14:06 AM\", \"12-03-11:14:51 AM\", \"12-03-11:15:34 AM\", \"12-03-11:16:17 AM\", \"12-03-11:17:01 AM\", \"12-03-11:17:44 AM\", \"12-03-11:18:26 AM\", \"12-03-11:19:08 AM\", \"12-03-11:19:51 AM\", \"12-03-11:20:36 AM\", \"12-03-11:21:20 AM\", \"12-03-11:22:04 AM\", \"12-03-11:22:49 AM\", \"12-03-11:23:34 AM\", \"12-03-11:24:20 AM\", \"12-03-11:25:05 AM\", \"12-03-11:25:50 AM\", \"12-03-11:26:34 AM\", \"12-03-11:27:18 AM\", \"12-03-11:28:03 AM\", \"12-03-11:28:47 AM\", \"12-03-11:29:31 AM\", \"12-03-11:30:15 AM\", \"12-03-11:30:58 AM\", \"12-03-11:31:42 AM\", \"12-03-11:32:25 AM\", \"12-03-11:33:08 AM\", \"12-03-11:33:51 AM\", \"12-03-11:34:33 AM\", \"12-03-11:35:15 AM\", \"12-03-11:35:56 AM\", \"12-03-11:36:37 AM\", \"12-03-11:37:18 AM\", \"12-03-11:37:59 AM\", \"12-03-11:38:42 AM\", \"12-03-11:39:22 AM\", \"12-03-11:40:02 AM\", \"12-03-11:40:43 AM\", \"12-03-11:41:24 AM\", \"12-03-11:42:06 AM\", \"12-03-11:42:48 AM\", \"12-03-11:43:30 AM\", \"12-03-11:44:11 AM\", \"12-03-11:44:52 AM\", \"12-03-11:45:33 AM\", \"12-03-11:46:14 AM\", \"12-03-11:46:53 AM\", \"12-03-11:47:32 AM\", \"12-03-11:48:11 AM\", \"12-03-11:48:51 AM\", \"12-03-11:49:32 AM\", \"12-03-11:50:13 AM\", \"12-03-11:50:54 AM\", \"12-03-11:51:35 AM\", \"12-03-11:52:16 AM\", \"12-03-11:52:58 AM\", \"12-03-11:53:39 AM\", \"12-03-11:54:19 AM\", \"12-03-11:55:00 AM\", \"12-03-11:55:41 AM\", \"12-03-11:56:22 AM\", \"12-03-11:57:03 AM\", \"12-03-11:57:43 AM\", \"12-03-11:58:23 AM\", \"12-03-11:59:03 AM\", \"12-03-11:59:43 AM\", \"12-03-12:00:25 PM\", \"12-03-12:01:06 PM\", \"12-03-12:01:47 PM\", \"12-03-12:02:28 PM\", \"12-03-12:03:08 PM\", \"12-03-12:03:49 PM\", \"12-03-12:04:28 PM\", \"12-03-12:05:06 PM\", \"12-03-12:05:44 PM\", \"12-03-12:06:23 PM\", \"12-03-12:07:03 PM\", \"12-03-12:07:44 PM\", \"12-03-12:08:24 PM\", \"12-03-12:09:04 PM\", \"12-03-12:09:44 PM\", \"12-03-12:10:24 PM\", \"12-03-12:11:06 PM\", \"12-03-12:11:47 PM\", \"12-03-12:12:29 PM\", \"12-03-12:13:12 PM\", \"12-03-12:13:55 PM\", \"12-03-12:14:39 PM\", \"12-03-12:15:22 PM\", \"12-03-12:16:05 PM\", \"12-03-12:16:48 PM\", \"12-03-12:17:31 PM\", \"12-03-12:18:15 PM\", \"12-03-12:18:58 PM\", \"12-03-12:19:41 PM\", \"12-03-12:20:24 PM\", \"12-03-12:21:07 PM\", \"12-03-12:21:51 PM\", \"12-03-12:22:34 PM\", \"12-03-12:23:17 PM\", \"12-03-12:24:00 PM\", \"12-03-12:24:42 PM\", \"12-03-12:25:25 PM\", \"12-03-12:26:06 PM\", \"12-03-12:26:47 PM\", \"12-03-12:27:28 PM\", \"12-03-12:28:10 PM\", \"12-03-12:28:54 PM\", \"12-03-12:29:37 PM\", \"12-03-12:30:20 PM\", \"12-03-12:31:03 PM\", \"12-03-12:31:46 PM\", \"12-03-12:32:30 PM\", \"12-03-12:33:13 PM\", \"12-03-12:33:56 PM\", \"12-03-12:34:39 PM\", \"12-03-12:35:21 PM\", \"12-03-12:36:04 PM\", \"12-03-12:36:44 PM\", \"12-03-12:37:24 PM\", \"12-03-12:38:03 PM\", \"12-03-12:38:41 PM\", \"12-03-12:39:19 PM\", \"12-03-12:39:58 PM\", \"12-03-12:40:37 PM\", \"12-03-12:41:17 PM\", \"12-03-12:41:57 PM\", \"12-03-12:42:36 PM\", \"12-03-12:43:17 PM\", \"12-03-12:43:56 PM\", \"12-03-12:44:35 PM\", \"12-03-12:45:14 PM\", \"12-03-12:45:54 PM\", \"12-03-12:46:34 PM\", \"12-03-12:47:15 PM\", \"12-03-12:47:55 PM\", \"12-03-12:48:35 PM\", \"12-03-12:49:15 PM\", \"12-03-12:49:55 PM\", \"12-03-12:50:36 PM\", \"12-03-12:51:15 PM\", \"12-03-12:51:53 PM\", \"12-03-12:52:30 PM\", \"12-03-12:53:07 PM\", \"12-03-12:53:44 PM\", \"12-03-12:54:22 PM\", \"12-03-12:54:59 PM\", \"12-03-12:55:37 PM\", \"12-03-12:56:15 PM\", \"12-03-12:56:52 PM\", \"12-03-12:57:28 PM\", \"12-03-12:58:05 PM\", \"12-03-12:58:41 PM\", \"12-03-12:59:17 PM\", \"12-03-12:59:53 PM\", \"12-03-01:00:29 PM\", \"12-03-01:01:05 PM\", \"12-03-01:01:42 PM\", \"12-03-01:02:18 PM\", \"12-03-01:02:54 PM\", \"12-03-01:03:31 PM\", \"12-03-01:04:08 PM\", \"12-03-01:04:44 PM\", \"12-03-01:05:21 PM\", \"12-03-01:05:58 PM\", \"12-03-01:06:35 PM\", \"12-03-01:07:12 PM\", \"12-03-01:07:49 PM\", \"12-03-01:08:27 PM\", \"12-03-01:09:05 PM\", \"12-03-01:09:44 PM\", \"12-03-01:10:23 PM\", \"12-03-01:11:01 PM\"], \"y\": [0, 1, 2, 3, 4, 5, 6, 7, 8, 9, 10, 11, 12, 13, 14, 15, 16, 17, 18, 19, 20, 21, 22, 23, 24, 25, 26, 27, 28, 29, 30, 31, 32, 33, 34, 35, 36, 37, 38, 39, 40, 41, 42, 43, 44, 45, 46, 47, 48, 49, 50, 51, 52, 53, 54, 55, 56, 57, 58, 59, 60, 61, 62, 63, 64, 65, 66, 67, 68, 69, 70, 71, 72, 73, 74, 75, 76, 77, 78, 79, 80, 81, 82, 83, 84, 85, 86, 87, 88, 89, 90, 91, 92, 93, 94, 95, 96, 97, 98, 99, 100, 101, 102, 103, 104, 105, 106, 107, 108, 109, 110, 111, 112, 113, 114, 115, 116, 117, 118, 119, 120, 121, 122, 123, 124, 125, 126, 127, 128, 129, 130, 131, 132, 133, 134, 135, 136, 137, 138, 139, 140, 141, 142, 143, 144, 145, 146, 147, 148, 149, 150, 151, 152, 153, 154, 155, 156, 157, 158, 159, 160, 161, 162, 163, 164, 165, 166, 167, 168, 169, 170, 171, 172, 173, 174, 175, 176, 177, 178, 179, 180, 181, 182, 183, 184, 185, 186, 187, 188, 189, 190, 191, 192, 193, 194, 195, 196, 197]}, {\"name\": \"fbf1797b-9919-44e8-8bb1-13ca5a3f90b7\", \"type\": \"scatter\", \"x\": [\"12-03-12:12:52 PM\", \"12-03-12:13:35 PM\", \"12-03-12:14:18 PM\", \"12-03-12:15:02 PM\", \"12-03-12:15:45 PM\", \"12-03-12:16:28 PM\", \"12-03-12:17:11 PM\", \"12-03-12:17:54 PM\", \"12-03-12:18:38 PM\", \"12-03-12:19:21 PM\", \"12-03-12:20:04 PM\", \"12-03-12:20:47 PM\", \"12-03-12:21:30 PM\", \"12-03-12:22:14 PM\", \"12-03-12:22:57 PM\", \"12-03-12:23:40 PM\", \"12-03-12:24:23 PM\", \"12-03-12:25:05 PM\", \"12-03-12:25:48 PM\", \"12-03-12:26:29 PM\", \"12-03-12:27:10 PM\", \"12-03-12:27:51 PM\", \"12-03-12:28:33 PM\", \"12-03-12:29:17 PM\", \"12-03-12:30:00 PM\", \"12-03-12:30:43 PM\", \"12-03-12:31:26 PM\", \"12-03-12:32:09 PM\", \"12-03-12:32:53 PM\", \"12-03-12:33:36 PM\", \"12-03-12:34:19 PM\", \"12-03-12:35:02 PM\", \"12-03-12:35:44 PM\", \"12-03-12:36:27 PM\", \"12-03-12:37:07 PM\", \"12-03-12:37:47 PM\", \"12-03-12:38:26 PM\", \"12-03-12:39:04 PM\", \"12-03-12:39:43 PM\", \"12-03-12:40:21 PM\", \"12-03-12:41:00 PM\", \"12-03-12:41:40 PM\", \"12-03-12:42:20 PM\", \"12-03-12:42:59 PM\", \"12-03-12:43:40 PM\", \"12-03-12:44:19 PM\", \"12-03-12:44:58 PM\", \"12-03-12:45:37 PM\", \"12-03-12:46:17 PM\", \"12-03-12:46:58 PM\", \"12-03-12:47:38 PM\", \"12-03-12:48:18 PM\", \"12-03-12:48:58 PM\", \"12-03-12:49:38 PM\", \"12-03-12:50:19 PM\", \"12-03-12:50:59 PM\", \"12-03-12:51:38 PM\", \"12-03-12:52:16 PM\", \"12-03-12:52:53 PM\", \"12-03-12:53:30 PM\", \"12-03-12:54:08 PM\", \"12-03-12:54:45 PM\", \"12-03-12:55:22 PM\", \"12-03-12:56:00 PM\", \"12-03-12:56:37 PM\", \"12-03-12:57:13 PM\", \"12-03-12:57:50 PM\", \"12-03-12:58:26 PM\", \"12-03-12:59:02 PM\", \"12-03-12:59:38 PM\", \"12-03-01:00:14 PM\", \"12-03-01:00:50 PM\", \"12-03-01:01:27 PM\", \"12-03-01:02:03 PM\", \"12-03-01:02:39 PM\", \"12-03-01:03:15 PM\", \"12-03-01:03:52 PM\", \"12-03-01:04:29 PM\", \"12-03-01:05:06 PM\", \"12-03-01:05:42 PM\", \"12-03-01:06:19 PM\", \"12-03-01:06:56 PM\", \"12-03-01:07:33 PM\", \"12-03-01:08:10 PM\", \"12-03-01:08:48 PM\", \"12-03-01:09:26 PM\", \"12-03-01:10:05 PM\", \"12-03-01:10:44 PM\", \"12-03-01:11:22 PM\", \"12-03-01:12:00 PM\", \"12-03-01:12:37 PM\", \"12-03-01:13:13 PM\", \"12-03-01:13:49 PM\", \"12-03-01:14:25 PM\", \"12-03-01:15:01 PM\", \"12-03-01:15:39 PM\", \"12-03-01:16:17 PM\", \"12-03-01:16:55 PM\", \"12-03-01:17:33 PM\", \"12-03-01:18:11 PM\", \"12-03-01:18:48 PM\", \"12-03-01:19:26 PM\", \"12-03-01:20:04 PM\", \"12-03-01:20:42 PM\", \"12-03-01:21:20 PM\", \"12-03-01:21:59 PM\", \"12-03-01:22:38 PM\", \"12-03-01:23:18 PM\", \"12-03-01:23:56 PM\", \"12-03-01:24:34 PM\", \"12-03-01:25:12 PM\", \"12-03-01:25:49 PM\", \"12-03-01:26:27 PM\", \"12-03-01:27:04 PM\", \"12-03-01:27:42 PM\", \"12-03-01:28:20 PM\", \"12-03-01:28:58 PM\", \"12-03-01:29:36 PM\", \"12-03-01:30:14 PM\", \"12-03-01:30:52 PM\", \"12-03-01:31:29 PM\", \"12-03-01:32:06 PM\", \"12-03-01:32:43 PM\", \"12-03-01:33:20 PM\", \"12-03-01:33:58 PM\", \"12-03-01:34:35 PM\", \"12-03-01:35:12 PM\", \"12-03-01:35:48 PM\", \"12-03-01:36:24 PM\", \"12-03-01:36:59 PM\", \"12-03-01:37:35 PM\", \"12-03-01:38:11 PM\", \"12-03-01:38:47 PM\", \"12-03-01:39:23 PM\", \"12-03-01:40:00 PM\", \"12-03-01:40:37 PM\", \"12-03-01:41:15 PM\", \"12-03-01:41:51 PM\", \"12-03-01:42:27 PM\", \"12-03-01:43:03 PM\", \"12-03-01:43:40 PM\", \"12-03-01:44:18 PM\", \"12-03-01:44:54 PM\", \"12-03-01:45:28 PM\"], \"y\": [0, 1, 2, 3, 4, 5, 6, 7, 8, 9, 10, 11, 12, 13, 14, 15, 16, 17, 18, 19, 20, 21, 22, 23, 24, 25, 26, 27, 28, 29, 30, 31, 32, 33, 34, 35, 36, 37, 38, 39, 40, 41, 42, 43, 44, 45, 46, 47, 48, 49, 50, 51, 52, 53, 54, 55, 56, 57, 58, 59, 60, 61, 62, 63, 64, 65, 66, 67, 68, 69, 70, 71, 72, 73, 74, 75, 76, 77, 78, 79, 80, 81, 82, 83, 84, 85, 86, 87, 88, 89, 90, 91, 92, 93, 94, 95, 96, 97, 98, 99, 100, 101, 102, 103, 104, 105, 106, 107, 108, 109, 110, 111, 112, 113, 114, 115, 116, 117, 118, 119, 120, 121, 122, 123, 124, 125, 126, 127, 128, 129, 130, 131, 132, 133, 134, 135, 136, 137, 138, 139, 140, 141, 142, 143]}, {\"name\": \"fbf1797b-9919-44e8-8bb1-13ca5a3f90b7\", \"type\": \"scatter\", \"x\": [\"12-03-10:50:13 AM\", \"12-03-10:51:04 AM\", \"12-03-10:51:56 AM\", \"12-03-10:52:47 AM\", \"12-03-10:53:37 AM\", \"12-03-10:54:26 AM\", \"12-03-10:55:17 AM\", \"12-03-10:56:06 AM\", \"12-03-10:56:54 AM\", \"12-03-10:57:41 AM\", \"12-03-10:58:28 AM\", \"12-03-10:59:16 AM\", \"12-03-11:00:03 AM\", \"12-03-11:00:50 AM\", \"12-03-11:01:37 AM\", \"12-03-11:02:24 AM\", \"12-03-11:03:10 AM\", \"12-03-11:03:56 AM\", \"12-03-11:04:41 AM\", \"12-03-11:05:26 AM\", \"12-03-11:06:12 AM\", \"12-03-11:06:58 AM\", \"12-03-11:07:43 AM\", \"12-03-11:08:29 AM\", \"12-03-11:09:15 AM\", \"12-03-11:10:02 AM\", \"12-03-11:10:48 AM\", \"12-03-11:11:34 AM\", \"12-03-11:12:19 AM\", \"12-03-11:13:03 AM\", \"12-03-11:13:48 AM\", \"12-03-11:14:33 AM\", \"12-03-11:15:16 AM\", \"12-03-11:15:59 AM\", \"12-03-11:16:42 AM\", \"12-03-11:17:26 AM\", \"12-03-11:18:08 AM\", \"12-03-11:18:50 AM\", \"12-03-11:19:33 AM\", \"12-03-11:20:17 AM\", \"12-03-11:21:02 AM\", \"12-03-11:21:46 AM\", \"12-03-11:22:31 AM\", \"12-03-11:23:16 AM\", \"12-03-11:24:02 AM\", \"12-03-11:24:47 AM\", \"12-03-11:25:32 AM\", \"12-03-11:26:16 AM\", \"12-03-11:27:00 AM\", \"12-03-11:27:45 AM\", \"12-03-11:28:29 AM\", \"12-03-11:29:13 AM\", \"12-03-11:29:57 AM\", \"12-03-11:30:40 AM\", \"12-03-11:31:24 AM\", \"12-03-11:32:07 AM\", \"12-03-11:32:50 AM\", \"12-03-11:33:33 AM\", \"12-03-11:34:15 AM\", \"12-03-11:34:57 AM\", \"12-03-11:35:38 AM\", \"12-03-11:36:19 AM\", \"12-03-11:37:00 AM\", \"12-03-11:37:41 AM\", \"12-03-11:38:24 AM\", \"12-03-11:39:04 AM\", \"12-03-11:39:44 AM\", \"12-03-11:40:25 AM\", \"12-03-11:41:06 AM\", \"12-03-11:41:47 AM\", \"12-03-11:42:30 AM\", \"12-03-11:43:12 AM\", \"12-03-11:43:54 AM\", \"12-03-11:44:35 AM\", \"12-03-11:45:16 AM\", \"12-03-11:45:57 AM\", \"12-03-11:46:37 AM\", \"12-03-11:47:16 AM\", \"12-03-11:47:55 AM\", \"12-03-11:48:35 AM\", \"12-03-11:49:16 AM\", \"12-03-11:49:57 AM\", \"12-03-11:50:38 AM\", \"12-03-11:51:19 AM\", \"12-03-11:52:00 AM\", \"12-03-11:52:41 AM\", \"12-03-11:53:23 AM\", \"12-03-11:54:03 AM\", \"12-03-11:54:44 AM\", \"12-03-11:55:25 AM\", \"12-03-11:56:06 AM\", \"12-03-11:56:47 AM\", \"12-03-11:57:27 AM\", \"12-03-11:58:07 AM\", \"12-03-11:58:47 AM\", \"12-03-11:59:27 AM\", \"12-03-12:00:09 PM\", \"12-03-12:00:50 PM\", \"12-03-12:01:31 PM\", \"12-03-12:02:12 PM\", \"12-03-12:02:53 PM\", \"12-03-12:03:33 PM\", \"12-03-12:04:13 PM\", \"12-03-12:04:51 PM\", \"12-03-12:05:29 PM\", \"12-03-12:06:08 PM\", \"12-03-12:06:48 PM\", \"12-03-12:07:29 PM\", \"12-03-12:08:09 PM\", \"12-03-12:08:49 PM\", \"12-03-12:09:29 PM\", \"12-03-12:10:09 PM\", \"12-03-12:10:51 PM\", \"12-03-12:11:32 PM\", \"12-03-12:12:14 PM\", \"12-03-12:12:57 PM\", \"12-03-12:13:40 PM\", \"12-03-12:14:23 PM\", \"12-03-12:15:07 PM\", \"12-03-12:15:50 PM\", \"12-03-12:16:33 PM\", \"12-03-12:17:16 PM\", \"12-03-12:17:59 PM\", \"12-03-12:18:43 PM\", \"12-03-12:19:26 PM\", \"12-03-12:20:09 PM\", \"12-03-12:20:52 PM\", \"12-03-12:21:35 PM\", \"12-03-12:22:19 PM\", \"12-03-12:23:02 PM\", \"12-03-12:23:45 PM\", \"12-03-12:24:28 PM\", \"12-03-12:25:10 PM\"], \"y\": [83, 84, 85, 86, 87, 88, 89, 90, 91, 92, 93, 94, 95, 96, 97, 98, 99, 100, 101, 102, 103, 104, 105, 106, 107, 108, 109, 110, 111, 112, 113, 114, 115, 116, 117, 118, 119, 120, 121, 122, 123, 124, 125, 126, 127, 128, 129, 130, 131, 132, 133, 134, 135, 136, 137, 138, 139, 140, 141, 142, 143, 144, 145, 146, 147, 148, 149, 150, 151, 152, 153, 154, 155, 156, 157, 158, 159, 160, 161, 162, 163, 164, 165, 166, 167, 168, 169, 170, 171, 172, 173, 174, 175, 176, 177, 178, 179, 180, 181, 182, 183, 184, 185, 186, 187, 188, 189, 190, 191, 192, 193, 194, 195, 196, 197, 198, 199, 200, 201, 202, 203, 204, 205, 206, 207, 208, 209, 210, 211, 212, 213, 214, 215]}, {\"name\": \"fbf1797b-9919-44e8-8bb1-13ca5a3f90b7\", \"type\": \"scatter\", \"x\": [\"12-03-12:55:29 PM\", \"12-03-12:56:07 PM\", \"12-03-12:56:44 PM\", \"12-03-12:57:20 PM\", \"12-03-12:57:57 PM\", \"12-03-12:58:33 PM\", \"12-03-12:59:09 PM\", \"12-03-12:59:45 PM\", \"12-03-01:00:21 PM\", \"12-03-01:00:57 PM\", \"12-03-01:01:34 PM\", \"12-03-01:02:10 PM\", \"12-03-01:02:46 PM\", \"12-03-01:03:22 PM\", \"12-03-01:03:59 PM\", \"12-03-01:04:36 PM\", \"12-03-01:05:13 PM\", \"12-03-01:05:49 PM\", \"12-03-01:06:26 PM\", \"12-03-01:07:03 PM\", \"12-03-01:07:40 PM\", \"12-03-01:08:17 PM\", \"12-03-01:08:55 PM\", \"12-03-01:09:33 PM\", \"12-03-01:10:12 PM\", \"12-03-01:10:51 PM\", \"12-03-01:11:29 PM\", \"12-03-01:12:07 PM\", \"12-03-01:12:44 PM\", \"12-03-01:13:20 PM\", \"12-03-01:13:56 PM\", \"12-03-01:14:32 PM\", \"12-03-01:15:08 PM\", \"12-03-01:15:46 PM\", \"12-03-01:16:24 PM\", \"12-03-01:17:02 PM\", \"12-03-01:17:40 PM\", \"12-03-01:18:18 PM\", \"12-03-01:18:55 PM\", \"12-03-01:19:33 PM\", \"12-03-01:20:11 PM\", \"12-03-01:20:49 PM\", \"12-03-01:21:27 PM\", \"12-03-01:22:06 PM\", \"12-03-01:22:46 PM\", \"12-03-01:23:25 PM\", \"12-03-01:24:03 PM\", \"12-03-01:24:41 PM\", \"12-03-01:25:19 PM\", \"12-03-01:25:56 PM\", \"12-03-01:26:34 PM\", \"12-03-01:27:11 PM\", \"12-03-01:27:49 PM\", \"12-03-01:28:27 PM\", \"12-03-01:29:05 PM\", \"12-03-01:29:43 PM\", \"12-03-01:30:21 PM\", \"12-03-01:30:59 PM\", \"12-03-01:31:36 PM\", \"12-03-01:32:13 PM\", \"12-03-01:32:50 PM\", \"12-03-01:33:27 PM\", \"12-03-01:34:05 PM\", \"12-03-01:34:42 PM\", \"12-03-01:35:19 PM\", \"12-03-01:35:55 PM\", \"12-03-01:36:31 PM\", \"12-03-01:37:06 PM\", \"12-03-01:37:42 PM\", \"12-03-01:38:18 PM\", \"12-03-01:38:54 PM\", \"12-03-01:39:30 PM\", \"12-03-01:40:07 PM\", \"12-03-01:40:45 PM\", \"12-03-01:41:22 PM\", \"12-03-01:41:58 PM\", \"12-03-01:42:34 PM\", \"12-03-01:43:10 PM\", \"12-03-01:43:47 PM\", \"12-03-01:44:25 PM\", \"12-03-01:45:01 PM\", \"12-03-01:45:35 PM\"], \"y\": [0, 1, 2, 3, 4, 5, 6, 7, 8, 9, 10, 11, 12, 13, 14, 15, 16, 17, 18, 19, 20, 21, 22, 23, 24, 25, 26, 27, 28, 29, 30, 31, 32, 33, 34, 35, 36, 37, 38, 39, 40, 41, 42, 43, 44, 45, 46, 47, 48, 49, 50, 51, 52, 53, 54, 55, 56, 57, 58, 59, 60, 61, 62, 63, 64, 65, 66, 67, 68, 69, 70, 71, 72, 73, 74, 75, 76, 77, 78, 79, 80, 81]}, {\"name\": \"fbf1797b-9919-44e8-8bb1-13ca5a3f90b7\", \"type\": \"scatter\", \"x\": [\"12-03-10:50:16 AM\", \"12-03-10:51:07 AM\", \"12-03-10:51:59 AM\", \"12-03-10:52:50 AM\", \"12-03-10:53:40 AM\", \"12-03-10:54:29 AM\", \"12-03-10:55:20 AM\", \"12-03-10:56:09 AM\", \"12-03-10:56:57 AM\", \"12-03-10:57:44 AM\", \"12-03-10:58:31 AM\", \"12-03-10:59:19 AM\", \"12-03-11:00:06 AM\", \"12-03-11:00:53 AM\", \"12-03-11:01:40 AM\", \"12-03-11:02:27 AM\", \"12-03-11:03:13 AM\", \"12-03-11:03:59 AM\", \"12-03-11:04:44 AM\", \"12-03-11:05:29 AM\", \"12-03-11:06:15 AM\", \"12-03-11:07:01 AM\", \"12-03-11:07:46 AM\", \"12-03-11:08:32 AM\", \"12-03-11:09:18 AM\", \"12-03-11:10:05 AM\", \"12-03-11:10:51 AM\", \"12-03-11:11:37 AM\", \"12-03-11:12:22 AM\", \"12-03-11:13:06 AM\", \"12-03-11:13:51 AM\", \"12-03-11:14:36 AM\", \"12-03-11:15:19 AM\", \"12-03-11:16:02 AM\", \"12-03-11:16:46 AM\", \"12-03-11:17:29 AM\", \"12-03-11:18:11 AM\", \"12-03-11:18:53 AM\", \"12-03-11:19:36 AM\", \"12-03-11:20:21 AM\", \"12-03-11:21:05 AM\", \"12-03-11:21:49 AM\", \"12-03-11:22:34 AM\", \"12-03-11:23:19 AM\", \"12-03-11:24:05 AM\", \"12-03-11:24:50 AM\", \"12-03-11:25:35 AM\", \"12-03-11:26:19 AM\", \"12-03-11:27:03 AM\", \"12-03-11:27:48 AM\", \"12-03-11:28:32 AM\", \"12-03-11:29:16 AM\", \"12-03-11:30:00 AM\", \"12-03-11:30:43 AM\", \"12-03-11:31:27 AM\", \"12-03-11:32:10 AM\", \"12-03-11:32:53 AM\", \"12-03-11:33:36 AM\", \"12-03-11:34:18 AM\", \"12-03-11:35:00 AM\", \"12-03-11:35:41 AM\", \"12-03-11:36:22 AM\", \"12-03-11:37:03 AM\", \"12-03-11:37:44 AM\", \"12-03-11:38:27 AM\", \"12-03-11:39:07 AM\", \"12-03-11:39:47 AM\", \"12-03-11:40:28 AM\", \"12-03-11:41:09 AM\", \"12-03-11:41:50 AM\", \"12-03-11:42:33 AM\", \"12-03-11:43:15 AM\", \"12-03-11:43:56 AM\", \"12-03-11:44:37 AM\", \"12-03-11:45:18 AM\", \"12-03-11:45:59 AM\", \"12-03-11:46:39 AM\", \"12-03-11:47:18 AM\", \"12-03-11:47:57 AM\", \"12-03-11:48:37 AM\", \"12-03-11:49:18 AM\", \"12-03-11:49:59 AM\", \"12-03-11:50:40 AM\", \"12-03-11:51:21 AM\", \"12-03-11:52:02 AM\", \"12-03-11:52:43 AM\", \"12-03-11:53:25 AM\", \"12-03-11:54:05 AM\", \"12-03-11:54:46 AM\", \"12-03-11:55:27 AM\", \"12-03-11:56:08 AM\", \"12-03-11:56:49 AM\", \"12-03-11:57:29 AM\", \"12-03-11:58:09 AM\", \"12-03-11:58:49 AM\", \"12-03-11:59:29 AM\", \"12-03-12:00:11 PM\", \"12-03-12:00:52 PM\", \"12-03-12:01:33 PM\", \"12-03-12:02:14 PM\", \"12-03-12:02:54 PM\", \"12-03-12:03:34 PM\", \"12-03-12:04:14 PM\", \"12-03-12:04:52 PM\", \"12-03-12:05:30 PM\", \"12-03-12:06:09 PM\", \"12-03-12:06:49 PM\", \"12-03-12:07:30 PM\", \"12-03-12:08:10 PM\", \"12-03-12:08:50 PM\", \"12-03-12:09:30 PM\", \"12-03-12:10:10 PM\", \"12-03-12:10:52 PM\", \"12-03-12:11:33 PM\", \"12-03-12:12:15 PM\", \"12-03-12:12:58 PM\", \"12-03-12:13:41 PM\", \"12-03-12:14:24 PM\", \"12-03-12:15:08 PM\", \"12-03-12:15:51 PM\", \"12-03-12:16:34 PM\", \"12-03-12:17:17 PM\", \"12-03-12:18:00 PM\", \"12-03-12:18:44 PM\", \"12-03-12:19:27 PM\", \"12-03-12:20:10 PM\", \"12-03-12:20:53 PM\", \"12-03-12:21:36 PM\", \"12-03-12:22:20 PM\", \"12-03-12:23:03 PM\", \"12-03-12:23:46 PM\", \"12-03-12:24:29 PM\", \"12-03-12:25:11 PM\", \"12-03-12:25:53 PM\", \"12-03-12:26:34 PM\", \"12-03-12:27:15 PM\", \"12-03-12:27:57 PM\", \"12-03-12:28:40 PM\", \"12-03-12:29:24 PM\", \"12-03-12:30:07 PM\", \"12-03-12:30:50 PM\", \"12-03-12:31:33 PM\", \"12-03-12:32:16 PM\", \"12-03-12:33:00 PM\", \"12-03-12:33:43 PM\", \"12-03-12:34:26 PM\", \"12-03-12:35:09 PM\", \"12-03-12:35:51 PM\", \"12-03-12:36:33 PM\", \"12-03-12:37:13 PM\", \"12-03-12:37:53 PM\", \"12-03-12:38:31 PM\", \"12-03-12:39:09 PM\", \"12-03-12:39:48 PM\", \"12-03-12:40:27 PM\", \"12-03-12:41:07 PM\", \"12-03-12:41:47 PM\"], \"y\": [72, 73, 74, 75, 76, 77, 78, 79, 80, 81, 82, 83, 84, 85, 86, 87, 88, 89, 90, 91, 92, 93, 94, 95, 96, 97, 98, 99, 100, 101, 102, 103, 104, 105, 106, 107, 108, 109, 110, 111, 112, 113, 114, 115, 116, 117, 118, 119, 120, 121, 122, 123, 124, 125, 126, 127, 128, 129, 130, 131, 132, 133, 134, 135, 136, 137, 138, 139, 140, 141, 142, 143, 144, 145, 146, 147, 148, 149, 150, 151, 152, 153, 154, 155, 156, 157, 158, 159, 160, 161, 162, 163, 164, 165, 166, 167, 168, 169, 170, 171, 172, 173, 174, 175, 176, 177, 178, 179, 180, 181, 182, 183, 184, 185, 186, 187, 188, 189, 190, 191, 192, 193, 194, 195, 196, 197, 198, 199, 200, 201, 202, 203, 204, 205, 206, 207, 208, 209, 210, 211, 212, 213, 214, 215, 216, 217, 218, 219, 220, 221, 222, 223, 224, 225, 226, 227, 228]}, {\"name\": \"fbf1797b-9919-44e8-8bb1-13ca5a3f90b7\", \"type\": \"scatter\", \"x\": [\"12-03-12:28:35 PM\", \"12-03-12:29:19 PM\", \"12-03-12:30:02 PM\", \"12-03-12:30:45 PM\", \"12-03-12:31:28 PM\", \"12-03-12:32:11 PM\", \"12-03-12:32:55 PM\", \"12-03-12:33:38 PM\", \"12-03-12:34:21 PM\", \"12-03-12:35:04 PM\", \"12-03-12:35:46 PM\", \"12-03-12:36:29 PM\", \"12-03-12:37:09 PM\", \"12-03-12:37:49 PM\", \"12-03-12:38:28 PM\", \"12-03-12:39:06 PM\", \"12-03-12:39:45 PM\", \"12-03-12:40:23 PM\", \"12-03-12:41:02 PM\", \"12-03-12:41:42 PM\", \"12-03-12:42:22 PM\", \"12-03-12:43:01 PM\", \"12-03-12:43:42 PM\", \"12-03-12:44:21 PM\", \"12-03-12:45:00 PM\", \"12-03-12:45:39 PM\", \"12-03-12:46:19 PM\", \"12-03-12:47:00 PM\", \"12-03-12:47:40 PM\", \"12-03-12:48:20 PM\", \"12-03-12:49:00 PM\", \"12-03-12:49:40 PM\", \"12-03-12:50:21 PM\", \"12-03-12:51:01 PM\", \"12-03-12:51:40 PM\", \"12-03-12:52:18 PM\", \"12-03-12:52:55 PM\", \"12-03-12:53:32 PM\", \"12-03-12:54:10 PM\", \"12-03-12:54:47 PM\", \"12-03-12:55:24 PM\", \"12-03-12:56:02 PM\", \"12-03-12:56:39 PM\", \"12-03-12:57:15 PM\", \"12-03-12:57:52 PM\", \"12-03-12:58:28 PM\", \"12-03-12:59:04 PM\", \"12-03-12:59:40 PM\", \"12-03-01:00:16 PM\", \"12-03-01:00:52 PM\", \"12-03-01:01:29 PM\", \"12-03-01:02:05 PM\", \"12-03-01:02:41 PM\", \"12-03-01:03:17 PM\", \"12-03-01:03:54 PM\", \"12-03-01:04:31 PM\", \"12-03-01:05:08 PM\", \"12-03-01:05:44 PM\", \"12-03-01:06:21 PM\", \"12-03-01:06:58 PM\", \"12-03-01:07:35 PM\", \"12-03-01:08:12 PM\", \"12-03-01:08:50 PM\", \"12-03-01:09:28 PM\", \"12-03-01:10:07 PM\", \"12-03-01:10:46 PM\", \"12-03-01:11:24 PM\", \"12-03-01:12:02 PM\", \"12-03-01:12:39 PM\", \"12-03-01:13:15 PM\", \"12-03-01:13:51 PM\", \"12-03-01:14:27 PM\", \"12-03-01:15:03 PM\", \"12-03-01:15:41 PM\", \"12-03-01:16:19 PM\", \"12-03-01:16:57 PM\", \"12-03-01:17:35 PM\", \"12-03-01:18:13 PM\", \"12-03-01:18:50 PM\", \"12-03-01:19:28 PM\", \"12-03-01:20:06 PM\", \"12-03-01:20:44 PM\", \"12-03-01:21:22 PM\", \"12-03-01:22:01 PM\", \"12-03-01:22:41 PM\", \"12-03-01:23:20 PM\", \"12-03-01:23:58 PM\", \"12-03-01:24:36 PM\", \"12-03-01:25:14 PM\", \"12-03-01:25:51 PM\", \"12-03-01:26:29 PM\", \"12-03-01:27:06 PM\", \"12-03-01:27:44 PM\", \"12-03-01:28:22 PM\", \"12-03-01:29:00 PM\", \"12-03-01:29:38 PM\", \"12-03-01:30:16 PM\", \"12-03-01:30:54 PM\", \"12-03-01:31:31 PM\", \"12-03-01:32:08 PM\", \"12-03-01:32:45 PM\", \"12-03-01:33:22 PM\", \"12-03-01:34:00 PM\", \"12-03-01:34:37 PM\", \"12-03-01:35:14 PM\", \"12-03-01:35:50 PM\", \"12-03-01:36:26 PM\", \"12-03-01:37:01 PM\", \"12-03-01:37:37 PM\", \"12-03-01:38:13 PM\", \"12-03-01:38:49 PM\", \"12-03-01:39:25 PM\", \"12-03-01:40:02 PM\", \"12-03-01:40:39 PM\", \"12-03-01:41:17 PM\", \"12-03-01:41:53 PM\", \"12-03-01:42:29 PM\", \"12-03-01:43:05 PM\", \"12-03-01:43:42 PM\", \"12-03-01:44:20 PM\", \"12-03-01:44:56 PM\", \"12-03-01:45:30 PM\"], \"y\": [0, 1, 2, 3, 4, 5, 6, 7, 8, 9, 10, 11, 12, 13, 14, 15, 16, 17, 18, 19, 20, 21, 22, 23, 24, 25, 26, 27, 28, 29, 30, 31, 32, 33, 34, 35, 36, 37, 38, 39, 40, 41, 42, 43, 44, 45, 46, 47, 48, 49, 50, 51, 52, 53, 54, 55, 56, 57, 58, 59, 60, 61, 62, 63, 64, 65, 66, 67, 68, 69, 70, 71, 72, 73, 74, 75, 76, 77, 78, 79, 80, 81, 82, 83, 84, 85, 86, 87, 88, 89, 90, 91, 92, 93, 94, 95, 96, 97, 98, 99, 100, 101, 102, 103, 104, 105, 106, 107, 108, 109, 110, 111, 112, 113, 114, 115, 116, 117, 118, 119, 120, 121]}, {\"name\": \"fbf1797b-9919-44e8-8bb1-13ca5a3f90b7\", \"type\": \"scatter\", \"x\": [\"12-03-10:49:43 AM\", \"12-03-10:50:34 AM\", \"12-03-10:51:25 AM\", \"12-03-10:52:17 AM\", \"12-03-10:53:08 AM\", \"12-03-10:53:58 AM\", \"12-03-10:54:48 AM\", \"12-03-10:55:38 AM\", \"12-03-10:56:27 AM\"], \"y\": [197, 198, 199, 200, 201, 202, 203, 204, 205]}],                        {\"legend\": {\"orientation\": \"v\"}, \"template\": {\"data\": {\"bar\": [{\"error_x\": {\"color\": \"#2a3f5f\"}, \"error_y\": {\"color\": \"#2a3f5f\"}, \"marker\": {\"line\": {\"color\": \"#E5ECF6\", \"width\": 0.5}}, \"type\": \"bar\"}], \"barpolar\": [{\"marker\": {\"line\": {\"color\": \"#E5ECF6\", \"width\": 0.5}}, \"type\": \"barpolar\"}], \"carpet\": [{\"aaxis\": {\"endlinecolor\": \"#2a3f5f\", \"gridcolor\": \"white\", \"linecolor\": \"white\", \"minorgridcolor\": \"white\", \"startlinecolor\": \"#2a3f5f\"}, \"baxis\": {\"endlinecolor\": \"#2a3f5f\", \"gridcolor\": \"white\", \"linecolor\": \"white\", \"minorgridcolor\": \"white\", \"startlinecolor\": \"#2a3f5f\"}, \"type\": \"carpet\"}], \"choropleth\": [{\"colorbar\": {\"outlinewidth\": 0, \"ticks\": \"\"}, \"type\": \"choropleth\"}], \"contour\": [{\"colorbar\": {\"outlinewidth\": 0, \"ticks\": \"\"}, \"colorscale\": [[0.0, \"#0d0887\"], [0.1111111111111111, \"#46039f\"], [0.2222222222222222, \"#7201a8\"], [0.3333333333333333, \"#9c179e\"], [0.4444444444444444, \"#bd3786\"], [0.5555555555555556, \"#d8576b\"], [0.6666666666666666, \"#ed7953\"], [0.7777777777777778, \"#fb9f3a\"], [0.8888888888888888, \"#fdca26\"], [1.0, \"#f0f921\"]], \"type\": \"contour\"}], \"contourcarpet\": [{\"colorbar\": {\"outlinewidth\": 0, \"ticks\": \"\"}, \"type\": \"contourcarpet\"}], \"heatmap\": [{\"colorbar\": {\"outlinewidth\": 0, \"ticks\": \"\"}, \"colorscale\": [[0.0, \"#0d0887\"], [0.1111111111111111, \"#46039f\"], [0.2222222222222222, \"#7201a8\"], [0.3333333333333333, \"#9c179e\"], [0.4444444444444444, \"#bd3786\"], [0.5555555555555556, \"#d8576b\"], [0.6666666666666666, \"#ed7953\"], [0.7777777777777778, \"#fb9f3a\"], [0.8888888888888888, \"#fdca26\"], [1.0, \"#f0f921\"]], \"type\": \"heatmap\"}], \"heatmapgl\": [{\"colorbar\": {\"outlinewidth\": 0, \"ticks\": \"\"}, \"colorscale\": [[0.0, \"#0d0887\"], [0.1111111111111111, \"#46039f\"], [0.2222222222222222, \"#7201a8\"], [0.3333333333333333, \"#9c179e\"], [0.4444444444444444, \"#bd3786\"], [0.5555555555555556, \"#d8576b\"], [0.6666666666666666, \"#ed7953\"], [0.7777777777777778, \"#fb9f3a\"], [0.8888888888888888, \"#fdca26\"], [1.0, \"#f0f921\"]], \"type\": \"heatmapgl\"}], \"histogram\": [{\"marker\": {\"colorbar\": {\"outlinewidth\": 0, \"ticks\": \"\"}}, \"type\": \"histogram\"}], \"histogram2d\": [{\"colorbar\": {\"outlinewidth\": 0, \"ticks\": \"\"}, \"colorscale\": [[0.0, \"#0d0887\"], [0.1111111111111111, \"#46039f\"], [0.2222222222222222, \"#7201a8\"], [0.3333333333333333, \"#9c179e\"], [0.4444444444444444, \"#bd3786\"], [0.5555555555555556, \"#d8576b\"], [0.6666666666666666, \"#ed7953\"], [0.7777777777777778, \"#fb9f3a\"], [0.8888888888888888, \"#fdca26\"], [1.0, \"#f0f921\"]], \"type\": \"histogram2d\"}], \"histogram2dcontour\": [{\"colorbar\": {\"outlinewidth\": 0, \"ticks\": \"\"}, \"colorscale\": [[0.0, \"#0d0887\"], [0.1111111111111111, \"#46039f\"], [0.2222222222222222, \"#7201a8\"], [0.3333333333333333, \"#9c179e\"], [0.4444444444444444, \"#bd3786\"], [0.5555555555555556, \"#d8576b\"], [0.6666666666666666, \"#ed7953\"], [0.7777777777777778, \"#fb9f3a\"], [0.8888888888888888, \"#fdca26\"], [1.0, \"#f0f921\"]], \"type\": \"histogram2dcontour\"}], \"mesh3d\": [{\"colorbar\": {\"outlinewidth\": 0, \"ticks\": \"\"}, \"type\": \"mesh3d\"}], \"parcoords\": [{\"line\": {\"colorbar\": {\"outlinewidth\": 0, \"ticks\": \"\"}}, \"type\": \"parcoords\"}], \"pie\": [{\"automargin\": true, \"type\": \"pie\"}], \"scatter\": [{\"marker\": {\"colorbar\": {\"outlinewidth\": 0, \"ticks\": \"\"}}, \"type\": \"scatter\"}], \"scatter3d\": [{\"line\": {\"colorbar\": {\"outlinewidth\": 0, \"ticks\": \"\"}}, \"marker\": {\"colorbar\": {\"outlinewidth\": 0, \"ticks\": \"\"}}, \"type\": \"scatter3d\"}], \"scattercarpet\": [{\"marker\": {\"colorbar\": {\"outlinewidth\": 0, \"ticks\": \"\"}}, \"type\": \"scattercarpet\"}], \"scattergeo\": [{\"marker\": {\"colorbar\": {\"outlinewidth\": 0, \"ticks\": \"\"}}, \"type\": \"scattergeo\"}], \"scattergl\": [{\"marker\": {\"colorbar\": {\"outlinewidth\": 0, \"ticks\": \"\"}}, \"type\": \"scattergl\"}], \"scattermapbox\": [{\"marker\": {\"colorbar\": {\"outlinewidth\": 0, \"ticks\": \"\"}}, \"type\": \"scattermapbox\"}], \"scatterpolar\": [{\"marker\": {\"colorbar\": {\"outlinewidth\": 0, \"ticks\": \"\"}}, \"type\": \"scatterpolar\"}], \"scatterpolargl\": [{\"marker\": {\"colorbar\": {\"outlinewidth\": 0, \"ticks\": \"\"}}, \"type\": \"scatterpolargl\"}], \"scatterternary\": [{\"marker\": {\"colorbar\": {\"outlinewidth\": 0, \"ticks\": \"\"}}, \"type\": \"scatterternary\"}], \"surface\": [{\"colorbar\": {\"outlinewidth\": 0, \"ticks\": \"\"}, \"colorscale\": [[0.0, \"#0d0887\"], [0.1111111111111111, \"#46039f\"], [0.2222222222222222, \"#7201a8\"], [0.3333333333333333, \"#9c179e\"], [0.4444444444444444, \"#bd3786\"], [0.5555555555555556, \"#d8576b\"], [0.6666666666666666, \"#ed7953\"], [0.7777777777777778, \"#fb9f3a\"], [0.8888888888888888, \"#fdca26\"], [1.0, \"#f0f921\"]], \"type\": \"surface\"}], \"table\": [{\"cells\": {\"fill\": {\"color\": \"#EBF0F8\"}, \"line\": {\"color\": \"white\"}}, \"header\": {\"fill\": {\"color\": \"#C8D4E3\"}, \"line\": {\"color\": \"white\"}}, \"type\": \"table\"}]}, \"layout\": {\"annotationdefaults\": {\"arrowcolor\": \"#2a3f5f\", \"arrowhead\": 0, \"arrowwidth\": 1}, \"coloraxis\": {\"colorbar\": {\"outlinewidth\": 0, \"ticks\": \"\"}}, \"colorscale\": {\"diverging\": [[0, \"#8e0152\"], [0.1, \"#c51b7d\"], [0.2, \"#de77ae\"], [0.3, \"#f1b6da\"], [0.4, \"#fde0ef\"], [0.5, \"#f7f7f7\"], [0.6, \"#e6f5d0\"], [0.7, \"#b8e186\"], [0.8, \"#7fbc41\"], [0.9, \"#4d9221\"], [1, \"#276419\"]], \"sequential\": [[0.0, \"#0d0887\"], [0.1111111111111111, \"#46039f\"], [0.2222222222222222, \"#7201a8\"], [0.3333333333333333, \"#9c179e\"], [0.4444444444444444, \"#bd3786\"], [0.5555555555555556, \"#d8576b\"], [0.6666666666666666, \"#ed7953\"], [0.7777777777777778, \"#fb9f3a\"], [0.8888888888888888, \"#fdca26\"], [1.0, \"#f0f921\"]], \"sequentialminus\": [[0.0, \"#0d0887\"], [0.1111111111111111, \"#46039f\"], [0.2222222222222222, \"#7201a8\"], [0.3333333333333333, \"#9c179e\"], [0.4444444444444444, \"#bd3786\"], [0.5555555555555556, \"#d8576b\"], [0.6666666666666666, \"#ed7953\"], [0.7777777777777778, \"#fb9f3a\"], [0.8888888888888888, \"#fdca26\"], [1.0, \"#f0f921\"]]}, \"colorway\": [\"#636efa\", \"#EF553B\", \"#00cc96\", \"#ab63fa\", \"#FFA15A\", \"#19d3f3\", \"#FF6692\", \"#B6E880\", \"#FF97FF\", \"#FECB52\"], \"font\": {\"color\": \"#2a3f5f\"}, \"geo\": {\"bgcolor\": \"white\", \"lakecolor\": \"white\", \"landcolor\": \"#E5ECF6\", \"showlakes\": true, \"showland\": true, \"subunitcolor\": \"white\"}, \"hoverlabel\": {\"align\": \"left\"}, \"hovermode\": \"closest\", \"mapbox\": {\"style\": \"light\"}, \"paper_bgcolor\": \"white\", \"plot_bgcolor\": \"#E5ECF6\", \"polar\": {\"angularaxis\": {\"gridcolor\": \"white\", \"linecolor\": \"white\", \"ticks\": \"\"}, \"bgcolor\": \"#E5ECF6\", \"radialaxis\": {\"gridcolor\": \"white\", \"linecolor\": \"white\", \"ticks\": \"\"}}, \"scene\": {\"xaxis\": {\"backgroundcolor\": \"#E5ECF6\", \"gridcolor\": \"white\", \"gridwidth\": 2, \"linecolor\": \"white\", \"showbackground\": true, \"ticks\": \"\", \"zerolinecolor\": \"white\"}, \"yaxis\": {\"backgroundcolor\": \"#E5ECF6\", \"gridcolor\": \"white\", \"gridwidth\": 2, \"linecolor\": \"white\", \"showbackground\": true, \"ticks\": \"\", \"zerolinecolor\": \"white\"}, \"zaxis\": {\"backgroundcolor\": \"#E5ECF6\", \"gridcolor\": \"white\", \"gridwidth\": 2, \"linecolor\": \"white\", \"showbackground\": true, \"ticks\": \"\", \"zerolinecolor\": \"white\"}}, \"shapedefaults\": {\"line\": {\"color\": \"#2a3f5f\"}}, \"ternary\": {\"aaxis\": {\"gridcolor\": \"white\", \"linecolor\": \"white\", \"ticks\": \"\"}, \"baxis\": {\"gridcolor\": \"white\", \"linecolor\": \"white\", \"ticks\": \"\"}, \"bgcolor\": \"#E5ECF6\", \"caxis\": {\"gridcolor\": \"white\", \"linecolor\": \"white\", \"ticks\": \"\"}}, \"title\": {\"x\": 0.05}, \"xaxis\": {\"automargin\": true, \"gridcolor\": \"white\", \"linecolor\": \"white\", \"ticks\": \"\", \"title\": {\"standoff\": 15}, \"zerolinecolor\": \"white\", \"zerolinewidth\": 2}, \"yaxis\": {\"automargin\": true, \"gridcolor\": \"white\", \"linecolor\": \"white\", \"ticks\": \"\", \"title\": {\"standoff\": 15}, \"zerolinecolor\": \"white\", \"zerolinewidth\": 2}}}, \"title\": {\"text\": \"Cycle of 30 random aircraft_id\"}, \"xaxis\": {\"title\": {\"text\": \"Time\"}}, \"yaxis\": {\"title\": {\"text\": \"Cycle\"}}},                        {\"responsive\": true}                    ).then(function(){\n",
       "                            \n",
       "var gd = document.getElementById('039b9349-2b67-4a88-9e52-3fdd355e326a');\n",
       "var x = new MutationObserver(function (mutations, observer) {{\n",
       "        var display = window.getComputedStyle(gd).display;\n",
       "        if (!display || display === 'none') {{\n",
       "            console.log([gd, 'removed!']);\n",
       "            Plotly.purge(gd);\n",
       "            observer.disconnect();\n",
       "        }}\n",
       "}});\n",
       "\n",
       "// Listen for the removal of the full notebook cells\n",
       "var notebookContainer = gd.closest('#notebook-container');\n",
       "if (notebookContainer) {{\n",
       "    x.observe(notebookContainer, {childList: true});\n",
       "}}\n",
       "\n",
       "// Listen for the clearing of the current output cell\n",
       "var outputEl = gd.closest('.output');\n",
       "if (outputEl) {{\n",
       "    x.observe(outputEl, {childList: true});\n",
       "}}\n",
       "\n",
       "                        })                };                });            </script>        </div>"
      ]
     },
     "metadata": {},
     "output_type": "display_data"
    }
   ],
   "source": [
    "data = []\n",
    "for aircraft_id in np.random.choice(df['aircraft_id'].unique(), 30):\n",
    "    asset_df = df[(df['aircraft_id'] == aircraft_id)]\n",
    "\n",
    "    data.append(go.Scatter(\n",
    "        x = asset_df['time'].dt.strftime(date_format='%m-%d-%r').values,\n",
    "        y = asset_df['cicle'].values,\n",
    "        name = asset\n",
    "    ))\n",
    "layout = go.Layout(dict(title = \"Cycle of 30 random aircraft_id\",\n",
    "                  xaxis = dict(title = 'Time'),\n",
    "                  yaxis = dict(title = 'Cycle'),\n",
    "                  ),legend=dict(\n",
    "                orientation=\"v\"))\n",
    "py.iplot(dict(data=data, layout=layout), filename='basic-line')"
   ]
  },
  {
   "cell_type": "code",
   "execution_count": 110,
   "metadata": {},
   "outputs": [
    {
     "data": {
      "application/vnd.plotly.v1+json": {
       "config": {
        "linkText": "Export to plot.ly",
        "plotlyServerURL": "https://plot.ly",
        "showLink": false
       },
       "data": [
        {
         "name": "s1 data",
         "type": "scatter",
         "x": [
          "12-03-01:37:55 PM",
          "12-03-01:38:31 PM",
          "12-03-01:39:07 PM",
          "12-03-01:39:43 PM",
          "12-03-01:40:20 PM",
          "12-03-01:40:58 PM",
          "12-03-01:41:35 PM",
          "12-03-01:42:11 PM",
          "12-03-01:42:47 PM",
          "12-03-01:43:23 PM",
          "12-03-01:44:00 PM",
          "12-03-01:44:38 PM",
          "12-03-01:45:14 PM"
         ],
         "y": [
          446.9523833809205,
          451.9315418294114,
          460.95834307030486,
          434.67285436728815,
          418.4578792541958,
          450.67554204683586,
          444.4890924618026,
          459.85353931681703,
          454.2658722680182,
          452.27721061393163,
          450.5364508403861,
          457.53139655266364,
          463.35023147073196
         ]
        },
        {
         "name": "s2 data",
         "type": "scatter",
         "x": [
          "12-03-01:37:55 PM",
          "12-03-01:38:31 PM",
          "12-03-01:39:07 PM",
          "12-03-01:39:43 PM",
          "12-03-01:40:20 PM",
          "12-03-01:40:58 PM",
          "12-03-01:41:35 PM",
          "12-03-01:42:11 PM",
          "12-03-01:42:47 PM",
          "12-03-01:43:23 PM",
          "12-03-01:44:00 PM",
          "12-03-01:44:38 PM",
          "12-03-01:45:14 PM"
         ],
         "y": [
          530.7739609061339,
          580.8487969739856,
          562.5984392245956,
          550.5723803891648,
          546.4386498856577,
          578.9634230753992,
          560.3161972107357,
          552.2401128910985,
          566.9463052017093,
          551.3184231734667,
          565.2364654705898,
          553.2241267421296,
          555.1483414633948
         ]
        },
        {
         "name": "s3 data",
         "type": "scatter",
         "x": [
          "12-03-01:37:55 PM",
          "12-03-01:38:31 PM",
          "12-03-01:39:07 PM",
          "12-03-01:39:43 PM",
          "12-03-01:40:20 PM",
          "12-03-01:40:58 PM",
          "12-03-01:41:35 PM",
          "12-03-01:42:11 PM",
          "12-03-01:42:47 PM",
          "12-03-01:43:23 PM",
          "12-03-01:44:00 PM",
          "12-03-01:44:38 PM",
          "12-03-01:45:14 PM"
         ],
         "y": [
          1365.327766581776,
          1391.2609789179355,
          1484.0004849221014,
          1363.9531874576278,
          1322.290629441786,
          1377.6298035615082,
          1382.5584468248685,
          1400.5691348740775,
          1410.4208881776087,
          1378.0498998608466,
          1346.107218059964,
          1391.2758536042306,
          1437.9470829686456
         ]
        },
        {
         "name": "s4 data",
         "type": "scatter",
         "x": [
          "12-03-01:37:55 PM",
          "12-03-01:38:31 PM",
          "12-03-01:39:07 PM",
          "12-03-01:39:43 PM",
          "12-03-01:40:20 PM",
          "12-03-01:40:58 PM",
          "12-03-01:41:35 PM",
          "12-03-01:42:11 PM",
          "12-03-01:42:47 PM",
          "12-03-01:43:23 PM",
          "12-03-01:44:00 PM",
          "12-03-01:44:38 PM",
          "12-03-01:45:14 PM"
         ],
         "y": [
          1226.0837000133681,
          1210.6352400555377,
          1200.984548685184,
          1226.0225867904333,
          1219.2314157157969,
          1184.123953362216,
          1222.3062116999545,
          1261.4031352929471,
          1209.0230983376705,
          1236.1591942459174,
          1165.3834913991818,
          1196.9212521617005,
          1196.493496701937
         ]
        },
        {
         "name": "s5 data",
         "type": "scatter",
         "x": [
          "12-03-01:37:55 PM",
          "12-03-01:38:31 PM",
          "12-03-01:39:07 PM",
          "12-03-01:39:43 PM",
          "12-03-01:40:20 PM",
          "12-03-01:40:58 PM",
          "12-03-01:41:35 PM",
          "12-03-01:42:11 PM",
          "12-03-01:42:47 PM",
          "12-03-01:43:23 PM",
          "12-03-01:44:00 PM",
          "12-03-01:44:38 PM",
          "12-03-01:45:14 PM"
         ],
         "y": [
          12.591249675194009,
          12.560089810750304,
          13.364562153979092,
          12.789329424795024,
          12.978029049384046,
          12.574320630576654,
          12.772092313347125,
          12.929946963436668,
          12.741025835471856,
          12.624626129854938,
          12.76676421515218,
          12.218775039525296,
          13.215507362579036
         ]
        },
        {
         "name": "s6 data",
         "type": "scatter",
         "x": [
          "12-03-01:37:55 PM",
          "12-03-01:38:31 PM",
          "12-03-01:39:07 PM",
          "12-03-01:39:43 PM",
          "12-03-01:40:20 PM",
          "12-03-01:40:58 PM",
          "12-03-01:41:35 PM",
          "12-03-01:42:11 PM",
          "12-03-01:42:47 PM",
          "12-03-01:43:23 PM",
          "12-03-01:44:00 PM",
          "12-03-01:44:38 PM",
          "12-03-01:45:14 PM"
         ],
         "y": [
          19.836255132248482,
          18.828638205547808,
          19.246999183379888,
          18.81832846326886,
          18.184769261835154,
          19.666902415793306,
          18.029238673542217,
          19.648613299550952,
          20.235029018236066,
          18.927075764860486,
          18.28371166602145,
          18.90394881643416,
          19.07653776144295
         ]
        },
        {
         "name": "s7 data",
         "type": "scatter",
         "x": [
          "12-03-01:37:55 PM",
          "12-03-01:38:31 PM",
          "12-03-01:39:07 PM",
          "12-03-01:39:43 PM",
          "12-03-01:40:20 PM",
          "12-03-01:40:58 PM",
          "12-03-01:41:35 PM",
          "12-03-01:42:11 PM",
          "12-03-01:42:47 PM",
          "12-03-01:43:23 PM",
          "12-03-01:44:00 PM",
          "12-03-01:44:38 PM",
          "12-03-01:45:14 PM"
         ],
         "y": [
          488.07335510244224,
          471.3266542776088,
          477.28051326385565,
          478.609082456108,
          500.08742389353364,
          469.94505514953636,
          499.5714539680175,
          477.1400196199569,
          494.493159102638,
          493.7007594097361,
          476.119779788835,
          499.766404046222,
          489.36029331074263
         ]
        },
        {
         "name": "s8 data",
         "type": "scatter",
         "x": [
          "12-03-01:37:55 PM",
          "12-03-01:38:31 PM",
          "12-03-01:39:07 PM",
          "12-03-01:39:43 PM",
          "12-03-01:40:20 PM",
          "12-03-01:40:58 PM",
          "12-03-01:41:35 PM",
          "12-03-01:42:11 PM",
          "12-03-01:42:47 PM",
          "12-03-01:43:23 PM",
          "12-03-01:44:00 PM",
          "12-03-01:44:38 PM",
          "12-03-01:45:14 PM"
         ],
         "y": [
          1976.165872374081,
          2187.449949845637,
          2180.745374418212,
          2061.1945758157754,
          2130.7125433384767,
          2068.503979051977,
          2095.050487875636,
          2131.4112479535333,
          2130.9568989636105,
          2115.332925142813,
          2103.396800762062,
          2030.895871022281,
          2063.8279122665963
         ]
        },
        {
         "name": "s9 data",
         "type": "scatter",
         "x": [
          "12-03-01:37:55 PM",
          "12-03-01:38:31 PM",
          "12-03-01:39:07 PM",
          "12-03-01:39:43 PM",
          "12-03-01:40:20 PM",
          "12-03-01:40:58 PM",
          "12-03-01:41:35 PM",
          "12-03-01:42:11 PM",
          "12-03-01:42:47 PM",
          "12-03-01:43:23 PM",
          "12-03-01:44:00 PM",
          "12-03-01:44:38 PM",
          "12-03-01:45:14 PM"
         ],
         "y": [
          8021.595640835921,
          7595.972049077361,
          7883.164169296714,
          8067.074148300504,
          7866.886779203068,
          8384.967583377547,
          7856.030450892247,
          7583.812326821609,
          7837.541487200539,
          7915.2843325651575,
          7817.925787180047,
          7864.565083159802,
          7759.711167709659
         ]
        },
        {
         "name": "s10 data",
         "type": "scatter",
         "x": [
          "12-03-01:37:55 PM",
          "12-03-01:38:31 PM",
          "12-03-01:39:07 PM",
          "12-03-01:39:43 PM",
          "12-03-01:40:20 PM",
          "12-03-01:40:58 PM",
          "12-03-01:41:35 PM",
          "12-03-01:42:11 PM",
          "12-03-01:42:47 PM",
          "12-03-01:43:23 PM",
          "12-03-01:44:00 PM",
          "12-03-01:44:38 PM",
          "12-03-01:45:14 PM"
         ],
         "y": [
          1.117569310254469,
          1.1052300567598867,
          1.1612058142223147,
          1.1594521217269338,
          1.1463886748144114,
          1.1672320447985514,
          1.1237880013713268,
          1.1068146117873752,
          1.1267270614317078,
          1.1195203188390763,
          1.130991375805954,
          1.181111450485801,
          1.1475656681481543
         ]
        },
        {
         "name": "s11 data",
         "type": "scatter",
         "x": [
          "12-03-01:37:55 PM",
          "12-03-01:38:31 PM",
          "12-03-01:39:07 PM",
          "12-03-01:39:43 PM",
          "12-03-01:40:20 PM",
          "12-03-01:40:58 PM",
          "12-03-01:41:35 PM",
          "12-03-01:42:11 PM",
          "12-03-01:42:47 PM",
          "12-03-01:43:23 PM",
          "12-03-01:44:00 PM",
          "12-03-01:44:38 PM",
          "12-03-01:45:14 PM"
         ],
         "y": [
          42.26554330835793,
          40.04851887491307,
          41.88397184836518,
          41.017424151261785,
          40.79094666387028,
          43.53833227188685,
          41.034501269998266,
          41.29199712163592,
          41.80157726122304,
          42.59632342734885,
          40.133913963996314,
          40.753322639925884,
          42.90479708408956
         ]
        },
        {
         "name": "s12 data",
         "type": "scatter",
         "x": [
          "12-03-01:37:55 PM",
          "12-03-01:38:31 PM",
          "12-03-01:39:07 PM",
          "12-03-01:39:43 PM",
          "12-03-01:40:20 PM",
          "12-03-01:40:58 PM",
          "12-03-01:41:35 PM",
          "12-03-01:42:11 PM",
          "12-03-01:42:47 PM",
          "12-03-01:43:23 PM",
          "12-03-01:44:00 PM",
          "12-03-01:44:38 PM",
          "12-03-01:45:14 PM"
         ],
         "y": [
          458.806083572243,
          453.88302573557803,
          448.3011235252216,
          438.3702063202119,
          453.69907405961374,
          462.06646346220055,
          485.0132938284954,
          465.65267615797404,
          459.4524887078325,
          443.41035061164337,
          456.0821301571637,
          438.5249071024672,
          458.9863302743119
         ]
        },
        {
         "name": "s13 data",
         "type": "scatter",
         "x": [
          "12-03-01:37:55 PM",
          "12-03-01:38:31 PM",
          "12-03-01:39:07 PM",
          "12-03-01:39:43 PM",
          "12-03-01:40:20 PM",
          "12-03-01:40:58 PM",
          "12-03-01:41:35 PM",
          "12-03-01:42:11 PM",
          "12-03-01:42:47 PM",
          "12-03-01:43:23 PM",
          "12-03-01:44:00 PM",
          "12-03-01:44:38 PM",
          "12-03-01:45:14 PM"
         ],
         "y": [
          2139.823887495427,
          2071.9497087488826,
          2096.7793158933755,
          2104.6640568734347,
          2045.723124413226,
          2067.111368173757,
          2188.8316354897847,
          2198.28940676928,
          2176.7500726946614,
          2047.6595456293585,
          2065.4623455834526,
          2031.518640992568,
          2103.7072224238354
         ]
        },
        {
         "name": "s14 data",
         "type": "scatter",
         "x": [
          "12-03-01:37:55 PM",
          "12-03-01:38:31 PM",
          "12-03-01:39:07 PM",
          "12-03-01:39:43 PM",
          "12-03-01:40:20 PM",
          "12-03-01:40:58 PM",
          "12-03-01:41:35 PM",
          "12-03-01:42:11 PM",
          "12-03-01:42:47 PM",
          "12-03-01:43:23 PM",
          "12-03-01:44:00 PM",
          "12-03-01:44:38 PM",
          "12-03-01:45:14 PM"
         ],
         "y": [
          6945.987757246518,
          7146.505412024376,
          7136.481059432129,
          6879.9014091197605,
          7180.718640869157,
          7159.334937846949,
          7077.403542682297,
          6863.0039997973145,
          6886.081148454883,
          6987.83349097945,
          6961.9400412918785,
          6983.515875403815,
          7014.89614807565
         ]
        },
        {
         "name": "s15 data",
         "type": "scatter",
         "x": [
          "12-03-01:37:55 PM",
          "12-03-01:38:31 PM",
          "12-03-01:39:07 PM",
          "12-03-01:39:43 PM",
          "12-03-01:40:20 PM",
          "12-03-01:40:58 PM",
          "12-03-01:41:35 PM",
          "12-03-01:42:11 PM",
          "12-03-01:42:47 PM",
          "12-03-01:43:23 PM",
          "12-03-01:44:00 PM",
          "12-03-01:44:38 PM",
          "12-03-01:45:14 PM"
         ],
         "y": [
          7.513054522517267,
          7.138394670855244,
          7.333000958178321,
          7.032451078846017,
          7.100770625610576,
          7.508225376708043,
          7.524217639611733,
          7.293073326396358,
          7.291799243030616,
          7.055426190589537,
          7.455874592352702,
          7.10697621903849,
          7.4050341877625785
         ]
        },
        {
         "name": "s16 data",
         "type": "scatter",
         "x": [
          "12-03-01:37:55 PM",
          "12-03-01:38:31 PM",
          "12-03-01:39:07 PM",
          "12-03-01:39:43 PM",
          "12-03-01:40:20 PM",
          "12-03-01:40:58 PM",
          "12-03-01:41:35 PM",
          "12-03-01:42:11 PM",
          "12-03-01:42:47 PM",
          "12-03-01:43:23 PM",
          "12-03-01:44:00 PM",
          "12-03-01:44:38 PM",
          "12-03-01:45:14 PM"
         ],
         "y": [
          0.027040876264207224,
          0.026220388196320547,
          0.02525444761871244,
          0.025647905248649898,
          0.026824411890498938,
          0.026771389784201412,
          0.026933747079252026,
          0.02782419976059282,
          0.026470617846914003,
          0.02658814232746914,
          0.02496880644285571,
          0.02543119427536984,
          0.026717987436170883
         ]
        },
        {
         "name": "s17 data",
         "type": "scatter",
         "x": [
          "12-03-01:37:55 PM",
          "12-03-01:38:31 PM",
          "12-03-01:39:07 PM",
          "12-03-01:39:43 PM",
          "12-03-01:40:20 PM",
          "12-03-01:40:58 PM",
          "12-03-01:41:35 PM",
          "12-03-01:42:11 PM",
          "12-03-01:42:47 PM",
          "12-03-01:43:23 PM",
          "12-03-01:44:00 PM",
          "12-03-01:44:38 PM",
          "12-03-01:45:14 PM"
         ],
         "y": [
          352.6107052185418,
          357.25022660047813,
          341.6084104949532,
          349.4354852985105,
          336.3337156534266,
          344.0902523621888,
          359.63303267570717,
          339.52483375851176,
          341.22840572397945,
          345.56143061759707,
          334.4003707491696,
          367.06488744980055,
          348.9641237523179
         ]
        },
        {
         "name": "s18 data",
         "type": "scatter",
         "x": [
          "12-03-01:37:55 PM",
          "12-03-01:38:31 PM",
          "12-03-01:39:07 PM",
          "12-03-01:39:43 PM",
          "12-03-01:40:20 PM",
          "12-03-01:40:58 PM",
          "12-03-01:41:35 PM",
          "12-03-01:42:11 PM",
          "12-03-01:42:47 PM",
          "12-03-01:43:23 PM",
          "12-03-01:44:00 PM",
          "12-03-01:44:38 PM",
          "12-03-01:45:14 PM"
         ],
         "y": [
          2085.3666743736794,
          2051.7698467318946,
          2131.769725105997,
          2101.3048438404144,
          2062.3422679056025,
          2100.149552324289,
          2159.2565510019595,
          2007.7187230020072,
          2097.8640703596675,
          2087.338060786484,
          2050.0873231794435,
          2033.9503155040652,
          2093.8536126885133
         ]
        },
        {
         "name": "s19 data",
         "type": "scatter",
         "x": [
          "12-03-01:37:55 PM",
          "12-03-01:38:31 PM",
          "12-03-01:39:07 PM",
          "12-03-01:39:43 PM",
          "12-03-01:40:20 PM",
          "12-03-01:40:58 PM",
          "12-03-01:41:35 PM",
          "12-03-01:42:11 PM",
          "12-03-01:42:47 PM",
          "12-03-01:43:23 PM",
          "12-03-01:44:00 PM",
          "12-03-01:44:38 PM",
          "12-03-01:45:14 PM"
         ],
         "y": [
          88.82620271260711,
          87.0404801440563,
          83.34787712846344,
          87.68093117611225,
          89.52977273760166,
          84.34650772864289,
          84.27266828761239,
          87.95068348512919,
          83.4609606086045,
          91.65624900961602,
          92.90000369895132,
          94.46723354826099,
          85.7033896399264
         ]
        },
        {
         "name": "s20 data",
         "type": "scatter",
         "x": [
          "12-03-01:37:55 PM",
          "12-03-01:38:31 PM",
          "12-03-01:39:07 PM",
          "12-03-01:39:43 PM",
          "12-03-01:40:20 PM",
          "12-03-01:40:58 PM",
          "12-03-01:41:35 PM",
          "12-03-01:42:11 PM",
          "12-03-01:42:47 PM",
          "12-03-01:43:23 PM",
          "12-03-01:44:00 PM",
          "12-03-01:44:38 PM",
          "12-03-01:45:14 PM"
         ],
         "y": [
          32.40596321001701,
          32.576728759085164,
          31.954831511790513,
          34.03310027375848,
          32.967772662820465,
          34.266768568563464,
          33.50527348959167,
          34.660034210340754,
          35.618504515385645,
          34.43707330956768,
          34.65887174340496,
          33.327507980579874,
          32.697381514374825
         ]
        },
        {
         "name": "s21 data",
         "type": "scatter",
         "x": [
          "12-03-01:37:55 PM",
          "12-03-01:38:31 PM",
          "12-03-01:39:07 PM",
          "12-03-01:39:43 PM",
          "12-03-01:40:20 PM",
          "12-03-01:40:58 PM",
          "12-03-01:41:35 PM",
          "12-03-01:42:11 PM",
          "12-03-01:42:47 PM",
          "12-03-01:43:23 PM",
          "12-03-01:44:00 PM",
          "12-03-01:44:38 PM",
          "12-03-01:45:14 PM"
         ],
         "y": [
          20.69151079939139,
          20.75027854027455,
          20.6338905146067,
          20.112631502271203,
          20.99946377813572,
          20.868015101438154,
          20.359226013233613,
          20.1233738780166,
          20.245830218331328,
          20.599131795756094,
          20.070412462266532,
          19.77474724591773,
          19.94145441154609
         ]
        }
       ],
       "layout": {
        "legend": {
         "orientation": "v"
        },
        "template": {
         "data": {
          "bar": [
           {
            "error_x": {
             "color": "#2a3f5f"
            },
            "error_y": {
             "color": "#2a3f5f"
            },
            "marker": {
             "line": {
              "color": "#E5ECF6",
              "width": 0.5
             }
            },
            "type": "bar"
           }
          ],
          "barpolar": [
           {
            "marker": {
             "line": {
              "color": "#E5ECF6",
              "width": 0.5
             }
            },
            "type": "barpolar"
           }
          ],
          "carpet": [
           {
            "aaxis": {
             "endlinecolor": "#2a3f5f",
             "gridcolor": "white",
             "linecolor": "white",
             "minorgridcolor": "white",
             "startlinecolor": "#2a3f5f"
            },
            "baxis": {
             "endlinecolor": "#2a3f5f",
             "gridcolor": "white",
             "linecolor": "white",
             "minorgridcolor": "white",
             "startlinecolor": "#2a3f5f"
            },
            "type": "carpet"
           }
          ],
          "choropleth": [
           {
            "colorbar": {
             "outlinewidth": 0,
             "ticks": ""
            },
            "type": "choropleth"
           }
          ],
          "contour": [
           {
            "colorbar": {
             "outlinewidth": 0,
             "ticks": ""
            },
            "colorscale": [
             [
              0,
              "#0d0887"
             ],
             [
              0.1111111111111111,
              "#46039f"
             ],
             [
              0.2222222222222222,
              "#7201a8"
             ],
             [
              0.3333333333333333,
              "#9c179e"
             ],
             [
              0.4444444444444444,
              "#bd3786"
             ],
             [
              0.5555555555555556,
              "#d8576b"
             ],
             [
              0.6666666666666666,
              "#ed7953"
             ],
             [
              0.7777777777777778,
              "#fb9f3a"
             ],
             [
              0.8888888888888888,
              "#fdca26"
             ],
             [
              1,
              "#f0f921"
             ]
            ],
            "type": "contour"
           }
          ],
          "contourcarpet": [
           {
            "colorbar": {
             "outlinewidth": 0,
             "ticks": ""
            },
            "type": "contourcarpet"
           }
          ],
          "heatmap": [
           {
            "colorbar": {
             "outlinewidth": 0,
             "ticks": ""
            },
            "colorscale": [
             [
              0,
              "#0d0887"
             ],
             [
              0.1111111111111111,
              "#46039f"
             ],
             [
              0.2222222222222222,
              "#7201a8"
             ],
             [
              0.3333333333333333,
              "#9c179e"
             ],
             [
              0.4444444444444444,
              "#bd3786"
             ],
             [
              0.5555555555555556,
              "#d8576b"
             ],
             [
              0.6666666666666666,
              "#ed7953"
             ],
             [
              0.7777777777777778,
              "#fb9f3a"
             ],
             [
              0.8888888888888888,
              "#fdca26"
             ],
             [
              1,
              "#f0f921"
             ]
            ],
            "type": "heatmap"
           }
          ],
          "heatmapgl": [
           {
            "colorbar": {
             "outlinewidth": 0,
             "ticks": ""
            },
            "colorscale": [
             [
              0,
              "#0d0887"
             ],
             [
              0.1111111111111111,
              "#46039f"
             ],
             [
              0.2222222222222222,
              "#7201a8"
             ],
             [
              0.3333333333333333,
              "#9c179e"
             ],
             [
              0.4444444444444444,
              "#bd3786"
             ],
             [
              0.5555555555555556,
              "#d8576b"
             ],
             [
              0.6666666666666666,
              "#ed7953"
             ],
             [
              0.7777777777777778,
              "#fb9f3a"
             ],
             [
              0.8888888888888888,
              "#fdca26"
             ],
             [
              1,
              "#f0f921"
             ]
            ],
            "type": "heatmapgl"
           }
          ],
          "histogram": [
           {
            "marker": {
             "colorbar": {
              "outlinewidth": 0,
              "ticks": ""
             }
            },
            "type": "histogram"
           }
          ],
          "histogram2d": [
           {
            "colorbar": {
             "outlinewidth": 0,
             "ticks": ""
            },
            "colorscale": [
             [
              0,
              "#0d0887"
             ],
             [
              0.1111111111111111,
              "#46039f"
             ],
             [
              0.2222222222222222,
              "#7201a8"
             ],
             [
              0.3333333333333333,
              "#9c179e"
             ],
             [
              0.4444444444444444,
              "#bd3786"
             ],
             [
              0.5555555555555556,
              "#d8576b"
             ],
             [
              0.6666666666666666,
              "#ed7953"
             ],
             [
              0.7777777777777778,
              "#fb9f3a"
             ],
             [
              0.8888888888888888,
              "#fdca26"
             ],
             [
              1,
              "#f0f921"
             ]
            ],
            "type": "histogram2d"
           }
          ],
          "histogram2dcontour": [
           {
            "colorbar": {
             "outlinewidth": 0,
             "ticks": ""
            },
            "colorscale": [
             [
              0,
              "#0d0887"
             ],
             [
              0.1111111111111111,
              "#46039f"
             ],
             [
              0.2222222222222222,
              "#7201a8"
             ],
             [
              0.3333333333333333,
              "#9c179e"
             ],
             [
              0.4444444444444444,
              "#bd3786"
             ],
             [
              0.5555555555555556,
              "#d8576b"
             ],
             [
              0.6666666666666666,
              "#ed7953"
             ],
             [
              0.7777777777777778,
              "#fb9f3a"
             ],
             [
              0.8888888888888888,
              "#fdca26"
             ],
             [
              1,
              "#f0f921"
             ]
            ],
            "type": "histogram2dcontour"
           }
          ],
          "mesh3d": [
           {
            "colorbar": {
             "outlinewidth": 0,
             "ticks": ""
            },
            "type": "mesh3d"
           }
          ],
          "parcoords": [
           {
            "line": {
             "colorbar": {
              "outlinewidth": 0,
              "ticks": ""
             }
            },
            "type": "parcoords"
           }
          ],
          "pie": [
           {
            "automargin": true,
            "type": "pie"
           }
          ],
          "scatter": [
           {
            "marker": {
             "colorbar": {
              "outlinewidth": 0,
              "ticks": ""
             }
            },
            "type": "scatter"
           }
          ],
          "scatter3d": [
           {
            "line": {
             "colorbar": {
              "outlinewidth": 0,
              "ticks": ""
             }
            },
            "marker": {
             "colorbar": {
              "outlinewidth": 0,
              "ticks": ""
             }
            },
            "type": "scatter3d"
           }
          ],
          "scattercarpet": [
           {
            "marker": {
             "colorbar": {
              "outlinewidth": 0,
              "ticks": ""
             }
            },
            "type": "scattercarpet"
           }
          ],
          "scattergeo": [
           {
            "marker": {
             "colorbar": {
              "outlinewidth": 0,
              "ticks": ""
             }
            },
            "type": "scattergeo"
           }
          ],
          "scattergl": [
           {
            "marker": {
             "colorbar": {
              "outlinewidth": 0,
              "ticks": ""
             }
            },
            "type": "scattergl"
           }
          ],
          "scattermapbox": [
           {
            "marker": {
             "colorbar": {
              "outlinewidth": 0,
              "ticks": ""
             }
            },
            "type": "scattermapbox"
           }
          ],
          "scatterpolar": [
           {
            "marker": {
             "colorbar": {
              "outlinewidth": 0,
              "ticks": ""
             }
            },
            "type": "scatterpolar"
           }
          ],
          "scatterpolargl": [
           {
            "marker": {
             "colorbar": {
              "outlinewidth": 0,
              "ticks": ""
             }
            },
            "type": "scatterpolargl"
           }
          ],
          "scatterternary": [
           {
            "marker": {
             "colorbar": {
              "outlinewidth": 0,
              "ticks": ""
             }
            },
            "type": "scatterternary"
           }
          ],
          "surface": [
           {
            "colorbar": {
             "outlinewidth": 0,
             "ticks": ""
            },
            "colorscale": [
             [
              0,
              "#0d0887"
             ],
             [
              0.1111111111111111,
              "#46039f"
             ],
             [
              0.2222222222222222,
              "#7201a8"
             ],
             [
              0.3333333333333333,
              "#9c179e"
             ],
             [
              0.4444444444444444,
              "#bd3786"
             ],
             [
              0.5555555555555556,
              "#d8576b"
             ],
             [
              0.6666666666666666,
              "#ed7953"
             ],
             [
              0.7777777777777778,
              "#fb9f3a"
             ],
             [
              0.8888888888888888,
              "#fdca26"
             ],
             [
              1,
              "#f0f921"
             ]
            ],
            "type": "surface"
           }
          ],
          "table": [
           {
            "cells": {
             "fill": {
              "color": "#EBF0F8"
             },
             "line": {
              "color": "white"
             }
            },
            "header": {
             "fill": {
              "color": "#C8D4E3"
             },
             "line": {
              "color": "white"
             }
            },
            "type": "table"
           }
          ]
         },
         "layout": {
          "annotationdefaults": {
           "arrowcolor": "#2a3f5f",
           "arrowhead": 0,
           "arrowwidth": 1
          },
          "coloraxis": {
           "colorbar": {
            "outlinewidth": 0,
            "ticks": ""
           }
          },
          "colorscale": {
           "diverging": [
            [
             0,
             "#8e0152"
            ],
            [
             0.1,
             "#c51b7d"
            ],
            [
             0.2,
             "#de77ae"
            ],
            [
             0.3,
             "#f1b6da"
            ],
            [
             0.4,
             "#fde0ef"
            ],
            [
             0.5,
             "#f7f7f7"
            ],
            [
             0.6,
             "#e6f5d0"
            ],
            [
             0.7,
             "#b8e186"
            ],
            [
             0.8,
             "#7fbc41"
            ],
            [
             0.9,
             "#4d9221"
            ],
            [
             1,
             "#276419"
            ]
           ],
           "sequential": [
            [
             0,
             "#0d0887"
            ],
            [
             0.1111111111111111,
             "#46039f"
            ],
            [
             0.2222222222222222,
             "#7201a8"
            ],
            [
             0.3333333333333333,
             "#9c179e"
            ],
            [
             0.4444444444444444,
             "#bd3786"
            ],
            [
             0.5555555555555556,
             "#d8576b"
            ],
            [
             0.6666666666666666,
             "#ed7953"
            ],
            [
             0.7777777777777778,
             "#fb9f3a"
            ],
            [
             0.8888888888888888,
             "#fdca26"
            ],
            [
             1,
             "#f0f921"
            ]
           ],
           "sequentialminus": [
            [
             0,
             "#0d0887"
            ],
            [
             0.1111111111111111,
             "#46039f"
            ],
            [
             0.2222222222222222,
             "#7201a8"
            ],
            [
             0.3333333333333333,
             "#9c179e"
            ],
            [
             0.4444444444444444,
             "#bd3786"
            ],
            [
             0.5555555555555556,
             "#d8576b"
            ],
            [
             0.6666666666666666,
             "#ed7953"
            ],
            [
             0.7777777777777778,
             "#fb9f3a"
            ],
            [
             0.8888888888888888,
             "#fdca26"
            ],
            [
             1,
             "#f0f921"
            ]
           ]
          },
          "colorway": [
           "#636efa",
           "#EF553B",
           "#00cc96",
           "#ab63fa",
           "#FFA15A",
           "#19d3f3",
           "#FF6692",
           "#B6E880",
           "#FF97FF",
           "#FECB52"
          ],
          "font": {
           "color": "#2a3f5f"
          },
          "geo": {
           "bgcolor": "white",
           "lakecolor": "white",
           "landcolor": "#E5ECF6",
           "showlakes": true,
           "showland": true,
           "subunitcolor": "white"
          },
          "hoverlabel": {
           "align": "left"
          },
          "hovermode": "closest",
          "mapbox": {
           "style": "light"
          },
          "paper_bgcolor": "white",
          "plot_bgcolor": "#E5ECF6",
          "polar": {
           "angularaxis": {
            "gridcolor": "white",
            "linecolor": "white",
            "ticks": ""
           },
           "bgcolor": "#E5ECF6",
           "radialaxis": {
            "gridcolor": "white",
            "linecolor": "white",
            "ticks": ""
           }
          },
          "scene": {
           "xaxis": {
            "backgroundcolor": "#E5ECF6",
            "gridcolor": "white",
            "gridwidth": 2,
            "linecolor": "white",
            "showbackground": true,
            "ticks": "",
            "zerolinecolor": "white"
           },
           "yaxis": {
            "backgroundcolor": "#E5ECF6",
            "gridcolor": "white",
            "gridwidth": 2,
            "linecolor": "white",
            "showbackground": true,
            "ticks": "",
            "zerolinecolor": "white"
           },
           "zaxis": {
            "backgroundcolor": "#E5ECF6",
            "gridcolor": "white",
            "gridwidth": 2,
            "linecolor": "white",
            "showbackground": true,
            "ticks": "",
            "zerolinecolor": "white"
           }
          },
          "shapedefaults": {
           "line": {
            "color": "#2a3f5f"
           }
          },
          "ternary": {
           "aaxis": {
            "gridcolor": "white",
            "linecolor": "white",
            "ticks": ""
           },
           "baxis": {
            "gridcolor": "white",
            "linecolor": "white",
            "ticks": ""
           },
           "bgcolor": "#E5ECF6",
           "caxis": {
            "gridcolor": "white",
            "linecolor": "white",
            "ticks": ""
           }
          },
          "title": {
           "x": 0.05
          },
          "xaxis": {
           "automargin": true,
           "gridcolor": "white",
           "linecolor": "white",
           "ticks": "",
           "title": {
            "standoff": 15
           },
           "zerolinecolor": "white",
           "zerolinewidth": 2
          },
          "yaxis": {
           "automargin": true,
           "gridcolor": "white",
           "linecolor": "white",
           "ticks": "",
           "title": {
            "standoff": 15
           },
           "zerolinecolor": "white",
           "zerolinewidth": 2
          }
         }
        },
        "title": {
         "text": "Trends of value by data channel"
        },
        "xaxis": {
         "title": {
          "text": "Time"
         }
        },
        "yaxis": {
         "title": {
          "text": "Value"
         }
        }
       }
      },
      "text/html": [
       "<div>                            <div id=\"0fad3ff8-838d-4e4f-aef0-04e132969d6a\" class=\"plotly-graph-div\" style=\"height:525px; width:100%;\"></div>            <script type=\"text/javascript\">                require([\"plotly\"], function(Plotly) {                    window.PLOTLYENV=window.PLOTLYENV || {};                                    if (document.getElementById(\"0fad3ff8-838d-4e4f-aef0-04e132969d6a\")) {                    Plotly.newPlot(                        \"0fad3ff8-838d-4e4f-aef0-04e132969d6a\",                        [{\"name\": \"s1 data\", \"type\": \"scatter\", \"x\": [\"12-03-01:37:55 PM\", \"12-03-01:38:31 PM\", \"12-03-01:39:07 PM\", \"12-03-01:39:43 PM\", \"12-03-01:40:20 PM\", \"12-03-01:40:58 PM\", \"12-03-01:41:35 PM\", \"12-03-01:42:11 PM\", \"12-03-01:42:47 PM\", \"12-03-01:43:23 PM\", \"12-03-01:44:00 PM\", \"12-03-01:44:38 PM\", \"12-03-01:45:14 PM\"], \"y\": [446.9523833809205, 451.9315418294114, 460.95834307030486, 434.67285436728815, 418.4578792541958, 450.67554204683586, 444.4890924618026, 459.85353931681703, 454.2658722680182, 452.27721061393163, 450.5364508403861, 457.53139655266364, 463.35023147073196]}, {\"name\": \"s2 data\", \"type\": \"scatter\", \"x\": [\"12-03-01:37:55 PM\", \"12-03-01:38:31 PM\", \"12-03-01:39:07 PM\", \"12-03-01:39:43 PM\", \"12-03-01:40:20 PM\", \"12-03-01:40:58 PM\", \"12-03-01:41:35 PM\", \"12-03-01:42:11 PM\", \"12-03-01:42:47 PM\", \"12-03-01:43:23 PM\", \"12-03-01:44:00 PM\", \"12-03-01:44:38 PM\", \"12-03-01:45:14 PM\"], \"y\": [530.7739609061339, 580.8487969739856, 562.5984392245956, 550.5723803891648, 546.4386498856577, 578.9634230753992, 560.3161972107357, 552.2401128910985, 566.9463052017093, 551.3184231734667, 565.2364654705898, 553.2241267421296, 555.1483414633948]}, {\"name\": \"s3 data\", \"type\": \"scatter\", \"x\": [\"12-03-01:37:55 PM\", \"12-03-01:38:31 PM\", \"12-03-01:39:07 PM\", \"12-03-01:39:43 PM\", \"12-03-01:40:20 PM\", \"12-03-01:40:58 PM\", \"12-03-01:41:35 PM\", \"12-03-01:42:11 PM\", \"12-03-01:42:47 PM\", \"12-03-01:43:23 PM\", \"12-03-01:44:00 PM\", \"12-03-01:44:38 PM\", \"12-03-01:45:14 PM\"], \"y\": [1365.327766581776, 1391.2609789179355, 1484.0004849221014, 1363.9531874576278, 1322.290629441786, 1377.6298035615082, 1382.5584468248685, 1400.5691348740775, 1410.4208881776087, 1378.0498998608466, 1346.107218059964, 1391.2758536042306, 1437.9470829686456]}, {\"name\": \"s4 data\", \"type\": \"scatter\", \"x\": [\"12-03-01:37:55 PM\", \"12-03-01:38:31 PM\", \"12-03-01:39:07 PM\", \"12-03-01:39:43 PM\", \"12-03-01:40:20 PM\", \"12-03-01:40:58 PM\", \"12-03-01:41:35 PM\", \"12-03-01:42:11 PM\", \"12-03-01:42:47 PM\", \"12-03-01:43:23 PM\", \"12-03-01:44:00 PM\", \"12-03-01:44:38 PM\", \"12-03-01:45:14 PM\"], \"y\": [1226.0837000133681, 1210.6352400555377, 1200.984548685184, 1226.0225867904333, 1219.2314157157969, 1184.123953362216, 1222.3062116999545, 1261.4031352929471, 1209.0230983376705, 1236.1591942459174, 1165.3834913991818, 1196.9212521617005, 1196.493496701937]}, {\"name\": \"s5 data\", \"type\": \"scatter\", \"x\": [\"12-03-01:37:55 PM\", \"12-03-01:38:31 PM\", \"12-03-01:39:07 PM\", \"12-03-01:39:43 PM\", \"12-03-01:40:20 PM\", \"12-03-01:40:58 PM\", \"12-03-01:41:35 PM\", \"12-03-01:42:11 PM\", \"12-03-01:42:47 PM\", \"12-03-01:43:23 PM\", \"12-03-01:44:00 PM\", \"12-03-01:44:38 PM\", \"12-03-01:45:14 PM\"], \"y\": [12.591249675194009, 12.560089810750304, 13.364562153979092, 12.789329424795024, 12.978029049384046, 12.574320630576654, 12.772092313347125, 12.929946963436668, 12.741025835471856, 12.624626129854938, 12.76676421515218, 12.218775039525296, 13.215507362579036]}, {\"name\": \"s6 data\", \"type\": \"scatter\", \"x\": [\"12-03-01:37:55 PM\", \"12-03-01:38:31 PM\", \"12-03-01:39:07 PM\", \"12-03-01:39:43 PM\", \"12-03-01:40:20 PM\", \"12-03-01:40:58 PM\", \"12-03-01:41:35 PM\", \"12-03-01:42:11 PM\", \"12-03-01:42:47 PM\", \"12-03-01:43:23 PM\", \"12-03-01:44:00 PM\", \"12-03-01:44:38 PM\", \"12-03-01:45:14 PM\"], \"y\": [19.836255132248482, 18.828638205547808, 19.246999183379888, 18.81832846326886, 18.184769261835154, 19.666902415793306, 18.029238673542217, 19.648613299550952, 20.235029018236066, 18.927075764860486, 18.28371166602145, 18.90394881643416, 19.07653776144295]}, {\"name\": \"s7 data\", \"type\": \"scatter\", \"x\": [\"12-03-01:37:55 PM\", \"12-03-01:38:31 PM\", \"12-03-01:39:07 PM\", \"12-03-01:39:43 PM\", \"12-03-01:40:20 PM\", \"12-03-01:40:58 PM\", \"12-03-01:41:35 PM\", \"12-03-01:42:11 PM\", \"12-03-01:42:47 PM\", \"12-03-01:43:23 PM\", \"12-03-01:44:00 PM\", \"12-03-01:44:38 PM\", \"12-03-01:45:14 PM\"], \"y\": [488.07335510244224, 471.3266542776088, 477.28051326385565, 478.609082456108, 500.08742389353364, 469.94505514953636, 499.5714539680175, 477.1400196199569, 494.493159102638, 493.7007594097361, 476.119779788835, 499.766404046222, 489.36029331074263]}, {\"name\": \"s8 data\", \"type\": \"scatter\", \"x\": [\"12-03-01:37:55 PM\", \"12-03-01:38:31 PM\", \"12-03-01:39:07 PM\", \"12-03-01:39:43 PM\", \"12-03-01:40:20 PM\", \"12-03-01:40:58 PM\", \"12-03-01:41:35 PM\", \"12-03-01:42:11 PM\", \"12-03-01:42:47 PM\", \"12-03-01:43:23 PM\", \"12-03-01:44:00 PM\", \"12-03-01:44:38 PM\", \"12-03-01:45:14 PM\"], \"y\": [1976.165872374081, 2187.449949845637, 2180.745374418212, 2061.1945758157754, 2130.7125433384767, 2068.503979051977, 2095.050487875636, 2131.4112479535333, 2130.9568989636105, 2115.332925142813, 2103.396800762062, 2030.895871022281, 2063.8279122665963]}, {\"name\": \"s9 data\", \"type\": \"scatter\", \"x\": [\"12-03-01:37:55 PM\", \"12-03-01:38:31 PM\", \"12-03-01:39:07 PM\", \"12-03-01:39:43 PM\", \"12-03-01:40:20 PM\", \"12-03-01:40:58 PM\", \"12-03-01:41:35 PM\", \"12-03-01:42:11 PM\", \"12-03-01:42:47 PM\", \"12-03-01:43:23 PM\", \"12-03-01:44:00 PM\", \"12-03-01:44:38 PM\", \"12-03-01:45:14 PM\"], \"y\": [8021.595640835921, 7595.972049077361, 7883.164169296714, 8067.074148300504, 7866.886779203068, 8384.967583377547, 7856.030450892247, 7583.812326821609, 7837.541487200539, 7915.2843325651575, 7817.925787180047, 7864.565083159802, 7759.711167709659]}, {\"name\": \"s10 data\", \"type\": \"scatter\", \"x\": [\"12-03-01:37:55 PM\", \"12-03-01:38:31 PM\", \"12-03-01:39:07 PM\", \"12-03-01:39:43 PM\", \"12-03-01:40:20 PM\", \"12-03-01:40:58 PM\", \"12-03-01:41:35 PM\", \"12-03-01:42:11 PM\", \"12-03-01:42:47 PM\", \"12-03-01:43:23 PM\", \"12-03-01:44:00 PM\", \"12-03-01:44:38 PM\", \"12-03-01:45:14 PM\"], \"y\": [1.117569310254469, 1.1052300567598867, 1.1612058142223147, 1.1594521217269338, 1.1463886748144114, 1.1672320447985514, 1.1237880013713268, 1.1068146117873752, 1.1267270614317078, 1.1195203188390763, 1.130991375805954, 1.181111450485801, 1.1475656681481543]}, {\"name\": \"s11 data\", \"type\": \"scatter\", \"x\": [\"12-03-01:37:55 PM\", \"12-03-01:38:31 PM\", \"12-03-01:39:07 PM\", \"12-03-01:39:43 PM\", \"12-03-01:40:20 PM\", \"12-03-01:40:58 PM\", \"12-03-01:41:35 PM\", \"12-03-01:42:11 PM\", \"12-03-01:42:47 PM\", \"12-03-01:43:23 PM\", \"12-03-01:44:00 PM\", \"12-03-01:44:38 PM\", \"12-03-01:45:14 PM\"], \"y\": [42.26554330835793, 40.04851887491307, 41.88397184836518, 41.017424151261785, 40.79094666387028, 43.53833227188685, 41.034501269998266, 41.29199712163592, 41.80157726122304, 42.59632342734885, 40.133913963996314, 40.753322639925884, 42.90479708408956]}, {\"name\": \"s12 data\", \"type\": \"scatter\", \"x\": [\"12-03-01:37:55 PM\", \"12-03-01:38:31 PM\", \"12-03-01:39:07 PM\", \"12-03-01:39:43 PM\", \"12-03-01:40:20 PM\", \"12-03-01:40:58 PM\", \"12-03-01:41:35 PM\", \"12-03-01:42:11 PM\", \"12-03-01:42:47 PM\", \"12-03-01:43:23 PM\", \"12-03-01:44:00 PM\", \"12-03-01:44:38 PM\", \"12-03-01:45:14 PM\"], \"y\": [458.806083572243, 453.88302573557803, 448.3011235252216, 438.3702063202119, 453.69907405961374, 462.06646346220055, 485.0132938284954, 465.65267615797404, 459.4524887078325, 443.41035061164337, 456.0821301571637, 438.5249071024672, 458.9863302743119]}, {\"name\": \"s13 data\", \"type\": \"scatter\", \"x\": [\"12-03-01:37:55 PM\", \"12-03-01:38:31 PM\", \"12-03-01:39:07 PM\", \"12-03-01:39:43 PM\", \"12-03-01:40:20 PM\", \"12-03-01:40:58 PM\", \"12-03-01:41:35 PM\", \"12-03-01:42:11 PM\", \"12-03-01:42:47 PM\", \"12-03-01:43:23 PM\", \"12-03-01:44:00 PM\", \"12-03-01:44:38 PM\", \"12-03-01:45:14 PM\"], \"y\": [2139.823887495427, 2071.9497087488826, 2096.7793158933755, 2104.6640568734347, 2045.723124413226, 2067.111368173757, 2188.8316354897847, 2198.28940676928, 2176.7500726946614, 2047.6595456293585, 2065.4623455834526, 2031.518640992568, 2103.7072224238354]}, {\"name\": \"s14 data\", \"type\": \"scatter\", \"x\": [\"12-03-01:37:55 PM\", \"12-03-01:38:31 PM\", \"12-03-01:39:07 PM\", \"12-03-01:39:43 PM\", \"12-03-01:40:20 PM\", \"12-03-01:40:58 PM\", \"12-03-01:41:35 PM\", \"12-03-01:42:11 PM\", \"12-03-01:42:47 PM\", \"12-03-01:43:23 PM\", \"12-03-01:44:00 PM\", \"12-03-01:44:38 PM\", \"12-03-01:45:14 PM\"], \"y\": [6945.987757246518, 7146.505412024376, 7136.481059432129, 6879.9014091197605, 7180.718640869157, 7159.334937846949, 7077.403542682297, 6863.0039997973145, 6886.081148454883, 6987.83349097945, 6961.9400412918785, 6983.515875403815, 7014.89614807565]}, {\"name\": \"s15 data\", \"type\": \"scatter\", \"x\": [\"12-03-01:37:55 PM\", \"12-03-01:38:31 PM\", \"12-03-01:39:07 PM\", \"12-03-01:39:43 PM\", \"12-03-01:40:20 PM\", \"12-03-01:40:58 PM\", \"12-03-01:41:35 PM\", \"12-03-01:42:11 PM\", \"12-03-01:42:47 PM\", \"12-03-01:43:23 PM\", \"12-03-01:44:00 PM\", \"12-03-01:44:38 PM\", \"12-03-01:45:14 PM\"], \"y\": [7.513054522517267, 7.138394670855244, 7.333000958178321, 7.032451078846017, 7.100770625610576, 7.508225376708043, 7.524217639611733, 7.293073326396358, 7.291799243030616, 7.055426190589537, 7.455874592352702, 7.10697621903849, 7.4050341877625785]}, {\"name\": \"s16 data\", \"type\": \"scatter\", \"x\": [\"12-03-01:37:55 PM\", \"12-03-01:38:31 PM\", \"12-03-01:39:07 PM\", \"12-03-01:39:43 PM\", \"12-03-01:40:20 PM\", \"12-03-01:40:58 PM\", \"12-03-01:41:35 PM\", \"12-03-01:42:11 PM\", \"12-03-01:42:47 PM\", \"12-03-01:43:23 PM\", \"12-03-01:44:00 PM\", \"12-03-01:44:38 PM\", \"12-03-01:45:14 PM\"], \"y\": [0.027040876264207224, 0.026220388196320547, 0.02525444761871244, 0.025647905248649898, 0.026824411890498938, 0.026771389784201412, 0.026933747079252026, 0.02782419976059282, 0.026470617846914003, 0.02658814232746914, 0.02496880644285571, 0.02543119427536984, 0.026717987436170883]}, {\"name\": \"s17 data\", \"type\": \"scatter\", \"x\": [\"12-03-01:37:55 PM\", \"12-03-01:38:31 PM\", \"12-03-01:39:07 PM\", \"12-03-01:39:43 PM\", \"12-03-01:40:20 PM\", \"12-03-01:40:58 PM\", \"12-03-01:41:35 PM\", \"12-03-01:42:11 PM\", \"12-03-01:42:47 PM\", \"12-03-01:43:23 PM\", \"12-03-01:44:00 PM\", \"12-03-01:44:38 PM\", \"12-03-01:45:14 PM\"], \"y\": [352.6107052185418, 357.25022660047813, 341.6084104949532, 349.4354852985105, 336.3337156534266, 344.0902523621888, 359.63303267570717, 339.52483375851176, 341.22840572397945, 345.56143061759707, 334.4003707491696, 367.06488744980055, 348.9641237523179]}, {\"name\": \"s18 data\", \"type\": \"scatter\", \"x\": [\"12-03-01:37:55 PM\", \"12-03-01:38:31 PM\", \"12-03-01:39:07 PM\", \"12-03-01:39:43 PM\", \"12-03-01:40:20 PM\", \"12-03-01:40:58 PM\", \"12-03-01:41:35 PM\", \"12-03-01:42:11 PM\", \"12-03-01:42:47 PM\", \"12-03-01:43:23 PM\", \"12-03-01:44:00 PM\", \"12-03-01:44:38 PM\", \"12-03-01:45:14 PM\"], \"y\": [2085.3666743736794, 2051.7698467318946, 2131.769725105997, 2101.3048438404144, 2062.3422679056025, 2100.149552324289, 2159.2565510019595, 2007.7187230020072, 2097.8640703596675, 2087.338060786484, 2050.0873231794435, 2033.9503155040652, 2093.8536126885133]}, {\"name\": \"s19 data\", \"type\": \"scatter\", \"x\": [\"12-03-01:37:55 PM\", \"12-03-01:38:31 PM\", \"12-03-01:39:07 PM\", \"12-03-01:39:43 PM\", \"12-03-01:40:20 PM\", \"12-03-01:40:58 PM\", \"12-03-01:41:35 PM\", \"12-03-01:42:11 PM\", \"12-03-01:42:47 PM\", \"12-03-01:43:23 PM\", \"12-03-01:44:00 PM\", \"12-03-01:44:38 PM\", \"12-03-01:45:14 PM\"], \"y\": [88.82620271260711, 87.0404801440563, 83.34787712846344, 87.68093117611225, 89.52977273760166, 84.34650772864289, 84.27266828761239, 87.95068348512919, 83.4609606086045, 91.65624900961602, 92.90000369895132, 94.46723354826099, 85.7033896399264]}, {\"name\": \"s20 data\", \"type\": \"scatter\", \"x\": [\"12-03-01:37:55 PM\", \"12-03-01:38:31 PM\", \"12-03-01:39:07 PM\", \"12-03-01:39:43 PM\", \"12-03-01:40:20 PM\", \"12-03-01:40:58 PM\", \"12-03-01:41:35 PM\", \"12-03-01:42:11 PM\", \"12-03-01:42:47 PM\", \"12-03-01:43:23 PM\", \"12-03-01:44:00 PM\", \"12-03-01:44:38 PM\", \"12-03-01:45:14 PM\"], \"y\": [32.40596321001701, 32.576728759085164, 31.954831511790513, 34.03310027375848, 32.967772662820465, 34.266768568563464, 33.50527348959167, 34.660034210340754, 35.618504515385645, 34.43707330956768, 34.65887174340496, 33.327507980579874, 32.697381514374825]}, {\"name\": \"s21 data\", \"type\": \"scatter\", \"x\": [\"12-03-01:37:55 PM\", \"12-03-01:38:31 PM\", \"12-03-01:39:07 PM\", \"12-03-01:39:43 PM\", \"12-03-01:40:20 PM\", \"12-03-01:40:58 PM\", \"12-03-01:41:35 PM\", \"12-03-01:42:11 PM\", \"12-03-01:42:47 PM\", \"12-03-01:43:23 PM\", \"12-03-01:44:00 PM\", \"12-03-01:44:38 PM\", \"12-03-01:45:14 PM\"], \"y\": [20.69151079939139, 20.75027854027455, 20.6338905146067, 20.112631502271203, 20.99946377813572, 20.868015101438154, 20.359226013233613, 20.1233738780166, 20.245830218331328, 20.599131795756094, 20.070412462266532, 19.77474724591773, 19.94145441154609]}],                        {\"legend\": {\"orientation\": \"v\"}, \"template\": {\"data\": {\"bar\": [{\"error_x\": {\"color\": \"#2a3f5f\"}, \"error_y\": {\"color\": \"#2a3f5f\"}, \"marker\": {\"line\": {\"color\": \"#E5ECF6\", \"width\": 0.5}}, \"type\": \"bar\"}], \"barpolar\": [{\"marker\": {\"line\": {\"color\": \"#E5ECF6\", \"width\": 0.5}}, \"type\": \"barpolar\"}], \"carpet\": [{\"aaxis\": {\"endlinecolor\": \"#2a3f5f\", \"gridcolor\": \"white\", \"linecolor\": \"white\", \"minorgridcolor\": \"white\", \"startlinecolor\": \"#2a3f5f\"}, \"baxis\": {\"endlinecolor\": \"#2a3f5f\", \"gridcolor\": \"white\", \"linecolor\": \"white\", \"minorgridcolor\": \"white\", \"startlinecolor\": \"#2a3f5f\"}, \"type\": \"carpet\"}], \"choropleth\": [{\"colorbar\": {\"outlinewidth\": 0, \"ticks\": \"\"}, \"type\": \"choropleth\"}], \"contour\": [{\"colorbar\": {\"outlinewidth\": 0, \"ticks\": \"\"}, \"colorscale\": [[0.0, \"#0d0887\"], [0.1111111111111111, \"#46039f\"], [0.2222222222222222, \"#7201a8\"], [0.3333333333333333, \"#9c179e\"], [0.4444444444444444, \"#bd3786\"], [0.5555555555555556, \"#d8576b\"], [0.6666666666666666, \"#ed7953\"], [0.7777777777777778, \"#fb9f3a\"], [0.8888888888888888, \"#fdca26\"], [1.0, \"#f0f921\"]], \"type\": \"contour\"}], \"contourcarpet\": [{\"colorbar\": {\"outlinewidth\": 0, \"ticks\": \"\"}, \"type\": \"contourcarpet\"}], \"heatmap\": [{\"colorbar\": {\"outlinewidth\": 0, \"ticks\": \"\"}, \"colorscale\": [[0.0, \"#0d0887\"], [0.1111111111111111, \"#46039f\"], [0.2222222222222222, \"#7201a8\"], [0.3333333333333333, \"#9c179e\"], [0.4444444444444444, \"#bd3786\"], [0.5555555555555556, \"#d8576b\"], [0.6666666666666666, \"#ed7953\"], [0.7777777777777778, \"#fb9f3a\"], [0.8888888888888888, \"#fdca26\"], [1.0, \"#f0f921\"]], \"type\": \"heatmap\"}], \"heatmapgl\": [{\"colorbar\": {\"outlinewidth\": 0, \"ticks\": \"\"}, \"colorscale\": [[0.0, \"#0d0887\"], [0.1111111111111111, \"#46039f\"], [0.2222222222222222, \"#7201a8\"], [0.3333333333333333, \"#9c179e\"], [0.4444444444444444, \"#bd3786\"], [0.5555555555555556, \"#d8576b\"], [0.6666666666666666, \"#ed7953\"], [0.7777777777777778, \"#fb9f3a\"], [0.8888888888888888, \"#fdca26\"], [1.0, \"#f0f921\"]], \"type\": \"heatmapgl\"}], \"histogram\": [{\"marker\": {\"colorbar\": {\"outlinewidth\": 0, \"ticks\": \"\"}}, \"type\": \"histogram\"}], \"histogram2d\": [{\"colorbar\": {\"outlinewidth\": 0, \"ticks\": \"\"}, \"colorscale\": [[0.0, \"#0d0887\"], [0.1111111111111111, \"#46039f\"], [0.2222222222222222, \"#7201a8\"], [0.3333333333333333, \"#9c179e\"], [0.4444444444444444, \"#bd3786\"], [0.5555555555555556, \"#d8576b\"], [0.6666666666666666, \"#ed7953\"], [0.7777777777777778, \"#fb9f3a\"], [0.8888888888888888, \"#fdca26\"], [1.0, \"#f0f921\"]], \"type\": \"histogram2d\"}], \"histogram2dcontour\": [{\"colorbar\": {\"outlinewidth\": 0, \"ticks\": \"\"}, \"colorscale\": [[0.0, \"#0d0887\"], [0.1111111111111111, \"#46039f\"], [0.2222222222222222, \"#7201a8\"], [0.3333333333333333, \"#9c179e\"], [0.4444444444444444, \"#bd3786\"], [0.5555555555555556, \"#d8576b\"], [0.6666666666666666, \"#ed7953\"], [0.7777777777777778, \"#fb9f3a\"], [0.8888888888888888, \"#fdca26\"], [1.0, \"#f0f921\"]], \"type\": \"histogram2dcontour\"}], \"mesh3d\": [{\"colorbar\": {\"outlinewidth\": 0, \"ticks\": \"\"}, \"type\": \"mesh3d\"}], \"parcoords\": [{\"line\": {\"colorbar\": {\"outlinewidth\": 0, \"ticks\": \"\"}}, \"type\": \"parcoords\"}], \"pie\": [{\"automargin\": true, \"type\": \"pie\"}], \"scatter\": [{\"marker\": {\"colorbar\": {\"outlinewidth\": 0, \"ticks\": \"\"}}, \"type\": \"scatter\"}], \"scatter3d\": [{\"line\": {\"colorbar\": {\"outlinewidth\": 0, \"ticks\": \"\"}}, \"marker\": {\"colorbar\": {\"outlinewidth\": 0, \"ticks\": \"\"}}, \"type\": \"scatter3d\"}], \"scattercarpet\": [{\"marker\": {\"colorbar\": {\"outlinewidth\": 0, \"ticks\": \"\"}}, \"type\": \"scattercarpet\"}], \"scattergeo\": [{\"marker\": {\"colorbar\": {\"outlinewidth\": 0, \"ticks\": \"\"}}, \"type\": \"scattergeo\"}], \"scattergl\": [{\"marker\": {\"colorbar\": {\"outlinewidth\": 0, \"ticks\": \"\"}}, \"type\": \"scattergl\"}], \"scattermapbox\": [{\"marker\": {\"colorbar\": {\"outlinewidth\": 0, \"ticks\": \"\"}}, \"type\": \"scattermapbox\"}], \"scatterpolar\": [{\"marker\": {\"colorbar\": {\"outlinewidth\": 0, \"ticks\": \"\"}}, \"type\": \"scatterpolar\"}], \"scatterpolargl\": [{\"marker\": {\"colorbar\": {\"outlinewidth\": 0, \"ticks\": \"\"}}, \"type\": \"scatterpolargl\"}], \"scatterternary\": [{\"marker\": {\"colorbar\": {\"outlinewidth\": 0, \"ticks\": \"\"}}, \"type\": \"scatterternary\"}], \"surface\": [{\"colorbar\": {\"outlinewidth\": 0, \"ticks\": \"\"}, \"colorscale\": [[0.0, \"#0d0887\"], [0.1111111111111111, \"#46039f\"], [0.2222222222222222, \"#7201a8\"], [0.3333333333333333, \"#9c179e\"], [0.4444444444444444, \"#bd3786\"], [0.5555555555555556, \"#d8576b\"], [0.6666666666666666, \"#ed7953\"], [0.7777777777777778, \"#fb9f3a\"], [0.8888888888888888, \"#fdca26\"], [1.0, \"#f0f921\"]], \"type\": \"surface\"}], \"table\": [{\"cells\": {\"fill\": {\"color\": \"#EBF0F8\"}, \"line\": {\"color\": \"white\"}}, \"header\": {\"fill\": {\"color\": \"#C8D4E3\"}, \"line\": {\"color\": \"white\"}}, \"type\": \"table\"}]}, \"layout\": {\"annotationdefaults\": {\"arrowcolor\": \"#2a3f5f\", \"arrowhead\": 0, \"arrowwidth\": 1}, \"coloraxis\": {\"colorbar\": {\"outlinewidth\": 0, \"ticks\": \"\"}}, \"colorscale\": {\"diverging\": [[0, \"#8e0152\"], [0.1, \"#c51b7d\"], [0.2, \"#de77ae\"], [0.3, \"#f1b6da\"], [0.4, \"#fde0ef\"], [0.5, \"#f7f7f7\"], [0.6, \"#e6f5d0\"], [0.7, \"#b8e186\"], [0.8, \"#7fbc41\"], [0.9, \"#4d9221\"], [1, \"#276419\"]], \"sequential\": [[0.0, \"#0d0887\"], [0.1111111111111111, \"#46039f\"], [0.2222222222222222, \"#7201a8\"], [0.3333333333333333, \"#9c179e\"], [0.4444444444444444, \"#bd3786\"], [0.5555555555555556, \"#d8576b\"], [0.6666666666666666, \"#ed7953\"], [0.7777777777777778, \"#fb9f3a\"], [0.8888888888888888, \"#fdca26\"], [1.0, \"#f0f921\"]], \"sequentialminus\": [[0.0, \"#0d0887\"], [0.1111111111111111, \"#46039f\"], [0.2222222222222222, \"#7201a8\"], [0.3333333333333333, \"#9c179e\"], [0.4444444444444444, \"#bd3786\"], [0.5555555555555556, \"#d8576b\"], [0.6666666666666666, \"#ed7953\"], [0.7777777777777778, \"#fb9f3a\"], [0.8888888888888888, \"#fdca26\"], [1.0, \"#f0f921\"]]}, \"colorway\": [\"#636efa\", \"#EF553B\", \"#00cc96\", \"#ab63fa\", \"#FFA15A\", \"#19d3f3\", \"#FF6692\", \"#B6E880\", \"#FF97FF\", \"#FECB52\"], \"font\": {\"color\": \"#2a3f5f\"}, \"geo\": {\"bgcolor\": \"white\", \"lakecolor\": \"white\", \"landcolor\": \"#E5ECF6\", \"showlakes\": true, \"showland\": true, \"subunitcolor\": \"white\"}, \"hoverlabel\": {\"align\": \"left\"}, \"hovermode\": \"closest\", \"mapbox\": {\"style\": \"light\"}, \"paper_bgcolor\": \"white\", \"plot_bgcolor\": \"#E5ECF6\", \"polar\": {\"angularaxis\": {\"gridcolor\": \"white\", \"linecolor\": \"white\", \"ticks\": \"\"}, \"bgcolor\": \"#E5ECF6\", \"radialaxis\": {\"gridcolor\": \"white\", \"linecolor\": \"white\", \"ticks\": \"\"}}, \"scene\": {\"xaxis\": {\"backgroundcolor\": \"#E5ECF6\", \"gridcolor\": \"white\", \"gridwidth\": 2, \"linecolor\": \"white\", \"showbackground\": true, \"ticks\": \"\", \"zerolinecolor\": \"white\"}, \"yaxis\": {\"backgroundcolor\": \"#E5ECF6\", \"gridcolor\": \"white\", \"gridwidth\": 2, \"linecolor\": \"white\", \"showbackground\": true, \"ticks\": \"\", \"zerolinecolor\": \"white\"}, \"zaxis\": {\"backgroundcolor\": \"#E5ECF6\", \"gridcolor\": \"white\", \"gridwidth\": 2, \"linecolor\": \"white\", \"showbackground\": true, \"ticks\": \"\", \"zerolinecolor\": \"white\"}}, \"shapedefaults\": {\"line\": {\"color\": \"#2a3f5f\"}}, \"ternary\": {\"aaxis\": {\"gridcolor\": \"white\", \"linecolor\": \"white\", \"ticks\": \"\"}, \"baxis\": {\"gridcolor\": \"white\", \"linecolor\": \"white\", \"ticks\": \"\"}, \"bgcolor\": \"#E5ECF6\", \"caxis\": {\"gridcolor\": \"white\", \"linecolor\": \"white\", \"ticks\": \"\"}}, \"title\": {\"x\": 0.05}, \"xaxis\": {\"automargin\": true, \"gridcolor\": \"white\", \"linecolor\": \"white\", \"ticks\": \"\", \"title\": {\"standoff\": 15}, \"zerolinecolor\": \"white\", \"zerolinewidth\": 2}, \"yaxis\": {\"automargin\": true, \"gridcolor\": \"white\", \"linecolor\": \"white\", \"ticks\": \"\", \"title\": {\"standoff\": 15}, \"zerolinecolor\": \"white\", \"zerolinewidth\": 2}}}, \"title\": {\"text\": \"Trends of value by data channel\"}, \"xaxis\": {\"title\": {\"text\": \"Time\"}}, \"yaxis\": {\"title\": {\"text\": \"Value\"}}},                        {\"responsive\": true}                    ).then(function(){\n",
       "                            \n",
       "var gd = document.getElementById('0fad3ff8-838d-4e4f-aef0-04e132969d6a');\n",
       "var x = new MutationObserver(function (mutations, observer) {{\n",
       "        var display = window.getComputedStyle(gd).display;\n",
       "        if (!display || display === 'none') {{\n",
       "            console.log([gd, 'removed!']);\n",
       "            Plotly.purge(gd);\n",
       "            observer.disconnect();\n",
       "        }}\n",
       "}});\n",
       "\n",
       "// Listen for the removal of the full notebook cells\n",
       "var notebookContainer = gd.closest('#notebook-container');\n",
       "if (notebookContainer) {{\n",
       "    x.observe(notebookContainer, {childList: true});\n",
       "}}\n",
       "\n",
       "// Listen for the clearing of the current output cell\n",
       "var outputEl = gd.closest('.output');\n",
       "if (outputEl) {{\n",
       "    x.observe(outputEl, {childList: true});\n",
       "}}\n",
       "\n",
       "                        })                };                });            </script>        </div>"
      ]
     },
     "metadata": {},
     "output_type": "display_data"
    }
   ],
   "source": [
    "data = []\n",
    "#market_train_df['close'] = market_train_df['close'] / 20\n",
    "\n",
    "for col in df.columns[8:]:\n",
    "#     price_df = df[col]\n",
    "#     print(price_df.groups)\n",
    "\n",
    "    data.append(go.Scatter(\n",
    "        x = one_data['time'].dt.strftime(date_format='%m-%d-%r').values,\n",
    "        y = one_data[col].values,\n",
    "        name = f'{col} data'\n",
    "    ))\n",
    "    \n",
    "layout = go.Layout(dict(title = \"Trends of value by data channel\",\n",
    "                  xaxis = dict(title = 'Time'),\n",
    "                  yaxis = dict(title = 'Value'),\n",
    "                  ),legend=dict(\n",
    "                orientation=\"v\"))\n",
    "py.iplot(dict(data=data, layout=layout), filename='basic-line')"
   ]
  },
  {
   "cell_type": "code",
   "execution_count": 109,
   "metadata": {},
   "outputs": [
    {
     "data": {
      "application/vnd.plotly.v1+json": {
       "config": {
        "linkText": "Export to plot.ly",
        "plotlyServerURL": "https://plot.ly",
        "showLink": false
       },
       "data": [
        {
         "name": "s1 data",
         "type": "scatter",
         "x": [
          "12-03-01:37:55 PM",
          "12-03-01:38:31 PM",
          "12-03-01:39:07 PM",
          "12-03-01:39:43 PM",
          "12-03-01:40:20 PM",
          "12-03-01:40:58 PM",
          "12-03-01:41:35 PM",
          "12-03-01:42:11 PM",
          "12-03-01:42:47 PM",
          "12-03-01:43:23 PM",
          "12-03-01:44:00 PM",
          "12-03-01:44:38 PM",
          "12-03-01:45:14 PM"
         ],
         "y": [
          -0.23595641246824878,
          0.19341259455747445,
          0.9718229877024597,
          -1.2948600874305993,
          -2.6931300632264845,
          0.0851036533884237,
          -0.4483739900365374,
          0.8765521712581402,
          0.3947094909834749,
          0.22322073669728162,
          0.07310936684037608,
          0.6763062575899983,
          1.1780832941442017
         ]
        },
        {
         "name": "s2 data",
         "type": "scatter",
         "x": [
          "12-03-01:37:55 PM",
          "12-03-01:38:31 PM",
          "12-03-01:39:07 PM",
          "12-03-01:39:43 PM",
          "12-03-01:40:20 PM",
          "12-03-01:40:58 PM",
          "12-03-01:41:35 PM",
          "12-03-01:42:11 PM",
          "12-03-01:42:47 PM",
          "12-03-01:43:23 PM",
          "12-03-01:44:00 PM",
          "12-03-01:44:38 PM",
          "12-03-01:45:14 PM"
         ],
         "y": [
          -2.11626402412073,
          1.7691556878941805,
          0.35306917979817704,
          -0.5800599071092591,
          -0.9008054001293582,
          1.6228652656916998,
          0.1759848635115618,
          -0.4506567727964252,
          0.6904299282145245,
          -0.5221727612341226,
          0.557759598816422,
          -0.3743049139803317,
          -0.2250007445563389
         ]
        },
        {
         "name": "s3 data",
         "type": "scatter",
         "x": [
          "12-03-01:37:55 PM",
          "12-03-01:38:31 PM",
          "12-03-01:39:07 PM",
          "12-03-01:39:43 PM",
          "12-03-01:40:20 PM",
          "12-03-01:40:58 PM",
          "12-03-01:41:35 PM",
          "12-03-01:42:11 PM",
          "12-03-01:42:47 PM",
          "12-03-01:43:23 PM",
          "12-03-01:44:00 PM",
          "12-03-01:44:38 PM",
          "12-03-01:45:14 PM"
         ],
         "y": [
          -0.5956648471240351,
          0.06900687098477284,
          2.4459328758824497,
          -0.6308954948463807,
          -1.6987124570584091,
          -0.2803619856981282,
          -0.15404019635175614,
          0.3075761593396531,
          0.5600779207782809,
          -0.2695948610768919,
          -1.0882900893572656,
          0.06938811119396662,
          1.2655779933337203
         ]
        },
        {
         "name": "s4 data",
         "type": "scatter",
         "x": [
          "12-03-01:37:55 PM",
          "12-03-01:38:31 PM",
          "12-03-01:39:07 PM",
          "12-03-01:39:43 PM",
          "12-03-01:40:20 PM",
          "12-03-01:40:58 PM",
          "12-03-01:41:35 PM",
          "12-03-01:42:11 PM",
          "12-03-01:42:47 PM",
          "12-03-01:43:23 PM",
          "12-03-01:44:00 PM",
          "12-03-01:44:38 PM",
          "12-03-01:45:14 PM"
         ],
         "y": [
          0.6055029410081402,
          -0.05424787511243445,
          -0.4663958513572287,
          0.6028930045602939,
          0.3128653467137421,
          -1.1864541325691715,
          0.44417935247805185,
          2.1138750579846843,
          -0.12309692653686366,
          1.0357927926106747,
          -1.9867950797146126,
          -0.639925329688781,
          -0.6581933003764366
         ]
        },
        {
         "name": "s5 data",
         "type": "scatter",
         "x": [
          "12-03-01:37:55 PM",
          "12-03-01:38:31 PM",
          "12-03-01:39:07 PM",
          "12-03-01:39:43 PM",
          "12-03-01:40:20 PM",
          "12-03-01:40:58 PM",
          "12-03-01:41:35 PM",
          "12-03-01:42:11 PM",
          "12-03-01:42:47 PM",
          "12-03-01:43:23 PM",
          "12-03-01:44:00 PM",
          "12-03-01:44:38 PM",
          "12-03-01:45:14 PM"
         ],
         "y": [
          -0.657224622775054,
          -0.7663309531753657,
          2.0505306360914606,
          0.03635203397274714,
          0.6970841634086976,
          -0.7165017078445256,
          -0.024003747747011705,
          0.5287246390857131,
          -0.1327830848829883,
          -0.5403568971016791,
          -0.04266009469977675,
          -1.9614453371631955,
          1.5286149728309408
         ]
        },
        {
         "name": "s6 data",
         "type": "scatter",
         "x": [
          "12-03-01:37:55 PM",
          "12-03-01:38:31 PM",
          "12-03-01:39:07 PM",
          "12-03-01:39:43 PM",
          "12-03-01:40:20 PM",
          "12-03-01:40:58 PM",
          "12-03-01:41:35 PM",
          "12-03-01:42:11 PM",
          "12-03-01:42:47 PM",
          "12-03-01:43:23 PM",
          "12-03-01:44:00 PM",
          "12-03-01:44:38 PM",
          "12-03-01:45:14 PM"
         ],
         "y": [
          1.2250079511514143,
          -0.35044416700976244,
          0.3036810974790985,
          -0.366563889575609,
          -1.3571607716144376,
          0.9602177429030422,
          -1.6003394918918816,
          0.9316219282042368,
          1.8485079606278654,
          -0.19653283700305096,
          -1.202460095076909,
          -0.2326928090314736,
          0.03715738083743385
         ]
        },
        {
         "name": "s7 data",
         "type": "scatter",
         "x": [
          "12-03-01:37:55 PM",
          "12-03-01:38:31 PM",
          "12-03-01:39:07 PM",
          "12-03-01:39:43 PM",
          "12-03-01:40:20 PM",
          "12-03-01:40:58 PM",
          "12-03-01:41:35 PM",
          "12-03-01:42:11 PM",
          "12-03-01:42:47 PM",
          "12-03-01:43:23 PM",
          "12-03-01:44:00 PM",
          "12-03-01:44:38 PM",
          "12-03-01:45:14 PM"
         ],
         "y": [
          0.2112117576689312,
          -1.3485856390128745,
          -0.794039770898532,
          -0.6702960682395642,
          1.3302090706269516,
          -1.4772685805525942,
          1.282151333464017,
          -0.8071254301155804,
          0.8091560137616763,
          0.7353514482506597,
          -0.9021511578228076,
          1.300309096455482,
          0.331077926414277
         ]
        },
        {
         "name": "s8 data",
         "type": "scatter",
         "x": [
          "12-03-01:37:55 PM",
          "12-03-01:38:31 PM",
          "12-03-01:39:07 PM",
          "12-03-01:39:43 PM",
          "12-03-01:40:20 PM",
          "12-03-01:40:58 PM",
          "12-03-01:41:35 PM",
          "12-03-01:42:11 PM",
          "12-03-01:42:47 PM",
          "12-03-01:43:23 PM",
          "12-03-01:44:00 PM",
          "12-03-01:44:38 PM",
          "12-03-01:45:14 PM"
         ],
         "y": [
          -2.1664827541411693,
          1.5867229864100592,
          1.4676243241573028,
          -0.656050819619468,
          0.5788516770572256,
          -0.5262081238781944,
          -0.05464154630698681,
          0.5912633183108509,
          0.5831923587875436,
          0.3056513867645428,
          0.09362059352220928,
          -1.1942706141400425,
          -0.609272786923869
         ]
        },
        {
         "name": "s9 data",
         "type": "scatter",
         "x": [
          "12-03-01:37:55 PM",
          "12-03-01:38:31 PM",
          "12-03-01:39:07 PM",
          "12-03-01:39:43 PM",
          "12-03-01:40:20 PM",
          "12-03-01:40:58 PM",
          "12-03-01:41:35 PM",
          "12-03-01:42:11 PM",
          "12-03-01:42:47 PM",
          "12-03-01:43:23 PM",
          "12-03-01:44:00 PM",
          "12-03-01:44:38 PM",
          "12-03-01:45:14 PM"
         ],
         "y": [
          0.7157369435649943,
          -1.4528218915816153,
          0.010426438035068396,
          0.9474506480711774,
          -0.07250711824375766,
          2.5671226554971214,
          -0.1278202802290008,
          -1.5147758660351698,
          -0.22202183846664153,
          0.1740791706158476,
          -0.3219641358643708,
          -0.08433619577760931,
          -0.6185685295860901
         ]
        },
        {
         "name": "s10 data",
         "type": "scatter",
         "x": [
          "12-03-01:37:55 PM",
          "12-03-01:38:31 PM",
          "12-03-01:39:07 PM",
          "12-03-01:39:43 PM",
          "12-03-01:40:20 PM",
          "12-03-01:40:58 PM",
          "12-03-01:41:35 PM",
          "12-03-01:42:11 PM",
          "12-03-01:42:47 PM",
          "12-03-01:43:23 PM",
          "12-03-01:44:00 PM",
          "12-03-01:44:38 PM",
          "12-03-01:45:14 PM"
         ],
         "y": [
          -0.8755468275449453,
          -1.4051438130768477,
          0.997318574780128,
          0.9220506293155633,
          0.36137148380927575,
          1.2559625477478893,
          -0.608642507045499,
          -1.3371351959967503,
          -0.48249894828334616,
          -0.7918101358878251,
          -0.2994758797522775,
          1.8516623942717503,
          0.4118876776629036
         ]
        },
        {
         "name": "s11 data",
         "type": "scatter",
         "x": [
          "12-03-01:37:55 PM",
          "12-03-01:38:31 PM",
          "12-03-01:39:07 PM",
          "12-03-01:39:43 PM",
          "12-03-01:40:20 PM",
          "12-03-01:40:58 PM",
          "12-03-01:41:35 PM",
          "12-03-01:42:11 PM",
          "12-03-01:42:47 PM",
          "12-03-01:43:23 PM",
          "12-03-01:44:00 PM",
          "12-03-01:44:38 PM",
          "12-03-01:45:14 PM"
         ],
         "y": [
          0.7047993834085744,
          -1.458279956820053,
          0.3325123984389434,
          -0.5129502823735301,
          -0.7339170730923212,
          1.9466185848336741,
          -0.49628868759258504,
          -0.24505827782820597,
          0.2521226532899017,
          1.0275308927027091,
          -1.3749627185585296,
          -0.7706256215695856,
          1.3284987051610564
         ]
        },
        {
         "name": "s12 data",
         "type": "scatter",
         "x": [
          "12-03-01:37:55 PM",
          "12-03-01:38:31 PM",
          "12-03-01:39:07 PM",
          "12-03-01:39:43 PM",
          "12-03-01:40:20 PM",
          "12-03-01:40:58 PM",
          "12-03-01:41:35 PM",
          "12-03-01:42:11 PM",
          "12-03-01:42:47 PM",
          "12-03-01:43:23 PM",
          "12-03-01:44:00 PM",
          "12-03-01:44:38 PM",
          "12-03-01:45:14 PM"
         ],
         "y": [
          0.2729320715347251,
          -0.14068855315648998,
          -0.6096633155527306,
          -1.4440293365043577,
          -0.15614362389701392,
          0.5468594580406051,
          2.4747836518420634,
          0.8481623443187521,
          0.3272411015840806,
          -1.0205714573728775,
          0.04407363627853604,
          -1.4310318385428051,
          0.28807586142746916
         ]
        },
        {
         "name": "s13 data",
         "type": "scatter",
         "x": [
          "12-03-01:37:55 PM",
          "12-03-01:38:31 PM",
          "12-03-01:39:07 PM",
          "12-03-01:39:43 PM",
          "12-03-01:40:20 PM",
          "12-03-01:40:58 PM",
          "12-03-01:41:35 PM",
          "12-03-01:42:11 PM",
          "12-03-01:42:47 PM",
          "12-03-01:43:23 PM",
          "12-03-01:44:00 PM",
          "12-03-01:44:38 PM",
          "12-03-01:45:14 PM"
         ],
         "y": [
          0.6785905402470874,
          -0.5702911248706821,
          -0.11342753274341524,
          0.031651326788273496,
          -1.052859030963159,
          -0.6593163616464178,
          1.580330775623151,
          1.754353317950273,
          1.358030594030652,
          -1.0172289725604857,
          -0.6896582989844228,
          -1.3142208512331752,
          0.0140456183623963
         ]
        },
        {
         "name": "s14 data",
         "type": "scatter",
         "x": [
          "12-03-01:37:55 PM",
          "12-03-01:38:31 PM",
          "12-03-01:39:07 PM",
          "12-03-01:39:43 PM",
          "12-03-01:40:20 PM",
          "12-03-01:40:58 PM",
          "12-03-01:41:35 PM",
          "12-03-01:42:11 PM",
          "12-03-01:42:47 PM",
          "12-03-01:43:23 PM",
          "12-03-01:44:00 PM",
          "12-03-01:44:38 PM",
          "12-03-01:45:14 PM"
         ],
         "y": [
          -0.6597501538846537,
          1.1979509040531158,
          1.1050800272398549,
          -1.2720088548271251,
          1.5149202576535714,
          1.3168103816379622,
          0.5577548279296796,
          -1.4285553455064182,
          -1.2147564981039476,
          -0.2720692590927702,
          -0.5119598010580171,
          -0.31206992153574814,
          -0.021346564505537728
         ]
        },
        {
         "name": "s15 data",
         "type": "scatter",
         "x": [
          "12-03-01:37:55 PM",
          "12-03-01:38:31 PM",
          "12-03-01:39:07 PM",
          "12-03-01:39:43 PM",
          "12-03-01:40:20 PM",
          "12-03-01:40:58 PM",
          "12-03-01:41:35 PM",
          "12-03-01:42:11 PM",
          "12-03-01:42:47 PM",
          "12-03-01:43:23 PM",
          "12-03-01:44:00 PM",
          "12-03-01:44:38 PM",
          "12-03-01:45:14 PM"
         ],
         "y": [
          1.2634189818915615,
          -0.8501893548529964,
          0.24766372293023733,
          -1.4478601709333008,
          -1.0624418696031555,
          1.2361758097276572,
          1.3263946576952297,
          0.022415741257108653,
          0.015228119707608123,
          -1.3182482375934363,
          0.9408437805344645,
          -1.0274335975785376,
          0.6540324168175795
         ]
        },
        {
         "name": "s16 data",
         "type": "scatter",
         "x": [
          "12-03-01:37:55 PM",
          "12-03-01:38:31 PM",
          "12-03-01:39:07 PM",
          "12-03-01:39:43 PM",
          "12-03-01:40:20 PM",
          "12-03-01:40:58 PM",
          "12-03-01:41:35 PM",
          "12-03-01:42:11 PM",
          "12-03-01:42:47 PM",
          "12-03-01:43:23 PM",
          "12-03-01:44:00 PM",
          "12-03-01:44:38 PM",
          "12-03-01:45:14 PM"
         ],
         "y": [
          0.8632856021506826,
          -0.17867581765363172,
          -1.4053515672273016,
          -0.9056883950639061,
          0.5883912618258098,
          0.5210569624970155,
          0.727239165855872,
          1.8580506626131392,
          0.13909801991240747,
          0.2883457413770291,
          -1.768095520246447,
          -1.1808958992847385,
          0.4532397832440694
         ]
        },
        {
         "name": "s17 data",
         "type": "scatter",
         "x": [
          "12-03-01:37:55 PM",
          "12-03-01:38:31 PM",
          "12-03-01:39:07 PM",
          "12-03-01:39:43 PM",
          "12-03-01:40:20 PM",
          "12-03-01:40:58 PM",
          "12-03-01:41:35 PM",
          "12-03-01:42:11 PM",
          "12-03-01:42:47 PM",
          "12-03-01:43:23 PM",
          "12-03-01:44:00 PM",
          "12-03-01:44:38 PM",
          "12-03-01:45:14 PM"
         ],
         "y": [
          0.5522698928104431,
          1.0551814189660729,
          -0.6403489950336868,
          0.20808467101581243,
          -1.2121116003501513,
          -0.3713240723362818,
          1.3134711305927944,
          -0.866203058443306,
          -0.6815404808755026,
          -0.21185234222312738,
          -1.4216809408796927,
          2.1190640180743063,
          0.15699035868227001
         ]
        },
        {
         "name": "s18 data",
         "type": "scatter",
         "x": [
          "12-03-01:37:55 PM",
          "12-03-01:38:31 PM",
          "12-03-01:39:07 PM",
          "12-03-01:39:43 PM",
          "12-03-01:40:20 PM",
          "12-03-01:40:58 PM",
          "12-03-01:41:35 PM",
          "12-03-01:42:11 PM",
          "12-03-01:42:47 PM",
          "12-03-01:43:23 PM",
          "12-03-01:44:00 PM",
          "12-03-01:44:38 PM",
          "12-03-01:45:14 PM"
         ],
         "y": [
          0.09280759001404099,
          -0.769717259880233,
          1.284104125337831,
          0.5019851282464804,
          -0.49829353847714275,
          0.47232555287957906,
          1.9897680836366465,
          -1.9006332287302252,
          0.41365081699411765,
          0.14341861162351296,
          -0.812912361215235,
          -1.2271946342724007,
          0.3106911138429348
         ]
        },
        {
         "name": "s19 data",
         "type": "scatter",
         "x": [
          "12-03-01:37:55 PM",
          "12-03-01:38:31 PM",
          "12-03-01:39:07 PM",
          "12-03-01:39:43 PM",
          "12-03-01:40:20 PM",
          "12-03-01:40:58 PM",
          "12-03-01:41:35 PM",
          "12-03-01:42:11 PM",
          "12-03-01:42:47 PM",
          "12-03-01:43:23 PM",
          "12-03-01:44:00 PM",
          "12-03-01:44:38 PM",
          "12-03-01:45:14 PM"
         ],
         "y": [
          0.2997157795361942,
          -0.21347839481965702,
          -1.2746859917808127,
          -0.029420834927786323,
          0.5019129429912234,
          -0.9876921354162759,
          -1.0089126607329817,
          0.048102581052153696,
          -1.2421872239171274,
          1.1130354398017719,
          1.4704748719598408,
          1.920876990803553,
          -0.5977413645500923
         ]
        },
        {
         "name": "s20 data",
         "type": "scatter",
         "x": [
          "12-03-01:37:55 PM",
          "12-03-01:38:31 PM",
          "12-03-01:39:07 PM",
          "12-03-01:39:43 PM",
          "12-03-01:40:20 PM",
          "12-03-01:40:58 PM",
          "12-03-01:41:35 PM",
          "12-03-01:42:11 PM",
          "12-03-01:42:47 PM",
          "12-03-01:43:23 PM",
          "12-03-01:44:00 PM",
          "12-03-01:44:38 PM",
          "12-03-01:45:14 PM"
         ],
         "y": [
          -1.1684975064578647,
          -1.0046545921066996,
          -1.6013408556987694,
          0.39267733253617904,
          -0.6294631487689171,
          0.6168729892200516,
          -0.11375197397446542,
          0.9941961039500483,
          1.9138111489901521,
          0.7802737761247645,
          0.9930807620579807,
          -0.284311078117818,
          -0.8888929577546388
         ]
        },
        {
         "name": "s21 data",
         "type": "scatter",
         "x": [
          "12-03-01:37:55 PM",
          "12-03-01:38:31 PM",
          "12-03-01:39:07 PM",
          "12-03-01:39:43 PM",
          "12-03-01:40:20 PM",
          "12-03-01:40:58 PM",
          "12-03-01:41:35 PM",
          "12-03-01:42:11 PM",
          "12-03-01:42:47 PM",
          "12-03-01:43:23 PM",
          "12-03-01:44:00 PM",
          "12-03-01:44:38 PM",
          "12-03-01:45:14 PM"
         ],
         "y": [
          0.7952235532189161,
          0.9542778001353327,
          0.6392748836629507,
          -0.7715069229791529,
          1.6286949166533244,
          1.2729305131541524,
          -0.10410158043197888,
          -0.7424328007038982,
          -0.41100605711639754,
          0.5452007918656403,
          -0.8857722922542437,
          -1.6859869613740937,
          -1.234795843830427
         ]
        }
       ],
       "layout": {
        "legend": {
         "orientation": "v"
        },
        "template": {
         "data": {
          "bar": [
           {
            "error_x": {
             "color": "#2a3f5f"
            },
            "error_y": {
             "color": "#2a3f5f"
            },
            "marker": {
             "line": {
              "color": "#E5ECF6",
              "width": 0.5
             }
            },
            "type": "bar"
           }
          ],
          "barpolar": [
           {
            "marker": {
             "line": {
              "color": "#E5ECF6",
              "width": 0.5
             }
            },
            "type": "barpolar"
           }
          ],
          "carpet": [
           {
            "aaxis": {
             "endlinecolor": "#2a3f5f",
             "gridcolor": "white",
             "linecolor": "white",
             "minorgridcolor": "white",
             "startlinecolor": "#2a3f5f"
            },
            "baxis": {
             "endlinecolor": "#2a3f5f",
             "gridcolor": "white",
             "linecolor": "white",
             "minorgridcolor": "white",
             "startlinecolor": "#2a3f5f"
            },
            "type": "carpet"
           }
          ],
          "choropleth": [
           {
            "colorbar": {
             "outlinewidth": 0,
             "ticks": ""
            },
            "type": "choropleth"
           }
          ],
          "contour": [
           {
            "colorbar": {
             "outlinewidth": 0,
             "ticks": ""
            },
            "colorscale": [
             [
              0,
              "#0d0887"
             ],
             [
              0.1111111111111111,
              "#46039f"
             ],
             [
              0.2222222222222222,
              "#7201a8"
             ],
             [
              0.3333333333333333,
              "#9c179e"
             ],
             [
              0.4444444444444444,
              "#bd3786"
             ],
             [
              0.5555555555555556,
              "#d8576b"
             ],
             [
              0.6666666666666666,
              "#ed7953"
             ],
             [
              0.7777777777777778,
              "#fb9f3a"
             ],
             [
              0.8888888888888888,
              "#fdca26"
             ],
             [
              1,
              "#f0f921"
             ]
            ],
            "type": "contour"
           }
          ],
          "contourcarpet": [
           {
            "colorbar": {
             "outlinewidth": 0,
             "ticks": ""
            },
            "type": "contourcarpet"
           }
          ],
          "heatmap": [
           {
            "colorbar": {
             "outlinewidth": 0,
             "ticks": ""
            },
            "colorscale": [
             [
              0,
              "#0d0887"
             ],
             [
              0.1111111111111111,
              "#46039f"
             ],
             [
              0.2222222222222222,
              "#7201a8"
             ],
             [
              0.3333333333333333,
              "#9c179e"
             ],
             [
              0.4444444444444444,
              "#bd3786"
             ],
             [
              0.5555555555555556,
              "#d8576b"
             ],
             [
              0.6666666666666666,
              "#ed7953"
             ],
             [
              0.7777777777777778,
              "#fb9f3a"
             ],
             [
              0.8888888888888888,
              "#fdca26"
             ],
             [
              1,
              "#f0f921"
             ]
            ],
            "type": "heatmap"
           }
          ],
          "heatmapgl": [
           {
            "colorbar": {
             "outlinewidth": 0,
             "ticks": ""
            },
            "colorscale": [
             [
              0,
              "#0d0887"
             ],
             [
              0.1111111111111111,
              "#46039f"
             ],
             [
              0.2222222222222222,
              "#7201a8"
             ],
             [
              0.3333333333333333,
              "#9c179e"
             ],
             [
              0.4444444444444444,
              "#bd3786"
             ],
             [
              0.5555555555555556,
              "#d8576b"
             ],
             [
              0.6666666666666666,
              "#ed7953"
             ],
             [
              0.7777777777777778,
              "#fb9f3a"
             ],
             [
              0.8888888888888888,
              "#fdca26"
             ],
             [
              1,
              "#f0f921"
             ]
            ],
            "type": "heatmapgl"
           }
          ],
          "histogram": [
           {
            "marker": {
             "colorbar": {
              "outlinewidth": 0,
              "ticks": ""
             }
            },
            "type": "histogram"
           }
          ],
          "histogram2d": [
           {
            "colorbar": {
             "outlinewidth": 0,
             "ticks": ""
            },
            "colorscale": [
             [
              0,
              "#0d0887"
             ],
             [
              0.1111111111111111,
              "#46039f"
             ],
             [
              0.2222222222222222,
              "#7201a8"
             ],
             [
              0.3333333333333333,
              "#9c179e"
             ],
             [
              0.4444444444444444,
              "#bd3786"
             ],
             [
              0.5555555555555556,
              "#d8576b"
             ],
             [
              0.6666666666666666,
              "#ed7953"
             ],
             [
              0.7777777777777778,
              "#fb9f3a"
             ],
             [
              0.8888888888888888,
              "#fdca26"
             ],
             [
              1,
              "#f0f921"
             ]
            ],
            "type": "histogram2d"
           }
          ],
          "histogram2dcontour": [
           {
            "colorbar": {
             "outlinewidth": 0,
             "ticks": ""
            },
            "colorscale": [
             [
              0,
              "#0d0887"
             ],
             [
              0.1111111111111111,
              "#46039f"
             ],
             [
              0.2222222222222222,
              "#7201a8"
             ],
             [
              0.3333333333333333,
              "#9c179e"
             ],
             [
              0.4444444444444444,
              "#bd3786"
             ],
             [
              0.5555555555555556,
              "#d8576b"
             ],
             [
              0.6666666666666666,
              "#ed7953"
             ],
             [
              0.7777777777777778,
              "#fb9f3a"
             ],
             [
              0.8888888888888888,
              "#fdca26"
             ],
             [
              1,
              "#f0f921"
             ]
            ],
            "type": "histogram2dcontour"
           }
          ],
          "mesh3d": [
           {
            "colorbar": {
             "outlinewidth": 0,
             "ticks": ""
            },
            "type": "mesh3d"
           }
          ],
          "parcoords": [
           {
            "line": {
             "colorbar": {
              "outlinewidth": 0,
              "ticks": ""
             }
            },
            "type": "parcoords"
           }
          ],
          "pie": [
           {
            "automargin": true,
            "type": "pie"
           }
          ],
          "scatter": [
           {
            "marker": {
             "colorbar": {
              "outlinewidth": 0,
              "ticks": ""
             }
            },
            "type": "scatter"
           }
          ],
          "scatter3d": [
           {
            "line": {
             "colorbar": {
              "outlinewidth": 0,
              "ticks": ""
             }
            },
            "marker": {
             "colorbar": {
              "outlinewidth": 0,
              "ticks": ""
             }
            },
            "type": "scatter3d"
           }
          ],
          "scattercarpet": [
           {
            "marker": {
             "colorbar": {
              "outlinewidth": 0,
              "ticks": ""
             }
            },
            "type": "scattercarpet"
           }
          ],
          "scattergeo": [
           {
            "marker": {
             "colorbar": {
              "outlinewidth": 0,
              "ticks": ""
             }
            },
            "type": "scattergeo"
           }
          ],
          "scattergl": [
           {
            "marker": {
             "colorbar": {
              "outlinewidth": 0,
              "ticks": ""
             }
            },
            "type": "scattergl"
           }
          ],
          "scattermapbox": [
           {
            "marker": {
             "colorbar": {
              "outlinewidth": 0,
              "ticks": ""
             }
            },
            "type": "scattermapbox"
           }
          ],
          "scatterpolar": [
           {
            "marker": {
             "colorbar": {
              "outlinewidth": 0,
              "ticks": ""
             }
            },
            "type": "scatterpolar"
           }
          ],
          "scatterpolargl": [
           {
            "marker": {
             "colorbar": {
              "outlinewidth": 0,
              "ticks": ""
             }
            },
            "type": "scatterpolargl"
           }
          ],
          "scatterternary": [
           {
            "marker": {
             "colorbar": {
              "outlinewidth": 0,
              "ticks": ""
             }
            },
            "type": "scatterternary"
           }
          ],
          "surface": [
           {
            "colorbar": {
             "outlinewidth": 0,
             "ticks": ""
            },
            "colorscale": [
             [
              0,
              "#0d0887"
             ],
             [
              0.1111111111111111,
              "#46039f"
             ],
             [
              0.2222222222222222,
              "#7201a8"
             ],
             [
              0.3333333333333333,
              "#9c179e"
             ],
             [
              0.4444444444444444,
              "#bd3786"
             ],
             [
              0.5555555555555556,
              "#d8576b"
             ],
             [
              0.6666666666666666,
              "#ed7953"
             ],
             [
              0.7777777777777778,
              "#fb9f3a"
             ],
             [
              0.8888888888888888,
              "#fdca26"
             ],
             [
              1,
              "#f0f921"
             ]
            ],
            "type": "surface"
           }
          ],
          "table": [
           {
            "cells": {
             "fill": {
              "color": "#EBF0F8"
             },
             "line": {
              "color": "white"
             }
            },
            "header": {
             "fill": {
              "color": "#C8D4E3"
             },
             "line": {
              "color": "white"
             }
            },
            "type": "table"
           }
          ]
         },
         "layout": {
          "annotationdefaults": {
           "arrowcolor": "#2a3f5f",
           "arrowhead": 0,
           "arrowwidth": 1
          },
          "coloraxis": {
           "colorbar": {
            "outlinewidth": 0,
            "ticks": ""
           }
          },
          "colorscale": {
           "diverging": [
            [
             0,
             "#8e0152"
            ],
            [
             0.1,
             "#c51b7d"
            ],
            [
             0.2,
             "#de77ae"
            ],
            [
             0.3,
             "#f1b6da"
            ],
            [
             0.4,
             "#fde0ef"
            ],
            [
             0.5,
             "#f7f7f7"
            ],
            [
             0.6,
             "#e6f5d0"
            ],
            [
             0.7,
             "#b8e186"
            ],
            [
             0.8,
             "#7fbc41"
            ],
            [
             0.9,
             "#4d9221"
            ],
            [
             1,
             "#276419"
            ]
           ],
           "sequential": [
            [
             0,
             "#0d0887"
            ],
            [
             0.1111111111111111,
             "#46039f"
            ],
            [
             0.2222222222222222,
             "#7201a8"
            ],
            [
             0.3333333333333333,
             "#9c179e"
            ],
            [
             0.4444444444444444,
             "#bd3786"
            ],
            [
             0.5555555555555556,
             "#d8576b"
            ],
            [
             0.6666666666666666,
             "#ed7953"
            ],
            [
             0.7777777777777778,
             "#fb9f3a"
            ],
            [
             0.8888888888888888,
             "#fdca26"
            ],
            [
             1,
             "#f0f921"
            ]
           ],
           "sequentialminus": [
            [
             0,
             "#0d0887"
            ],
            [
             0.1111111111111111,
             "#46039f"
            ],
            [
             0.2222222222222222,
             "#7201a8"
            ],
            [
             0.3333333333333333,
             "#9c179e"
            ],
            [
             0.4444444444444444,
             "#bd3786"
            ],
            [
             0.5555555555555556,
             "#d8576b"
            ],
            [
             0.6666666666666666,
             "#ed7953"
            ],
            [
             0.7777777777777778,
             "#fb9f3a"
            ],
            [
             0.8888888888888888,
             "#fdca26"
            ],
            [
             1,
             "#f0f921"
            ]
           ]
          },
          "colorway": [
           "#636efa",
           "#EF553B",
           "#00cc96",
           "#ab63fa",
           "#FFA15A",
           "#19d3f3",
           "#FF6692",
           "#B6E880",
           "#FF97FF",
           "#FECB52"
          ],
          "font": {
           "color": "#2a3f5f"
          },
          "geo": {
           "bgcolor": "white",
           "lakecolor": "white",
           "landcolor": "#E5ECF6",
           "showlakes": true,
           "showland": true,
           "subunitcolor": "white"
          },
          "hoverlabel": {
           "align": "left"
          },
          "hovermode": "closest",
          "mapbox": {
           "style": "light"
          },
          "paper_bgcolor": "white",
          "plot_bgcolor": "#E5ECF6",
          "polar": {
           "angularaxis": {
            "gridcolor": "white",
            "linecolor": "white",
            "ticks": ""
           },
           "bgcolor": "#E5ECF6",
           "radialaxis": {
            "gridcolor": "white",
            "linecolor": "white",
            "ticks": ""
           }
          },
          "scene": {
           "xaxis": {
            "backgroundcolor": "#E5ECF6",
            "gridcolor": "white",
            "gridwidth": 2,
            "linecolor": "white",
            "showbackground": true,
            "ticks": "",
            "zerolinecolor": "white"
           },
           "yaxis": {
            "backgroundcolor": "#E5ECF6",
            "gridcolor": "white",
            "gridwidth": 2,
            "linecolor": "white",
            "showbackground": true,
            "ticks": "",
            "zerolinecolor": "white"
           },
           "zaxis": {
            "backgroundcolor": "#E5ECF6",
            "gridcolor": "white",
            "gridwidth": 2,
            "linecolor": "white",
            "showbackground": true,
            "ticks": "",
            "zerolinecolor": "white"
           }
          },
          "shapedefaults": {
           "line": {
            "color": "#2a3f5f"
           }
          },
          "ternary": {
           "aaxis": {
            "gridcolor": "white",
            "linecolor": "white",
            "ticks": ""
           },
           "baxis": {
            "gridcolor": "white",
            "linecolor": "white",
            "ticks": ""
           },
           "bgcolor": "#E5ECF6",
           "caxis": {
            "gridcolor": "white",
            "linecolor": "white",
            "ticks": ""
           }
          },
          "title": {
           "x": 0.05
          },
          "xaxis": {
           "automargin": true,
           "gridcolor": "white",
           "linecolor": "white",
           "ticks": "",
           "title": {
            "standoff": 15
           },
           "zerolinecolor": "white",
           "zerolinewidth": 2
          },
          "yaxis": {
           "automargin": true,
           "gridcolor": "white",
           "linecolor": "white",
           "ticks": "",
           "title": {
            "standoff": 15
           },
           "zerolinecolor": "white",
           "zerolinewidth": 2
          }
         }
        },
        "title": {
         "text": "Trends of value by data channel"
        },
        "xaxis": {
         "title": {
          "text": "Time"
         }
        },
        "yaxis": {
         "title": {
          "text": "Value"
         }
        }
       }
      },
      "text/html": [
       "<div>                            <div id=\"c9bac41f-6d09-4092-a61f-c0ab5cfdf3b0\" class=\"plotly-graph-div\" style=\"height:525px; width:100%;\"></div>            <script type=\"text/javascript\">                require([\"plotly\"], function(Plotly) {                    window.PLOTLYENV=window.PLOTLYENV || {};                                    if (document.getElementById(\"c9bac41f-6d09-4092-a61f-c0ab5cfdf3b0\")) {                    Plotly.newPlot(                        \"c9bac41f-6d09-4092-a61f-c0ab5cfdf3b0\",                        [{\"name\": \"s1 data\", \"type\": \"scatter\", \"x\": [\"12-03-01:37:55 PM\", \"12-03-01:38:31 PM\", \"12-03-01:39:07 PM\", \"12-03-01:39:43 PM\", \"12-03-01:40:20 PM\", \"12-03-01:40:58 PM\", \"12-03-01:41:35 PM\", \"12-03-01:42:11 PM\", \"12-03-01:42:47 PM\", \"12-03-01:43:23 PM\", \"12-03-01:44:00 PM\", \"12-03-01:44:38 PM\", \"12-03-01:45:14 PM\"], \"y\": [-0.23595641246824878, 0.19341259455747445, 0.9718229877024597, -1.2948600874305993, -2.6931300632264845, 0.0851036533884237, -0.4483739900365374, 0.8765521712581402, 0.3947094909834749, 0.22322073669728162, 0.07310936684037608, 0.6763062575899983, 1.1780832941442017]}, {\"name\": \"s2 data\", \"type\": \"scatter\", \"x\": [\"12-03-01:37:55 PM\", \"12-03-01:38:31 PM\", \"12-03-01:39:07 PM\", \"12-03-01:39:43 PM\", \"12-03-01:40:20 PM\", \"12-03-01:40:58 PM\", \"12-03-01:41:35 PM\", \"12-03-01:42:11 PM\", \"12-03-01:42:47 PM\", \"12-03-01:43:23 PM\", \"12-03-01:44:00 PM\", \"12-03-01:44:38 PM\", \"12-03-01:45:14 PM\"], \"y\": [-2.11626402412073, 1.7691556878941805, 0.35306917979817704, -0.5800599071092591, -0.9008054001293582, 1.6228652656916998, 0.1759848635115618, -0.4506567727964252, 0.6904299282145245, -0.5221727612341226, 0.557759598816422, -0.3743049139803317, -0.2250007445563389]}, {\"name\": \"s3 data\", \"type\": \"scatter\", \"x\": [\"12-03-01:37:55 PM\", \"12-03-01:38:31 PM\", \"12-03-01:39:07 PM\", \"12-03-01:39:43 PM\", \"12-03-01:40:20 PM\", \"12-03-01:40:58 PM\", \"12-03-01:41:35 PM\", \"12-03-01:42:11 PM\", \"12-03-01:42:47 PM\", \"12-03-01:43:23 PM\", \"12-03-01:44:00 PM\", \"12-03-01:44:38 PM\", \"12-03-01:45:14 PM\"], \"y\": [-0.5956648471240351, 0.06900687098477284, 2.4459328758824497, -0.6308954948463807, -1.6987124570584091, -0.2803619856981282, -0.15404019635175614, 0.3075761593396531, 0.5600779207782809, -0.2695948610768919, -1.0882900893572656, 0.06938811119396662, 1.2655779933337203]}, {\"name\": \"s4 data\", \"type\": \"scatter\", \"x\": [\"12-03-01:37:55 PM\", \"12-03-01:38:31 PM\", \"12-03-01:39:07 PM\", \"12-03-01:39:43 PM\", \"12-03-01:40:20 PM\", \"12-03-01:40:58 PM\", \"12-03-01:41:35 PM\", \"12-03-01:42:11 PM\", \"12-03-01:42:47 PM\", \"12-03-01:43:23 PM\", \"12-03-01:44:00 PM\", \"12-03-01:44:38 PM\", \"12-03-01:45:14 PM\"], \"y\": [0.6055029410081402, -0.05424787511243445, -0.4663958513572287, 0.6028930045602939, 0.3128653467137421, -1.1864541325691715, 0.44417935247805185, 2.1138750579846843, -0.12309692653686366, 1.0357927926106747, -1.9867950797146126, -0.639925329688781, -0.6581933003764366]}, {\"name\": \"s5 data\", \"type\": \"scatter\", \"x\": [\"12-03-01:37:55 PM\", \"12-03-01:38:31 PM\", \"12-03-01:39:07 PM\", \"12-03-01:39:43 PM\", \"12-03-01:40:20 PM\", \"12-03-01:40:58 PM\", \"12-03-01:41:35 PM\", \"12-03-01:42:11 PM\", \"12-03-01:42:47 PM\", \"12-03-01:43:23 PM\", \"12-03-01:44:00 PM\", \"12-03-01:44:38 PM\", \"12-03-01:45:14 PM\"], \"y\": [-0.657224622775054, -0.7663309531753657, 2.0505306360914606, 0.03635203397274714, 0.6970841634086976, -0.7165017078445256, -0.024003747747011705, 0.5287246390857131, -0.1327830848829883, -0.5403568971016791, -0.04266009469977675, -1.9614453371631955, 1.5286149728309408]}, {\"name\": \"s6 data\", \"type\": \"scatter\", \"x\": [\"12-03-01:37:55 PM\", \"12-03-01:38:31 PM\", \"12-03-01:39:07 PM\", \"12-03-01:39:43 PM\", \"12-03-01:40:20 PM\", \"12-03-01:40:58 PM\", \"12-03-01:41:35 PM\", \"12-03-01:42:11 PM\", \"12-03-01:42:47 PM\", \"12-03-01:43:23 PM\", \"12-03-01:44:00 PM\", \"12-03-01:44:38 PM\", \"12-03-01:45:14 PM\"], \"y\": [1.2250079511514143, -0.35044416700976244, 0.3036810974790985, -0.366563889575609, -1.3571607716144376, 0.9602177429030422, -1.6003394918918816, 0.9316219282042368, 1.8485079606278654, -0.19653283700305096, -1.202460095076909, -0.2326928090314736, 0.03715738083743385]}, {\"name\": \"s7 data\", \"type\": \"scatter\", \"x\": [\"12-03-01:37:55 PM\", \"12-03-01:38:31 PM\", \"12-03-01:39:07 PM\", \"12-03-01:39:43 PM\", \"12-03-01:40:20 PM\", \"12-03-01:40:58 PM\", \"12-03-01:41:35 PM\", \"12-03-01:42:11 PM\", \"12-03-01:42:47 PM\", \"12-03-01:43:23 PM\", \"12-03-01:44:00 PM\", \"12-03-01:44:38 PM\", \"12-03-01:45:14 PM\"], \"y\": [0.2112117576689312, -1.3485856390128745, -0.794039770898532, -0.6702960682395642, 1.3302090706269516, -1.4772685805525942, 1.282151333464017, -0.8071254301155804, 0.8091560137616763, 0.7353514482506597, -0.9021511578228076, 1.300309096455482, 0.331077926414277]}, {\"name\": \"s8 data\", \"type\": \"scatter\", \"x\": [\"12-03-01:37:55 PM\", \"12-03-01:38:31 PM\", \"12-03-01:39:07 PM\", \"12-03-01:39:43 PM\", \"12-03-01:40:20 PM\", \"12-03-01:40:58 PM\", \"12-03-01:41:35 PM\", \"12-03-01:42:11 PM\", \"12-03-01:42:47 PM\", \"12-03-01:43:23 PM\", \"12-03-01:44:00 PM\", \"12-03-01:44:38 PM\", \"12-03-01:45:14 PM\"], \"y\": [-2.1664827541411693, 1.5867229864100592, 1.4676243241573028, -0.656050819619468, 0.5788516770572256, -0.5262081238781944, -0.05464154630698681, 0.5912633183108509, 0.5831923587875436, 0.3056513867645428, 0.09362059352220928, -1.1942706141400425, -0.609272786923869]}, {\"name\": \"s9 data\", \"type\": \"scatter\", \"x\": [\"12-03-01:37:55 PM\", \"12-03-01:38:31 PM\", \"12-03-01:39:07 PM\", \"12-03-01:39:43 PM\", \"12-03-01:40:20 PM\", \"12-03-01:40:58 PM\", \"12-03-01:41:35 PM\", \"12-03-01:42:11 PM\", \"12-03-01:42:47 PM\", \"12-03-01:43:23 PM\", \"12-03-01:44:00 PM\", \"12-03-01:44:38 PM\", \"12-03-01:45:14 PM\"], \"y\": [0.7157369435649943, -1.4528218915816153, 0.010426438035068396, 0.9474506480711774, -0.07250711824375766, 2.5671226554971214, -0.1278202802290008, -1.5147758660351698, -0.22202183846664153, 0.1740791706158476, -0.3219641358643708, -0.08433619577760931, -0.6185685295860901]}, {\"name\": \"s10 data\", \"type\": \"scatter\", \"x\": [\"12-03-01:37:55 PM\", \"12-03-01:38:31 PM\", \"12-03-01:39:07 PM\", \"12-03-01:39:43 PM\", \"12-03-01:40:20 PM\", \"12-03-01:40:58 PM\", \"12-03-01:41:35 PM\", \"12-03-01:42:11 PM\", \"12-03-01:42:47 PM\", \"12-03-01:43:23 PM\", \"12-03-01:44:00 PM\", \"12-03-01:44:38 PM\", \"12-03-01:45:14 PM\"], \"y\": [-0.8755468275449453, -1.4051438130768477, 0.997318574780128, 0.9220506293155633, 0.36137148380927575, 1.2559625477478893, -0.608642507045499, -1.3371351959967503, -0.48249894828334616, -0.7918101358878251, -0.2994758797522775, 1.8516623942717503, 0.4118876776629036]}, {\"name\": \"s11 data\", \"type\": \"scatter\", \"x\": [\"12-03-01:37:55 PM\", \"12-03-01:38:31 PM\", \"12-03-01:39:07 PM\", \"12-03-01:39:43 PM\", \"12-03-01:40:20 PM\", \"12-03-01:40:58 PM\", \"12-03-01:41:35 PM\", \"12-03-01:42:11 PM\", \"12-03-01:42:47 PM\", \"12-03-01:43:23 PM\", \"12-03-01:44:00 PM\", \"12-03-01:44:38 PM\", \"12-03-01:45:14 PM\"], \"y\": [0.7047993834085744, -1.458279956820053, 0.3325123984389434, -0.5129502823735301, -0.7339170730923212, 1.9466185848336741, -0.49628868759258504, -0.24505827782820597, 0.2521226532899017, 1.0275308927027091, -1.3749627185585296, -0.7706256215695856, 1.3284987051610564]}, {\"name\": \"s12 data\", \"type\": \"scatter\", \"x\": [\"12-03-01:37:55 PM\", \"12-03-01:38:31 PM\", \"12-03-01:39:07 PM\", \"12-03-01:39:43 PM\", \"12-03-01:40:20 PM\", \"12-03-01:40:58 PM\", \"12-03-01:41:35 PM\", \"12-03-01:42:11 PM\", \"12-03-01:42:47 PM\", \"12-03-01:43:23 PM\", \"12-03-01:44:00 PM\", \"12-03-01:44:38 PM\", \"12-03-01:45:14 PM\"], \"y\": [0.2729320715347251, -0.14068855315648998, -0.6096633155527306, -1.4440293365043577, -0.15614362389701392, 0.5468594580406051, 2.4747836518420634, 0.8481623443187521, 0.3272411015840806, -1.0205714573728775, 0.04407363627853604, -1.4310318385428051, 0.28807586142746916]}, {\"name\": \"s13 data\", \"type\": \"scatter\", \"x\": [\"12-03-01:37:55 PM\", \"12-03-01:38:31 PM\", \"12-03-01:39:07 PM\", \"12-03-01:39:43 PM\", \"12-03-01:40:20 PM\", \"12-03-01:40:58 PM\", \"12-03-01:41:35 PM\", \"12-03-01:42:11 PM\", \"12-03-01:42:47 PM\", \"12-03-01:43:23 PM\", \"12-03-01:44:00 PM\", \"12-03-01:44:38 PM\", \"12-03-01:45:14 PM\"], \"y\": [0.6785905402470874, -0.5702911248706821, -0.11342753274341524, 0.031651326788273496, -1.052859030963159, -0.6593163616464178, 1.580330775623151, 1.754353317950273, 1.358030594030652, -1.0172289725604857, -0.6896582989844228, -1.3142208512331752, 0.0140456183623963]}, {\"name\": \"s14 data\", \"type\": \"scatter\", \"x\": [\"12-03-01:37:55 PM\", \"12-03-01:38:31 PM\", \"12-03-01:39:07 PM\", \"12-03-01:39:43 PM\", \"12-03-01:40:20 PM\", \"12-03-01:40:58 PM\", \"12-03-01:41:35 PM\", \"12-03-01:42:11 PM\", \"12-03-01:42:47 PM\", \"12-03-01:43:23 PM\", \"12-03-01:44:00 PM\", \"12-03-01:44:38 PM\", \"12-03-01:45:14 PM\"], \"y\": [-0.6597501538846537, 1.1979509040531158, 1.1050800272398549, -1.2720088548271251, 1.5149202576535714, 1.3168103816379622, 0.5577548279296796, -1.4285553455064182, -1.2147564981039476, -0.2720692590927702, -0.5119598010580171, -0.31206992153574814, -0.021346564505537728]}, {\"name\": \"s15 data\", \"type\": \"scatter\", \"x\": [\"12-03-01:37:55 PM\", \"12-03-01:38:31 PM\", \"12-03-01:39:07 PM\", \"12-03-01:39:43 PM\", \"12-03-01:40:20 PM\", \"12-03-01:40:58 PM\", \"12-03-01:41:35 PM\", \"12-03-01:42:11 PM\", \"12-03-01:42:47 PM\", \"12-03-01:43:23 PM\", \"12-03-01:44:00 PM\", \"12-03-01:44:38 PM\", \"12-03-01:45:14 PM\"], \"y\": [1.2634189818915615, -0.8501893548529964, 0.24766372293023733, -1.4478601709333008, -1.0624418696031555, 1.2361758097276572, 1.3263946576952297, 0.022415741257108653, 0.015228119707608123, -1.3182482375934363, 0.9408437805344645, -1.0274335975785376, 0.6540324168175795]}, {\"name\": \"s16 data\", \"type\": \"scatter\", \"x\": [\"12-03-01:37:55 PM\", \"12-03-01:38:31 PM\", \"12-03-01:39:07 PM\", \"12-03-01:39:43 PM\", \"12-03-01:40:20 PM\", \"12-03-01:40:58 PM\", \"12-03-01:41:35 PM\", \"12-03-01:42:11 PM\", \"12-03-01:42:47 PM\", \"12-03-01:43:23 PM\", \"12-03-01:44:00 PM\", \"12-03-01:44:38 PM\", \"12-03-01:45:14 PM\"], \"y\": [0.8632856021506826, -0.17867581765363172, -1.4053515672273016, -0.9056883950639061, 0.5883912618258098, 0.5210569624970155, 0.727239165855872, 1.8580506626131392, 0.13909801991240747, 0.2883457413770291, -1.768095520246447, -1.1808958992847385, 0.4532397832440694]}, {\"name\": \"s17 data\", \"type\": \"scatter\", \"x\": [\"12-03-01:37:55 PM\", \"12-03-01:38:31 PM\", \"12-03-01:39:07 PM\", \"12-03-01:39:43 PM\", \"12-03-01:40:20 PM\", \"12-03-01:40:58 PM\", \"12-03-01:41:35 PM\", \"12-03-01:42:11 PM\", \"12-03-01:42:47 PM\", \"12-03-01:43:23 PM\", \"12-03-01:44:00 PM\", \"12-03-01:44:38 PM\", \"12-03-01:45:14 PM\"], \"y\": [0.5522698928104431, 1.0551814189660729, -0.6403489950336868, 0.20808467101581243, -1.2121116003501513, -0.3713240723362818, 1.3134711305927944, -0.866203058443306, -0.6815404808755026, -0.21185234222312738, -1.4216809408796927, 2.1190640180743063, 0.15699035868227001]}, {\"name\": \"s18 data\", \"type\": \"scatter\", \"x\": [\"12-03-01:37:55 PM\", \"12-03-01:38:31 PM\", \"12-03-01:39:07 PM\", \"12-03-01:39:43 PM\", \"12-03-01:40:20 PM\", \"12-03-01:40:58 PM\", \"12-03-01:41:35 PM\", \"12-03-01:42:11 PM\", \"12-03-01:42:47 PM\", \"12-03-01:43:23 PM\", \"12-03-01:44:00 PM\", \"12-03-01:44:38 PM\", \"12-03-01:45:14 PM\"], \"y\": [0.09280759001404099, -0.769717259880233, 1.284104125337831, 0.5019851282464804, -0.49829353847714275, 0.47232555287957906, 1.9897680836366465, -1.9006332287302252, 0.41365081699411765, 0.14341861162351296, -0.812912361215235, -1.2271946342724007, 0.3106911138429348]}, {\"name\": \"s19 data\", \"type\": \"scatter\", \"x\": [\"12-03-01:37:55 PM\", \"12-03-01:38:31 PM\", \"12-03-01:39:07 PM\", \"12-03-01:39:43 PM\", \"12-03-01:40:20 PM\", \"12-03-01:40:58 PM\", \"12-03-01:41:35 PM\", \"12-03-01:42:11 PM\", \"12-03-01:42:47 PM\", \"12-03-01:43:23 PM\", \"12-03-01:44:00 PM\", \"12-03-01:44:38 PM\", \"12-03-01:45:14 PM\"], \"y\": [0.2997157795361942, -0.21347839481965702, -1.2746859917808127, -0.029420834927786323, 0.5019129429912234, -0.9876921354162759, -1.0089126607329817, 0.048102581052153696, -1.2421872239171274, 1.1130354398017719, 1.4704748719598408, 1.920876990803553, -0.5977413645500923]}, {\"name\": \"s20 data\", \"type\": \"scatter\", \"x\": [\"12-03-01:37:55 PM\", \"12-03-01:38:31 PM\", \"12-03-01:39:07 PM\", \"12-03-01:39:43 PM\", \"12-03-01:40:20 PM\", \"12-03-01:40:58 PM\", \"12-03-01:41:35 PM\", \"12-03-01:42:11 PM\", \"12-03-01:42:47 PM\", \"12-03-01:43:23 PM\", \"12-03-01:44:00 PM\", \"12-03-01:44:38 PM\", \"12-03-01:45:14 PM\"], \"y\": [-1.1684975064578647, -1.0046545921066996, -1.6013408556987694, 0.39267733253617904, -0.6294631487689171, 0.6168729892200516, -0.11375197397446542, 0.9941961039500483, 1.9138111489901521, 0.7802737761247645, 0.9930807620579807, -0.284311078117818, -0.8888929577546388]}, {\"name\": \"s21 data\", \"type\": \"scatter\", \"x\": [\"12-03-01:37:55 PM\", \"12-03-01:38:31 PM\", \"12-03-01:39:07 PM\", \"12-03-01:39:43 PM\", \"12-03-01:40:20 PM\", \"12-03-01:40:58 PM\", \"12-03-01:41:35 PM\", \"12-03-01:42:11 PM\", \"12-03-01:42:47 PM\", \"12-03-01:43:23 PM\", \"12-03-01:44:00 PM\", \"12-03-01:44:38 PM\", \"12-03-01:45:14 PM\"], \"y\": [0.7952235532189161, 0.9542778001353327, 0.6392748836629507, -0.7715069229791529, 1.6286949166533244, 1.2729305131541524, -0.10410158043197888, -0.7424328007038982, -0.41100605711639754, 0.5452007918656403, -0.8857722922542437, -1.6859869613740937, -1.234795843830427]}],                        {\"legend\": {\"orientation\": \"v\"}, \"template\": {\"data\": {\"bar\": [{\"error_x\": {\"color\": \"#2a3f5f\"}, \"error_y\": {\"color\": \"#2a3f5f\"}, \"marker\": {\"line\": {\"color\": \"#E5ECF6\", \"width\": 0.5}}, \"type\": \"bar\"}], \"barpolar\": [{\"marker\": {\"line\": {\"color\": \"#E5ECF6\", \"width\": 0.5}}, \"type\": \"barpolar\"}], \"carpet\": [{\"aaxis\": {\"endlinecolor\": \"#2a3f5f\", \"gridcolor\": \"white\", \"linecolor\": \"white\", \"minorgridcolor\": \"white\", \"startlinecolor\": \"#2a3f5f\"}, \"baxis\": {\"endlinecolor\": \"#2a3f5f\", \"gridcolor\": \"white\", \"linecolor\": \"white\", \"minorgridcolor\": \"white\", \"startlinecolor\": \"#2a3f5f\"}, \"type\": \"carpet\"}], \"choropleth\": [{\"colorbar\": {\"outlinewidth\": 0, \"ticks\": \"\"}, \"type\": \"choropleth\"}], \"contour\": [{\"colorbar\": {\"outlinewidth\": 0, \"ticks\": \"\"}, \"colorscale\": [[0.0, \"#0d0887\"], [0.1111111111111111, \"#46039f\"], [0.2222222222222222, \"#7201a8\"], [0.3333333333333333, \"#9c179e\"], [0.4444444444444444, \"#bd3786\"], [0.5555555555555556, \"#d8576b\"], [0.6666666666666666, \"#ed7953\"], [0.7777777777777778, \"#fb9f3a\"], [0.8888888888888888, \"#fdca26\"], [1.0, \"#f0f921\"]], \"type\": \"contour\"}], \"contourcarpet\": [{\"colorbar\": {\"outlinewidth\": 0, \"ticks\": \"\"}, \"type\": \"contourcarpet\"}], \"heatmap\": [{\"colorbar\": {\"outlinewidth\": 0, \"ticks\": \"\"}, \"colorscale\": [[0.0, \"#0d0887\"], [0.1111111111111111, \"#46039f\"], [0.2222222222222222, \"#7201a8\"], [0.3333333333333333, \"#9c179e\"], [0.4444444444444444, \"#bd3786\"], [0.5555555555555556, \"#d8576b\"], [0.6666666666666666, \"#ed7953\"], [0.7777777777777778, \"#fb9f3a\"], [0.8888888888888888, \"#fdca26\"], [1.0, \"#f0f921\"]], \"type\": \"heatmap\"}], \"heatmapgl\": [{\"colorbar\": {\"outlinewidth\": 0, \"ticks\": \"\"}, \"colorscale\": [[0.0, \"#0d0887\"], [0.1111111111111111, \"#46039f\"], [0.2222222222222222, \"#7201a8\"], [0.3333333333333333, \"#9c179e\"], [0.4444444444444444, \"#bd3786\"], [0.5555555555555556, \"#d8576b\"], [0.6666666666666666, \"#ed7953\"], [0.7777777777777778, \"#fb9f3a\"], [0.8888888888888888, \"#fdca26\"], [1.0, \"#f0f921\"]], \"type\": \"heatmapgl\"}], \"histogram\": [{\"marker\": {\"colorbar\": {\"outlinewidth\": 0, \"ticks\": \"\"}}, \"type\": \"histogram\"}], \"histogram2d\": [{\"colorbar\": {\"outlinewidth\": 0, \"ticks\": \"\"}, \"colorscale\": [[0.0, \"#0d0887\"], [0.1111111111111111, \"#46039f\"], [0.2222222222222222, \"#7201a8\"], [0.3333333333333333, \"#9c179e\"], [0.4444444444444444, \"#bd3786\"], [0.5555555555555556, \"#d8576b\"], [0.6666666666666666, \"#ed7953\"], [0.7777777777777778, \"#fb9f3a\"], [0.8888888888888888, \"#fdca26\"], [1.0, \"#f0f921\"]], \"type\": \"histogram2d\"}], \"histogram2dcontour\": [{\"colorbar\": {\"outlinewidth\": 0, \"ticks\": \"\"}, \"colorscale\": [[0.0, \"#0d0887\"], [0.1111111111111111, \"#46039f\"], [0.2222222222222222, \"#7201a8\"], [0.3333333333333333, \"#9c179e\"], [0.4444444444444444, \"#bd3786\"], [0.5555555555555556, \"#d8576b\"], [0.6666666666666666, \"#ed7953\"], [0.7777777777777778, \"#fb9f3a\"], [0.8888888888888888, \"#fdca26\"], [1.0, \"#f0f921\"]], \"type\": \"histogram2dcontour\"}], \"mesh3d\": [{\"colorbar\": {\"outlinewidth\": 0, \"ticks\": \"\"}, \"type\": \"mesh3d\"}], \"parcoords\": [{\"line\": {\"colorbar\": {\"outlinewidth\": 0, \"ticks\": \"\"}}, \"type\": \"parcoords\"}], \"pie\": [{\"automargin\": true, \"type\": \"pie\"}], \"scatter\": [{\"marker\": {\"colorbar\": {\"outlinewidth\": 0, \"ticks\": \"\"}}, \"type\": \"scatter\"}], \"scatter3d\": [{\"line\": {\"colorbar\": {\"outlinewidth\": 0, \"ticks\": \"\"}}, \"marker\": {\"colorbar\": {\"outlinewidth\": 0, \"ticks\": \"\"}}, \"type\": \"scatter3d\"}], \"scattercarpet\": [{\"marker\": {\"colorbar\": {\"outlinewidth\": 0, \"ticks\": \"\"}}, \"type\": \"scattercarpet\"}], \"scattergeo\": [{\"marker\": {\"colorbar\": {\"outlinewidth\": 0, \"ticks\": \"\"}}, \"type\": \"scattergeo\"}], \"scattergl\": [{\"marker\": {\"colorbar\": {\"outlinewidth\": 0, \"ticks\": \"\"}}, \"type\": \"scattergl\"}], \"scattermapbox\": [{\"marker\": {\"colorbar\": {\"outlinewidth\": 0, \"ticks\": \"\"}}, \"type\": \"scattermapbox\"}], \"scatterpolar\": [{\"marker\": {\"colorbar\": {\"outlinewidth\": 0, \"ticks\": \"\"}}, \"type\": \"scatterpolar\"}], \"scatterpolargl\": [{\"marker\": {\"colorbar\": {\"outlinewidth\": 0, \"ticks\": \"\"}}, \"type\": \"scatterpolargl\"}], \"scatterternary\": [{\"marker\": {\"colorbar\": {\"outlinewidth\": 0, \"ticks\": \"\"}}, \"type\": \"scatterternary\"}], \"surface\": [{\"colorbar\": {\"outlinewidth\": 0, \"ticks\": \"\"}, \"colorscale\": [[0.0, \"#0d0887\"], [0.1111111111111111, \"#46039f\"], [0.2222222222222222, \"#7201a8\"], [0.3333333333333333, \"#9c179e\"], [0.4444444444444444, \"#bd3786\"], [0.5555555555555556, \"#d8576b\"], [0.6666666666666666, \"#ed7953\"], [0.7777777777777778, \"#fb9f3a\"], [0.8888888888888888, \"#fdca26\"], [1.0, \"#f0f921\"]], \"type\": \"surface\"}], \"table\": [{\"cells\": {\"fill\": {\"color\": \"#EBF0F8\"}, \"line\": {\"color\": \"white\"}}, \"header\": {\"fill\": {\"color\": \"#C8D4E3\"}, \"line\": {\"color\": \"white\"}}, \"type\": \"table\"}]}, \"layout\": {\"annotationdefaults\": {\"arrowcolor\": \"#2a3f5f\", \"arrowhead\": 0, \"arrowwidth\": 1}, \"coloraxis\": {\"colorbar\": {\"outlinewidth\": 0, \"ticks\": \"\"}}, \"colorscale\": {\"diverging\": [[0, \"#8e0152\"], [0.1, \"#c51b7d\"], [0.2, \"#de77ae\"], [0.3, \"#f1b6da\"], [0.4, \"#fde0ef\"], [0.5, \"#f7f7f7\"], [0.6, \"#e6f5d0\"], [0.7, \"#b8e186\"], [0.8, \"#7fbc41\"], [0.9, \"#4d9221\"], [1, \"#276419\"]], \"sequential\": [[0.0, \"#0d0887\"], [0.1111111111111111, \"#46039f\"], [0.2222222222222222, \"#7201a8\"], [0.3333333333333333, \"#9c179e\"], [0.4444444444444444, \"#bd3786\"], [0.5555555555555556, \"#d8576b\"], [0.6666666666666666, \"#ed7953\"], [0.7777777777777778, \"#fb9f3a\"], [0.8888888888888888, \"#fdca26\"], [1.0, \"#f0f921\"]], \"sequentialminus\": [[0.0, \"#0d0887\"], [0.1111111111111111, \"#46039f\"], [0.2222222222222222, \"#7201a8\"], [0.3333333333333333, \"#9c179e\"], [0.4444444444444444, \"#bd3786\"], [0.5555555555555556, \"#d8576b\"], [0.6666666666666666, \"#ed7953\"], [0.7777777777777778, \"#fb9f3a\"], [0.8888888888888888, \"#fdca26\"], [1.0, \"#f0f921\"]]}, \"colorway\": [\"#636efa\", \"#EF553B\", \"#00cc96\", \"#ab63fa\", \"#FFA15A\", \"#19d3f3\", \"#FF6692\", \"#B6E880\", \"#FF97FF\", \"#FECB52\"], \"font\": {\"color\": \"#2a3f5f\"}, \"geo\": {\"bgcolor\": \"white\", \"lakecolor\": \"white\", \"landcolor\": \"#E5ECF6\", \"showlakes\": true, \"showland\": true, \"subunitcolor\": \"white\"}, \"hoverlabel\": {\"align\": \"left\"}, \"hovermode\": \"closest\", \"mapbox\": {\"style\": \"light\"}, \"paper_bgcolor\": \"white\", \"plot_bgcolor\": \"#E5ECF6\", \"polar\": {\"angularaxis\": {\"gridcolor\": \"white\", \"linecolor\": \"white\", \"ticks\": \"\"}, \"bgcolor\": \"#E5ECF6\", \"radialaxis\": {\"gridcolor\": \"white\", \"linecolor\": \"white\", \"ticks\": \"\"}}, \"scene\": {\"xaxis\": {\"backgroundcolor\": \"#E5ECF6\", \"gridcolor\": \"white\", \"gridwidth\": 2, \"linecolor\": \"white\", \"showbackground\": true, \"ticks\": \"\", \"zerolinecolor\": \"white\"}, \"yaxis\": {\"backgroundcolor\": \"#E5ECF6\", \"gridcolor\": \"white\", \"gridwidth\": 2, \"linecolor\": \"white\", \"showbackground\": true, \"ticks\": \"\", \"zerolinecolor\": \"white\"}, \"zaxis\": {\"backgroundcolor\": \"#E5ECF6\", \"gridcolor\": \"white\", \"gridwidth\": 2, \"linecolor\": \"white\", \"showbackground\": true, \"ticks\": \"\", \"zerolinecolor\": \"white\"}}, \"shapedefaults\": {\"line\": {\"color\": \"#2a3f5f\"}}, \"ternary\": {\"aaxis\": {\"gridcolor\": \"white\", \"linecolor\": \"white\", \"ticks\": \"\"}, \"baxis\": {\"gridcolor\": \"white\", \"linecolor\": \"white\", \"ticks\": \"\"}, \"bgcolor\": \"#E5ECF6\", \"caxis\": {\"gridcolor\": \"white\", \"linecolor\": \"white\", \"ticks\": \"\"}}, \"title\": {\"x\": 0.05}, \"xaxis\": {\"automargin\": true, \"gridcolor\": \"white\", \"linecolor\": \"white\", \"ticks\": \"\", \"title\": {\"standoff\": 15}, \"zerolinecolor\": \"white\", \"zerolinewidth\": 2}, \"yaxis\": {\"automargin\": true, \"gridcolor\": \"white\", \"linecolor\": \"white\", \"ticks\": \"\", \"title\": {\"standoff\": 15}, \"zerolinecolor\": \"white\", \"zerolinewidth\": 2}}}, \"title\": {\"text\": \"Trends of value by data channel\"}, \"xaxis\": {\"title\": {\"text\": \"Time\"}}, \"yaxis\": {\"title\": {\"text\": \"Value\"}}},                        {\"responsive\": true}                    ).then(function(){\n",
       "                            \n",
       "var gd = document.getElementById('c9bac41f-6d09-4092-a61f-c0ab5cfdf3b0');\n",
       "var x = new MutationObserver(function (mutations, observer) {{\n",
       "        var display = window.getComputedStyle(gd).display;\n",
       "        if (!display || display === 'none') {{\n",
       "            console.log([gd, 'removed!']);\n",
       "            Plotly.purge(gd);\n",
       "            observer.disconnect();\n",
       "        }}\n",
       "}});\n",
       "\n",
       "// Listen for the removal of the full notebook cells\n",
       "var notebookContainer = gd.closest('#notebook-container');\n",
       "if (notebookContainer) {{\n",
       "    x.observe(notebookContainer, {childList: true});\n",
       "}}\n",
       "\n",
       "// Listen for the clearing of the current output cell\n",
       "var outputEl = gd.closest('.output');\n",
       "if (outputEl) {{\n",
       "    x.observe(outputEl, {childList: true});\n",
       "}}\n",
       "\n",
       "                        })                };                });            </script>        </div>"
      ]
     },
     "metadata": {},
     "output_type": "display_data"
    }
   ],
   "source": [
    "data = []\n",
    "#market_train_df['close'] = market_train_df['close'] / 20\n",
    "\n",
    "for col in df.columns[8:]:\n",
    "#     price_df = df[col]\n",
    "#     print(price_df.groups)\n",
    "\n",
    "    data.append(go.Scatter(\n",
    "        x = one_data['time'].dt.strftime(date_format='%m-%d-%r').values,\n",
    "        y = (one_data[col].values - one_data[col].values.mean()) / one_data[col].values.std(),\n",
    "        name = f'{col} data'\n",
    "    ))\n",
    "    \n",
    "    \n",
    "layout = go.Layout(dict(title = \"Trends of value by data channel\",\n",
    "                  xaxis = dict(title = 'Time'),\n",
    "                  yaxis = dict(title = 'Value'),\n",
    "                  ),legend=dict(\n",
    "                orientation=\"v\"))\n",
    "py.iplot(dict(data=data, layout=layout), filename='basic-line')"
   ]
  },
  {
   "cell_type": "code",
   "execution_count": 101,
   "metadata": {},
   "outputs": [
    {
     "data": {
      "application/vnd.plotly.v1+json": {
       "config": {
        "linkText": "Export to plot.ly",
        "plotlyServerURL": "https://plot.ly",
        "showLink": false
       },
       "data": [
        {
         "name": "setting1 data",
         "type": "scatter",
         "x": [
          "03-01:37:55 PM",
          "03-01:38:31 PM",
          "03-01:39:07 PM",
          "03-01:39:43 PM",
          "03-01:40:20 PM",
          "03-01:40:58 PM",
          "03-01:41:35 PM",
          "03-01:42:11 PM",
          "03-01:42:47 PM",
          "03-01:43:23 PM",
          "03-01:44:00 PM",
          "03-01:44:38 PM",
          "03-01:45:14 PM"
         ],
         "y": [
          -0.0006,
          -0.0031,
          0.0013,
          0,
          -0.0006,
          -0.0003,
          -0.0007,
          0.0026,
          -0.0042,
          -0.0016,
          0.0056,
          0.0032,
          -0.0008
         ]
        },
        {
         "name": "setting2 data",
         "type": "scatter",
         "x": [
          "03-01:37:55 PM",
          "03-01:38:31 PM",
          "03-01:39:07 PM",
          "03-01:39:43 PM",
          "03-01:40:20 PM",
          "03-01:40:58 PM",
          "03-01:41:35 PM",
          "03-01:42:11 PM",
          "03-01:42:47 PM",
          "03-01:43:23 PM",
          "03-01:44:00 PM",
          "03-01:44:38 PM",
          "03-01:45:14 PM"
         ],
         "y": [
          0.0001,
          -0.0004,
          -0.0004,
          -0.0004,
          -0.0002,
          0.0005,
          -0.0004,
          0.0004,
          0.0002,
          0.0002,
          0.0004,
          0.0005,
          -0.0003
         ]
        }
       ],
       "layout": {
        "legend": {
         "orientation": "v"
        },
        "template": {
         "data": {
          "bar": [
           {
            "error_x": {
             "color": "#2a3f5f"
            },
            "error_y": {
             "color": "#2a3f5f"
            },
            "marker": {
             "line": {
              "color": "#E5ECF6",
              "width": 0.5
             }
            },
            "type": "bar"
           }
          ],
          "barpolar": [
           {
            "marker": {
             "line": {
              "color": "#E5ECF6",
              "width": 0.5
             }
            },
            "type": "barpolar"
           }
          ],
          "carpet": [
           {
            "aaxis": {
             "endlinecolor": "#2a3f5f",
             "gridcolor": "white",
             "linecolor": "white",
             "minorgridcolor": "white",
             "startlinecolor": "#2a3f5f"
            },
            "baxis": {
             "endlinecolor": "#2a3f5f",
             "gridcolor": "white",
             "linecolor": "white",
             "minorgridcolor": "white",
             "startlinecolor": "#2a3f5f"
            },
            "type": "carpet"
           }
          ],
          "choropleth": [
           {
            "colorbar": {
             "outlinewidth": 0,
             "ticks": ""
            },
            "type": "choropleth"
           }
          ],
          "contour": [
           {
            "colorbar": {
             "outlinewidth": 0,
             "ticks": ""
            },
            "colorscale": [
             [
              0,
              "#0d0887"
             ],
             [
              0.1111111111111111,
              "#46039f"
             ],
             [
              0.2222222222222222,
              "#7201a8"
             ],
             [
              0.3333333333333333,
              "#9c179e"
             ],
             [
              0.4444444444444444,
              "#bd3786"
             ],
             [
              0.5555555555555556,
              "#d8576b"
             ],
             [
              0.6666666666666666,
              "#ed7953"
             ],
             [
              0.7777777777777778,
              "#fb9f3a"
             ],
             [
              0.8888888888888888,
              "#fdca26"
             ],
             [
              1,
              "#f0f921"
             ]
            ],
            "type": "contour"
           }
          ],
          "contourcarpet": [
           {
            "colorbar": {
             "outlinewidth": 0,
             "ticks": ""
            },
            "type": "contourcarpet"
           }
          ],
          "heatmap": [
           {
            "colorbar": {
             "outlinewidth": 0,
             "ticks": ""
            },
            "colorscale": [
             [
              0,
              "#0d0887"
             ],
             [
              0.1111111111111111,
              "#46039f"
             ],
             [
              0.2222222222222222,
              "#7201a8"
             ],
             [
              0.3333333333333333,
              "#9c179e"
             ],
             [
              0.4444444444444444,
              "#bd3786"
             ],
             [
              0.5555555555555556,
              "#d8576b"
             ],
             [
              0.6666666666666666,
              "#ed7953"
             ],
             [
              0.7777777777777778,
              "#fb9f3a"
             ],
             [
              0.8888888888888888,
              "#fdca26"
             ],
             [
              1,
              "#f0f921"
             ]
            ],
            "type": "heatmap"
           }
          ],
          "heatmapgl": [
           {
            "colorbar": {
             "outlinewidth": 0,
             "ticks": ""
            },
            "colorscale": [
             [
              0,
              "#0d0887"
             ],
             [
              0.1111111111111111,
              "#46039f"
             ],
             [
              0.2222222222222222,
              "#7201a8"
             ],
             [
              0.3333333333333333,
              "#9c179e"
             ],
             [
              0.4444444444444444,
              "#bd3786"
             ],
             [
              0.5555555555555556,
              "#d8576b"
             ],
             [
              0.6666666666666666,
              "#ed7953"
             ],
             [
              0.7777777777777778,
              "#fb9f3a"
             ],
             [
              0.8888888888888888,
              "#fdca26"
             ],
             [
              1,
              "#f0f921"
             ]
            ],
            "type": "heatmapgl"
           }
          ],
          "histogram": [
           {
            "marker": {
             "colorbar": {
              "outlinewidth": 0,
              "ticks": ""
             }
            },
            "type": "histogram"
           }
          ],
          "histogram2d": [
           {
            "colorbar": {
             "outlinewidth": 0,
             "ticks": ""
            },
            "colorscale": [
             [
              0,
              "#0d0887"
             ],
             [
              0.1111111111111111,
              "#46039f"
             ],
             [
              0.2222222222222222,
              "#7201a8"
             ],
             [
              0.3333333333333333,
              "#9c179e"
             ],
             [
              0.4444444444444444,
              "#bd3786"
             ],
             [
              0.5555555555555556,
              "#d8576b"
             ],
             [
              0.6666666666666666,
              "#ed7953"
             ],
             [
              0.7777777777777778,
              "#fb9f3a"
             ],
             [
              0.8888888888888888,
              "#fdca26"
             ],
             [
              1,
              "#f0f921"
             ]
            ],
            "type": "histogram2d"
           }
          ],
          "histogram2dcontour": [
           {
            "colorbar": {
             "outlinewidth": 0,
             "ticks": ""
            },
            "colorscale": [
             [
              0,
              "#0d0887"
             ],
             [
              0.1111111111111111,
              "#46039f"
             ],
             [
              0.2222222222222222,
              "#7201a8"
             ],
             [
              0.3333333333333333,
              "#9c179e"
             ],
             [
              0.4444444444444444,
              "#bd3786"
             ],
             [
              0.5555555555555556,
              "#d8576b"
             ],
             [
              0.6666666666666666,
              "#ed7953"
             ],
             [
              0.7777777777777778,
              "#fb9f3a"
             ],
             [
              0.8888888888888888,
              "#fdca26"
             ],
             [
              1,
              "#f0f921"
             ]
            ],
            "type": "histogram2dcontour"
           }
          ],
          "mesh3d": [
           {
            "colorbar": {
             "outlinewidth": 0,
             "ticks": ""
            },
            "type": "mesh3d"
           }
          ],
          "parcoords": [
           {
            "line": {
             "colorbar": {
              "outlinewidth": 0,
              "ticks": ""
             }
            },
            "type": "parcoords"
           }
          ],
          "pie": [
           {
            "automargin": true,
            "type": "pie"
           }
          ],
          "scatter": [
           {
            "marker": {
             "colorbar": {
              "outlinewidth": 0,
              "ticks": ""
             }
            },
            "type": "scatter"
           }
          ],
          "scatter3d": [
           {
            "line": {
             "colorbar": {
              "outlinewidth": 0,
              "ticks": ""
             }
            },
            "marker": {
             "colorbar": {
              "outlinewidth": 0,
              "ticks": ""
             }
            },
            "type": "scatter3d"
           }
          ],
          "scattercarpet": [
           {
            "marker": {
             "colorbar": {
              "outlinewidth": 0,
              "ticks": ""
             }
            },
            "type": "scattercarpet"
           }
          ],
          "scattergeo": [
           {
            "marker": {
             "colorbar": {
              "outlinewidth": 0,
              "ticks": ""
             }
            },
            "type": "scattergeo"
           }
          ],
          "scattergl": [
           {
            "marker": {
             "colorbar": {
              "outlinewidth": 0,
              "ticks": ""
             }
            },
            "type": "scattergl"
           }
          ],
          "scattermapbox": [
           {
            "marker": {
             "colorbar": {
              "outlinewidth": 0,
              "ticks": ""
             }
            },
            "type": "scattermapbox"
           }
          ],
          "scatterpolar": [
           {
            "marker": {
             "colorbar": {
              "outlinewidth": 0,
              "ticks": ""
             }
            },
            "type": "scatterpolar"
           }
          ],
          "scatterpolargl": [
           {
            "marker": {
             "colorbar": {
              "outlinewidth": 0,
              "ticks": ""
             }
            },
            "type": "scatterpolargl"
           }
          ],
          "scatterternary": [
           {
            "marker": {
             "colorbar": {
              "outlinewidth": 0,
              "ticks": ""
             }
            },
            "type": "scatterternary"
           }
          ],
          "surface": [
           {
            "colorbar": {
             "outlinewidth": 0,
             "ticks": ""
            },
            "colorscale": [
             [
              0,
              "#0d0887"
             ],
             [
              0.1111111111111111,
              "#46039f"
             ],
             [
              0.2222222222222222,
              "#7201a8"
             ],
             [
              0.3333333333333333,
              "#9c179e"
             ],
             [
              0.4444444444444444,
              "#bd3786"
             ],
             [
              0.5555555555555556,
              "#d8576b"
             ],
             [
              0.6666666666666666,
              "#ed7953"
             ],
             [
              0.7777777777777778,
              "#fb9f3a"
             ],
             [
              0.8888888888888888,
              "#fdca26"
             ],
             [
              1,
              "#f0f921"
             ]
            ],
            "type": "surface"
           }
          ],
          "table": [
           {
            "cells": {
             "fill": {
              "color": "#EBF0F8"
             },
             "line": {
              "color": "white"
             }
            },
            "header": {
             "fill": {
              "color": "#C8D4E3"
             },
             "line": {
              "color": "white"
             }
            },
            "type": "table"
           }
          ]
         },
         "layout": {
          "annotationdefaults": {
           "arrowcolor": "#2a3f5f",
           "arrowhead": 0,
           "arrowwidth": 1
          },
          "coloraxis": {
           "colorbar": {
            "outlinewidth": 0,
            "ticks": ""
           }
          },
          "colorscale": {
           "diverging": [
            [
             0,
             "#8e0152"
            ],
            [
             0.1,
             "#c51b7d"
            ],
            [
             0.2,
             "#de77ae"
            ],
            [
             0.3,
             "#f1b6da"
            ],
            [
             0.4,
             "#fde0ef"
            ],
            [
             0.5,
             "#f7f7f7"
            ],
            [
             0.6,
             "#e6f5d0"
            ],
            [
             0.7,
             "#b8e186"
            ],
            [
             0.8,
             "#7fbc41"
            ],
            [
             0.9,
             "#4d9221"
            ],
            [
             1,
             "#276419"
            ]
           ],
           "sequential": [
            [
             0,
             "#0d0887"
            ],
            [
             0.1111111111111111,
             "#46039f"
            ],
            [
             0.2222222222222222,
             "#7201a8"
            ],
            [
             0.3333333333333333,
             "#9c179e"
            ],
            [
             0.4444444444444444,
             "#bd3786"
            ],
            [
             0.5555555555555556,
             "#d8576b"
            ],
            [
             0.6666666666666666,
             "#ed7953"
            ],
            [
             0.7777777777777778,
             "#fb9f3a"
            ],
            [
             0.8888888888888888,
             "#fdca26"
            ],
            [
             1,
             "#f0f921"
            ]
           ],
           "sequentialminus": [
            [
             0,
             "#0d0887"
            ],
            [
             0.1111111111111111,
             "#46039f"
            ],
            [
             0.2222222222222222,
             "#7201a8"
            ],
            [
             0.3333333333333333,
             "#9c179e"
            ],
            [
             0.4444444444444444,
             "#bd3786"
            ],
            [
             0.5555555555555556,
             "#d8576b"
            ],
            [
             0.6666666666666666,
             "#ed7953"
            ],
            [
             0.7777777777777778,
             "#fb9f3a"
            ],
            [
             0.8888888888888888,
             "#fdca26"
            ],
            [
             1,
             "#f0f921"
            ]
           ]
          },
          "colorway": [
           "#636efa",
           "#EF553B",
           "#00cc96",
           "#ab63fa",
           "#FFA15A",
           "#19d3f3",
           "#FF6692",
           "#B6E880",
           "#FF97FF",
           "#FECB52"
          ],
          "font": {
           "color": "#2a3f5f"
          },
          "geo": {
           "bgcolor": "white",
           "lakecolor": "white",
           "landcolor": "#E5ECF6",
           "showlakes": true,
           "showland": true,
           "subunitcolor": "white"
          },
          "hoverlabel": {
           "align": "left"
          },
          "hovermode": "closest",
          "mapbox": {
           "style": "light"
          },
          "paper_bgcolor": "white",
          "plot_bgcolor": "#E5ECF6",
          "polar": {
           "angularaxis": {
            "gridcolor": "white",
            "linecolor": "white",
            "ticks": ""
           },
           "bgcolor": "#E5ECF6",
           "radialaxis": {
            "gridcolor": "white",
            "linecolor": "white",
            "ticks": ""
           }
          },
          "scene": {
           "xaxis": {
            "backgroundcolor": "#E5ECF6",
            "gridcolor": "white",
            "gridwidth": 2,
            "linecolor": "white",
            "showbackground": true,
            "ticks": "",
            "zerolinecolor": "white"
           },
           "yaxis": {
            "backgroundcolor": "#E5ECF6",
            "gridcolor": "white",
            "gridwidth": 2,
            "linecolor": "white",
            "showbackground": true,
            "ticks": "",
            "zerolinecolor": "white"
           },
           "zaxis": {
            "backgroundcolor": "#E5ECF6",
            "gridcolor": "white",
            "gridwidth": 2,
            "linecolor": "white",
            "showbackground": true,
            "ticks": "",
            "zerolinecolor": "white"
           }
          },
          "shapedefaults": {
           "line": {
            "color": "#2a3f5f"
           }
          },
          "ternary": {
           "aaxis": {
            "gridcolor": "white",
            "linecolor": "white",
            "ticks": ""
           },
           "baxis": {
            "gridcolor": "white",
            "linecolor": "white",
            "ticks": ""
           },
           "bgcolor": "#E5ECF6",
           "caxis": {
            "gridcolor": "white",
            "linecolor": "white",
            "ticks": ""
           }
          },
          "title": {
           "x": 0.05
          },
          "xaxis": {
           "automargin": true,
           "gridcolor": "white",
           "linecolor": "white",
           "ticks": "",
           "title": {
            "standoff": 15
           },
           "zerolinecolor": "white",
           "zerolinewidth": 2
          },
          "yaxis": {
           "automargin": true,
           "gridcolor": "white",
           "linecolor": "white",
           "ticks": "",
           "title": {
            "standoff": 15
           },
           "zerolinecolor": "white",
           "zerolinewidth": 2
          }
         }
        },
        "title": {
         "text": "Trends of value by data channel"
        },
        "xaxis": {
         "title": {
          "text": "Time"
         }
        },
        "yaxis": {
         "title": {
          "text": "Value"
         }
        }
       }
      },
      "text/html": [
       "<div>                            <div id=\"bd9e914b-e9e2-4f46-a057-fbe44dbbf9bb\" class=\"plotly-graph-div\" style=\"height:525px; width:100%;\"></div>            <script type=\"text/javascript\">                require([\"plotly\"], function(Plotly) {                    window.PLOTLYENV=window.PLOTLYENV || {};                                    if (document.getElementById(\"bd9e914b-e9e2-4f46-a057-fbe44dbbf9bb\")) {                    Plotly.newPlot(                        \"bd9e914b-e9e2-4f46-a057-fbe44dbbf9bb\",                        [{\"name\": \"setting1 data\", \"type\": \"scatter\", \"x\": [\"03-01:37:55 PM\", \"03-01:38:31 PM\", \"03-01:39:07 PM\", \"03-01:39:43 PM\", \"03-01:40:20 PM\", \"03-01:40:58 PM\", \"03-01:41:35 PM\", \"03-01:42:11 PM\", \"03-01:42:47 PM\", \"03-01:43:23 PM\", \"03-01:44:00 PM\", \"03-01:44:38 PM\", \"03-01:45:14 PM\"], \"y\": [-0.0006, -0.0031, 0.0013, -0.0, -0.0006, -0.0003, -0.0007, 0.0026, -0.0042, -0.0016, 0.0056, 0.0032, -0.0008]}, {\"name\": \"setting2 data\", \"type\": \"scatter\", \"x\": [\"03-01:37:55 PM\", \"03-01:38:31 PM\", \"03-01:39:07 PM\", \"03-01:39:43 PM\", \"03-01:40:20 PM\", \"03-01:40:58 PM\", \"03-01:41:35 PM\", \"03-01:42:11 PM\", \"03-01:42:47 PM\", \"03-01:43:23 PM\", \"03-01:44:00 PM\", \"03-01:44:38 PM\", \"03-01:45:14 PM\"], \"y\": [0.0001, -0.0004, -0.0004, -0.0004, -0.0002, 0.0005, -0.0004, 0.0004, 0.0002, 0.0002, 0.0004, 0.0005, -0.0003]}],                        {\"legend\": {\"orientation\": \"v\"}, \"template\": {\"data\": {\"bar\": [{\"error_x\": {\"color\": \"#2a3f5f\"}, \"error_y\": {\"color\": \"#2a3f5f\"}, \"marker\": {\"line\": {\"color\": \"#E5ECF6\", \"width\": 0.5}}, \"type\": \"bar\"}], \"barpolar\": [{\"marker\": {\"line\": {\"color\": \"#E5ECF6\", \"width\": 0.5}}, \"type\": \"barpolar\"}], \"carpet\": [{\"aaxis\": {\"endlinecolor\": \"#2a3f5f\", \"gridcolor\": \"white\", \"linecolor\": \"white\", \"minorgridcolor\": \"white\", \"startlinecolor\": \"#2a3f5f\"}, \"baxis\": {\"endlinecolor\": \"#2a3f5f\", \"gridcolor\": \"white\", \"linecolor\": \"white\", \"minorgridcolor\": \"white\", \"startlinecolor\": \"#2a3f5f\"}, \"type\": \"carpet\"}], \"choropleth\": [{\"colorbar\": {\"outlinewidth\": 0, \"ticks\": \"\"}, \"type\": \"choropleth\"}], \"contour\": [{\"colorbar\": {\"outlinewidth\": 0, \"ticks\": \"\"}, \"colorscale\": [[0.0, \"#0d0887\"], [0.1111111111111111, \"#46039f\"], [0.2222222222222222, \"#7201a8\"], [0.3333333333333333, \"#9c179e\"], [0.4444444444444444, \"#bd3786\"], [0.5555555555555556, \"#d8576b\"], [0.6666666666666666, \"#ed7953\"], [0.7777777777777778, \"#fb9f3a\"], [0.8888888888888888, \"#fdca26\"], [1.0, \"#f0f921\"]], \"type\": \"contour\"}], \"contourcarpet\": [{\"colorbar\": {\"outlinewidth\": 0, \"ticks\": \"\"}, \"type\": \"contourcarpet\"}], \"heatmap\": [{\"colorbar\": {\"outlinewidth\": 0, \"ticks\": \"\"}, \"colorscale\": [[0.0, \"#0d0887\"], [0.1111111111111111, \"#46039f\"], [0.2222222222222222, \"#7201a8\"], [0.3333333333333333, \"#9c179e\"], [0.4444444444444444, \"#bd3786\"], [0.5555555555555556, \"#d8576b\"], [0.6666666666666666, \"#ed7953\"], [0.7777777777777778, \"#fb9f3a\"], [0.8888888888888888, \"#fdca26\"], [1.0, \"#f0f921\"]], \"type\": \"heatmap\"}], \"heatmapgl\": [{\"colorbar\": {\"outlinewidth\": 0, \"ticks\": \"\"}, \"colorscale\": [[0.0, \"#0d0887\"], [0.1111111111111111, \"#46039f\"], [0.2222222222222222, \"#7201a8\"], [0.3333333333333333, \"#9c179e\"], [0.4444444444444444, \"#bd3786\"], [0.5555555555555556, \"#d8576b\"], [0.6666666666666666, \"#ed7953\"], [0.7777777777777778, \"#fb9f3a\"], [0.8888888888888888, \"#fdca26\"], [1.0, \"#f0f921\"]], \"type\": \"heatmapgl\"}], \"histogram\": [{\"marker\": {\"colorbar\": {\"outlinewidth\": 0, \"ticks\": \"\"}}, \"type\": \"histogram\"}], \"histogram2d\": [{\"colorbar\": {\"outlinewidth\": 0, \"ticks\": \"\"}, \"colorscale\": [[0.0, \"#0d0887\"], [0.1111111111111111, \"#46039f\"], [0.2222222222222222, \"#7201a8\"], [0.3333333333333333, \"#9c179e\"], [0.4444444444444444, \"#bd3786\"], [0.5555555555555556, \"#d8576b\"], [0.6666666666666666, \"#ed7953\"], [0.7777777777777778, \"#fb9f3a\"], [0.8888888888888888, \"#fdca26\"], [1.0, \"#f0f921\"]], \"type\": \"histogram2d\"}], \"histogram2dcontour\": [{\"colorbar\": {\"outlinewidth\": 0, \"ticks\": \"\"}, \"colorscale\": [[0.0, \"#0d0887\"], [0.1111111111111111, \"#46039f\"], [0.2222222222222222, \"#7201a8\"], [0.3333333333333333, \"#9c179e\"], [0.4444444444444444, \"#bd3786\"], [0.5555555555555556, \"#d8576b\"], [0.6666666666666666, \"#ed7953\"], [0.7777777777777778, \"#fb9f3a\"], [0.8888888888888888, \"#fdca26\"], [1.0, \"#f0f921\"]], \"type\": \"histogram2dcontour\"}], \"mesh3d\": [{\"colorbar\": {\"outlinewidth\": 0, \"ticks\": \"\"}, \"type\": \"mesh3d\"}], \"parcoords\": [{\"line\": {\"colorbar\": {\"outlinewidth\": 0, \"ticks\": \"\"}}, \"type\": \"parcoords\"}], \"pie\": [{\"automargin\": true, \"type\": \"pie\"}], \"scatter\": [{\"marker\": {\"colorbar\": {\"outlinewidth\": 0, \"ticks\": \"\"}}, \"type\": \"scatter\"}], \"scatter3d\": [{\"line\": {\"colorbar\": {\"outlinewidth\": 0, \"ticks\": \"\"}}, \"marker\": {\"colorbar\": {\"outlinewidth\": 0, \"ticks\": \"\"}}, \"type\": \"scatter3d\"}], \"scattercarpet\": [{\"marker\": {\"colorbar\": {\"outlinewidth\": 0, \"ticks\": \"\"}}, \"type\": \"scattercarpet\"}], \"scattergeo\": [{\"marker\": {\"colorbar\": {\"outlinewidth\": 0, \"ticks\": \"\"}}, \"type\": \"scattergeo\"}], \"scattergl\": [{\"marker\": {\"colorbar\": {\"outlinewidth\": 0, \"ticks\": \"\"}}, \"type\": \"scattergl\"}], \"scattermapbox\": [{\"marker\": {\"colorbar\": {\"outlinewidth\": 0, \"ticks\": \"\"}}, \"type\": \"scattermapbox\"}], \"scatterpolar\": [{\"marker\": {\"colorbar\": {\"outlinewidth\": 0, \"ticks\": \"\"}}, \"type\": \"scatterpolar\"}], \"scatterpolargl\": [{\"marker\": {\"colorbar\": {\"outlinewidth\": 0, \"ticks\": \"\"}}, \"type\": \"scatterpolargl\"}], \"scatterternary\": [{\"marker\": {\"colorbar\": {\"outlinewidth\": 0, \"ticks\": \"\"}}, \"type\": \"scatterternary\"}], \"surface\": [{\"colorbar\": {\"outlinewidth\": 0, \"ticks\": \"\"}, \"colorscale\": [[0.0, \"#0d0887\"], [0.1111111111111111, \"#46039f\"], [0.2222222222222222, \"#7201a8\"], [0.3333333333333333, \"#9c179e\"], [0.4444444444444444, \"#bd3786\"], [0.5555555555555556, \"#d8576b\"], [0.6666666666666666, \"#ed7953\"], [0.7777777777777778, \"#fb9f3a\"], [0.8888888888888888, \"#fdca26\"], [1.0, \"#f0f921\"]], \"type\": \"surface\"}], \"table\": [{\"cells\": {\"fill\": {\"color\": \"#EBF0F8\"}, \"line\": {\"color\": \"white\"}}, \"header\": {\"fill\": {\"color\": \"#C8D4E3\"}, \"line\": {\"color\": \"white\"}}, \"type\": \"table\"}]}, \"layout\": {\"annotationdefaults\": {\"arrowcolor\": \"#2a3f5f\", \"arrowhead\": 0, \"arrowwidth\": 1}, \"coloraxis\": {\"colorbar\": {\"outlinewidth\": 0, \"ticks\": \"\"}}, \"colorscale\": {\"diverging\": [[0, \"#8e0152\"], [0.1, \"#c51b7d\"], [0.2, \"#de77ae\"], [0.3, \"#f1b6da\"], [0.4, \"#fde0ef\"], [0.5, \"#f7f7f7\"], [0.6, \"#e6f5d0\"], [0.7, \"#b8e186\"], [0.8, \"#7fbc41\"], [0.9, \"#4d9221\"], [1, \"#276419\"]], \"sequential\": [[0.0, \"#0d0887\"], [0.1111111111111111, \"#46039f\"], [0.2222222222222222, \"#7201a8\"], [0.3333333333333333, \"#9c179e\"], [0.4444444444444444, \"#bd3786\"], [0.5555555555555556, \"#d8576b\"], [0.6666666666666666, \"#ed7953\"], [0.7777777777777778, \"#fb9f3a\"], [0.8888888888888888, \"#fdca26\"], [1.0, \"#f0f921\"]], \"sequentialminus\": [[0.0, \"#0d0887\"], [0.1111111111111111, \"#46039f\"], [0.2222222222222222, \"#7201a8\"], [0.3333333333333333, \"#9c179e\"], [0.4444444444444444, \"#bd3786\"], [0.5555555555555556, \"#d8576b\"], [0.6666666666666666, \"#ed7953\"], [0.7777777777777778, \"#fb9f3a\"], [0.8888888888888888, \"#fdca26\"], [1.0, \"#f0f921\"]]}, \"colorway\": [\"#636efa\", \"#EF553B\", \"#00cc96\", \"#ab63fa\", \"#FFA15A\", \"#19d3f3\", \"#FF6692\", \"#B6E880\", \"#FF97FF\", \"#FECB52\"], \"font\": {\"color\": \"#2a3f5f\"}, \"geo\": {\"bgcolor\": \"white\", \"lakecolor\": \"white\", \"landcolor\": \"#E5ECF6\", \"showlakes\": true, \"showland\": true, \"subunitcolor\": \"white\"}, \"hoverlabel\": {\"align\": \"left\"}, \"hovermode\": \"closest\", \"mapbox\": {\"style\": \"light\"}, \"paper_bgcolor\": \"white\", \"plot_bgcolor\": \"#E5ECF6\", \"polar\": {\"angularaxis\": {\"gridcolor\": \"white\", \"linecolor\": \"white\", \"ticks\": \"\"}, \"bgcolor\": \"#E5ECF6\", \"radialaxis\": {\"gridcolor\": \"white\", \"linecolor\": \"white\", \"ticks\": \"\"}}, \"scene\": {\"xaxis\": {\"backgroundcolor\": \"#E5ECF6\", \"gridcolor\": \"white\", \"gridwidth\": 2, \"linecolor\": \"white\", \"showbackground\": true, \"ticks\": \"\", \"zerolinecolor\": \"white\"}, \"yaxis\": {\"backgroundcolor\": \"#E5ECF6\", \"gridcolor\": \"white\", \"gridwidth\": 2, \"linecolor\": \"white\", \"showbackground\": true, \"ticks\": \"\", \"zerolinecolor\": \"white\"}, \"zaxis\": {\"backgroundcolor\": \"#E5ECF6\", \"gridcolor\": \"white\", \"gridwidth\": 2, \"linecolor\": \"white\", \"showbackground\": true, \"ticks\": \"\", \"zerolinecolor\": \"white\"}}, \"shapedefaults\": {\"line\": {\"color\": \"#2a3f5f\"}}, \"ternary\": {\"aaxis\": {\"gridcolor\": \"white\", \"linecolor\": \"white\", \"ticks\": \"\"}, \"baxis\": {\"gridcolor\": \"white\", \"linecolor\": \"white\", \"ticks\": \"\"}, \"bgcolor\": \"#E5ECF6\", \"caxis\": {\"gridcolor\": \"white\", \"linecolor\": \"white\", \"ticks\": \"\"}}, \"title\": {\"x\": 0.05}, \"xaxis\": {\"automargin\": true, \"gridcolor\": \"white\", \"linecolor\": \"white\", \"ticks\": \"\", \"title\": {\"standoff\": 15}, \"zerolinecolor\": \"white\", \"zerolinewidth\": 2}, \"yaxis\": {\"automargin\": true, \"gridcolor\": \"white\", \"linecolor\": \"white\", \"ticks\": \"\", \"title\": {\"standoff\": 15}, \"zerolinecolor\": \"white\", \"zerolinewidth\": 2}}}, \"title\": {\"text\": \"Trends of value by data channel\"}, \"xaxis\": {\"title\": {\"text\": \"Time\"}}, \"yaxis\": {\"title\": {\"text\": \"Value\"}}},                        {\"responsive\": true}                    ).then(function(){\n",
       "                            \n",
       "var gd = document.getElementById('bd9e914b-e9e2-4f46-a057-fbe44dbbf9bb');\n",
       "var x = new MutationObserver(function (mutations, observer) {{\n",
       "        var display = window.getComputedStyle(gd).display;\n",
       "        if (!display || display === 'none') {{\n",
       "            console.log([gd, 'removed!']);\n",
       "            Plotly.purge(gd);\n",
       "            observer.disconnect();\n",
       "        }}\n",
       "}});\n",
       "\n",
       "// Listen for the removal of the full notebook cells\n",
       "var notebookContainer = gd.closest('#notebook-container');\n",
       "if (notebookContainer) {{\n",
       "    x.observe(notebookContainer, {childList: true});\n",
       "}}\n",
       "\n",
       "// Listen for the clearing of the current output cell\n",
       "var outputEl = gd.closest('.output');\n",
       "if (outputEl) {{\n",
       "    x.observe(outputEl, {childList: true});\n",
       "}}\n",
       "\n",
       "                        })                };                });            </script>        </div>"
      ]
     },
     "metadata": {},
     "output_type": "display_data"
    }
   ],
   "source": [
    "data = []\n",
    "#market_train_df['close'] = market_train_df['close'] / 20\n",
    "\n",
    "for col in df.columns[5:7]:\n",
    "#     price_df = df[col]\n",
    "#     print(price_df.groups)\n",
    "\n",
    "    data.append(go.Scatter(\n",
    "        x = one_data['time'].dt.strftime(date_format='%%m-d-%r').values,\n",
    "        y = one_data[col].values,\n",
    "        name = f'{col} data'\n",
    "    ))\n",
    "    \n",
    "    \n",
    "layout = go.Layout(dict(title = \"Trends of value by data channel\",\n",
    "                  xaxis = dict(title = 'Time'),\n",
    "                  yaxis = dict(title = 'Value'),\n",
    "                  ),legend=dict(\n",
    "                orientation=\"v\"))\n",
    "py.iplot(dict(data=data, layout=layout), filename='basic-line')"
   ]
  },
  {
   "cell_type": "code",
   "execution_count": null,
   "metadata": {},
   "outputs": [],
   "source": []
  },
  {
   "cell_type": "code",
   "execution_count": null,
   "metadata": {},
   "outputs": [],
   "source": []
  },
  {
   "cell_type": "code",
   "execution_count": null,
   "metadata": {},
   "outputs": [],
   "source": []
  }
 ],
 "metadata": {
  "kernelspec": {
   "display_name": "Python 3",
   "language": "python",
   "name": "python3"
  },
  "language_info": {
   "codemirror_mode": {
    "name": "ipython",
    "version": 3
   },
   "file_extension": ".py",
   "mimetype": "text/x-python",
   "name": "python",
   "nbconvert_exporter": "python",
   "pygments_lexer": "ipython3",
   "version": "3.7.9"
  }
 },
 "nbformat": 4,
 "nbformat_minor": 4
}
